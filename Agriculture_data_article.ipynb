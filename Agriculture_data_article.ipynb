{
 "cells": [
  {
   "cell_type": "code",
   "execution_count": 190,
   "metadata": {},
   "outputs": [],
   "source": [
    "#Sumukh Anand Sinai Kunde"
   ]
  },
  {
   "cell_type": "markdown",
   "metadata": {},
   "source": [
    "# Machine Learning in Agriculture"
   ]
  },
  {
   "cell_type": "raw",
   "metadata": {},
   "source": [
    "In the blogs-post,I will go through whole process of creating Machine Learning Models on the Agriculture.It provide the information on the Unique_ID,Estimated insects counts per square meter,Category of Crop,Category of Soil,Types of pesticides uses,Number of Doses per Week,Number of weeks used,Number of weeks quit,Season Category,Crop Damage Category classifying  whether the crop would be healthy(alive),damaged by pesticides,or damaged by other reasons."
   ]
  },
  {
   "cell_type": "raw",
   "metadata": {},
   "source": [
    "Description:Recently we have observed the emerging concept of smart farming that makes the  agriculture more efficient an\n",
    "effective with the quality algorithms.The mechanism that drives in Machine Learning-scientific field that gives the machines  ability to learn without much strickly programmed.It has emerged together with big data technologies and high performance for computing to create a new oppurtunities to unravel,quantify and understand the data intensive processes in agricultur enviornments.Machine Learning everywhere throught out the whole and harvesting cycle.It begins with planting the seeds in the soil-from the soil preparation,seeds breeding and water feed measurement-and it ends when artificial intelligence pick up the harvest determining the maturity with the help of computer vision."
   ]
  },
  {
   "cell_type": "markdown",
   "metadata": {},
   "source": [
    "# The Toxic Pesticides"
   ]
  },
  {
   "cell_type": "raw",
   "metadata": {},
   "source": [
    "Though,many of us don't appreciate much,than farmers job is real challenging and determination.Once the seeds are sown,it works days and nights to make sure that it cultivates a good harvest at the end of a season.A good harvest is ensured by several facts such as availability of water,soil fertility,protecting crops from rodents(mammals with large,sharp front teeth),timely use of pesticides and other useful chemicals with the nature.While a lot of these factors are difficult to control for the amount and frequency of pesticides which something the farmer can control.Pesticides are also special,because  they protect the crop with the right dosage.But if you add more than required,it may spoil the entire harvest. A high level of pesticides can be consider for the crop dead/not fitting for consumption amoung many outcomes.This data is based on crops harvested by various farmers at the end of harvest season.\n",
    "Reffered:LMS"
   ]
  },
  {
   "cell_type": "markdown",
   "metadata": {},
   "source": [
    "# Importing the Libraries"
   ]
  },
  {
   "cell_type": "code",
   "execution_count": 191,
   "metadata": {},
   "outputs": [],
   "source": [
    "#Linear Algebra\n",
    "import numpy as np\n",
    "#Data Processing\n",
    "import pandas as pd\n",
    "#Data Visiulization library\n",
    "import seaborn as sns\n",
    "import matplotlib.pyplot as plt\n",
    "%matplotlib inline\n",
    "#import warnings\n",
    "import warnings\n",
    "warnings.filterwarnings(\"ignore\")"
   ]
  },
  {
   "cell_type": "markdown",
   "metadata": {},
   "source": [
    "# Getting the Data"
   ]
  },
  {
   "cell_type": "code",
   "execution_count": 192,
   "metadata": {},
   "outputs": [],
   "source": [
    "train_data=pd.read_csv(\"agriculture_train.csv\")\n",
    "test_data=pd.read_csv(\"crop_test.csv\")"
   ]
  },
  {
   "cell_type": "code",
   "execution_count": 193,
   "metadata": {},
   "outputs": [
    {
     "data": {
      "text/html": [
       "<div>\n",
       "<style scoped>\n",
       "    .dataframe tbody tr th:only-of-type {\n",
       "        vertical-align: middle;\n",
       "    }\n",
       "\n",
       "    .dataframe tbody tr th {\n",
       "        vertical-align: top;\n",
       "    }\n",
       "\n",
       "    .dataframe thead th {\n",
       "        text-align: right;\n",
       "    }\n",
       "</style>\n",
       "<table border=\"1\" class=\"dataframe\">\n",
       "  <thead>\n",
       "    <tr style=\"text-align: right;\">\n",
       "      <th></th>\n",
       "      <th>ID</th>\n",
       "      <th>Estimated_Insects_Count</th>\n",
       "      <th>Crop_Type</th>\n",
       "      <th>Soil_Type</th>\n",
       "      <th>Pesticide_Use_Category</th>\n",
       "      <th>Number_Doses_Week</th>\n",
       "      <th>Number_Weeks_Used</th>\n",
       "      <th>Number_Weeks_Quit</th>\n",
       "      <th>Season</th>\n",
       "      <th>Crop_Damage</th>\n",
       "    </tr>\n",
       "  </thead>\n",
       "  <tbody>\n",
       "    <tr>\n",
       "      <th>0</th>\n",
       "      <td>F00000001</td>\n",
       "      <td>188</td>\n",
       "      <td>1</td>\n",
       "      <td>0</td>\n",
       "      <td>1</td>\n",
       "      <td>0</td>\n",
       "      <td>0.0</td>\n",
       "      <td>0</td>\n",
       "      <td>1</td>\n",
       "      <td>0</td>\n",
       "    </tr>\n",
       "    <tr>\n",
       "      <th>1</th>\n",
       "      <td>F00000003</td>\n",
       "      <td>209</td>\n",
       "      <td>1</td>\n",
       "      <td>0</td>\n",
       "      <td>1</td>\n",
       "      <td>0</td>\n",
       "      <td>0.0</td>\n",
       "      <td>0</td>\n",
       "      <td>2</td>\n",
       "      <td>1</td>\n",
       "    </tr>\n",
       "    <tr>\n",
       "      <th>2</th>\n",
       "      <td>F00000004</td>\n",
       "      <td>257</td>\n",
       "      <td>1</td>\n",
       "      <td>0</td>\n",
       "      <td>1</td>\n",
       "      <td>0</td>\n",
       "      <td>0.0</td>\n",
       "      <td>0</td>\n",
       "      <td>2</td>\n",
       "      <td>1</td>\n",
       "    </tr>\n",
       "    <tr>\n",
       "      <th>3</th>\n",
       "      <td>F00000005</td>\n",
       "      <td>257</td>\n",
       "      <td>1</td>\n",
       "      <td>1</td>\n",
       "      <td>1</td>\n",
       "      <td>0</td>\n",
       "      <td>0.0</td>\n",
       "      <td>0</td>\n",
       "      <td>2</td>\n",
       "      <td>1</td>\n",
       "    </tr>\n",
       "    <tr>\n",
       "      <th>4</th>\n",
       "      <td>F00000006</td>\n",
       "      <td>342</td>\n",
       "      <td>1</td>\n",
       "      <td>0</td>\n",
       "      <td>1</td>\n",
       "      <td>0</td>\n",
       "      <td>0.0</td>\n",
       "      <td>0</td>\n",
       "      <td>2</td>\n",
       "      <td>1</td>\n",
       "    </tr>\n",
       "    <tr>\n",
       "      <th>...</th>\n",
       "      <td>...</td>\n",
       "      <td>...</td>\n",
       "      <td>...</td>\n",
       "      <td>...</td>\n",
       "      <td>...</td>\n",
       "      <td>...</td>\n",
       "      <td>...</td>\n",
       "      <td>...</td>\n",
       "      <td>...</td>\n",
       "      <td>...</td>\n",
       "    </tr>\n",
       "    <tr>\n",
       "      <th>4594</th>\n",
       "      <td>F00008078</td>\n",
       "      <td>2138</td>\n",
       "      <td>0</td>\n",
       "      <td>1</td>\n",
       "      <td>2</td>\n",
       "      <td>20</td>\n",
       "      <td>NaN</td>\n",
       "      <td>1</td>\n",
       "      <td>1</td>\n",
       "      <td>1</td>\n",
       "    </tr>\n",
       "    <tr>\n",
       "      <th>4595</th>\n",
       "      <td>F00008079</td>\n",
       "      <td>2139</td>\n",
       "      <td>0</td>\n",
       "      <td>1</td>\n",
       "      <td>2</td>\n",
       "      <td>30</td>\n",
       "      <td>47.0</td>\n",
       "      <td>2</td>\n",
       "      <td>1</td>\n",
       "      <td>1</td>\n",
       "    </tr>\n",
       "    <tr>\n",
       "      <th>4596</th>\n",
       "      <td>F00008080</td>\n",
       "      <td>2267</td>\n",
       "      <td>0</td>\n",
       "      <td>1</td>\n",
       "      <td>2</td>\n",
       "      <td>10</td>\n",
       "      <td>7.0</td>\n",
       "      <td>27</td>\n",
       "      <td>2</td>\n",
       "      <td>0</td>\n",
       "    </tr>\n",
       "    <tr>\n",
       "      <th>4597</th>\n",
       "      <td>F00008082</td>\n",
       "      <td>2267</td>\n",
       "      <td>0</td>\n",
       "      <td>1</td>\n",
       "      <td>2</td>\n",
       "      <td>10</td>\n",
       "      <td>20.0</td>\n",
       "      <td>24</td>\n",
       "      <td>2</td>\n",
       "      <td>0</td>\n",
       "    </tr>\n",
       "    <tr>\n",
       "      <th>4598</th>\n",
       "      <td>F00008083</td>\n",
       "      <td>2267</td>\n",
       "      <td>0</td>\n",
       "      <td>1</td>\n",
       "      <td>2</td>\n",
       "      <td>10</td>\n",
       "      <td>33.0</td>\n",
       "      <td>17</td>\n",
       "      <td>2</td>\n",
       "      <td>0</td>\n",
       "    </tr>\n",
       "  </tbody>\n",
       "</table>\n",
       "<p>4599 rows × 10 columns</p>\n",
       "</div>"
      ],
      "text/plain": [
       "             ID  Estimated_Insects_Count  Crop_Type  Soil_Type  \\\n",
       "0     F00000001                      188          1          0   \n",
       "1     F00000003                      209          1          0   \n",
       "2     F00000004                      257          1          0   \n",
       "3     F00000005                      257          1          1   \n",
       "4     F00000006                      342          1          0   \n",
       "...         ...                      ...        ...        ...   \n",
       "4594  F00008078                     2138          0          1   \n",
       "4595  F00008079                     2139          0          1   \n",
       "4596  F00008080                     2267          0          1   \n",
       "4597  F00008082                     2267          0          1   \n",
       "4598  F00008083                     2267          0          1   \n",
       "\n",
       "      Pesticide_Use_Category  Number_Doses_Week  Number_Weeks_Used  \\\n",
       "0                          1                  0                0.0   \n",
       "1                          1                  0                0.0   \n",
       "2                          1                  0                0.0   \n",
       "3                          1                  0                0.0   \n",
       "4                          1                  0                0.0   \n",
       "...                      ...                ...                ...   \n",
       "4594                       2                 20                NaN   \n",
       "4595                       2                 30               47.0   \n",
       "4596                       2                 10                7.0   \n",
       "4597                       2                 10               20.0   \n",
       "4598                       2                 10               33.0   \n",
       "\n",
       "      Number_Weeks_Quit  Season  Crop_Damage  \n",
       "0                     0       1            0  \n",
       "1                     0       2            1  \n",
       "2                     0       2            1  \n",
       "3                     0       2            1  \n",
       "4                     0       2            1  \n",
       "...                 ...     ...          ...  \n",
       "4594                  1       1            1  \n",
       "4595                  2       1            1  \n",
       "4596                 27       2            0  \n",
       "4597                 24       2            0  \n",
       "4598                 17       2            0  \n",
       "\n",
       "[4599 rows x 10 columns]"
      ]
     },
     "execution_count": 193,
     "metadata": {},
     "output_type": "execute_result"
    }
   ],
   "source": [
    "#seeing the rows of training data\n",
    "train_data"
   ]
  },
  {
   "cell_type": "code",
   "execution_count": 194,
   "metadata": {},
   "outputs": [
    {
     "data": {
      "text/html": [
       "<div>\n",
       "<style scoped>\n",
       "    .dataframe tbody tr th:only-of-type {\n",
       "        vertical-align: middle;\n",
       "    }\n",
       "\n",
       "    .dataframe tbody tr th {\n",
       "        vertical-align: top;\n",
       "    }\n",
       "\n",
       "    .dataframe thead th {\n",
       "        text-align: right;\n",
       "    }\n",
       "</style>\n",
       "<table border=\"1\" class=\"dataframe\">\n",
       "  <thead>\n",
       "    <tr style=\"text-align: right;\">\n",
       "      <th></th>\n",
       "      <th>ID</th>\n",
       "      <th>Estimated_Insects_Count</th>\n",
       "      <th>Crop_Type</th>\n",
       "      <th>Soil_Type</th>\n",
       "      <th>Pesticide_Use_Category</th>\n",
       "      <th>Number_Doses_Week</th>\n",
       "      <th>Number_Weeks_Used</th>\n",
       "      <th>Number_Weeks_Quit</th>\n",
       "      <th>Season</th>\n",
       "    </tr>\n",
       "  </thead>\n",
       "  <tbody>\n",
       "    <tr>\n",
       "      <th>0</th>\n",
       "      <td>F00000002</td>\n",
       "      <td>188</td>\n",
       "      <td>1</td>\n",
       "      <td>1</td>\n",
       "      <td>1</td>\n",
       "      <td>0</td>\n",
       "      <td>NaN</td>\n",
       "      <td>0</td>\n",
       "      <td>2</td>\n",
       "    </tr>\n",
       "    <tr>\n",
       "      <th>1</th>\n",
       "      <td>F00000007</td>\n",
       "      <td>410</td>\n",
       "      <td>1</td>\n",
       "      <td>1</td>\n",
       "      <td>1</td>\n",
       "      <td>0</td>\n",
       "      <td>0.0</td>\n",
       "      <td>0</td>\n",
       "      <td>2</td>\n",
       "    </tr>\n",
       "    <tr>\n",
       "      <th>2</th>\n",
       "      <td>F00000011</td>\n",
       "      <td>626</td>\n",
       "      <td>1</td>\n",
       "      <td>0</td>\n",
       "      <td>1</td>\n",
       "      <td>0</td>\n",
       "      <td>0.0</td>\n",
       "      <td>0</td>\n",
       "      <td>2</td>\n",
       "    </tr>\n",
       "    <tr>\n",
       "      <th>3</th>\n",
       "      <td>F00000013</td>\n",
       "      <td>731</td>\n",
       "      <td>1</td>\n",
       "      <td>0</td>\n",
       "      <td>1</td>\n",
       "      <td>0</td>\n",
       "      <td>0.0</td>\n",
       "      <td>0</td>\n",
       "      <td>2</td>\n",
       "    </tr>\n",
       "    <tr>\n",
       "      <th>4</th>\n",
       "      <td>F00000014</td>\n",
       "      <td>789</td>\n",
       "      <td>0</td>\n",
       "      <td>0</td>\n",
       "      <td>1</td>\n",
       "      <td>0</td>\n",
       "      <td>0.0</td>\n",
       "      <td>0</td>\n",
       "      <td>1</td>\n",
       "    </tr>\n",
       "    <tr>\n",
       "      <th>...</th>\n",
       "      <td>...</td>\n",
       "      <td>...</td>\n",
       "      <td>...</td>\n",
       "      <td>...</td>\n",
       "      <td>...</td>\n",
       "      <td>...</td>\n",
       "      <td>...</td>\n",
       "      <td>...</td>\n",
       "      <td>...</td>\n",
       "    </tr>\n",
       "    <tr>\n",
       "      <th>1194</th>\n",
       "      <td>F00003133</td>\n",
       "      <td>1132</td>\n",
       "      <td>0</td>\n",
       "      <td>1</td>\n",
       "      <td>2</td>\n",
       "      <td>40</td>\n",
       "      <td>34.0</td>\n",
       "      <td>7</td>\n",
       "      <td>3</td>\n",
       "    </tr>\n",
       "    <tr>\n",
       "      <th>1195</th>\n",
       "      <td>F00003135</td>\n",
       "      <td>1132</td>\n",
       "      <td>0</td>\n",
       "      <td>1</td>\n",
       "      <td>2</td>\n",
       "      <td>40</td>\n",
       "      <td>25.0</td>\n",
       "      <td>3</td>\n",
       "      <td>1</td>\n",
       "    </tr>\n",
       "    <tr>\n",
       "      <th>1196</th>\n",
       "      <td>F00003138</td>\n",
       "      <td>1132</td>\n",
       "      <td>0</td>\n",
       "      <td>1</td>\n",
       "      <td>2</td>\n",
       "      <td>20</td>\n",
       "      <td>13.0</td>\n",
       "      <td>23</td>\n",
       "      <td>1</td>\n",
       "    </tr>\n",
       "    <tr>\n",
       "      <th>1197</th>\n",
       "      <td>F00003149</td>\n",
       "      <td>1212</td>\n",
       "      <td>0</td>\n",
       "      <td>1</td>\n",
       "      <td>2</td>\n",
       "      <td>10</td>\n",
       "      <td>35.0</td>\n",
       "      <td>5</td>\n",
       "      <td>1</td>\n",
       "    </tr>\n",
       "    <tr>\n",
       "      <th>1198</th>\n",
       "      <td>F00003150</td>\n",
       "      <td>1212</td>\n",
       "      <td>0</td>\n",
       "      <td>1</td>\n",
       "      <td>2</td>\n",
       "      <td>15</td>\n",
       "      <td>NaN</td>\n",
       "      <td>20</td>\n",
       "      <td>3</td>\n",
       "    </tr>\n",
       "  </tbody>\n",
       "</table>\n",
       "<p>1199 rows × 9 columns</p>\n",
       "</div>"
      ],
      "text/plain": [
       "             ID  Estimated_Insects_Count  Crop_Type  Soil_Type  \\\n",
       "0     F00000002                      188          1          1   \n",
       "1     F00000007                      410          1          1   \n",
       "2     F00000011                      626          1          0   \n",
       "3     F00000013                      731          1          0   \n",
       "4     F00000014                      789          0          0   \n",
       "...         ...                      ...        ...        ...   \n",
       "1194  F00003133                     1132          0          1   \n",
       "1195  F00003135                     1132          0          1   \n",
       "1196  F00003138                     1132          0          1   \n",
       "1197  F00003149                     1212          0          1   \n",
       "1198  F00003150                     1212          0          1   \n",
       "\n",
       "      Pesticide_Use_Category  Number_Doses_Week  Number_Weeks_Used  \\\n",
       "0                          1                  0                NaN   \n",
       "1                          1                  0                0.0   \n",
       "2                          1                  0                0.0   \n",
       "3                          1                  0                0.0   \n",
       "4                          1                  0                0.0   \n",
       "...                      ...                ...                ...   \n",
       "1194                       2                 40               34.0   \n",
       "1195                       2                 40               25.0   \n",
       "1196                       2                 20               13.0   \n",
       "1197                       2                 10               35.0   \n",
       "1198                       2                 15                NaN   \n",
       "\n",
       "      Number_Weeks_Quit  Season  \n",
       "0                     0       2  \n",
       "1                     0       2  \n",
       "2                     0       2  \n",
       "3                     0       2  \n",
       "4                     0       1  \n",
       "...                 ...     ...  \n",
       "1194                  7       3  \n",
       "1195                  3       1  \n",
       "1196                 23       1  \n",
       "1197                  5       1  \n",
       "1198                 20       3  \n",
       "\n",
       "[1199 rows x 9 columns]"
      ]
     },
     "execution_count": 194,
     "metadata": {},
     "output_type": "execute_result"
    }
   ],
   "source": [
    "#seeing test data rows\n",
    "test_data"
   ]
  },
  {
   "cell_type": "code",
   "execution_count": 195,
   "metadata": {},
   "outputs": [
    {
     "name": "stdout",
     "output_type": "stream",
     "text": [
      "(4599, 10)\n",
      "(1199, 9)\n"
     ]
    }
   ],
   "source": [
    "#checking the shape of train and test data\n",
    "print(train_data.shape)\n",
    "print(test_data.shape)"
   ]
  },
  {
   "cell_type": "raw",
   "metadata": {},
   "source": [
    "Now from here i will first analyse the Agriculture train data and the same process with the Agriculture test data,If i concat the both Agriculture train data and Agriculture test data than there is a possibility of leakage problem data.So for this i will not combine the data set and analyse it separetly."
   ]
  },
  {
   "cell_type": "markdown",
   "metadata": {},
   "source": [
    "# Train Data "
   ]
  },
  {
   "cell_type": "code",
   "execution_count": 196,
   "metadata": {},
   "outputs": [
    {
     "data": {
      "text/plain": [
       "Index(['ID', 'Estimated_Insects_Count', 'Crop_Type', 'Soil_Type',\n",
       "       'Pesticide_Use_Category', 'Number_Doses_Week', 'Number_Weeks_Used',\n",
       "       'Number_Weeks_Quit', 'Season', 'Crop_Damage'],\n",
       "      dtype='object')"
      ]
     },
     "execution_count": 196,
     "metadata": {},
     "output_type": "execute_result"
    }
   ],
   "source": [
    "#checking the columns train_data\n",
    "train_data.columns"
   ]
  },
  {
   "cell_type": "code",
   "execution_count": 197,
   "metadata": {},
   "outputs": [
    {
     "data": {
      "text/plain": [
       "(4599, 10)"
      ]
     },
     "execution_count": 197,
     "metadata": {},
     "output_type": "execute_result"
    }
   ],
   "source": [
    "#checking shape of train data\n",
    "train_data.shape"
   ]
  },
  {
   "cell_type": "raw",
   "metadata": {},
   "source": [
    "In Agriculture train data there is 4599 rows and 10 columns are present."
   ]
  },
  {
   "cell_type": "code",
   "execution_count": 198,
   "metadata": {},
   "outputs": [
    {
     "name": "stdout",
     "output_type": "stream",
     "text": [
      "<class 'pandas.core.frame.DataFrame'>\n",
      "RangeIndex: 4599 entries, 0 to 4598\n",
      "Data columns (total 10 columns):\n",
      " #   Column                   Non-Null Count  Dtype  \n",
      "---  ------                   --------------  -----  \n",
      " 0   ID                       4599 non-null   object \n",
      " 1   Estimated_Insects_Count  4599 non-null   int64  \n",
      " 2   Crop_Type                4599 non-null   int64  \n",
      " 3   Soil_Type                4599 non-null   int64  \n",
      " 4   Pesticide_Use_Category   4599 non-null   int64  \n",
      " 5   Number_Doses_Week        4599 non-null   int64  \n",
      " 6   Number_Weeks_Used        4157 non-null   float64\n",
      " 7   Number_Weeks_Quit        4599 non-null   int64  \n",
      " 8   Season                   4599 non-null   int64  \n",
      " 9   Crop_Damage              4599 non-null   int64  \n",
      "dtypes: float64(1), int64(8), object(1)\n",
      "memory usage: 341.4+ KB\n"
     ]
    }
   ],
   "source": [
    "#checking data set information\n",
    "train_data.info()"
   ]
  },
  {
   "cell_type": "raw",
   "metadata": {},
   "source": [
    "In Agriculture train data there is only one categorical type data that ID,Estimated_Insects_Count,Crop_Type,Soil_Type\n",
    "Pesticide_Use_Category,Number_Doses_week,Number_weeks_Quit,Season,Crop_Damage are int type and Number_weeks_used are float type."
   ]
  },
  {
   "cell_type": "code",
   "execution_count": 199,
   "metadata": {},
   "outputs": [
    {
     "data": {
      "text/plain": [
       "True"
      ]
     },
     "execution_count": 199,
     "metadata": {},
     "output_type": "execute_result"
    }
   ],
   "source": [
    "#checking null values\n",
    "train_data.isnull().values.any()"
   ]
  },
  {
   "cell_type": "code",
   "execution_count": 200,
   "metadata": {},
   "outputs": [
    {
     "data": {
      "text/plain": [
       "ID                           0\n",
       "Estimated_Insects_Count      0\n",
       "Crop_Type                    0\n",
       "Soil_Type                    0\n",
       "Pesticide_Use_Category       0\n",
       "Number_Doses_Week            0\n",
       "Number_Weeks_Used          442\n",
       "Number_Weeks_Quit            0\n",
       "Season                       0\n",
       "Crop_Damage                  0\n",
       "dtype: int64"
      ]
     },
     "execution_count": 200,
     "metadata": {},
     "output_type": "execute_result"
    }
   ],
   "source": [
    "train_data.isnull().sum()"
   ]
  },
  {
   "cell_type": "raw",
   "metadata": {},
   "source": [
    "There is only missing data in Number_week_used,I will fill the null value with mean."
   ]
  },
  {
   "cell_type": "markdown",
   "metadata": {},
   "source": [
    "# Imputing values in Number_week_Used"
   ]
  },
  {
   "cell_type": "code",
   "execution_count": 201,
   "metadata": {},
   "outputs": [],
   "source": [
    "train_data[\"Number_Weeks_Used\"].fillna(train_data[\"Number_Weeks_Used\"].mean(),inplace=True)"
   ]
  },
  {
   "cell_type": "raw",
   "metadata": {},
   "source": [
    "Now the null values is imputed i will showed by visiulization."
   ]
  },
  {
   "cell_type": "code",
   "execution_count": 202,
   "metadata": {},
   "outputs": [
    {
     "data": {
      "text/plain": [
       "<matplotlib.axes._subplots.AxesSubplot at 0xdeb4df0>"
      ]
     },
     "execution_count": 202,
     "metadata": {},
     "output_type": "execute_result"
    },
    {
     "data": {
      "image/png": "[encoded data removed]",
      "text/plain": [
       "<Figure size 432x288 with 1 Axes>"
      ]
     },
     "metadata": {
      "needs_background": "light"
     },
     "output_type": "display_data"
    }
   ],
   "source": [
    "sns.heatmap(train_data.isnull(),yticklabels=False,cbar=False)"
   ]
  },
  {
   "cell_type": "raw",
   "metadata": {},
   "source": [
    "Now i can see there is no null values present in Agriculture train data."
   ]
  },
  {
   "cell_type": "markdown",
   "metadata": {},
   "source": [
    "# Exploring Data Variable"
   ]
  },
  {
   "cell_type": "code",
   "execution_count": 203,
   "metadata": {},
   "outputs": [
    {
     "name": "stdout",
     "output_type": "stream",
     "text": [
      "ID : ['F00000001' 'F00000003' 'F00000004' ... 'F00008080' 'F00008082'\n",
      " 'F00008083']\n",
      "F00001630    1\n",
      "F00005544    1\n",
      "F00007703    1\n",
      "F00005696    1\n",
      "F00003935    1\n",
      "            ..\n",
      "F00004135    1\n",
      "F00002839    1\n",
      "F00003179    1\n",
      "F00001495    1\n",
      "F00000560    1\n",
      "Name: ID, Length: 4599, dtype: int64\n",
      "*********************************************************************************************\n",
      "/n\n"
     ]
    }
   ],
   "source": [
    "#priting their object type and thier unique code\n",
    "for column in train_data.columns:\n",
    "    if train_data[column].dtypes==object:\n",
    "        print(str(column)+\" : \"  +str(train_data[column].unique()))\n",
    "        print(train_data[column].value_counts())\n",
    "        print(\"*********************************************************************************************\")\n",
    "        print(\"/n\")"
   ]
  },
  {
   "cell_type": "raw",
   "metadata": {},
   "source": [
    "This is the unique id in agriculture train data."
   ]
  },
  {
   "cell_type": "raw",
   "metadata": {},
   "source": [
    "In Agriculture train data the target variable is Crop Damage so i will see the unique of crop damage and after that go for visiulization."
   ]
  },
  {
   "cell_type": "code",
   "execution_count": 204,
   "metadata": {},
   "outputs": [
    {
     "name": "stdout",
     "output_type": "stream",
     "text": [
      "[0 1 2]\n"
     ]
    }
   ],
   "source": [
    "print(train_data[\"Crop_Damage\"].unique())"
   ]
  },
  {
   "cell_type": "markdown",
   "metadata": {},
   "source": [
    "# In Agriculture train data 0-stands for Alive,1-Damage due to other cause,2-Damage due to Pesticide."
   ]
  },
  {
   "cell_type": "markdown",
   "metadata": {},
   "source": [
    "# In Agriculture train data target variable is Crop_Damage so i have to find how many crops are damage due to other cause,alive,damage due to Pesticide."
   ]
  },
  {
   "cell_type": "markdown",
   "metadata": {},
   "source": [
    "# EDA"
   ]
  },
  {
   "cell_type": "markdown",
   "metadata": {},
   "source": [
    "# Visiulization"
   ]
  },
  {
   "cell_type": "markdown",
   "metadata": {},
   "source": [
    "Plotting Crop_Damage"
   ]
  },
  {
   "cell_type": "code",
   "execution_count": 205,
   "metadata": {},
   "outputs": [
    {
     "name": "stdout",
     "output_type": "stream",
     "text": [
      "0    3820\n",
      "1     664\n",
      "2     115\n",
      "Name: Crop_Damage, dtype: int64\n"
     ]
    }
   ],
   "source": [
    "print(train_data[\"Crop_Damage\"].value_counts())"
   ]
  },
  {
   "cell_type": "code",
   "execution_count": 206,
   "metadata": {},
   "outputs": [
    {
     "data": {
      "image/png": "[encoded data removed]",
      "text/plain": [
       "<Figure size 432x288 with 1 Axes>"
      ]
     },
     "metadata": {
      "needs_background": "light"
     },
     "output_type": "display_data"
    }
   ],
   "source": [
    "sns.countplot(x=\"Crop_Damage\",data=train_data,palette=\"Spectral\")\n",
    "plt.title(\"Number Of Crop\",fontsize=18)\n",
    "plt.show()\n"
   ]
  },
  {
   "cell_type": "raw",
   "metadata": {},
   "source": [
    "In the above column i can see that 3,820 crops are alive,664 crops are damage due to other reason,115 crops are damages due to high level use of pesticide.we can protect the harvesting crops by giving right amount of water,right frequency of Pesticide."
   ]
  },
  {
   "cell_type": "code",
   "execution_count": 207,
   "metadata": {},
   "outputs": [
    {
     "data": {
      "image/png": "[encoded data removed]",
      "text/plain": [
       "<Figure size 432x288 with 1 Axes>"
      ]
     },
     "metadata": {
      "needs_background": "light"
     },
     "output_type": "display_data"
    },
    {
     "name": "stdout",
     "output_type": "stream",
     "text": [
      "1132    193\n",
      "1212    187\n",
      "1385    182\n",
      "1056    180\n",
      "1478    177\n",
      "       ... \n",
      "3515      7\n",
      "151       7\n",
      "169       4\n",
      "231       4\n",
      "4097      2\n",
      "Name: Estimated_Insects_Count, Length: 71, dtype: int64\n"
     ]
    }
   ],
   "source": [
    "#Ploting Estimated_insects_counts\n",
    "sns.barplot(x=\"Estimated_Insects_Count\",data=train_data,palette=\"Wistia\")\n",
    "plt.title(\"Estimated Insects Count Per Square Meter\",fontsize=18)\n",
    "plt.xticks(rotation=\"vertical\")\n",
    "plt.show()\n",
    "print(train_data[\"Estimated_Insects_Count\"].value_counts())"
   ]
  },
  {
   "cell_type": "raw",
   "metadata": {},
   "source": [
    "In Agriculture train data the estimated insects count per square meter is afftected around 1300 per square meter.In the world some 900 thousand different kinds of living insects are known.This representation approximates 80 percent of the worlds species.The true figure of living spicies can only estimated from present and past studies."
   ]
  },
  {
   "cell_type": "code",
   "execution_count": 208,
   "metadata": {},
   "outputs": [
    {
     "data": {
      "image/png": "[encoded data removed]",
      "text/plain": [
       "<Figure size 432x288 with 1 Axes>"
      ]
     },
     "metadata": {
      "needs_background": "light"
     },
     "output_type": "display_data"
    },
    {
     "name": "stdout",
     "output_type": "stream",
     "text": [
      "0    3565\n",
      "1    1034\n",
      "Name: Crop_Type, dtype: int64\n"
     ]
    }
   ],
   "source": [
    "#Ploting Crop_type\n",
    "sns.countplot(x=\"Crop_Type\",data=train_data,palette=\"bone\")\n",
    "plt.title(\"Type of Crop Type\",fontsize=18)\n",
    "plt.show()\n",
    "print(train_data[\"Crop_Type\"].value_counts())"
   ]
  },
  {
   "cell_type": "raw",
   "metadata": {},
   "source": [
    "There are 2 types of crop 0 and 1 ,The 0 type of crop i found in visiulization is 3565 and 1 type of is 1034 which there in the soil."
   ]
  },
  {
   "cell_type": "code",
   "execution_count": 209,
   "metadata": {},
   "outputs": [
    {
     "data": {
      "image/png": "[encoded data removed]",
      "text/plain": [
       "<Figure size 432x288 with 1 Axes>"
      ]
     },
     "metadata": {
      "needs_background": "light"
     },
     "output_type": "display_data"
    },
    {
     "name": "stdout",
     "output_type": "stream",
     "text": [
      "0    2407\n",
      "1    2192\n",
      "Name: Soil_Type, dtype: int64\n"
     ]
    }
   ],
   "source": [
    "#ploting soil type\n",
    "sns.countplot(x=\"Soil_Type\",data=train_data,palette=\"bwr\")\n",
    "plt.title(\"Types of Soil\",fontsize=18)\n",
    "plt.show()\n",
    "print(train_data[\"Soil_Type\"].value_counts())"
   ]
  },
  {
   "cell_type": "raw",
   "metadata": {},
   "source": [
    "Again Agriculture train data i found that there are two types of soil 0 and 1,In which 0 soil type consits of around 2407 and 1 type of soil consits of 2192."
   ]
  },
  {
   "cell_type": "code",
   "execution_count": 210,
   "metadata": {},
   "outputs": [
    {
     "data": {
      "image/png": "[encoded data removed]",
      "text/plain": [
       "<Figure size 432x288 with 1 Axes>"
      ]
     },
     "metadata": {
      "needs_background": "light"
     },
     "output_type": "display_data"
    },
    {
     "name": "stdout",
     "output_type": "stream",
     "text": [
      "2    3205\n",
      "3    1349\n",
      "1      45\n",
      "Name: Pesticide_Use_Category, dtype: int64\n"
     ]
    }
   ],
   "source": [
    "sns.countplot(x=\"Pesticide_Use_Category\",data=train_data,palette=\"cividis\")\n",
    "plt.title(\"Type of Use Pesticide\",fontsize=18)\n",
    "plt.show()\n",
    "print(train_data[\"Pesticide_Use_Category\"].value_counts())"
   ]
  },
  {
   "cell_type": "raw",
   "metadata": {},
   "source": [
    "There  are 3 type of pesticide 1 is never used,2 is Previously Used,3 is currently using.In the above countplot chart shows that the quantity i found in chart is 1 which never used  is 45 ,2 which is Previously used is 1349 and currently using is 3205."
   ]
  },
  {
   "cell_type": "code",
   "execution_count": 211,
   "metadata": {},
   "outputs": [
    {
     "data": {
      "image/png": "[encoded data removed]",
      "text/plain": [
       "<Figure size 432x288 with 1 Axes>"
      ]
     },
     "metadata": {
      "needs_background": "light"
     },
     "output_type": "display_data"
    },
    {
     "name": "stdout",
     "output_type": "stream",
     "text": [
      "20    1211\n",
      "40     657\n",
      "30     584\n",
      "10     537\n",
      "15     393\n",
      "5      268\n",
      "25     263\n",
      "60     237\n",
      "50     172\n",
      "35     101\n",
      "45      53\n",
      "0       45\n",
      "80      36\n",
      "70      17\n",
      "55      11\n",
      "90       5\n",
      "85       4\n",
      "65       3\n",
      "75       1\n",
      "95       1\n",
      "Name: Number_Doses_Week, dtype: int64\n"
     ]
    }
   ],
   "source": [
    "#ploting number doses week\n",
    "sns.countplot(x=\"Number_Doses_Week\",data=train_data,palette=\"copper_r\")\n",
    "plt.title(\"Number of doses per week\",fontsize=18)\n",
    "plt.show()\n",
    "print(train_data[\"Number_Doses_Week\"].value_counts())"
   ]
  },
  {
   "cell_type": "raw",
   "metadata": {},
   "source": [
    "In the above chart it shows that the highest doses to crops get in 20th week which is around 1211,The secound dose get the crops in 40th weeks that it comes down to 657,third is 30 weeks that 584,10th week is 537,15th week is 393,5th is 268 after considering  so many week it found that 95th and 75th week it comes down to 1."
   ]
  },
  {
   "cell_type": "code",
   "execution_count": 212,
   "metadata": {},
   "outputs": [
    {
     "data": {
      "image/png": "[encoded data removed]",
      "text/plain": [
       "<Figure size 432x288 with 1 Axes>"
      ]
     },
     "metadata": {
      "needs_background": "light"
     },
     "output_type": "display_data"
    },
    {
     "name": "stdout",
     "output_type": "stream",
     "text": [
      "28.891027    442\n",
      "20.000000    209\n",
      "30.000000    194\n",
      "25.000000    165\n",
      "40.000000    133\n",
      "            ... \n",
      "62.000000      5\n",
      "59.000000      5\n",
      "65.000000      3\n",
      "66.000000      3\n",
      "64.000000      1\n",
      "Name: Number_Weeks_Used, Length: 64, dtype: int64\n"
     ]
    }
   ],
   "source": [
    "#ploting number of week used\n",
    "sns.barplot(x=\"Number_Weeks_Used\",data=train_data,palette=\"flag\")\n",
    "plt.title(\"Number of Week used\",fontsize=18)\n",
    "plt.show()\n",
    "print(train_data[\"Number_Weeks_Used\"].value_counts())"
   ]
  },
  {
   "cell_type": "raw",
   "metadata": {},
   "source": [
    "The above columns shows that the number of crops  used is approx 28 weeks,which is highest that is 442 crops and the lowest is 64 week that is 1."
   ]
  },
  {
   "cell_type": "code",
   "execution_count": 213,
   "metadata": {},
   "outputs": [
    {
     "data": {
      "image/png": "[encoded data removed]",
      "text/plain": [
       "<Figure size 432x288 with 1 Axes>"
      ]
     },
     "metadata": {
      "needs_background": "light"
     },
     "output_type": "display_data"
    },
    {
     "name": "stdout",
     "output_type": "stream",
     "text": [
      "0     1496\n",
      "14     146\n",
      "2      145\n",
      "6      140\n",
      "12     137\n",
      "15     136\n",
      "10     134\n",
      "5      134\n",
      "1      133\n",
      "20     131\n",
      "8      125\n",
      "3      124\n",
      "13     123\n",
      "7      122\n",
      "9      118\n",
      "4      117\n",
      "11     116\n",
      "16     105\n",
      "17      94\n",
      "19      87\n",
      "18      83\n",
      "22      83\n",
      "21      74\n",
      "23      54\n",
      "24      52\n",
      "25      48\n",
      "28      46\n",
      "29      41\n",
      "26      41\n",
      "27      37\n",
      "30      34\n",
      "31      25\n",
      "32      21\n",
      "33      16\n",
      "34      16\n",
      "35      11\n",
      "37      11\n",
      "41       9\n",
      "38       9\n",
      "36       8\n",
      "40       4\n",
      "39       3\n",
      "42       3\n",
      "44       2\n",
      "43       2\n",
      "47       2\n",
      "46       1\n",
      "Name: Number_Weeks_Quit, dtype: int64\n"
     ]
    }
   ],
   "source": [
    "#plotting number weeks quit\n",
    "sns.barplot(x=\"Number_Weeks_Quit\",data=train_data,palette=\"gnuplot\")\n",
    "plt.title(\"Number of weeks Quit\",fontsize=18)\n",
    "plt.show()\n",
    "print(train_data[\"Number_Weeks_Quit\"].value_counts())"
   ]
  },
  {
   "cell_type": "raw",
   "metadata": {},
   "source": [
    "The Number of weeks quit is 0 that is the highest crop that comes to 1496,after that 46 weeks quit the crop is 1.so the rate is better for Harvesting to grow the crop."
   ]
  },
  {
   "cell_type": "code",
   "execution_count": 214,
   "metadata": {},
   "outputs": [
    {
     "data": {
      "image/png": "[encoded data removed]",
      "text/plain": [
       "<Figure size 432x288 with 1 Axes>"
      ]
     },
     "metadata": {
      "needs_background": "light"
     },
     "output_type": "display_data"
    },
    {
     "name": "stdout",
     "output_type": "stream",
     "text": [
      "2    2327\n",
      "1    1379\n",
      "3     893\n",
      "Name: Season, dtype: int64\n"
     ]
    }
   ],
   "source": [
    "#Plotting season\n",
    "sns.countplot(x=\"Season\",data=train_data,palette=\"hot\")\n",
    "plt.title(\"Number of season\",fontsize=18)\n",
    "plt.show()\n",
    "print(train_data[\"Season\"].value_counts())"
   ]
  },
  {
   "cell_type": "raw",
   "metadata": {},
   "source": [
    "In Agriculture data there are 3 type of season 1,2,3.The highest peak of crops comes in secound season which is 2327 and in 1 season that is 1379,The Peaks of crop comes down in 3rd season which is 893."
   ]
  },
  {
   "cell_type": "code",
   "execution_count": 215,
   "metadata": {},
   "outputs": [
    {
     "data": {
      "image/png": "[encoded data removed]",
      "text/plain": [
       "<Figure size 720x576 with 1 Axes>"
      ]
     },
     "metadata": {
      "needs_background": "light"
     },
     "output_type": "display_data"
    },
    {
     "name": "stdout",
     "output_type": "stream",
     "text": [
      "Estimated_Insects_Count  Crop_Damage\n",
      "150                      0              16\n",
      "                         1               1\n",
      "151                      0               7\n",
      "168                      0              11\n",
      "                         1               2\n",
      "                                        ..\n",
      "3896                     2               1\n",
      "4096                     1               8\n",
      "                         0               6\n",
      "4097                     0               1\n",
      "                         1               1\n",
      "Name: Crop_Damage, Length: 178, dtype: int64\n"
     ]
    }
   ],
   "source": [
    "#Estimated Insects Count vs Crop damage\n",
    "plt.figure(figsize=(10,8))\n",
    "sns.scatterplot(x=\"Estimated_Insects_Count\",y=\"Crop_Damage\",data=train_data,palette=\"inferno\")\n",
    "plt.title(\"Crop Damage according Estimated_Insects_Count\")\n",
    "plt.ylabel(\"Estimated insects count\")\n",
    "plt.show()\n",
    "print(train_data.groupby(\"Estimated_Insects_Count\")[\"Crop_Damage\"].value_counts())"
   ]
  },
  {
   "cell_type": "code",
   "execution_count": 216,
   "metadata": {},
   "outputs": [
    {
     "data": {
      "image/png": "[encoded data removed]",
      "text/plain": [
       "<Figure size 576x432 with 1 Axes>"
      ]
     },
     "metadata": {
      "needs_background": "light"
     },
     "output_type": "display_data"
    },
    {
     "name": "stdout",
     "output_type": "stream",
     "text": [
      "Crop_Type  Crop_Damage\n",
      "0          0              2979\n",
      "           1               498\n",
      "           2                88\n",
      "1          0               841\n",
      "           1               166\n",
      "           2                27\n",
      "Name: Crop_Damage, dtype: int64\n"
     ]
    }
   ],
   "source": [
    "#Crop damage vs crop type\n",
    "plt.figure(figsize=(8,6))\n",
    "sns.countplot(x=\"Crop_Type\",hue=\"Crop_Damage\",data=train_data,palette=\"inferno\")\n",
    "plt.title(\"Crop_type accoding to crop damage\",fontsize=18)\n",
    "plt.ylabel(\"Crop type Count\")\n",
    "plt.show()\n",
    "print(train_data.groupby(\"Crop_Type\")[\"Crop_Damage\"].value_counts())"
   ]
  },
  {
   "cell_type": "raw",
   "metadata": {},
   "source": [
    "In the crop type there are 2 types 0 and 1.In 0 i found the alive crops is 2979, 1 which is damaged to other reason crops is 498 and damaged due to pesticides crops  is  88 and in 1 type alive crops i found is 841 and damaged to other crop is 166 and damaged due to pesticide crop is 27,In 0 crop type there are 2979 crops are alive and In one type there are 841."
   ]
  },
  {
   "cell_type": "code",
   "execution_count": 217,
   "metadata": {},
   "outputs": [
    {
     "data": {
      "image/png": "[encoded data removed]",
      "text/plain": [
       "<Figure size 576x432 with 1 Axes>"
      ]
     },
     "metadata": {
      "needs_background": "light"
     },
     "output_type": "display_data"
    },
    {
     "name": "stdout",
     "output_type": "stream",
     "text": [
      "Soil_Type  Crop_Damage\n",
      "0          0              1947\n",
      "           1               390\n",
      "           2                70\n",
      "1          0              1873\n",
      "           1               274\n",
      "           2                45\n",
      "Name: Crop_Damage, dtype: int64\n"
     ]
    }
   ],
   "source": [
    "#soil type vs crop damage\n",
    "plt.figure(figsize=(8,6))\n",
    "sns.countplot(x=\"Soil_Type\",hue=\"Crop_Damage\",data=train_data,palette=\"ocean_r\")\n",
    "plt.title(\"soil_type according to crop_damage\",fontsize=18)\n",
    "plt.ylabel(\"Soil type Count\")\n",
    "plt.show()\n",
    "print(train_data.groupby(\"Soil_Type\")[\"Crop_Damage\"].value_counts())"
   ]
  },
  {
   "cell_type": "raw",
   "metadata": {},
   "source": [
    "According to the chart in soil type there two type 0 and 1.In 0 soil type alive crops are 1947 and in 1 type soil is 1873 alive crops are there.Damaged due to other reasons the crop i found is 390 in 0 type soil and 274 in 1 type soil.Damaged due to pesticide is 70 in 0 soil and 45 in 1 type soil."
   ]
  },
  {
   "cell_type": "code",
   "execution_count": 218,
   "metadata": {},
   "outputs": [
    {
     "data": {
      "image/png": "[encoded data removed]",
      "text/plain": [
       "<Figure size 576x432 with 1 Axes>"
      ]
     },
     "metadata": {
      "needs_background": "light"
     },
     "output_type": "display_data"
    },
    {
     "name": "stdout",
     "output_type": "stream",
     "text": [
      "Number_Doses_Week  Crop_Damage\n",
      "0                  1               33\n",
      "                   0                7\n",
      "                   2                5\n",
      "5                  0              242\n",
      "                   1               25\n",
      "                   2                1\n",
      "10                 0              457\n",
      "                   1               75\n",
      "                   2                5\n",
      "15                 0              338\n",
      "                   1               50\n",
      "                   2                5\n",
      "20                 0              975\n",
      "                   1              201\n",
      "                   2               35\n",
      "25                 0              229\n",
      "                   1               27\n",
      "                   2                7\n",
      "30                 0              484\n",
      "                   1               79\n",
      "                   2               21\n",
      "35                 0               88\n",
      "                   1               12\n",
      "                   2                1\n",
      "40                 0              529\n",
      "                   1              105\n",
      "                   2               23\n",
      "45                 0               49\n",
      "                   1                4\n",
      "50                 0              147\n",
      "                   1               19\n",
      "                   2                6\n",
      "55                 0               10\n",
      "                   1                1\n",
      "60                 0              203\n",
      "                   1               29\n",
      "                   2                5\n",
      "65                 0                2\n",
      "                   1                1\n",
      "70                 0               16\n",
      "                   1                1\n",
      "75                 0                1\n",
      "80                 0               34\n",
      "                   1                1\n",
      "                   2                1\n",
      "85                 0                3\n",
      "                   1                1\n",
      "90                 0                5\n",
      "95                 0                1\n",
      "Name: Crop_Damage, dtype: int64\n"
     ]
    }
   ],
   "source": [
    "#number doses week vs crop damage\n",
    "plt.figure(figsize=(8,6))\n",
    "sns.countplot(x=\"Number_Doses_Week\",hue=\"Crop_Damage\",data=train_data,palette=\"magma\")\n",
    "plt.title(\"Number of doses per week according to crop  damage\",fontsize=18)\n",
    "plt.ylabel(\"Nymber of doses per week count\",fontsize=18)\n",
    "plt.show()\n",
    "print(train_data.groupby(\"Number_Doses_Week\")[\"Crop_Damage\"].value_counts())"
   ]
  },
  {
   "cell_type": "raw",
   "metadata": {},
   "source": [
    "In the above column i found that for alive crops number of doses per week is highest which is given on 5th week,10th week,15th week,20th week,25th week,30th week,35thweek,40th week and 45th week. There are less doses in 55th and 60th week.There are very less dosage for damage due to other causes and due to pesticide."
   ]
  },
  {
   "cell_type": "code",
   "execution_count": 219,
   "metadata": {},
   "outputs": [
    {
     "data": {
      "image/png": "[encoded data removed]",
      "text/plain": [
       "<Figure size 576x432 with 1 Axes>"
      ]
     },
     "metadata": {
      "needs_background": "light"
     },
     "output_type": "display_data"
    },
    {
     "name": "stdout",
     "output_type": "stream",
     "text": [
      "Number_Weeks_Used  Crop_Damage\n",
      "0.0                1              29\n",
      "                   0               6\n",
      "                   2               5\n",
      "5.0                0              31\n",
      "                   1               2\n",
      "                                  ..\n",
      "64.0               0               1\n",
      "65.0               1               2\n",
      "                   0               1\n",
      "66.0               0               2\n",
      "                   1               1\n",
      "Name: Crop_Damage, Length: 166, dtype: int64\n"
     ]
    }
   ],
   "source": [
    "#Number_Weeks_Used vs crop damage\n",
    "plt.figure(figsize=(8,6))\n",
    "sns.barplot(x=\"Number_Weeks_Used\",hue=\"Crop_Damage\",data=train_data,palette=\"mako\")\n",
    "plt.title(\"Number of week used according to crop damage\",fontsize=18)\n",
    "plt.ylabel(\"Number of week used count\",fontsize=18)\n",
    "plt.show()\n",
    "print(train_data.groupby(\"Number_Weeks_Used\")[\"Crop_Damage\"].value_counts())"
   ]
  },
  {
   "cell_type": "code",
   "execution_count": 220,
   "metadata": {},
   "outputs": [
    {
     "data": {
      "image/png": "[encoded data removed]",
      "text/plain": [
       "<Figure size 576x432 with 1 Axes>"
      ]
     },
     "metadata": {
      "needs_background": "light"
     },
     "output_type": "display_data"
    },
    {
     "name": "stdout",
     "output_type": "stream",
     "text": [
      "Number_Weeks_Quit  Crop_Damage\n",
      "0                  0              1039\n",
      "                   1               376\n",
      "                   2                81\n",
      "1                  0               127\n",
      "                   1                 6\n",
      "                                  ... \n",
      "43                 1                 1\n",
      "44                 0                 2\n",
      "46                 1                 1\n",
      "47                 0                 1\n",
      "                   1                 1\n",
      "Name: Crop_Damage, Length: 106, dtype: int64\n"
     ]
    }
   ],
   "source": [
    "#ploting Number_Weeks_Quit vs crop damage\n",
    "plt.figure(figsize=(8,6))\n",
    "sns.countplot(x=\"Number_Weeks_Quit\",hue=\"Crop_Damage\",data=train_data,palette=\"nipy_spectral_r\")\n",
    "plt.title(\"Number of weeks quit according to crop damage\",fontsize=18)\n",
    "plt.ylabel(\"Number of week quit count\",fontsize=18)\n",
    "plt.show()\n",
    "print(train_data.groupby(\"Number_Weeks_Quit\")[\"Crop_Damage\"].value_counts())"
   ]
  },
  {
   "cell_type": "raw",
   "metadata": {},
   "source": [
    "In Agriculture number of weeks quits crop under zero  alive crop has the highest  is 1039, then damage due to other reason crop is 376 and damage due to pesticide crop is 81 from  0  crop type and from 1 crop type the alive crop  is 127 ,damage due to other reason is 6 crops under quit number of weeks."
   ]
  },
  {
   "cell_type": "code",
   "execution_count": 221,
   "metadata": {},
   "outputs": [
    {
     "data": {
      "image/png": "[encoded data removed]",
      "text/plain": [
       "<Figure size 576x432 with 1 Axes>"
      ]
     },
     "metadata": {
      "needs_background": "light"
     },
     "output_type": "display_data"
    },
    {
     "name": "stdout",
     "output_type": "stream",
     "text": [
      "Season  Crop_Damage\n",
      "1       0              1150\n",
      "        1               192\n",
      "        2                37\n",
      "2       0              1908\n",
      "        1               358\n",
      "        2                61\n",
      "3       0               762\n",
      "        1               114\n",
      "        2                17\n",
      "Name: Crop_Damage, dtype: int64\n"
     ]
    }
   ],
   "source": [
    "#ploting season vs crop damage\n",
    "plt.figure(figsize=(8,6))\n",
    "sns.countplot(x=\"Season\",hue=\"Crop_Damage\",data=train_data,palette=\"vlag_r\")\n",
    "plt.title(\"Number of season according to crop damage\",fontsize=18)\n",
    "plt.ylabel(\"number of season count\",fontsize=18)\n",
    "plt.show()\n",
    "print(train_data.groupby(\"Season\")[\"Crop_Damage\"].value_counts())"
   ]
  },
  {
   "cell_type": "raw",
   "metadata": {},
   "source": [
    "In Agriculture data there are 3 seasons are there. In 1 season there are alive crop is 1150,damage due to other causes is 192,damage due to pesticide is 37.In secound season alive crops is  1908 which is more effective than 1 and 3 season.3 season alive crops is 762 ,damage due to other causes is 114,damage due to pesticide is 17,which is very less effective ."
   ]
  },
  {
   "cell_type": "markdown",
   "metadata": {},
   "source": [
    "# There is only one categorical data in agriculture it is ID ,it do not provide any information about crops so i will drop the ID column from the Data"
   ]
  },
  {
   "cell_type": "code",
   "execution_count": 222,
   "metadata": {},
   "outputs": [],
   "source": [
    "#droping column id from the data set\n",
    "train_data.drop([\"ID\"],axis=1,inplace=True)"
   ]
  },
  {
   "cell_type": "code",
   "execution_count": 223,
   "metadata": {},
   "outputs": [
    {
     "data": {
      "text/html": [
       "<div>\n",
       "<style scoped>\n",
       "    .dataframe tbody tr th:only-of-type {\n",
       "        vertical-align: middle;\n",
       "    }\n",
       "\n",
       "    .dataframe tbody tr th {\n",
       "        vertical-align: top;\n",
       "    }\n",
       "\n",
       "    .dataframe thead th {\n",
       "        text-align: right;\n",
       "    }\n",
       "</style>\n",
       "<table border=\"1\" class=\"dataframe\">\n",
       "  <thead>\n",
       "    <tr style=\"text-align: right;\">\n",
       "      <th></th>\n",
       "      <th>Estimated_Insects_Count</th>\n",
       "      <th>Crop_Type</th>\n",
       "      <th>Soil_Type</th>\n",
       "      <th>Pesticide_Use_Category</th>\n",
       "      <th>Number_Doses_Week</th>\n",
       "      <th>Number_Weeks_Used</th>\n",
       "      <th>Number_Weeks_Quit</th>\n",
       "      <th>Season</th>\n",
       "      <th>Crop_Damage</th>\n",
       "    </tr>\n",
       "  </thead>\n",
       "  <tbody>\n",
       "    <tr>\n",
       "      <th>0</th>\n",
       "      <td>188</td>\n",
       "      <td>1</td>\n",
       "      <td>0</td>\n",
       "      <td>1</td>\n",
       "      <td>0</td>\n",
       "      <td>0.000000</td>\n",
       "      <td>0</td>\n",
       "      <td>1</td>\n",
       "      <td>0</td>\n",
       "    </tr>\n",
       "    <tr>\n",
       "      <th>1</th>\n",
       "      <td>209</td>\n",
       "      <td>1</td>\n",
       "      <td>0</td>\n",
       "      <td>1</td>\n",
       "      <td>0</td>\n",
       "      <td>0.000000</td>\n",
       "      <td>0</td>\n",
       "      <td>2</td>\n",
       "      <td>1</td>\n",
       "    </tr>\n",
       "    <tr>\n",
       "      <th>2</th>\n",
       "      <td>257</td>\n",
       "      <td>1</td>\n",
       "      <td>0</td>\n",
       "      <td>1</td>\n",
       "      <td>0</td>\n",
       "      <td>0.000000</td>\n",
       "      <td>0</td>\n",
       "      <td>2</td>\n",
       "      <td>1</td>\n",
       "    </tr>\n",
       "    <tr>\n",
       "      <th>3</th>\n",
       "      <td>257</td>\n",
       "      <td>1</td>\n",
       "      <td>1</td>\n",
       "      <td>1</td>\n",
       "      <td>0</td>\n",
       "      <td>0.000000</td>\n",
       "      <td>0</td>\n",
       "      <td>2</td>\n",
       "      <td>1</td>\n",
       "    </tr>\n",
       "    <tr>\n",
       "      <th>4</th>\n",
       "      <td>342</td>\n",
       "      <td>1</td>\n",
       "      <td>0</td>\n",
       "      <td>1</td>\n",
       "      <td>0</td>\n",
       "      <td>0.000000</td>\n",
       "      <td>0</td>\n",
       "      <td>2</td>\n",
       "      <td>1</td>\n",
       "    </tr>\n",
       "    <tr>\n",
       "      <th>...</th>\n",
       "      <td>...</td>\n",
       "      <td>...</td>\n",
       "      <td>...</td>\n",
       "      <td>...</td>\n",
       "      <td>...</td>\n",
       "      <td>...</td>\n",
       "      <td>...</td>\n",
       "      <td>...</td>\n",
       "      <td>...</td>\n",
       "    </tr>\n",
       "    <tr>\n",
       "      <th>4594</th>\n",
       "      <td>2138</td>\n",
       "      <td>0</td>\n",
       "      <td>1</td>\n",
       "      <td>2</td>\n",
       "      <td>20</td>\n",
       "      <td>28.891027</td>\n",
       "      <td>1</td>\n",
       "      <td>1</td>\n",
       "      <td>1</td>\n",
       "    </tr>\n",
       "    <tr>\n",
       "      <th>4595</th>\n",
       "      <td>2139</td>\n",
       "      <td>0</td>\n",
       "      <td>1</td>\n",
       "      <td>2</td>\n",
       "      <td>30</td>\n",
       "      <td>47.000000</td>\n",
       "      <td>2</td>\n",
       "      <td>1</td>\n",
       "      <td>1</td>\n",
       "    </tr>\n",
       "    <tr>\n",
       "      <th>4596</th>\n",
       "      <td>2267</td>\n",
       "      <td>0</td>\n",
       "      <td>1</td>\n",
       "      <td>2</td>\n",
       "      <td>10</td>\n",
       "      <td>7.000000</td>\n",
       "      <td>27</td>\n",
       "      <td>2</td>\n",
       "      <td>0</td>\n",
       "    </tr>\n",
       "    <tr>\n",
       "      <th>4597</th>\n",
       "      <td>2267</td>\n",
       "      <td>0</td>\n",
       "      <td>1</td>\n",
       "      <td>2</td>\n",
       "      <td>10</td>\n",
       "      <td>20.000000</td>\n",
       "      <td>24</td>\n",
       "      <td>2</td>\n",
       "      <td>0</td>\n",
       "    </tr>\n",
       "    <tr>\n",
       "      <th>4598</th>\n",
       "      <td>2267</td>\n",
       "      <td>0</td>\n",
       "      <td>1</td>\n",
       "      <td>2</td>\n",
       "      <td>10</td>\n",
       "      <td>33.000000</td>\n",
       "      <td>17</td>\n",
       "      <td>2</td>\n",
       "      <td>0</td>\n",
       "    </tr>\n",
       "  </tbody>\n",
       "</table>\n",
       "<p>4599 rows × 9 columns</p>\n",
       "</div>"
      ],
      "text/plain": [
       "      Estimated_Insects_Count  Crop_Type  Soil_Type  Pesticide_Use_Category  \\\n",
       "0                         188          1          0                       1   \n",
       "1                         209          1          0                       1   \n",
       "2                         257          1          0                       1   \n",
       "3                         257          1          1                       1   \n",
       "4                         342          1          0                       1   \n",
       "...                       ...        ...        ...                     ...   \n",
       "4594                     2138          0          1                       2   \n",
       "4595                     2139          0          1                       2   \n",
       "4596                     2267          0          1                       2   \n",
       "4597                     2267          0          1                       2   \n",
       "4598                     2267          0          1                       2   \n",
       "\n",
       "      Number_Doses_Week  Number_Weeks_Used  Number_Weeks_Quit  Season  \\\n",
       "0                     0           0.000000                  0       1   \n",
       "1                     0           0.000000                  0       2   \n",
       "2                     0           0.000000                  0       2   \n",
       "3                     0           0.000000                  0       2   \n",
       "4                     0           0.000000                  0       2   \n",
       "...                 ...                ...                ...     ...   \n",
       "4594                 20          28.891027                  1       1   \n",
       "4595                 30          47.000000                  2       1   \n",
       "4596                 10           7.000000                 27       2   \n",
       "4597                 10          20.000000                 24       2   \n",
       "4598                 10          33.000000                 17       2   \n",
       "\n",
       "      Crop_Damage  \n",
       "0               0  \n",
       "1               1  \n",
       "2               1  \n",
       "3               1  \n",
       "4               1  \n",
       "...           ...  \n",
       "4594            1  \n",
       "4595            1  \n",
       "4596            0  \n",
       "4597            0  \n",
       "4598            0  \n",
       "\n",
       "[4599 rows x 9 columns]"
      ]
     },
     "execution_count": 223,
     "metadata": {},
     "output_type": "execute_result"
    }
   ],
   "source": [
    "train_data"
   ]
  },
  {
   "cell_type": "markdown",
   "metadata": {},
   "source": [
    "# By droping ID column all the column were numeric now the train data is ready for statistic summary,Now some step from train data  will follow in test data of Agriculture."
   ]
  },
  {
   "cell_type": "markdown",
   "metadata": {},
   "source": [
    "# Getting test data"
   ]
  },
  {
   "cell_type": "markdown",
   "metadata": {},
   "source": [
    "# Test Data"
   ]
  },
  {
   "cell_type": "code",
   "execution_count": 224,
   "metadata": {},
   "outputs": [
    {
     "data": {
      "text/html": [
       "<div>\n",
       "<style scoped>\n",
       "    .dataframe tbody tr th:only-of-type {\n",
       "        vertical-align: middle;\n",
       "    }\n",
       "\n",
       "    .dataframe tbody tr th {\n",
       "        vertical-align: top;\n",
       "    }\n",
       "\n",
       "    .dataframe thead th {\n",
       "        text-align: right;\n",
       "    }\n",
       "</style>\n",
       "<table border=\"1\" class=\"dataframe\">\n",
       "  <thead>\n",
       "    <tr style=\"text-align: right;\">\n",
       "      <th></th>\n",
       "      <th>ID</th>\n",
       "      <th>Estimated_Insects_Count</th>\n",
       "      <th>Crop_Type</th>\n",
       "      <th>Soil_Type</th>\n",
       "      <th>Pesticide_Use_Category</th>\n",
       "      <th>Number_Doses_Week</th>\n",
       "      <th>Number_Weeks_Used</th>\n",
       "      <th>Number_Weeks_Quit</th>\n",
       "      <th>Season</th>\n",
       "    </tr>\n",
       "  </thead>\n",
       "  <tbody>\n",
       "    <tr>\n",
       "      <th>0</th>\n",
       "      <td>F00000002</td>\n",
       "      <td>188</td>\n",
       "      <td>1</td>\n",
       "      <td>1</td>\n",
       "      <td>1</td>\n",
       "      <td>0</td>\n",
       "      <td>NaN</td>\n",
       "      <td>0</td>\n",
       "      <td>2</td>\n",
       "    </tr>\n",
       "    <tr>\n",
       "      <th>1</th>\n",
       "      <td>F00000007</td>\n",
       "      <td>410</td>\n",
       "      <td>1</td>\n",
       "      <td>1</td>\n",
       "      <td>1</td>\n",
       "      <td>0</td>\n",
       "      <td>0.0</td>\n",
       "      <td>0</td>\n",
       "      <td>2</td>\n",
       "    </tr>\n",
       "    <tr>\n",
       "      <th>2</th>\n",
       "      <td>F00000011</td>\n",
       "      <td>626</td>\n",
       "      <td>1</td>\n",
       "      <td>0</td>\n",
       "      <td>1</td>\n",
       "      <td>0</td>\n",
       "      <td>0.0</td>\n",
       "      <td>0</td>\n",
       "      <td>2</td>\n",
       "    </tr>\n",
       "    <tr>\n",
       "      <th>3</th>\n",
       "      <td>F00000013</td>\n",
       "      <td>731</td>\n",
       "      <td>1</td>\n",
       "      <td>0</td>\n",
       "      <td>1</td>\n",
       "      <td>0</td>\n",
       "      <td>0.0</td>\n",
       "      <td>0</td>\n",
       "      <td>2</td>\n",
       "    </tr>\n",
       "    <tr>\n",
       "      <th>4</th>\n",
       "      <td>F00000014</td>\n",
       "      <td>789</td>\n",
       "      <td>0</td>\n",
       "      <td>0</td>\n",
       "      <td>1</td>\n",
       "      <td>0</td>\n",
       "      <td>0.0</td>\n",
       "      <td>0</td>\n",
       "      <td>1</td>\n",
       "    </tr>\n",
       "    <tr>\n",
       "      <th>...</th>\n",
       "      <td>...</td>\n",
       "      <td>...</td>\n",
       "      <td>...</td>\n",
       "      <td>...</td>\n",
       "      <td>...</td>\n",
       "      <td>...</td>\n",
       "      <td>...</td>\n",
       "      <td>...</td>\n",
       "      <td>...</td>\n",
       "    </tr>\n",
       "    <tr>\n",
       "      <th>1194</th>\n",
       "      <td>F00003133</td>\n",
       "      <td>1132</td>\n",
       "      <td>0</td>\n",
       "      <td>1</td>\n",
       "      <td>2</td>\n",
       "      <td>40</td>\n",
       "      <td>34.0</td>\n",
       "      <td>7</td>\n",
       "      <td>3</td>\n",
       "    </tr>\n",
       "    <tr>\n",
       "      <th>1195</th>\n",
       "      <td>F00003135</td>\n",
       "      <td>1132</td>\n",
       "      <td>0</td>\n",
       "      <td>1</td>\n",
       "      <td>2</td>\n",
       "      <td>40</td>\n",
       "      <td>25.0</td>\n",
       "      <td>3</td>\n",
       "      <td>1</td>\n",
       "    </tr>\n",
       "    <tr>\n",
       "      <th>1196</th>\n",
       "      <td>F00003138</td>\n",
       "      <td>1132</td>\n",
       "      <td>0</td>\n",
       "      <td>1</td>\n",
       "      <td>2</td>\n",
       "      <td>20</td>\n",
       "      <td>13.0</td>\n",
       "      <td>23</td>\n",
       "      <td>1</td>\n",
       "    </tr>\n",
       "    <tr>\n",
       "      <th>1197</th>\n",
       "      <td>F00003149</td>\n",
       "      <td>1212</td>\n",
       "      <td>0</td>\n",
       "      <td>1</td>\n",
       "      <td>2</td>\n",
       "      <td>10</td>\n",
       "      <td>35.0</td>\n",
       "      <td>5</td>\n",
       "      <td>1</td>\n",
       "    </tr>\n",
       "    <tr>\n",
       "      <th>1198</th>\n",
       "      <td>F00003150</td>\n",
       "      <td>1212</td>\n",
       "      <td>0</td>\n",
       "      <td>1</td>\n",
       "      <td>2</td>\n",
       "      <td>15</td>\n",
       "      <td>NaN</td>\n",
       "      <td>20</td>\n",
       "      <td>3</td>\n",
       "    </tr>\n",
       "  </tbody>\n",
       "</table>\n",
       "<p>1199 rows × 9 columns</p>\n",
       "</div>"
      ],
      "text/plain": [
       "             ID  Estimated_Insects_Count  Crop_Type  Soil_Type  \\\n",
       "0     F00000002                      188          1          1   \n",
       "1     F00000007                      410          1          1   \n",
       "2     F00000011                      626          1          0   \n",
       "3     F00000013                      731          1          0   \n",
       "4     F00000014                      789          0          0   \n",
       "...         ...                      ...        ...        ...   \n",
       "1194  F00003133                     1132          0          1   \n",
       "1195  F00003135                     1132          0          1   \n",
       "1196  F00003138                     1132          0          1   \n",
       "1197  F00003149                     1212          0          1   \n",
       "1198  F00003150                     1212          0          1   \n",
       "\n",
       "      Pesticide_Use_Category  Number_Doses_Week  Number_Weeks_Used  \\\n",
       "0                          1                  0                NaN   \n",
       "1                          1                  0                0.0   \n",
       "2                          1                  0                0.0   \n",
       "3                          1                  0                0.0   \n",
       "4                          1                  0                0.0   \n",
       "...                      ...                ...                ...   \n",
       "1194                       2                 40               34.0   \n",
       "1195                       2                 40               25.0   \n",
       "1196                       2                 20               13.0   \n",
       "1197                       2                 10               35.0   \n",
       "1198                       2                 15                NaN   \n",
       "\n",
       "      Number_Weeks_Quit  Season  \n",
       "0                     0       2  \n",
       "1                     0       2  \n",
       "2                     0       2  \n",
       "3                     0       2  \n",
       "4                     0       1  \n",
       "...                 ...     ...  \n",
       "1194                  7       3  \n",
       "1195                  3       1  \n",
       "1196                 23       1  \n",
       "1197                  5       1  \n",
       "1198                 20       3  \n",
       "\n",
       "[1199 rows x 9 columns]"
      ]
     },
     "execution_count": 224,
     "metadata": {},
     "output_type": "execute_result"
    }
   ],
   "source": [
    "test_data"
   ]
  },
  {
   "cell_type": "code",
   "execution_count": 225,
   "metadata": {},
   "outputs": [
    {
     "data": {
      "text/plain": [
       "Index(['ID', 'Estimated_Insects_Count', 'Crop_Type', 'Soil_Type',\n",
       "       'Pesticide_Use_Category', 'Number_Doses_Week', 'Number_Weeks_Used',\n",
       "       'Number_Weeks_Quit', 'Season'],\n",
       "      dtype='object')"
      ]
     },
     "execution_count": 225,
     "metadata": {},
     "output_type": "execute_result"
    }
   ],
   "source": [
    "#checking columns of test data\n",
    "test_data.columns"
   ]
  },
  {
   "cell_type": "code",
   "execution_count": 226,
   "metadata": {},
   "outputs": [
    {
     "data": {
      "text/plain": [
       "(1199, 9)"
      ]
     },
     "execution_count": 226,
     "metadata": {},
     "output_type": "execute_result"
    }
   ],
   "source": [
    "#checking shape of test data\n",
    "test_data.shape"
   ]
  },
  {
   "cell_type": "raw",
   "metadata": {},
   "source": [
    "In Agriculture test data 1199 rows and 9 columns are present."
   ]
  },
  {
   "cell_type": "code",
   "execution_count": 227,
   "metadata": {},
   "outputs": [
    {
     "name": "stdout",
     "output_type": "stream",
     "text": [
      "<class 'pandas.core.frame.DataFrame'>\n",
      "RangeIndex: 1199 entries, 0 to 1198\n",
      "Data columns (total 9 columns):\n",
      " #   Column                   Non-Null Count  Dtype  \n",
      "---  ------                   --------------  -----  \n",
      " 0   ID                       1199 non-null   object \n",
      " 1   Estimated_Insects_Count  1199 non-null   int64  \n",
      " 2   Crop_Type                1199 non-null   int64  \n",
      " 3   Soil_Type                1199 non-null   int64  \n",
      " 4   Pesticide_Use_Category   1199 non-null   int64  \n",
      " 5   Number_Doses_Week        1199 non-null   int64  \n",
      " 6   Number_Weeks_Used        1080 non-null   float64\n",
      " 7   Number_Weeks_Quit        1199 non-null   int64  \n",
      " 8   Season                   1199 non-null   int64  \n",
      "dtypes: float64(1), int64(7), object(1)\n",
      "memory usage: 79.7+ KB\n"
     ]
    }
   ],
   "source": [
    "#checking data set information\n",
    "test_data.info()"
   ]
  },
  {
   "cell_type": "raw",
   "metadata": {},
   "source": [
    "I can see that only ID is categorical type,beside all are numberic as i have seen in train_data."
   ]
  },
  {
   "cell_type": "code",
   "execution_count": 228,
   "metadata": {},
   "outputs": [
    {
     "data": {
      "text/plain": [
       "True"
      ]
     },
     "execution_count": 228,
     "metadata": {},
     "output_type": "execute_result"
    }
   ],
   "source": [
    "#checking null values in test data\n",
    "test_data.isnull().values.any()"
   ]
  },
  {
   "cell_type": "code",
   "execution_count": 229,
   "metadata": {},
   "outputs": [
    {
     "data": {
      "text/plain": [
       "ID                           0\n",
       "Estimated_Insects_Count      0\n",
       "Crop_Type                    0\n",
       "Soil_Type                    0\n",
       "Pesticide_Use_Category       0\n",
       "Number_Doses_Week            0\n",
       "Number_Weeks_Used          119\n",
       "Number_Weeks_Quit            0\n",
       "Season                       0\n",
       "dtype: int64"
      ]
     },
     "execution_count": 229,
     "metadata": {},
     "output_type": "execute_result"
    }
   ],
   "source": [
    "test_data.isnull().sum()"
   ]
  },
  {
   "cell_type": "raw",
   "metadata": {},
   "source": [
    "As in train data there is only one column missing value also in test data that is Number_week_used."
   ]
  },
  {
   "cell_type": "markdown",
   "metadata": {},
   "source": [
    "# Imputing values in Number_Week_used"
   ]
  },
  {
   "cell_type": "code",
   "execution_count": 230,
   "metadata": {},
   "outputs": [],
   "source": [
    "test_data[\"Number_Weeks_Used\"].fillna(test_data[\"Number_Weeks_Used\"].mean(),inplace=True)"
   ]
  },
  {
   "cell_type": "raw",
   "metadata": {},
   "source": [
    "Now the null values is imputed in test data."
   ]
  },
  {
   "cell_type": "code",
   "execution_count": 231,
   "metadata": {},
   "outputs": [
    {
     "data": {
      "text/plain": [
       "<matplotlib.axes._subplots.AxesSubplot at 0x11bcf4f0>"
      ]
     },
     "execution_count": 231,
     "metadata": {},
     "output_type": "execute_result"
    },
    {
     "data": {
      "image/png": "[encoded data removed]",
      "text/plain": [
       "<Figure size 432x288 with 1 Axes>"
      ]
     },
     "metadata": {
      "needs_background": "light"
     },
     "output_type": "display_data"
    }
   ],
   "source": [
    "#checking by visiulization\n",
    "sns.heatmap(test_data.isnull(),yticklabels=False,cbar=False)"
   ]
  },
  {
   "cell_type": "raw",
   "metadata": {},
   "source": [
    "Now i can see there is no null value present in test data"
   ]
  },
  {
   "cell_type": "markdown",
   "metadata": {},
   "source": [
    "# Exploring Data Variable"
   ]
  },
  {
   "cell_type": "code",
   "execution_count": 232,
   "metadata": {},
   "outputs": [
    {
     "name": "stdout",
     "output_type": "stream",
     "text": [
      "ID : ['F00000002' 'F00000007' 'F00000011' ... 'F00003138' 'F00003149'\n",
      " 'F00003150']\n",
      "F00000161    1\n",
      "F00001093    1\n",
      "F00001521    1\n",
      "F00000558    1\n",
      "F00001096    1\n",
      "            ..\n",
      "F00000915    1\n",
      "F00002021    1\n",
      "F00000807    1\n",
      "F00001438    1\n",
      "F00000701    1\n",
      "Name: ID, Length: 1199, dtype: int64\n",
      "************************************************************************************\n",
      "/n\n"
     ]
    }
   ],
   "source": [
    "for column in test_data.columns:\n",
    "    if test_data[column].dtypes==object:\n",
    "        print(str(column)+ \" : \"+str(test_data[column].unique()))\n",
    "        print(test_data[column].value_counts())\n",
    "        print(\"************************************************************************************\")\n",
    "        print(\"/n\")"
   ]
  },
  {
   "cell_type": "markdown",
   "metadata": {},
   "source": [
    "# There is one Categorical data present that is ID,that do not provide any information on crops so i will drop the column ID in Agriculture test data."
   ]
  },
  {
   "cell_type": "code",
   "execution_count": 233,
   "metadata": {},
   "outputs": [],
   "source": [
    "test_data.drop([\"ID\"],axis=1,inplace=True)"
   ]
  },
  {
   "cell_type": "code",
   "execution_count": 234,
   "metadata": {},
   "outputs": [
    {
     "data": {
      "text/html": [
       "<div>\n",
       "<style scoped>\n",
       "    .dataframe tbody tr th:only-of-type {\n",
       "        vertical-align: middle;\n",
       "    }\n",
       "\n",
       "    .dataframe tbody tr th {\n",
       "        vertical-align: top;\n",
       "    }\n",
       "\n",
       "    .dataframe thead th {\n",
       "        text-align: right;\n",
       "    }\n",
       "</style>\n",
       "<table border=\"1\" class=\"dataframe\">\n",
       "  <thead>\n",
       "    <tr style=\"text-align: right;\">\n",
       "      <th></th>\n",
       "      <th>Estimated_Insects_Count</th>\n",
       "      <th>Crop_Type</th>\n",
       "      <th>Soil_Type</th>\n",
       "      <th>Pesticide_Use_Category</th>\n",
       "      <th>Number_Doses_Week</th>\n",
       "      <th>Number_Weeks_Used</th>\n",
       "      <th>Number_Weeks_Quit</th>\n",
       "      <th>Season</th>\n",
       "    </tr>\n",
       "  </thead>\n",
       "  <tbody>\n",
       "    <tr>\n",
       "      <th>0</th>\n",
       "      <td>188</td>\n",
       "      <td>1</td>\n",
       "      <td>1</td>\n",
       "      <td>1</td>\n",
       "      <td>0</td>\n",
       "      <td>29.033333</td>\n",
       "      <td>0</td>\n",
       "      <td>2</td>\n",
       "    </tr>\n",
       "    <tr>\n",
       "      <th>1</th>\n",
       "      <td>410</td>\n",
       "      <td>1</td>\n",
       "      <td>1</td>\n",
       "      <td>1</td>\n",
       "      <td>0</td>\n",
       "      <td>0.000000</td>\n",
       "      <td>0</td>\n",
       "      <td>2</td>\n",
       "    </tr>\n",
       "    <tr>\n",
       "      <th>2</th>\n",
       "      <td>626</td>\n",
       "      <td>1</td>\n",
       "      <td>0</td>\n",
       "      <td>1</td>\n",
       "      <td>0</td>\n",
       "      <td>0.000000</td>\n",
       "      <td>0</td>\n",
       "      <td>2</td>\n",
       "    </tr>\n",
       "    <tr>\n",
       "      <th>3</th>\n",
       "      <td>731</td>\n",
       "      <td>1</td>\n",
       "      <td>0</td>\n",
       "      <td>1</td>\n",
       "      <td>0</td>\n",
       "      <td>0.000000</td>\n",
       "      <td>0</td>\n",
       "      <td>2</td>\n",
       "    </tr>\n",
       "    <tr>\n",
       "      <th>4</th>\n",
       "      <td>789</td>\n",
       "      <td>0</td>\n",
       "      <td>0</td>\n",
       "      <td>1</td>\n",
       "      <td>0</td>\n",
       "      <td>0.000000</td>\n",
       "      <td>0</td>\n",
       "      <td>1</td>\n",
       "    </tr>\n",
       "    <tr>\n",
       "      <th>...</th>\n",
       "      <td>...</td>\n",
       "      <td>...</td>\n",
       "      <td>...</td>\n",
       "      <td>...</td>\n",
       "      <td>...</td>\n",
       "      <td>...</td>\n",
       "      <td>...</td>\n",
       "      <td>...</td>\n",
       "    </tr>\n",
       "    <tr>\n",
       "      <th>1194</th>\n",
       "      <td>1132</td>\n",
       "      <td>0</td>\n",
       "      <td>1</td>\n",
       "      <td>2</td>\n",
       "      <td>40</td>\n",
       "      <td>34.000000</td>\n",
       "      <td>7</td>\n",
       "      <td>3</td>\n",
       "    </tr>\n",
       "    <tr>\n",
       "      <th>1195</th>\n",
       "      <td>1132</td>\n",
       "      <td>0</td>\n",
       "      <td>1</td>\n",
       "      <td>2</td>\n",
       "      <td>40</td>\n",
       "      <td>25.000000</td>\n",
       "      <td>3</td>\n",
       "      <td>1</td>\n",
       "    </tr>\n",
       "    <tr>\n",
       "      <th>1196</th>\n",
       "      <td>1132</td>\n",
       "      <td>0</td>\n",
       "      <td>1</td>\n",
       "      <td>2</td>\n",
       "      <td>20</td>\n",
       "      <td>13.000000</td>\n",
       "      <td>23</td>\n",
       "      <td>1</td>\n",
       "    </tr>\n",
       "    <tr>\n",
       "      <th>1197</th>\n",
       "      <td>1212</td>\n",
       "      <td>0</td>\n",
       "      <td>1</td>\n",
       "      <td>2</td>\n",
       "      <td>10</td>\n",
       "      <td>35.000000</td>\n",
       "      <td>5</td>\n",
       "      <td>1</td>\n",
       "    </tr>\n",
       "    <tr>\n",
       "      <th>1198</th>\n",
       "      <td>1212</td>\n",
       "      <td>0</td>\n",
       "      <td>1</td>\n",
       "      <td>2</td>\n",
       "      <td>15</td>\n",
       "      <td>29.033333</td>\n",
       "      <td>20</td>\n",
       "      <td>3</td>\n",
       "    </tr>\n",
       "  </tbody>\n",
       "</table>\n",
       "<p>1199 rows × 8 columns</p>\n",
       "</div>"
      ],
      "text/plain": [
       "      Estimated_Insects_Count  Crop_Type  Soil_Type  Pesticide_Use_Category  \\\n",
       "0                         188          1          1                       1   \n",
       "1                         410          1          1                       1   \n",
       "2                         626          1          0                       1   \n",
       "3                         731          1          0                       1   \n",
       "4                         789          0          0                       1   \n",
       "...                       ...        ...        ...                     ...   \n",
       "1194                     1132          0          1                       2   \n",
       "1195                     1132          0          1                       2   \n",
       "1196                     1132          0          1                       2   \n",
       "1197                     1212          0          1                       2   \n",
       "1198                     1212          0          1                       2   \n",
       "\n",
       "      Number_Doses_Week  Number_Weeks_Used  Number_Weeks_Quit  Season  \n",
       "0                     0          29.033333                  0       2  \n",
       "1                     0           0.000000                  0       2  \n",
       "2                     0           0.000000                  0       2  \n",
       "3                     0           0.000000                  0       2  \n",
       "4                     0           0.000000                  0       1  \n",
       "...                 ...                ...                ...     ...  \n",
       "1194                 40          34.000000                  7       3  \n",
       "1195                 40          25.000000                  3       1  \n",
       "1196                 20          13.000000                 23       1  \n",
       "1197                 10          35.000000                  5       1  \n",
       "1198                 15          29.033333                 20       3  \n",
       "\n",
       "[1199 rows x 8 columns]"
      ]
     },
     "execution_count": 234,
     "metadata": {},
     "output_type": "execute_result"
    }
   ],
   "source": [
    "test_data"
   ]
  },
  {
   "cell_type": "markdown",
   "metadata": {},
   "source": [
    "# Now all columns are in numeric types i will go forward and check the Summary Statistic and Correlation of train data."
   ]
  },
  {
   "cell_type": "markdown",
   "metadata": {},
   "source": [
    "# Summary Statistic"
   ]
  },
  {
   "cell_type": "code",
   "execution_count": 235,
   "metadata": {},
   "outputs": [
    {
     "data": {
      "text/html": [
       "<div>\n",
       "<style scoped>\n",
       "    .dataframe tbody tr th:only-of-type {\n",
       "        vertical-align: middle;\n",
       "    }\n",
       "\n",
       "    .dataframe tbody tr th {\n",
       "        vertical-align: top;\n",
       "    }\n",
       "\n",
       "    .dataframe thead th {\n",
       "        text-align: right;\n",
       "    }\n",
       "</style>\n",
       "<table border=\"1\" class=\"dataframe\">\n",
       "  <thead>\n",
       "    <tr style=\"text-align: right;\">\n",
       "      <th></th>\n",
       "      <th>Estimated_Insects_Count</th>\n",
       "      <th>Crop_Type</th>\n",
       "      <th>Soil_Type</th>\n",
       "      <th>Pesticide_Use_Category</th>\n",
       "      <th>Number_Doses_Week</th>\n",
       "      <th>Number_Weeks_Used</th>\n",
       "      <th>Number_Weeks_Quit</th>\n",
       "      <th>Season</th>\n",
       "      <th>Crop_Damage</th>\n",
       "    </tr>\n",
       "  </thead>\n",
       "  <tbody>\n",
       "    <tr>\n",
       "      <th>count</th>\n",
       "      <td>4599.000000</td>\n",
       "      <td>4599.000000</td>\n",
       "      <td>4599.000000</td>\n",
       "      <td>4599.000000</td>\n",
       "      <td>4599.000000</td>\n",
       "      <td>4599.000000</td>\n",
       "      <td>4599.000000</td>\n",
       "      <td>4599.000000</td>\n",
       "      <td>4599.000000</td>\n",
       "    </tr>\n",
       "    <tr>\n",
       "      <th>mean</th>\n",
       "      <td>1363.000435</td>\n",
       "      <td>0.224831</td>\n",
       "      <td>0.476625</td>\n",
       "      <td>2.283540</td>\n",
       "      <td>26.477495</td>\n",
       "      <td>28.891027</td>\n",
       "      <td>9.205479</td>\n",
       "      <td>1.894325</td>\n",
       "      <td>0.194390</td>\n",
       "    </tr>\n",
       "    <tr>\n",
       "      <th>std</th>\n",
       "      <td>814.439120</td>\n",
       "      <td>0.417517</td>\n",
       "      <td>0.499508</td>\n",
       "      <td>0.471978</td>\n",
       "      <td>15.524647</td>\n",
       "      <td>11.965785</td>\n",
       "      <td>9.713253</td>\n",
       "      <td>0.694952</td>\n",
       "      <td>0.454597</td>\n",
       "    </tr>\n",
       "    <tr>\n",
       "      <th>min</th>\n",
       "      <td>150.000000</td>\n",
       "      <td>0.000000</td>\n",
       "      <td>0.000000</td>\n",
       "      <td>1.000000</td>\n",
       "      <td>0.000000</td>\n",
       "      <td>0.000000</td>\n",
       "      <td>0.000000</td>\n",
       "      <td>1.000000</td>\n",
       "      <td>0.000000</td>\n",
       "    </tr>\n",
       "    <tr>\n",
       "      <th>25%</th>\n",
       "      <td>731.000000</td>\n",
       "      <td>0.000000</td>\n",
       "      <td>0.000000</td>\n",
       "      <td>2.000000</td>\n",
       "      <td>15.000000</td>\n",
       "      <td>20.000000</td>\n",
       "      <td>0.000000</td>\n",
       "      <td>1.000000</td>\n",
       "      <td>0.000000</td>\n",
       "    </tr>\n",
       "    <tr>\n",
       "      <th>50%</th>\n",
       "      <td>1212.000000</td>\n",
       "      <td>0.000000</td>\n",
       "      <td>0.000000</td>\n",
       "      <td>2.000000</td>\n",
       "      <td>20.000000</td>\n",
       "      <td>28.891027</td>\n",
       "      <td>7.000000</td>\n",
       "      <td>2.000000</td>\n",
       "      <td>0.000000</td>\n",
       "    </tr>\n",
       "    <tr>\n",
       "      <th>75%</th>\n",
       "      <td>1786.000000</td>\n",
       "      <td>0.000000</td>\n",
       "      <td>1.000000</td>\n",
       "      <td>3.000000</td>\n",
       "      <td>40.000000</td>\n",
       "      <td>36.000000</td>\n",
       "      <td>16.000000</td>\n",
       "      <td>2.000000</td>\n",
       "      <td>0.000000</td>\n",
       "    </tr>\n",
       "    <tr>\n",
       "      <th>max</th>\n",
       "      <td>4097.000000</td>\n",
       "      <td>1.000000</td>\n",
       "      <td>1.000000</td>\n",
       "      <td>3.000000</td>\n",
       "      <td>95.000000</td>\n",
       "      <td>66.000000</td>\n",
       "      <td>47.000000</td>\n",
       "      <td>3.000000</td>\n",
       "      <td>2.000000</td>\n",
       "    </tr>\n",
       "  </tbody>\n",
       "</table>\n",
       "</div>"
      ],
      "text/plain": [
       "       Estimated_Insects_Count    Crop_Type    Soil_Type  \\\n",
       "count              4599.000000  4599.000000  4599.000000   \n",
       "mean               1363.000435     0.224831     0.476625   \n",
       "std                 814.439120     0.417517     0.499508   \n",
       "min                 150.000000     0.000000     0.000000   \n",
       "25%                 731.000000     0.000000     0.000000   \n",
       "50%                1212.000000     0.000000     0.000000   \n",
       "75%                1786.000000     0.000000     1.000000   \n",
       "max                4097.000000     1.000000     1.000000   \n",
       "\n",
       "       Pesticide_Use_Category  Number_Doses_Week  Number_Weeks_Used  \\\n",
       "count             4599.000000        4599.000000        4599.000000   \n",
       "mean                 2.283540          26.477495          28.891027   \n",
       "std                  0.471978          15.524647          11.965785   \n",
       "min                  1.000000           0.000000           0.000000   \n",
       "25%                  2.000000          15.000000          20.000000   \n",
       "50%                  2.000000          20.000000          28.891027   \n",
       "75%                  3.000000          40.000000          36.000000   \n",
       "max                  3.000000          95.000000          66.000000   \n",
       "\n",
       "       Number_Weeks_Quit       Season  Crop_Damage  \n",
       "count        4599.000000  4599.000000  4599.000000  \n",
       "mean            9.205479     1.894325     0.194390  \n",
       "std             9.713253     0.694952     0.454597  \n",
       "min             0.000000     1.000000     0.000000  \n",
       "25%             0.000000     1.000000     0.000000  \n",
       "50%             7.000000     2.000000     0.000000  \n",
       "75%            16.000000     2.000000     0.000000  \n",
       "max            47.000000     3.000000     2.000000  "
      ]
     },
     "execution_count": 235,
     "metadata": {},
     "output_type": "execute_result"
    }
   ],
   "source": [
    "train_data.describe()"
   ]
  },
  {
   "cell_type": "raw",
   "metadata": {},
   "source": [
    "In the above chart i can see that Estimated_Insects_count minimum is 150 and maximum is 4097.Mean is also higher than median and 75th percentile is also higher than median.standard deviation is also on highest side.\n",
    "In crop type the minimum is zero and maximum is one,standard deviation is little on higher side than mean.\n",
    "In agriculture soil type minimim is zero and maximum is one.standard deviation is higher than mean.\n",
    "In pesticides uses category min is one and maximum is three.The mean is higher than median.\n",
    "The number of doses to crop minimum is zero and maximum is 95.The mean and 75th percentile is higher than median.standard deviation is also high.\n",
    "The number of weeks crop used min is zero maximum is 66.The standard deviation is high and 75th percentile is higher than median.\n",
    "In Number of weeks quits minimum is zero and maximum is 47.The mean and 75th percentile is higher than median,also standard deviation is higher.\n",
    "In season the minimum is one and maximum is three.\n",
    "In crop damage min is zero and maximum is two."
   ]
  },
  {
   "cell_type": "markdown",
   "metadata": {},
   "source": [
    "# Correlation"
   ]
  },
  {
   "cell_type": "code",
   "execution_count": 236,
   "metadata": {},
   "outputs": [],
   "source": [
    "corr=train_data.corr()"
   ]
  },
  {
   "cell_type": "code",
   "execution_count": 237,
   "metadata": {},
   "outputs": [
    {
     "data": {
      "text/html": [
       "<div>\n",
       "<style scoped>\n",
       "    .dataframe tbody tr th:only-of-type {\n",
       "        vertical-align: middle;\n",
       "    }\n",
       "\n",
       "    .dataframe tbody tr th {\n",
       "        vertical-align: top;\n",
       "    }\n",
       "\n",
       "    .dataframe thead th {\n",
       "        text-align: right;\n",
       "    }\n",
       "</style>\n",
       "<table border=\"1\" class=\"dataframe\">\n",
       "  <thead>\n",
       "    <tr style=\"text-align: right;\">\n",
       "      <th></th>\n",
       "      <th>Estimated_Insects_Count</th>\n",
       "      <th>Crop_Type</th>\n",
       "      <th>Soil_Type</th>\n",
       "      <th>Pesticide_Use_Category</th>\n",
       "      <th>Number_Doses_Week</th>\n",
       "      <th>Number_Weeks_Used</th>\n",
       "      <th>Number_Weeks_Quit</th>\n",
       "      <th>Season</th>\n",
       "      <th>Crop_Damage</th>\n",
       "    </tr>\n",
       "  </thead>\n",
       "  <tbody>\n",
       "    <tr>\n",
       "      <th>Estimated_Insects_Count</th>\n",
       "      <td>1.000000</td>\n",
       "      <td>-0.036911</td>\n",
       "      <td>-0.151796</td>\n",
       "      <td>-0.027111</td>\n",
       "      <td>-0.122509</td>\n",
       "      <td>0.427904</td>\n",
       "      <td>0.246719</td>\n",
       "      <td>-0.009482</td>\n",
       "      <td>0.202312</td>\n",
       "    </tr>\n",
       "    <tr>\n",
       "      <th>Crop_Type</th>\n",
       "      <td>-0.036911</td>\n",
       "      <td>1.000000</td>\n",
       "      <td>-0.175019</td>\n",
       "      <td>0.349662</td>\n",
       "      <td>-0.163832</td>\n",
       "      <td>-0.002128</td>\n",
       "      <td>-0.273475</td>\n",
       "      <td>-0.000549</td>\n",
       "      <td>0.021772</td>\n",
       "    </tr>\n",
       "    <tr>\n",
       "      <th>Soil_Type</th>\n",
       "      <td>-0.151796</td>\n",
       "      <td>-0.175019</td>\n",
       "      <td>1.000000</td>\n",
       "      <td>0.021661</td>\n",
       "      <td>0.050099</td>\n",
       "      <td>-0.093539</td>\n",
       "      <td>-0.034355</td>\n",
       "      <td>0.011052</td>\n",
       "      <td>-0.059481</td>\n",
       "    </tr>\n",
       "    <tr>\n",
       "      <th>Pesticide_Use_Category</th>\n",
       "      <td>-0.027111</td>\n",
       "      <td>0.349662</td>\n",
       "      <td>0.021661</td>\n",
       "      <td>1.000000</td>\n",
       "      <td>-0.005985</td>\n",
       "      <td>0.368106</td>\n",
       "      <td>-0.569467</td>\n",
       "      <td>0.008487</td>\n",
       "      <td>0.199195</td>\n",
       "    </tr>\n",
       "    <tr>\n",
       "      <th>Number_Doses_Week</th>\n",
       "      <td>-0.122509</td>\n",
       "      <td>-0.163832</td>\n",
       "      <td>0.050099</td>\n",
       "      <td>-0.005985</td>\n",
       "      <td>1.000000</td>\n",
       "      <td>0.099705</td>\n",
       "      <td>-0.032381</td>\n",
       "      <td>-0.003768</td>\n",
       "      <td>-0.018363</td>\n",
       "    </tr>\n",
       "    <tr>\n",
       "      <th>Number_Weeks_Used</th>\n",
       "      <td>0.427904</td>\n",
       "      <td>-0.002128</td>\n",
       "      <td>-0.093539</td>\n",
       "      <td>0.368106</td>\n",
       "      <td>0.099705</td>\n",
       "      <td>1.000000</td>\n",
       "      <td>-0.446200</td>\n",
       "      <td>-0.010590</td>\n",
       "      <td>0.231925</td>\n",
       "    </tr>\n",
       "    <tr>\n",
       "      <th>Number_Weeks_Quit</th>\n",
       "      <td>0.246719</td>\n",
       "      <td>-0.273475</td>\n",
       "      <td>-0.034355</td>\n",
       "      <td>-0.569467</td>\n",
       "      <td>-0.032381</td>\n",
       "      <td>-0.446200</td>\n",
       "      <td>1.000000</td>\n",
       "      <td>0.004861</td>\n",
       "      <td>-0.152918</td>\n",
       "    </tr>\n",
       "    <tr>\n",
       "      <th>Season</th>\n",
       "      <td>-0.009482</td>\n",
       "      <td>-0.000549</td>\n",
       "      <td>0.011052</td>\n",
       "      <td>0.008487</td>\n",
       "      <td>-0.003768</td>\n",
       "      <td>-0.010590</td>\n",
       "      <td>0.004861</td>\n",
       "      <td>1.000000</td>\n",
       "      <td>-0.016196</td>\n",
       "    </tr>\n",
       "    <tr>\n",
       "      <th>Crop_Damage</th>\n",
       "      <td>0.202312</td>\n",
       "      <td>0.021772</td>\n",
       "      <td>-0.059481</td>\n",
       "      <td>0.199195</td>\n",
       "      <td>-0.018363</td>\n",
       "      <td>0.231925</td>\n",
       "      <td>-0.152918</td>\n",
       "      <td>-0.016196</td>\n",
       "      <td>1.000000</td>\n",
       "    </tr>\n",
       "  </tbody>\n",
       "</table>\n",
       "</div>"
      ],
      "text/plain": [
       "                         Estimated_Insects_Count  Crop_Type  Soil_Type  \\\n",
       "Estimated_Insects_Count                 1.000000  -0.036911  -0.151796   \n",
       "Crop_Type                              -0.036911   1.000000  -0.175019   \n",
       "Soil_Type                              -0.151796  -0.175019   1.000000   \n",
       "Pesticide_Use_Category                 -0.027111   0.349662   0.021661   \n",
       "Number_Doses_Week                      -0.122509  -0.163832   0.050099   \n",
       "Number_Weeks_Used                       0.427904  -0.002128  -0.093539   \n",
       "Number_Weeks_Quit                       0.246719  -0.273475  -0.034355   \n",
       "Season                                 -0.009482  -0.000549   0.011052   \n",
       "Crop_Damage                             0.202312   0.021772  -0.059481   \n",
       "\n",
       "                         Pesticide_Use_Category  Number_Doses_Week  \\\n",
       "Estimated_Insects_Count               -0.027111          -0.122509   \n",
       "Crop_Type                              0.349662          -0.163832   \n",
       "Soil_Type                              0.021661           0.050099   \n",
       "Pesticide_Use_Category                 1.000000          -0.005985   \n",
       "Number_Doses_Week                     -0.005985           1.000000   \n",
       "Number_Weeks_Used                      0.368106           0.099705   \n",
       "Number_Weeks_Quit                     -0.569467          -0.032381   \n",
       "Season                                 0.008487          -0.003768   \n",
       "Crop_Damage                            0.199195          -0.018363   \n",
       "\n",
       "                         Number_Weeks_Used  Number_Weeks_Quit    Season  \\\n",
       "Estimated_Insects_Count           0.427904           0.246719 -0.009482   \n",
       "Crop_Type                        -0.002128          -0.273475 -0.000549   \n",
       "Soil_Type                        -0.093539          -0.034355  0.011052   \n",
       "Pesticide_Use_Category            0.368106          -0.569467  0.008487   \n",
       "Number_Doses_Week                 0.099705          -0.032381 -0.003768   \n",
       "Number_Weeks_Used                 1.000000          -0.446200 -0.010590   \n",
       "Number_Weeks_Quit                -0.446200           1.000000  0.004861   \n",
       "Season                           -0.010590           0.004861  1.000000   \n",
       "Crop_Damage                       0.231925          -0.152918 -0.016196   \n",
       "\n",
       "                         Crop_Damage  \n",
       "Estimated_Insects_Count     0.202312  \n",
       "Crop_Type                   0.021772  \n",
       "Soil_Type                  -0.059481  \n",
       "Pesticide_Use_Category      0.199195  \n",
       "Number_Doses_Week          -0.018363  \n",
       "Number_Weeks_Used           0.231925  \n",
       "Number_Weeks_Quit          -0.152918  \n",
       "Season                     -0.016196  \n",
       "Crop_Damage                 1.000000  "
      ]
     },
     "execution_count": 237,
     "metadata": {},
     "output_type": "execute_result"
    }
   ],
   "source": [
    "corr"
   ]
  },
  {
   "cell_type": "code",
   "execution_count": 238,
   "metadata": {},
   "outputs": [
    {
     "data": {
      "text/plain": [
       "<matplotlib.axes._subplots.AxesSubplot at 0x11c19fb8>"
      ]
     },
     "execution_count": 238,
     "metadata": {},
     "output_type": "execute_result"
    },
    {
     "data": {
      "image/png": "[encoded data removed]",
      "text/plain": [
       "<Figure size 576x432 with 2 Axes>"
      ]
     },
     "metadata": {
      "needs_background": "light"
     },
     "output_type": "display_data"
    }
   ],
   "source": [
    "plt.figure(figsize=(8,6))\n",
    "sns.heatmap(corr,annot=True,fmt=\".0%\",cmap=\"terrain\")"
   ]
  },
  {
   "cell_type": "raw",
   "metadata": {},
   "source": [
    "With the help of heat map i can see that soil-type,number of doses per week,number weeks quit,season is negatively correlated."
   ]
  },
  {
   "cell_type": "markdown",
   "metadata": {},
   "source": [
    "# I can find better correlation after droping crop damage which is target variable from axis and visulize the all  column."
   ]
  },
  {
   "cell_type": "code",
   "execution_count": 239,
   "metadata": {},
   "outputs": [
    {
     "data": {
      "image/png": "[encoded data removed]",
      "text/plain": [
       "<Figure size 576x432 with 1 Axes>"
      ]
     },
     "metadata": {
      "needs_background": "light"
     },
     "output_type": "display_data"
    }
   ],
   "source": [
    "#correlation with target variable\n",
    "plt.figure(figsize=(8,6))\n",
    "train_data.drop(\"Crop_Damage\",axis=1).corrwith(train_data[\"Crop_Damage\"]).plot(kind=\"bar\",grid=True)\n",
    "plt.xticks(rotation=\"vertical\")\n",
    "plt.show()"
   ]
  },
  {
   "cell_type": "raw",
   "metadata": {},
   "source": [
    "I can see that in the agriculture data Estimated_Insects_Count ,crop_type,pesticide_use_category has postive correlation with the Crop Damage.Number of week used has highest positive correlation with Crop damage.Soil_Type,Number_Doses_Week and season has negative correlation with crop damage.Number of weeks quit has highest negative correlation with the crop damage."
   ]
  },
  {
   "cell_type": "raw",
   "metadata": {},
   "source": [
    "As from starting i have done all the visiulization with columns ,filled the null data,summary statistics,correlation with the target variable of agriculture data.now i will proceed ahead for plotting the outliers and checking skewness of the data."
   ]
  },
  {
   "cell_type": "markdown",
   "metadata": {},
   "source": [
    "# Plotting Outliers:"
   ]
  },
  {
   "cell_type": "code",
   "execution_count": 240,
   "metadata": {},
   "outputs": [
    {
     "data": {
      "image/png": "[encoded data removed]",
      "text/plain": [
       "<Figure size 648x5184 with 9 Axes>"
      ]
     },
     "metadata": {
      "needs_background": "light"
     },
     "output_type": "display_data"
    }
   ],
   "source": [
    "collist=train_data.columns.values\n",
    "ncol=9\n",
    "nrows=25\n",
    "plt.figure(figsize=(ncol,ncol*8))\n",
    "for i in range(0,len(collist)):\n",
    "    plt.subplot(nrows,ncol,i+1)\n",
    "    sns.boxplot(train_data[collist[i]],color=\"red\",orient=\"v\")\n",
    "    plt.tight_layout()\n"
   ]
  },
  {
   "cell_type": "raw",
   "metadata": {},
   "source": [
    "As i can see there are outliers present in Estimated_Insects_Count,Crop_Type,Number_Doses_Week,Number_Week_Used,Number_Week_Quits,Crop_Damage.So i have to remove the outliers so as to build the best model."
   ]
  },
  {
   "cell_type": "markdown",
   "metadata": {},
   "source": [
    "# Removing Outliers"
   ]
  },
  {
   "cell_type": "code",
   "execution_count": 241,
   "metadata": {},
   "outputs": [
    {
     "data": {
      "text/plain": [
       "array([[1.44286807, 1.85681868, 0.95429408, ..., 0.94782668, 1.28702725,\n",
       "        0.42765624],\n",
       "       [1.41708065, 1.85681868, 0.95429408, ..., 0.94782668, 0.15207762,\n",
       "        1.77233374],\n",
       "       [1.35813798, 1.85681868, 0.95429408, ..., 0.94782668, 0.15207762,\n",
       "        1.77233374],\n",
       "       ...,\n",
       "       [1.11008649, 0.53855555, 1.04789501, ..., 1.83218282, 0.15207762,\n",
       "        0.42765624],\n",
       "       [1.11008649, 0.53855555, 1.04789501, ..., 1.52329287, 0.15207762,\n",
       "        0.42765624],\n",
       "       [1.11008649, 0.53855555, 1.04789501, ..., 0.80254967, 0.15207762,\n",
       "        0.42765624]])"
      ]
     },
     "execution_count": 241,
     "metadata": {},
     "output_type": "execute_result"
    }
   ],
   "source": [
    "#importing zscore for removing outliers\n",
    "from scipy.stats import zscore\n",
    "z=np.abs(zscore(train_data))\n",
    "z"
   ]
  },
  {
   "cell_type": "code",
   "execution_count": 242,
   "metadata": {},
   "outputs": [
    {
     "name": "stdout",
     "output_type": "stream",
     "text": [
      "(array([   7,    9,   14,   22,   23,  100,  103,  112,  149,  165,  166,\n",
      "        167,  179,  185,  186,  197,  207,  222,  223,  242,  248,  252,\n",
      "        264,  265,  290,  296,  305,  316,  325,  346,  351,  355,  361,\n",
      "        374,  375,  377,  384,  453,  458,  466,  480,  510,  517,  522,\n",
      "        557,  595,  612,  634,  693,  702,  703,  704,  705,  706,  807,\n",
      "        819,  855,  856,  911,  944,  978,  980,  998, 1017, 1019, 1067,\n",
      "       1097, 1178, 1212, 1291, 1307, 1324, 1326, 1327, 1329, 1337, 1339,\n",
      "       1340, 1341, 1342, 1343, 1344, 1345, 1346, 1347, 1347, 1348, 1349,\n",
      "       1406, 1443, 1457, 1489, 1523, 1589, 1652, 1654, 1737, 1807, 1868,\n",
      "       2019, 2043, 2090, 2136, 2139, 2140, 2165, 2170, 2171, 2174, 2183,\n",
      "       2185, 2188, 2190, 2190, 2191, 2192, 2193, 2194, 2237, 2392, 2553,\n",
      "       2565, 2585, 2589, 2590, 2590, 2591, 2615, 2663, 2671, 2696, 2702,\n",
      "       2710, 2714, 2716, 2723, 2767, 2779, 2792, 2796, 2797, 2804, 2806,\n",
      "       2814, 2828, 2829, 2834, 2841, 2842, 2851, 2860, 2861, 2870, 2884,\n",
      "       2888, 2912, 2915, 2917, 2921, 2923, 2928, 2929, 2940, 2942, 2944,\n",
      "       2945, 3015, 3045, 3048, 3058, 3086, 3107, 3126, 3183, 3189, 3206,\n",
      "       3241, 3248, 3252, 3253, 3254, 3255, 3256, 3257, 3336, 3388, 3526,\n",
      "       3628, 3629, 3657, 3682, 3686, 3716, 3717, 3718, 3718, 3740, 3766,\n",
      "       3796, 3830, 3840, 3841, 3850, 3851, 3856, 3894, 3902, 3915, 3919,\n",
      "       3932, 3932, 3933, 3934, 3935, 3935, 3936, 3937, 3938, 3939, 3940,\n",
      "       3940, 4024, 4091, 4155, 4186, 4213, 4274, 4277, 4278, 4375, 4376,\n",
      "       4378, 4436, 4516, 4545, 4570], dtype=int32), array([8, 8, 8, 0, 0, 4, 8, 8, 8, 8, 8, 8, 8, 4, 8, 8, 8, 8, 8, 8, 8, 4,\n",
      "       8, 8, 8, 8, 8, 8, 4, 4, 8, 8, 8, 8, 5, 8, 0, 8, 8, 8, 8, 8, 8, 8,\n",
      "       8, 8, 8, 8, 8, 0, 0, 0, 0, 0, 4, 8, 4, 4, 4, 8, 4, 8, 4, 4, 4, 8,\n",
      "       4, 8, 6, 6, 6, 6, 6, 8, 6, 6, 8, 8, 0, 0, 0, 0, 0, 0, 0, 6, 0, 0,\n",
      "       4, 4, 4, 4, 4, 4, 4, 4, 8, 8, 4, 4, 8, 6, 4, 8, 6, 6, 8, 8, 6, 6,\n",
      "       6, 6, 0, 6, 0, 0, 0, 0, 8, 4, 6, 6, 8, 0, 0, 8, 0, 4, 8, 8, 8, 4,\n",
      "       8, 4, 8, 8, 8, 4, 8, 8, 8, 8, 8, 8, 8, 8, 8, 8, 8, 8, 8, 8, 8, 8,\n",
      "       8, 8, 8, 8, 8, 8, 5, 5, 5, 5, 0, 0, 8, 8, 4, 8, 8, 8, 8, 8, 8, 8,\n",
      "       5, 8, 0, 0, 0, 0, 0, 0, 4, 4, 4, 8, 8, 8, 4, 8, 8, 8, 4, 8, 8, 4,\n",
      "       8, 4, 6, 6, 8, 8, 6, 6, 6, 4, 6, 0, 6, 0, 0, 0, 8, 0, 0, 0, 0, 0,\n",
      "       6, 4, 8, 8, 4, 4, 4, 8, 8, 4, 4, 8, 4, 4, 8, 8], dtype=int32))\n"
     ]
    },
    {
     "data": {
      "text/plain": [
       "array([[1.44286807, 1.85681868, 0.95429408, ..., 0.94782668, 1.28702725,\n",
       "        0.42765624],\n",
       "       [1.41708065, 1.85681868, 0.95429408, ..., 0.94782668, 0.15207762,\n",
       "        1.77233374],\n",
       "       [1.35813798, 1.85681868, 0.95429408, ..., 0.94782668, 0.15207762,\n",
       "        1.77233374],\n",
       "       ...,\n",
       "       [1.11008649, 0.53855555, 1.04789501, ..., 1.83218282, 0.15207762,\n",
       "        0.42765624],\n",
       "       [1.11008649, 0.53855555, 1.04789501, ..., 1.52329287, 0.15207762,\n",
       "        0.42765624],\n",
       "       [1.11008649, 0.53855555, 1.04789501, ..., 0.80254967, 0.15207762,\n",
       "        0.42765624]])"
      ]
     },
     "execution_count": 242,
     "metadata": {},
     "output_type": "execute_result"
    }
   ],
   "source": [
    "threshold=3\n",
    "print(np.where(z>3))\n",
    "z"
   ]
  },
  {
   "cell_type": "code",
   "execution_count": 243,
   "metadata": {},
   "outputs": [],
   "source": [
    "#removing outliers\n",
    "train=train_data[(z<3).all(axis=1)]"
   ]
  },
  {
   "cell_type": "code",
   "execution_count": 244,
   "metadata": {},
   "outputs": [
    {
     "name": "stdout",
     "output_type": "stream",
     "text": [
      "(4370, 9)\n",
      "(4599, 9)\n"
     ]
    }
   ],
   "source": [
    "print(train.shape)\n",
    "print(train_data.shape)"
   ]
  },
  {
   "cell_type": "raw",
   "metadata": {},
   "source": [
    "I have removed the outliers,before removing outliers the shape was 4599,after removing outliers the shape is 4370 of Agriculture data"
   ]
  },
  {
   "cell_type": "code",
   "execution_count": 245,
   "metadata": {},
   "outputs": [
    {
     "name": "stdout",
     "output_type": "stream",
     "text": [
      "4.979343335507719\n"
     ]
    }
   ],
   "source": [
    "#checking the loss of data\n",
    "percentloss=(4599-4370)/4599*100\n",
    "print(percentloss)"
   ]
  },
  {
   "cell_type": "raw",
   "metadata": {},
   "source": [
    "The 4.97 data has loss while removing the outliers from Agriculture data."
   ]
  },
  {
   "cell_type": "markdown",
   "metadata": {},
   "source": [
    "# Checking Skewness:"
   ]
  },
  {
   "cell_type": "code",
   "execution_count": 246,
   "metadata": {},
   "outputs": [
    {
     "data": {
      "text/plain": [
       "Estimated_Insects_Count    0.789806\n",
       "Crop_Type                  1.308548\n",
       "Soil_Type                  0.079724\n",
       "Pesticide_Use_Category     0.753578\n",
       "Number_Doses_Week          0.711083\n",
       "Number_Weeks_Used          0.275330\n",
       "Number_Weeks_Quit          0.813382\n",
       "Season                     0.141605\n",
       "Crop_Damage                2.003206\n",
       "dtype: float64"
      ]
     },
     "execution_count": 246,
     "metadata": {},
     "output_type": "execute_result"
    }
   ],
   "source": [
    "train.skew()"
   ]
  },
  {
   "cell_type": "raw",
   "metadata": {},
   "source": [
    "My threshold value of skewness is (-0.5/+0.5) crossing the range column i have to remove it.Estimated_Insects_Count,Crop_Type,\n",
    "Pesticide_Use_Category,Number_Doses_Week,Number_Weeks_Quit,and Crop_damage skewness are present in this columns."
   ]
  },
  {
   "cell_type": "code",
   "execution_count": 247,
   "metadata": {},
   "outputs": [
    {
     "data": {
      "image/png": "[encoded data removed]",
      "text/plain": [
       "<Figure size 432x288 with 1 Axes>"
      ]
     },
     "metadata": {
      "needs_background": "light"
     },
     "output_type": "display_data"
    },
    {
     "data": {
      "image/png": "[encoded data removed]",
      "text/plain": [
       "<Figure size 432x288 with 1 Axes>"
      ]
     },
     "metadata": {
      "needs_background": "light"
     },
     "output_type": "display_data"
    },
    {
     "data": {
      "image/png": "[encoded data removed]",
      "text/plain": [
       "<Figure size 432x288 with 1 Axes>"
      ]
     },
     "metadata": {
      "needs_background": "light"
     },
     "output_type": "display_data"
    },
    {
     "data": {
      "image/png": "[encoded data removed]",
      "text/plain": [
       "<Figure size 432x288 with 1 Axes>"
      ]
     },
     "metadata": {
      "needs_background": "light"
     },
     "output_type": "display_data"
    },
    {
     "data": {
      "image/png": "[encoded data removed]",
      "text/plain": [
       "<Figure size 432x288 with 1 Axes>"
      ]
     },
     "metadata": {
      "needs_background": "light"
     },
     "output_type": "display_data"
    },
    {
     "data": {
      "image/png": "[encoded data removed]",
      "text/plain": [
       "<Figure size 432x288 with 1 Axes>"
      ]
     },
     "metadata": {
      "needs_background": "light"
     },
     "output_type": "display_data"
    },
    {
     "data": {
      "image/png": "[encoded data removed]",
      "text/plain": [
       "<Figure size 432x288 with 1 Axes>"
      ]
     },
     "metadata": {
      "needs_background": "light"
     },
     "output_type": "display_data"
    },
    {
     "data": {
      "image/png": "[encoded data removed]",
      "text/plain": [
       "<Figure size 432x288 with 1 Axes>"
      ]
     },
     "metadata": {
      "needs_background": "light"
     },
     "output_type": "display_data"
    },
    {
     "data": {
      "image/png": "[encoded data removed]",
      "text/plain": [
       "<Figure size 432x288 with 1 Axes>"
      ]
     },
     "metadata": {
      "needs_background": "light"
     },
     "output_type": "display_data"
    }
   ],
   "source": [
    "for col in train.describe().columns:\n",
    "    sns.distplot(train[col],color=\"y\")\n",
    "    plt.show()\n",
    "    "
   ]
  },
  {
   "cell_type": "code",
   "execution_count": 248,
   "metadata": {},
   "outputs": [],
   "source": [
    "#Removing skewness by applying sqrt and cbrt method\n",
    "train.skew()\n",
    "for col in train.skew().index:\n",
    "    if col in train.describe().columns:\n",
    "        if train[col].skew()>0.55:\n",
    "            train[col]=np.sqrt(train[col])\n",
    "        if train[col].skew()<0.55:\n",
    "            train[col]=np.cbrt(train[col])"
   ]
  },
  {
   "cell_type": "raw",
   "metadata": {},
   "source": [
    "Now skewness has removed from train Agriculture data.i will move ahead to build the model."
   ]
  },
  {
   "cell_type": "markdown",
   "metadata": {},
   "source": [
    "# By seeing the agriculture data i got the clarity that i have to classify the crops is alive,damages due other cause,damage due to pesticides,so it's a classification problem,so i will build the model of classification."
   ]
  },
  {
   "cell_type": "markdown",
   "metadata": {},
   "source": [
    "# Feature Selection"
   ]
  },
  {
   "cell_type": "code",
   "execution_count": 249,
   "metadata": {},
   "outputs": [],
   "source": [
    "x=train.drop(columns=[\"Crop_Damage\"],axis=1)\n",
    "y=train[\"Crop_Damage\"]"
   ]
  },
  {
   "cell_type": "code",
   "execution_count": 250,
   "metadata": {},
   "outputs": [],
   "source": [
    "#Applying StandardScaler\n",
    "from sklearn.preprocessing import StandardScaler\n",
    "sc=StandardScaler()\n",
    "x=sc.fit_transform(x)"
   ]
  },
  {
   "cell_type": "markdown",
   "metadata": {},
   "source": [
    "# Buidding Machine Learning Models"
   ]
  },
  {
   "cell_type": "raw",
   "metadata": {},
   "source": [
    "Now i apply several Machine Learning Algorithm and build the model of Agriculture train data .The Agriculture train data which gives the best model that will apply in test data."
   ]
  },
  {
   "cell_type": "code",
   "execution_count": 251,
   "metadata": {},
   "outputs": [],
   "source": [
    "#spitting the data into training and testing data\n",
    "from sklearn.model_selection import train_test_split\n",
    "x_train,x_test,y_train,y_test=train_test_split(x,y,test_size=.30,random_state=42,stratify=y)"
   ]
  },
  {
   "cell_type": "code",
   "execution_count": 252,
   "metadata": {},
   "outputs": [
    {
     "name": "stdout",
     "output_type": "stream",
     "text": [
      "(3059, 8)\n",
      "(1311, 8)\n",
      "(3059,)\n",
      "(1311,)\n"
     ]
    }
   ],
   "source": [
    "print(x_train.shape)\n",
    "print(x_test.shape)\n",
    "print(y_train.shape)\n",
    "print(y_test.shape)"
   ]
  },
  {
   "cell_type": "code",
   "execution_count": 253,
   "metadata": {},
   "outputs": [],
   "source": [
    "#importing all the model library\n",
    "from sklearn.naive_bayes import GaussianNB\n",
    "from sklearn.svm import SVC\n",
    "from sklearn.tree import DecisionTreeClassifier\n",
    "from sklearn.neighbors import KNeighborsClassifier\n",
    "#importing boosting library\n",
    "from sklearn.ensemble import RandomForestClassifier\n",
    "from sklearn.ensemble import AdaBoostClassifier\n",
    "from sklearn.ensemble import GradientBoostingClassifier\n",
    "from sklearn.ensemble import BaggingClassifier\n",
    "#importing error metrics\n",
    "from sklearn.metrics import accuracy_score,confusion_matrix,classification_report,roc_curve,auc\n",
    "from sklearn.model_selection import GridSearchCV,cross_val_score"
   ]
  },
  {
   "cell_type": "code",
   "execution_count": 254,
   "metadata": {},
   "outputs": [
    {
     "name": "stdout",
     "output_type": "stream",
     "text": [
      "Accuarcy_Score of GaussianNB() is\n",
      "0.8520213577421816\n",
      "[[1063   56]\n",
      " [ 138   54]]\n",
      "              precision    recall  f1-score   support\n",
      "\n",
      "         0.0       0.89      0.95      0.92      1119\n",
      "         1.0       0.49      0.28      0.36       192\n",
      "\n",
      "    accuracy                           0.85      1311\n",
      "   macro avg       0.69      0.62      0.64      1311\n",
      "weighted avg       0.83      0.85      0.83      1311\n",
      "\n",
      "****************************************************************************************\n",
      "/n\n",
      "Accuarcy_Score of SVC() is\n",
      "0.8611746758199847\n",
      "[[1117    2]\n",
      " [ 180   12]]\n",
      "              precision    recall  f1-score   support\n",
      "\n",
      "         0.0       0.86      1.00      0.92      1119\n",
      "         1.0       0.86      0.06      0.12       192\n",
      "\n",
      "    accuracy                           0.86      1311\n",
      "   macro avg       0.86      0.53      0.52      1311\n",
      "weighted avg       0.86      0.86      0.81      1311\n",
      "\n",
      "****************************************************************************************\n",
      "/n\n",
      "Accuarcy_Score of DecisionTreeClassifier() is\n",
      "0.8001525553012967\n",
      "[[990 129]\n",
      " [133  59]]\n",
      "              precision    recall  f1-score   support\n",
      "\n",
      "         0.0       0.88      0.88      0.88      1119\n",
      "         1.0       0.31      0.31      0.31       192\n",
      "\n",
      "    accuracy                           0.80      1311\n",
      "   macro avg       0.60      0.60      0.60      1311\n",
      "weighted avg       0.80      0.80      0.80      1311\n",
      "\n",
      "****************************************************************************************\n",
      "/n\n",
      "Accuarcy_Score of KNeighborsClassifier() is\n",
      "0.84744469870328\n",
      "[[1068   51]\n",
      " [ 149   43]]\n",
      "              precision    recall  f1-score   support\n",
      "\n",
      "         0.0       0.88      0.95      0.91      1119\n",
      "         1.0       0.46      0.22      0.30       192\n",
      "\n",
      "    accuracy                           0.85      1311\n",
      "   macro avg       0.67      0.59      0.61      1311\n",
      "weighted avg       0.82      0.85      0.82      1311\n",
      "\n",
      "****************************************************************************************\n",
      "/n\n",
      "Accuarcy_Score of RandomForestClassifier() is\n",
      "0.8451563691838292\n",
      "[[1075   44]\n",
      " [ 159   33]]\n",
      "              precision    recall  f1-score   support\n",
      "\n",
      "         0.0       0.87      0.96      0.91      1119\n",
      "         1.0       0.43      0.17      0.25       192\n",
      "\n",
      "    accuracy                           0.85      1311\n",
      "   macro avg       0.65      0.57      0.58      1311\n",
      "weighted avg       0.81      0.85      0.82      1311\n",
      "\n",
      "****************************************************************************************\n",
      "/n\n",
      "Accuarcy_Score of AdaBoostClassifier() is\n",
      "0.858886346300534\n",
      "[[1095   24]\n",
      " [ 161   31]]\n",
      "              precision    recall  f1-score   support\n",
      "\n",
      "         0.0       0.87      0.98      0.92      1119\n",
      "         1.0       0.56      0.16      0.25       192\n",
      "\n",
      "    accuracy                           0.86      1311\n",
      "   macro avg       0.72      0.57      0.59      1311\n",
      "weighted avg       0.83      0.86      0.82      1311\n",
      "\n",
      "****************************************************************************************\n",
      "/n\n",
      "Accuarcy_Score of GradientBoostingClassifier() is\n",
      "0.8558352402745996\n",
      "[[1097   22]\n",
      " [ 167   25]]\n",
      "              precision    recall  f1-score   support\n",
      "\n",
      "         0.0       0.87      0.98      0.92      1119\n",
      "         1.0       0.53      0.13      0.21       192\n",
      "\n",
      "    accuracy                           0.86      1311\n",
      "   macro avg       0.70      0.56      0.56      1311\n",
      "weighted avg       0.82      0.86      0.82      1311\n",
      "\n",
      "****************************************************************************************\n",
      "/n\n",
      "Accuarcy_Score of BaggingClassifier() is\n",
      "0.8443935926773455\n",
      "[[1072   47]\n",
      " [ 157   35]]\n",
      "              precision    recall  f1-score   support\n",
      "\n",
      "         0.0       0.87      0.96      0.91      1119\n",
      "         1.0       0.43      0.18      0.26       192\n",
      "\n",
      "    accuracy                           0.84      1311\n",
      "   macro avg       0.65      0.57      0.58      1311\n",
      "weighted avg       0.81      0.84      0.82      1311\n",
      "\n",
      "****************************************************************************************\n",
      "/n\n"
     ]
    }
   ],
   "source": [
    "#All algorithm by using loop\n",
    "model=[GaussianNB(),SVC(),DecisionTreeClassifier(),KNeighborsClassifier(),RandomForestClassifier(),AdaBoostClassifier(),\n",
    "      GradientBoostingClassifier(),BaggingClassifier()]\n",
    "for m in model:\n",
    "    m.fit(x_train,y_train)\n",
    "    m.score(x_train,y_train)\n",
    "    predm=m.predict(x_test)\n",
    "    print(\"Accuarcy_Score of\",m,\"is\")\n",
    "    print(accuracy_score(y_test,predm))\n",
    "    print(confusion_matrix(y_test,predm))\n",
    "    print(classification_report(y_test,predm))\n",
    "    print(\"****************************************************************************************\")\n",
    "    print(\"/n\")"
   ]
  },
  {
   "cell_type": "code",
   "execution_count": 255,
   "metadata": {},
   "outputs": [
    {
     "name": "stdout",
     "output_type": "stream",
     "text": [
      "Models: GaussianNB()\n",
      "Score: [0.46502058 0.87242798 0.85302198 0.55631868 0.87774725 0.85302198]\n",
      "Mean Score: 0.7462597416301121\n",
      "Standard Deviation: 0.16890668808913895\n",
      "***********************************************************************************************\n",
      "/n\n",
      "Models: SVC()\n",
      "Score: [0.82578875 0.85322359 0.8543956  0.82554945 0.8543956  0.85302198]\n",
      "Mean Score: 0.8443958305069416\n",
      "Standard Deviation: 0.013252296674811096\n",
      "***********************************************************************************************\n",
      "/n\n",
      "Models: DecisionTreeClassifier()\n",
      "Score: [0.69958848 0.74485597 0.74862637 0.7032967  0.72802198 0.78021978]\n",
      "Mean Score: 0.7341015466015467\n",
      "Standard Deviation: 0.027780602060746135\n",
      "***********************************************************************************************\n",
      "/n\n",
      "Models: KNeighborsClassifier()\n",
      "Score: [0.74211248 0.80109739 0.84615385 0.74862637 0.80357143 0.84615385]\n",
      "Mean Score: 0.7979525618414507\n",
      "Standard Deviation: 0.04131056465896309\n",
      "***********************************************************************************************\n",
      "/n\n",
      "Models: RandomForestClassifier()\n",
      "Score: [0.79423868 0.82990398 0.81318681 0.77335165 0.82142857 0.84203297]\n",
      "Mean Score: 0.8123571101966164\n",
      "Standard Deviation: 0.022808011456652105\n",
      "***********************************************************************************************\n",
      "/n\n",
      "Models: AdaBoostClassifier()\n",
      "Score: [0.80109739 0.84499314 0.85164835 0.84340659 0.86126374 0.85027473]\n",
      "Mean Score: 0.8421139902621385\n",
      "Standard Deviation: 0.019220370889605723\n",
      "***********************************************************************************************\n",
      "/n\n",
      "Models: GradientBoostingClassifier()\n",
      "Score: [0.81344307 0.83676269 0.80494505 0.83104396 0.83516484 0.85027473]\n",
      "Mean Score: 0.8286057221242406\n",
      "Standard Deviation: 0.015137050886495014\n",
      "***********************************************************************************************\n",
      "/n\n",
      "Models: BaggingClassifier()\n",
      "Score: [0.77777778 0.82030178 0.79807692 0.78571429 0.81318681 0.83516484]\n",
      "Mean Score: 0.8050370696975634\n",
      "Standard Deviation: 0.019882968713168196\n",
      "***********************************************************************************************\n",
      "/n\n"
     ]
    }
   ],
   "source": [
    "#cross validation models\n",
    "models=[GaussianNB(),SVC(),DecisionTreeClassifier(),KNeighborsClassifier(),RandomForestClassifier(),AdaBoostClassifier(),\n",
    "       GradientBoostingClassifier(),BaggingClassifier()]\n",
    "for n in models:\n",
    "    score=cross_val_score(n,x,y,cv=6,scoring=\"accuracy\")\n",
    "    print(\"Models:\",n)\n",
    "    print(\"Score:\",score)\n",
    "    print(\"Mean Score:\",score.mean())\n",
    "    print(\"Standard Deviation:\",score.std())\n",
    "    print(\"***********************************************************************************************\")\n",
    "    print(\"/n\")\n",
    "    \n",
    "    "
   ]
  },
  {
   "cell_type": "raw",
   "metadata": {},
   "source": [
    "I am getting best score in Support Vector Classification as well in Cross validation score.So i am choosing Support Vector Classification as my Final model."
   ]
  },
  {
   "cell_type": "markdown",
   "metadata": {},
   "source": [
    "# Using GridSearchcv to find out best parameter"
   ]
  },
  {
   "cell_type": "code",
   "execution_count": 256,
   "metadata": {},
   "outputs": [
    {
     "name": "stdout",
     "output_type": "stream",
     "text": [
      "{'C': 1, 'kernel': 'poly', 'random_state': 42}\n"
     ]
    }
   ],
   "source": [
    "#using best gridsearchcv to find best parameter in svm\n",
    "parameters={\"kernel\" :[\"linear\",\"rbf\",\"poly\"], \"C\":[1,10], \"random_state\":[42,60]}\n",
    "svc=SVC()\n",
    "clf=GridSearchCV(svc,parameters)\n",
    "clf.fit(x,y)\n",
    "print(clf.best_params_)"
   ]
  },
  {
   "cell_type": "code",
   "execution_count": 257,
   "metadata": {},
   "outputs": [
    {
     "name": "stdout",
     "output_type": "stream",
     "text": [
      "0.8619374523264683\n",
      "[[1118    1]\n",
      " [ 180   12]]\n",
      "              precision    recall  f1-score   support\n",
      "\n",
      "         0.0       0.86      1.00      0.93      1119\n",
      "         1.0       0.92      0.06      0.12       192\n",
      "\n",
      "    accuracy                           0.86      1311\n",
      "   macro avg       0.89      0.53      0.52      1311\n",
      "weighted avg       0.87      0.86      0.81      1311\n",
      "\n"
     ]
    }
   ],
   "source": [
    "svc=SVC(kernel=\"poly\",C=1,random_state=42)\n",
    "svc.fit(x_train,y_train)\n",
    "svc.score(x_train,y_train)\n",
    "predsvc=svc.predict(x_test)\n",
    "print(accuracy_score(y_test,predsvc))\n",
    "print(confusion_matrix(y_test,predsvc))\n",
    "print(classification_report(y_test,predsvc))"
   ]
  },
  {
   "cell_type": "raw",
   "metadata": {},
   "source": [
    "As i choosen SVC(Support Vector Classifier) it gives the best score and cross validation score for agriculture model.The SVC is fit to the data you provide,returning  best_fit hyperplane that divides or categorizes the data. Its a application for non-linearly separable datasets .According to the SVM algorithm i found the point closet to the line from both the classes.These points are support vector.Now i compute the distance between the line and the support vector,this distance is called margin.the svc has given the best score as the data of agriculture required.I will proceed for plotting the roc_curve and auc."
   ]
  },
  {
   "cell_type": "code",
   "execution_count": 258,
   "metadata": {},
   "outputs": [
    {
     "data": {
      "text/plain": [
       "Text(0.5, 1.0, 'Support Vector Classification')"
      ]
     },
     "execution_count": 258,
     "metadata": {},
     "output_type": "execute_result"
    },
    {
     "data": {
      "image/png": "[encoded data removed]",
      "text/plain": [
       "<Figure size 432x288 with 1 Axes>"
      ]
     },
     "metadata": {
      "needs_background": "light"
     },
     "output_type": "display_data"
    }
   ],
   "source": [
    "#Applying roc_curve,\n",
    "from sklearn.metrics import roc_curve\n",
    "from sklearn.metrics import roc_auc_score\n",
    "predsvc=svc.predict(x_test)\n",
    "fpr,tpr,threshold=roc_curve(y_test,predsvc)\n",
    "plt.plot([0,1],[0,1],\"k--\")\n",
    "plt.plot(fpr,tpr,label=\"SVC\")\n",
    "plt.xlabel(\"False Positive Rate\")\n",
    "plt.ylabel(\"True Positive Rate\")\n",
    "plt.title(\"Support Vector Classification\")\n",
    "\n"
   ]
  },
  {
   "cell_type": "markdown",
   "metadata": {},
   "source": [
    "# Conclusion:"
   ]
  },
  {
   "cell_type": "code",
   "execution_count": 259,
   "metadata": {},
   "outputs": [],
   "source": [
    "train_crop=np.array(y_test)\n",
    "predicted_crop=np.array(svc.predict(x_test))"
   ]
  },
  {
   "cell_type": "code",
   "execution_count": 261,
   "metadata": {},
   "outputs": [],
   "source": [
    "Predicted=pd.DataFrame({\"train_crop\":train_crop,\"predicted_crop\":predicted_crop},index=range(len(train_crop)))"
   ]
  },
  {
   "cell_type": "code",
   "execution_count": 262,
   "metadata": {},
   "outputs": [
    {
     "data": {
      "text/html": [
       "<div>\n",
       "<style scoped>\n",
       "    .dataframe tbody tr th:only-of-type {\n",
       "        vertical-align: middle;\n",
       "    }\n",
       "\n",
       "    .dataframe tbody tr th {\n",
       "        vertical-align: top;\n",
       "    }\n",
       "\n",
       "    .dataframe thead th {\n",
       "        text-align: right;\n",
       "    }\n",
       "</style>\n",
       "<table border=\"1\" class=\"dataframe\">\n",
       "  <thead>\n",
       "    <tr style=\"text-align: right;\">\n",
       "      <th></th>\n",
       "      <th>train_crop</th>\n",
       "      <th>predicted_crop</th>\n",
       "    </tr>\n",
       "  </thead>\n",
       "  <tbody>\n",
       "    <tr>\n",
       "      <th>0</th>\n",
       "      <td>1.0</td>\n",
       "      <td>0.0</td>\n",
       "    </tr>\n",
       "    <tr>\n",
       "      <th>1</th>\n",
       "      <td>0.0</td>\n",
       "      <td>0.0</td>\n",
       "    </tr>\n",
       "    <tr>\n",
       "      <th>2</th>\n",
       "      <td>0.0</td>\n",
       "      <td>0.0</td>\n",
       "    </tr>\n",
       "    <tr>\n",
       "      <th>3</th>\n",
       "      <td>0.0</td>\n",
       "      <td>0.0</td>\n",
       "    </tr>\n",
       "    <tr>\n",
       "      <th>4</th>\n",
       "      <td>1.0</td>\n",
       "      <td>0.0</td>\n",
       "    </tr>\n",
       "    <tr>\n",
       "      <th>...</th>\n",
       "      <td>...</td>\n",
       "      <td>...</td>\n",
       "    </tr>\n",
       "    <tr>\n",
       "      <th>1306</th>\n",
       "      <td>0.0</td>\n",
       "      <td>0.0</td>\n",
       "    </tr>\n",
       "    <tr>\n",
       "      <th>1307</th>\n",
       "      <td>0.0</td>\n",
       "      <td>0.0</td>\n",
       "    </tr>\n",
       "    <tr>\n",
       "      <th>1308</th>\n",
       "      <td>0.0</td>\n",
       "      <td>0.0</td>\n",
       "    </tr>\n",
       "    <tr>\n",
       "      <th>1309</th>\n",
       "      <td>0.0</td>\n",
       "      <td>0.0</td>\n",
       "    </tr>\n",
       "    <tr>\n",
       "      <th>1310</th>\n",
       "      <td>1.0</td>\n",
       "      <td>0.0</td>\n",
       "    </tr>\n",
       "  </tbody>\n",
       "</table>\n",
       "<p>1311 rows × 2 columns</p>\n",
       "</div>"
      ],
      "text/plain": [
       "      train_crop  predicted_crop\n",
       "0            1.0             0.0\n",
       "1            0.0             0.0\n",
       "2            0.0             0.0\n",
       "3            0.0             0.0\n",
       "4            1.0             0.0\n",
       "...          ...             ...\n",
       "1306         0.0             0.0\n",
       "1307         0.0             0.0\n",
       "1308         0.0             0.0\n",
       "1309         0.0             0.0\n",
       "1310         1.0             0.0\n",
       "\n",
       "[1311 rows x 2 columns]"
      ]
     },
     "execution_count": 262,
     "metadata": {},
     "output_type": "execute_result"
    }
   ],
   "source": [
    "Predicted"
   ]
  },
  {
   "cell_type": "code",
   "execution_count": 263,
   "metadata": {},
   "outputs": [],
   "source": [
    "import pickle "
   ]
  },
  {
   "cell_type": "code",
   "execution_count": 264,
   "metadata": {},
   "outputs": [],
   "source": [
    "filename=\"Agriculture_data.pkl\"\n",
    "pickle.dump(svc,open(filename,\"wb\"))"
   ]
  },
  {
   "cell_type": "raw",
   "metadata": {},
   "source": [
    "As we seen in the train data that i have remove outliers to apply machine learning algorithm and the same procedure goes to test data."
   ]
  },
  {
   "cell_type": "markdown",
   "metadata": {},
   "source": [
    "# Test Data"
   ]
  },
  {
   "cell_type": "code",
   "execution_count": 265,
   "metadata": {},
   "outputs": [
    {
     "data": {
      "text/plain": [
       "array([[1.30318366e+00, 2.03615391e+00, 1.09360445e+00, ...,\n",
       "        5.85986262e-16, 7.96003797e-01, 1.72804130e-01],\n",
       "       [1.04035366e+00, 2.03615391e+00, 1.09360445e+00, ...,\n",
       "        2.39438582e+00, 7.96003797e-01, 1.72804130e-01],\n",
       "       [7.84627185e-01, 2.03615391e+00, 9.14407397e-01, ...,\n",
       "        2.39438582e+00, 7.96003797e-01, 1.72804130e-01],\n",
       "       ...,\n",
       "       [1.85564227e-01, 4.91122009e-01, 1.09360445e+00, ...,\n",
       "        1.32227276e+00, 1.79995135e+00, 1.28629553e+00],\n",
       "       [9.08507165e-02, 4.91122009e-01, 1.09360445e+00, ...,\n",
       "        4.92072401e-01, 2.31665722e-01, 1.28629553e+00],\n",
       "       [9.08507165e-02, 4.91122009e-01, 1.09360445e+00, ...,\n",
       "        5.85986262e-16, 1.46134850e+00, 1.63190379e+00]])"
      ]
     },
     "execution_count": 265,
     "metadata": {},
     "output_type": "execute_result"
    }
   ],
   "source": [
    "from scipy.stats import zscore\n",
    "z=np.abs(zscore(test_data))\n",
    "z"
   ]
  },
  {
   "cell_type": "code",
   "execution_count": 266,
   "metadata": {},
   "outputs": [
    {
     "name": "stdout",
     "output_type": "stream",
     "text": [
      "(array([  50,   83,  129,  136,  179,  255,  280,  281,  282,  501,  502,\n",
      "        503,  535,  574,  613,  630,  751,  775,  827,  829,  853,  868,\n",
      "        870,  871,  883,  890,  895,  897,  902,  904,  910,  911,  912,\n",
      "        913,  914,  915,  916, 1030, 1152], dtype=int32), array([4, 4, 4, 4, 4, 4, 0, 0, 0, 0, 0, 0, 4, 4, 4, 4, 4, 6, 6, 6, 6, 6,\n",
      "       6, 6, 6, 6, 6, 6, 6, 6, 0, 0, 0, 0, 0, 0, 0, 4, 4], dtype=int32))\n"
     ]
    }
   ],
   "source": [
    "threshold=3\n",
    "print(np.where(z>3))"
   ]
  },
  {
   "cell_type": "code",
   "execution_count": 267,
   "metadata": {},
   "outputs": [],
   "source": [
    "test=test_data[(z<3).all(axis=1)]"
   ]
  },
  {
   "cell_type": "code",
   "execution_count": 268,
   "metadata": {},
   "outputs": [
    {
     "name": "stdout",
     "output_type": "stream",
     "text": [
      "(1199, 8)\n",
      "(1160, 8)\n"
     ]
    }
   ],
   "source": [
    "print(test_data.shape)\n",
    "print(test.shape)"
   ]
  },
  {
   "cell_type": "raw",
   "metadata": {},
   "source": [
    "As we have seen in train data there skewness present in data so in test data also i have to follow it same steps."
   ]
  },
  {
   "cell_type": "code",
   "execution_count": 270,
   "metadata": {},
   "outputs": [
    {
     "name": "stdout",
     "output_type": "stream",
     "text": [
      "3.252710592160134\n"
     ]
    }
   ],
   "source": [
    "#showing percent loss in test data\n",
    "percentloss=(1199-1160)/1199*100\n",
    "print(percentloss)"
   ]
  },
  {
   "cell_type": "raw",
   "metadata": {},
   "source": [
    "3.25 data loss in test data."
   ]
  },
  {
   "cell_type": "markdown",
   "metadata": {},
   "source": [
    "# Removing Skewness"
   ]
  },
  {
   "cell_type": "code",
   "execution_count": 273,
   "metadata": {},
   "outputs": [],
   "source": [
    "#Removing skewness in test data by sqrt and cbrt method.\n",
    "test.skew()\n",
    "for col in test.skew().index:\n",
    "    if col in test.describe().columns:\n",
    "        if test[col].skew()>0.55:\n",
    "            test[col]=np.sqrt(test[col])\n",
    "        if test[col].skew()<0.55:\n",
    "            test[col]=np.cbrt(test[col])\n",
    "        \n",
    "    \n"
   ]
  },
  {
   "cell_type": "markdown",
   "metadata": {},
   "source": [
    "# Now i will test the data where i got the best score in train data. "
   ]
  },
  {
   "cell_type": "code",
   "execution_count": 274,
   "metadata": {},
   "outputs": [],
   "source": [
    "from sklearn.preprocessing import StandardScaler\n",
    "sc=StandardScaler()\n",
    "test=sc.fit_transform(test)"
   ]
  },
  {
   "cell_type": "code",
   "execution_count": 275,
   "metadata": {},
   "outputs": [
    {
     "name": "stdout",
     "output_type": "stream",
     "text": [
      "SVC(C=1, kernel='poly', random_state=42)\n"
     ]
    }
   ],
   "source": [
    "#testing the data \n",
    "model=pickle.load(open(\"Agriculture_data.pkl\",\"rb\"))\n",
    "print(model)"
   ]
  },
  {
   "cell_type": "raw",
   "metadata": {},
   "source": [
    "As i got SVC in train data as a best score so i wll test data by applying svc."
   ]
  },
  {
   "cell_type": "code",
   "execution_count": 276,
   "metadata": {},
   "outputs": [],
   "source": [
    "Prediction=model.predict(test)"
   ]
  },
  {
   "cell_type": "code",
   "execution_count": 277,
   "metadata": {},
   "outputs": [
    {
     "data": {
      "text/plain": [
       "array([0., 1., 1., ..., 0., 0., 0.])"
      ]
     },
     "execution_count": 277,
     "metadata": {},
     "output_type": "execute_result"
    }
   ],
   "source": [
    "Prediction"
   ]
  },
  {
   "cell_type": "markdown",
   "metadata": {},
   "source": [
    "# Conclusion"
   ]
  },
  {
   "cell_type": "code",
   "execution_count": 279,
   "metadata": {},
   "outputs": [
    {
     "data": {
      "text/plain": [
       "array([1., 0., 0., ..., 0., 0., 1.])"
      ]
     },
     "execution_count": 279,
     "metadata": {},
     "output_type": "execute_result"
    }
   ],
   "source": [
    "train_crop"
   ]
  },
  {
   "cell_type": "code",
   "execution_count": 280,
   "metadata": {},
   "outputs": [],
   "source": [
    "train_crop=np.array(y_test)"
   ]
  },
  {
   "cell_type": "code",
   "execution_count": 294,
   "metadata": {},
   "outputs": [],
   "source": [
    "train_crop=pd.DataFrame(predsvc,columns=[\"Crop_train\"])"
   ]
  },
  {
   "cell_type": "code",
   "execution_count": 285,
   "metadata": {},
   "outputs": [
    {
     "data": {
      "text/plain": [
       "array([0., 1., 1., ..., 0., 0., 0.])"
      ]
     },
     "execution_count": 285,
     "metadata": {},
     "output_type": "execute_result"
    }
   ],
   "source": [
    "test"
   ]
  },
  {
   "cell_type": "code",
   "execution_count": 290,
   "metadata": {},
   "outputs": [],
   "source": [
    "test=pd.DataFrame(test)"
   ]
  },
  {
   "cell_type": "code",
   "execution_count": 291,
   "metadata": {},
   "outputs": [
    {
     "data": {
      "text/html": [
       "<div>\n",
       "<style scoped>\n",
       "    .dataframe tbody tr th:only-of-type {\n",
       "        vertical-align: middle;\n",
       "    }\n",
       "\n",
       "    .dataframe tbody tr th {\n",
       "        vertical-align: top;\n",
       "    }\n",
       "\n",
       "    .dataframe thead th {\n",
       "        text-align: right;\n",
       "    }\n",
       "</style>\n",
       "<table border=\"1\" class=\"dataframe\">\n",
       "  <thead>\n",
       "    <tr style=\"text-align: right;\">\n",
       "      <th></th>\n",
       "      <th>0</th>\n",
       "    </tr>\n",
       "  </thead>\n",
       "  <tbody>\n",
       "    <tr>\n",
       "      <th>0</th>\n",
       "      <td>0.0</td>\n",
       "    </tr>\n",
       "    <tr>\n",
       "      <th>1</th>\n",
       "      <td>1.0</td>\n",
       "    </tr>\n",
       "    <tr>\n",
       "      <th>2</th>\n",
       "      <td>1.0</td>\n",
       "    </tr>\n",
       "    <tr>\n",
       "      <th>3</th>\n",
       "      <td>1.0</td>\n",
       "    </tr>\n",
       "    <tr>\n",
       "      <th>4</th>\n",
       "      <td>0.0</td>\n",
       "    </tr>\n",
       "    <tr>\n",
       "      <th>...</th>\n",
       "      <td>...</td>\n",
       "    </tr>\n",
       "    <tr>\n",
       "      <th>1155</th>\n",
       "      <td>0.0</td>\n",
       "    </tr>\n",
       "    <tr>\n",
       "      <th>1156</th>\n",
       "      <td>0.0</td>\n",
       "    </tr>\n",
       "    <tr>\n",
       "      <th>1157</th>\n",
       "      <td>0.0</td>\n",
       "    </tr>\n",
       "    <tr>\n",
       "      <th>1158</th>\n",
       "      <td>0.0</td>\n",
       "    </tr>\n",
       "    <tr>\n",
       "      <th>1159</th>\n",
       "      <td>0.0</td>\n",
       "    </tr>\n",
       "  </tbody>\n",
       "</table>\n",
       "<p>1160 rows × 1 columns</p>\n",
       "</div>"
      ],
      "text/plain": [
       "        0\n",
       "0     0.0\n",
       "1     1.0\n",
       "2     1.0\n",
       "3     1.0\n",
       "4     0.0\n",
       "...   ...\n",
       "1155  0.0\n",
       "1156  0.0\n",
       "1157  0.0\n",
       "1158  0.0\n",
       "1159  0.0\n",
       "\n",
       "[1160 rows x 1 columns]"
      ]
     },
     "execution_count": 291,
     "metadata": {},
     "output_type": "execute_result"
    }
   ],
   "source": [
    "test"
   ]
  },
  {
   "cell_type": "code",
   "execution_count": 296,
   "metadata": {},
   "outputs": [
    {
     "data": {
      "text/html": [
       "<div>\n",
       "<style scoped>\n",
       "    .dataframe tbody tr th:only-of-type {\n",
       "        vertical-align: middle;\n",
       "    }\n",
       "\n",
       "    .dataframe tbody tr th {\n",
       "        vertical-align: top;\n",
       "    }\n",
       "\n",
       "    .dataframe thead th {\n",
       "        text-align: right;\n",
       "    }\n",
       "</style>\n",
       "<table border=\"1\" class=\"dataframe\">\n",
       "  <thead>\n",
       "    <tr style=\"text-align: right;\">\n",
       "      <th></th>\n",
       "      <th>Crop_train</th>\n",
       "    </tr>\n",
       "  </thead>\n",
       "  <tbody>\n",
       "    <tr>\n",
       "      <th>0</th>\n",
       "      <td>0.0</td>\n",
       "    </tr>\n",
       "    <tr>\n",
       "      <th>1</th>\n",
       "      <td>0.0</td>\n",
       "    </tr>\n",
       "    <tr>\n",
       "      <th>2</th>\n",
       "      <td>0.0</td>\n",
       "    </tr>\n",
       "    <tr>\n",
       "      <th>3</th>\n",
       "      <td>0.0</td>\n",
       "    </tr>\n",
       "    <tr>\n",
       "      <th>4</th>\n",
       "      <td>0.0</td>\n",
       "    </tr>\n",
       "    <tr>\n",
       "      <th>...</th>\n",
       "      <td>...</td>\n",
       "    </tr>\n",
       "    <tr>\n",
       "      <th>1306</th>\n",
       "      <td>0.0</td>\n",
       "    </tr>\n",
       "    <tr>\n",
       "      <th>1307</th>\n",
       "      <td>0.0</td>\n",
       "    </tr>\n",
       "    <tr>\n",
       "      <th>1308</th>\n",
       "      <td>0.0</td>\n",
       "    </tr>\n",
       "    <tr>\n",
       "      <th>1309</th>\n",
       "      <td>0.0</td>\n",
       "    </tr>\n",
       "    <tr>\n",
       "      <th>1310</th>\n",
       "      <td>0.0</td>\n",
       "    </tr>\n",
       "  </tbody>\n",
       "</table>\n",
       "<p>1311 rows × 1 columns</p>\n",
       "</div>"
      ],
      "text/plain": [
       "      Crop_train\n",
       "0            0.0\n",
       "1            0.0\n",
       "2            0.0\n",
       "3            0.0\n",
       "4            0.0\n",
       "...          ...\n",
       "1306         0.0\n",
       "1307         0.0\n",
       "1308         0.0\n",
       "1309         0.0\n",
       "1310         0.0\n",
       "\n",
       "[1311 rows x 1 columns]"
      ]
     },
     "execution_count": 296,
     "metadata": {},
     "output_type": "execute_result"
    }
   ],
   "source": [
    "train_crop"
   ]
  },
  {
   "cell_type": "raw",
   "metadata": {},
   "source": [
    "Summary:I started the agriculture data by imputing null values in the train data,after i explore the categorical columns that is ID,they do not provide any information about the agriculture data.After that i visiulize the columns in agriculture train data and  i found alive crops are more.Than they damage due to other cause and  due to pesticide are less damage.As i progress i found there are two types of crop that 0 and 1,data has not mention category format of crops.0 type crop is more than 1 type of crop,again there is 2 types of soil 0 and 1 .I think in agriculture data the damage of crop is less.The Farmers have maintain the crop very well.They have timely given the dosage to the crops.I also think that they timely given the waters ,medicines and minimum amount of pesticide.I think the data is numeric and i found there are less error and f1 score is also good.In a agriculture data where the outliers presented ,i removed it by applying zscore.After making the data ready for model building i applied 8 algorithms for result i got support vector classification is the best model as it gives best score 0.86 which is better than all other 7 algorithms.The cross validation score is also good in support vector classification  than 7 algorithm.After doing this test data , i found that the alive crops are more than the  other category. Now i will go head and i think that we will  get more data to get the best score  as our threshold value is 1."
   ]
  }
 ],
 "metadata": {
  "kernelspec": {
   "display_name": "Python 3",
   "language": "python",
   "name": "python3"
  },
  "language_info": {
   "codemirror_mode": {
    "name": "ipython",
    "version": 3
   },
   "file_extension": ".py",
   "mimetype": "text/x-python",
   "name": "python",
   "nbconvert_exporter": "python",
   "pygments_lexer": "ipython3",
   "version": "3.8.3"
  }
 },
 "nbformat": 4,
 "nbformat_minor": 4
}
