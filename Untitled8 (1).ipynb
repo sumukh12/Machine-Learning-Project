{
 "cells": [
  {
   "cell_type": "code",
   "execution_count": 4,
   "id": "b6653a83",
   "metadata": {},
   "outputs": [],
   "source": [
    "import pandas as pd\n",
    "import numpy as np\n",
    "import seaborn as sns\n",
    "import matplotlib.pyplot as plt\n",
    "%matplotlib inline\n",
    "import warnings\n",
    "warnings.filterwarnings('ignore')"
   ]
  },
  {
   "cell_type": "code",
   "execution_count": 7,
   "id": "535283b1",
   "metadata": {},
   "outputs": [
    {
     "data": {
      "text/html": [
       "<div>\n",
       "<style scoped>\n",
       "    .dataframe tbody tr th:only-of-type {\n",
       "        vertical-align: middle;\n",
       "    }\n",
       "\n",
       "    .dataframe tbody tr th {\n",
       "        vertical-align: top;\n",
       "    }\n",
       "\n",
       "    .dataframe thead th {\n",
       "        text-align: right;\n",
       "    }\n",
       "</style>\n",
       "<table border=\"1\" class=\"dataframe\">\n",
       "  <thead>\n",
       "    <tr style=\"text-align: right;\">\n",
       "      <th></th>\n",
       "      <th>Year</th>\n",
       "      <th>Month</th>\n",
       "      <th>No</th>\n",
       "    </tr>\n",
       "  </thead>\n",
       "  <tbody>\n",
       "    <tr>\n",
       "      <th>0</th>\n",
       "      <td>2016</td>\n",
       "      <td>1</td>\n",
       "      <td>50.0</td>\n",
       "    </tr>\n",
       "    <tr>\n",
       "      <th>1</th>\n",
       "      <td>2016</td>\n",
       "      <td>2</td>\n",
       "      <td>10.0</td>\n",
       "    </tr>\n",
       "    <tr>\n",
       "      <th>2</th>\n",
       "      <td>2016</td>\n",
       "      <td>3</td>\n",
       "      <td>21.0</td>\n",
       "    </tr>\n",
       "    <tr>\n",
       "      <th>3</th>\n",
       "      <td>2016</td>\n",
       "      <td>4</td>\n",
       "      <td>81.0</td>\n",
       "    </tr>\n",
       "    <tr>\n",
       "      <th>4</th>\n",
       "      <td>2016</td>\n",
       "      <td>5</td>\n",
       "      <td>NaN</td>\n",
       "    </tr>\n",
       "  </tbody>\n",
       "</table>\n",
       "</div>"
      ],
      "text/plain": [
       "   Year  Month    No\n",
       "0  2016      1  50.0\n",
       "1  2016      2  10.0\n",
       "2  2016      3  21.0\n",
       "3  2016      4  81.0\n",
       "4  2016      5   NaN"
      ]
     },
     "execution_count": 7,
     "metadata": {},
     "output_type": "execute_result"
    }
   ],
   "source": [
    "data=pd.read_csv('trial.csv')\n",
    "data.head()"
   ]
  },
  {
   "cell_type": "code",
   "execution_count": 8,
   "id": "23f8151a",
   "metadata": {},
   "outputs": [
    {
     "data": {
      "text/plain": [
       "(90, 3)"
      ]
     },
     "execution_count": 8,
     "metadata": {},
     "output_type": "execute_result"
    }
   ],
   "source": [
    "data.shape"
   ]
  },
  {
   "cell_type": "code",
   "execution_count": 9,
   "id": "100bf98a",
   "metadata": {},
   "outputs": [
    {
     "data": {
      "text/plain": [
       "Year     0\n",
       "Month    0\n",
       "No       2\n",
       "dtype: int64"
      ]
     },
     "execution_count": 9,
     "metadata": {},
     "output_type": "execute_result"
    }
   ],
   "source": [
    "data.isna().sum()"
   ]
  },
  {
   "cell_type": "code",
   "execution_count": 10,
   "id": "688e7e8b",
   "metadata": {},
   "outputs": [
    {
     "data": {
      "text/html": [
       "<div>\n",
       "<style scoped>\n",
       "    .dataframe tbody tr th:only-of-type {\n",
       "        vertical-align: middle;\n",
       "    }\n",
       "\n",
       "    .dataframe tbody tr th {\n",
       "        vertical-align: top;\n",
       "    }\n",
       "\n",
       "    .dataframe thead th {\n",
       "        text-align: right;\n",
       "    }\n",
       "</style>\n",
       "<table border=\"1\" class=\"dataframe\">\n",
       "  <thead>\n",
       "    <tr style=\"text-align: right;\">\n",
       "      <th></th>\n",
       "      <th>Year</th>\n",
       "      <th>Month</th>\n",
       "      <th>No</th>\n",
       "    </tr>\n",
       "  </thead>\n",
       "  <tbody>\n",
       "    <tr>\n",
       "      <th>0</th>\n",
       "      <td>2016</td>\n",
       "      <td>1</td>\n",
       "      <td>50.0</td>\n",
       "    </tr>\n",
       "    <tr>\n",
       "      <th>1</th>\n",
       "      <td>2016</td>\n",
       "      <td>2</td>\n",
       "      <td>10.0</td>\n",
       "    </tr>\n",
       "    <tr>\n",
       "      <th>2</th>\n",
       "      <td>2016</td>\n",
       "      <td>3</td>\n",
       "      <td>21.0</td>\n",
       "    </tr>\n",
       "    <tr>\n",
       "      <th>3</th>\n",
       "      <td>2016</td>\n",
       "      <td>4</td>\n",
       "      <td>81.0</td>\n",
       "    </tr>\n",
       "    <tr>\n",
       "      <th>4</th>\n",
       "      <td>2016</td>\n",
       "      <td>5</td>\n",
       "      <td>0.0</td>\n",
       "    </tr>\n",
       "    <tr>\n",
       "      <th>...</th>\n",
       "      <td>...</td>\n",
       "      <td>...</td>\n",
       "      <td>...</td>\n",
       "    </tr>\n",
       "    <tr>\n",
       "      <th>85</th>\n",
       "      <td>2023</td>\n",
       "      <td>2</td>\n",
       "      <td>1471.0</td>\n",
       "    </tr>\n",
       "    <tr>\n",
       "      <th>86</th>\n",
       "      <td>2023</td>\n",
       "      <td>3</td>\n",
       "      <td>704.0</td>\n",
       "    </tr>\n",
       "    <tr>\n",
       "      <th>87</th>\n",
       "      <td>2023</td>\n",
       "      <td>4</td>\n",
       "      <td>1134.0</td>\n",
       "    </tr>\n",
       "    <tr>\n",
       "      <th>88</th>\n",
       "      <td>2023</td>\n",
       "      <td>5</td>\n",
       "      <td>1381.0</td>\n",
       "    </tr>\n",
       "    <tr>\n",
       "      <th>89</th>\n",
       "      <td>2023</td>\n",
       "      <td>6</td>\n",
       "      <td>936.0</td>\n",
       "    </tr>\n",
       "  </tbody>\n",
       "</table>\n",
       "<p>90 rows × 3 columns</p>\n",
       "</div>"
      ],
      "text/plain": [
       "    Year  Month      No\n",
       "0   2016      1    50.0\n",
       "1   2016      2    10.0\n",
       "2   2016      3    21.0\n",
       "3   2016      4    81.0\n",
       "4   2016      5     0.0\n",
       "..   ...    ...     ...\n",
       "85  2023      2  1471.0\n",
       "86  2023      3   704.0\n",
       "87  2023      4  1134.0\n",
       "88  2023      5  1381.0\n",
       "89  2023      6   936.0\n",
       "\n",
       "[90 rows x 3 columns]"
      ]
     },
     "execution_count": 10,
     "metadata": {},
     "output_type": "execute_result"
    }
   ],
   "source": [
    "data=data.fillna(0)\n",
    "data"
   ]
  },
  {
   "cell_type": "code",
   "execution_count": 11,
   "id": "37787ba5",
   "metadata": {},
   "outputs": [
    {
     "data": {
      "text/plain": [
       "Year     0\n",
       "Month    0\n",
       "No       0\n",
       "dtype: int64"
      ]
     },
     "execution_count": 11,
     "metadata": {},
     "output_type": "execute_result"
    }
   ],
   "source": [
    "data.isna().sum()"
   ]
  },
  {
   "cell_type": "code",
   "execution_count": 12,
   "id": "66d7128f",
   "metadata": {},
   "outputs": [
    {
     "data": {
      "text/plain": [
       "0"
      ]
     },
     "execution_count": 12,
     "metadata": {},
     "output_type": "execute_result"
    }
   ],
   "source": [
    "data.duplicated().sum()"
   ]
  },
  {
   "cell_type": "code",
   "execution_count": 13,
   "id": "85027ae7",
   "metadata": {},
   "outputs": [
    {
     "data": {
      "text/html": [
       "<div>\n",
       "<style scoped>\n",
       "    .dataframe tbody tr th:only-of-type {\n",
       "        vertical-align: middle;\n",
       "    }\n",
       "\n",
       "    .dataframe tbody tr th {\n",
       "        vertical-align: top;\n",
       "    }\n",
       "\n",
       "    .dataframe thead th {\n",
       "        text-align: right;\n",
       "    }\n",
       "</style>\n",
       "<table border=\"1\" class=\"dataframe\">\n",
       "  <thead>\n",
       "    <tr style=\"text-align: right;\">\n",
       "      <th></th>\n",
       "      <th>Year</th>\n",
       "      <th>Month</th>\n",
       "      <th>No</th>\n",
       "    </tr>\n",
       "  </thead>\n",
       "  <tbody>\n",
       "    <tr>\n",
       "      <th>count</th>\n",
       "      <td>90.000000</td>\n",
       "      <td>90.000000</td>\n",
       "      <td>90.000000</td>\n",
       "    </tr>\n",
       "    <tr>\n",
       "      <th>mean</th>\n",
       "      <td>2019.266667</td>\n",
       "      <td>6.300000</td>\n",
       "      <td>515.388889</td>\n",
       "    </tr>\n",
       "    <tr>\n",
       "      <th>std</th>\n",
       "      <td>2.186784</td>\n",
       "      <td>3.465561</td>\n",
       "      <td>616.187293</td>\n",
       "    </tr>\n",
       "    <tr>\n",
       "      <th>min</th>\n",
       "      <td>2016.000000</td>\n",
       "      <td>1.000000</td>\n",
       "      <td>0.000000</td>\n",
       "    </tr>\n",
       "    <tr>\n",
       "      <th>25%</th>\n",
       "      <td>2017.000000</td>\n",
       "      <td>3.000000</td>\n",
       "      <td>100.750000</td>\n",
       "    </tr>\n",
       "    <tr>\n",
       "      <th>50%</th>\n",
       "      <td>2019.000000</td>\n",
       "      <td>6.000000</td>\n",
       "      <td>208.500000</td>\n",
       "    </tr>\n",
       "    <tr>\n",
       "      <th>75%</th>\n",
       "      <td>2021.000000</td>\n",
       "      <td>9.000000</td>\n",
       "      <td>752.750000</td>\n",
       "    </tr>\n",
       "    <tr>\n",
       "      <th>max</th>\n",
       "      <td>2023.000000</td>\n",
       "      <td>12.000000</td>\n",
       "      <td>2448.000000</td>\n",
       "    </tr>\n",
       "  </tbody>\n",
       "</table>\n",
       "</div>"
      ],
      "text/plain": [
       "              Year      Month           No\n",
       "count    90.000000  90.000000    90.000000\n",
       "mean   2019.266667   6.300000   515.388889\n",
       "std       2.186784   3.465561   616.187293\n",
       "min    2016.000000   1.000000     0.000000\n",
       "25%    2017.000000   3.000000   100.750000\n",
       "50%    2019.000000   6.000000   208.500000\n",
       "75%    2021.000000   9.000000   752.750000\n",
       "max    2023.000000  12.000000  2448.000000"
      ]
     },
     "execution_count": 13,
     "metadata": {},
     "output_type": "execute_result"
    }
   ],
   "source": [
    "data.describe()"
   ]
  },
  {
   "cell_type": "code",
   "execution_count": 22,
   "id": "4b77d1bc",
   "metadata": {},
   "outputs": [
    {
     "data": {
      "image/png": "[encoded data removed]",
      "text/plain": [
       "<Figure size 432x288 with 1 Axes>"
      ]
     },
     "metadata": {
      "needs_background": "light"
     },
     "output_type": "display_data"
    }
   ],
   "source": [
    "sns.barplot(x='Year',y='No',data=data)\n",
    "plt.show()"
   ]
  },
  {
   "cell_type": "code",
   "execution_count": 23,
   "id": "8e144479",
   "metadata": {},
   "outputs": [
    {
     "data": {
      "image/png": "[encoded data removed]",
      "text/plain": [
       "<Figure size 432x288 with 1 Axes>"
      ]
     },
     "metadata": {
      "needs_background": "light"
     },
     "output_type": "display_data"
    }
   ],
   "source": [
    "sns.barplot(x='Month',y='No',data=data)\n",
    "plt.show()"
   ]
  },
  {
   "cell_type": "code",
   "execution_count": 28,
   "id": "b7fe096b",
   "metadata": {},
   "outputs": [],
   "source": [
    "sales_in_2016=data[data['Year']==2016]\n",
    "sales_in_2017=data[data['Year']==2017]\n",
    "sales_in_2018=data[data['Year']==2018]\n",
    "sales_in_2019=data[data['Year']==2019]\n",
    "sales_in_2020=data[data['Year']==2020]\n",
    "sales_in_2021=data[data['Year']==2021]\n",
    "sales_in_2022=data[data['Year']==2022]\n",
    "sales_in_2023=data[data['Year']==2023]"
   ]
  },
  {
   "cell_type": "code",
   "execution_count": 34,
   "id": "9e6fd33a",
   "metadata": {},
   "outputs": [
    {
     "name": "stdout",
     "output_type": "stream",
     "text": [
      "Max Sales 2016: 125.0  Min Sales 2016: 0.0\n"
     ]
    }
   ],
   "source": [
    "print('Max Sales 2016:',sales_in_2016['No'].max(), ' Min Sales 2016:',sales_in_2016['No'].min())"
   ]
  },
  {
   "cell_type": "code",
   "execution_count": 36,
   "id": "be6d197e",
   "metadata": {},
   "outputs": [
    {
     "name": "stdout",
     "output_type": "stream",
     "text": [
      "Max Sales 2017: 2210.0  Min Sales 2017: 0.0\n"
     ]
    }
   ],
   "source": [
    "print('Max Sales 2017:',sales_in_2017['No'].max(), ' Min Sales 2017:',sales_in_2017['No'].min())"
   ]
  },
  {
   "cell_type": "code",
   "execution_count": 37,
   "id": "37ca4ace",
   "metadata": {},
   "outputs": [
    {
     "name": "stdout",
     "output_type": "stream",
     "text": [
      "Max Sales 2018: 213.0  Min Sales 2018: 0.0\n"
     ]
    }
   ],
   "source": [
    "print('Max Sales 2018:',sales_in_2018['No'].max(), ' Min Sales 2018:',sales_in_2018['No'].min())"
   ]
  },
  {
   "cell_type": "code",
   "execution_count": 38,
   "id": "b1de2c03",
   "metadata": {},
   "outputs": [
    {
     "name": "stdout",
     "output_type": "stream",
     "text": [
      "Max Sales 2019: 523.0  Min Sales 2019: 25.0\n"
     ]
    }
   ],
   "source": [
    "print('Max Sales 2019:',sales_in_2019['No'].max(), ' Min Sales 2019:',sales_in_2019['No'].min())"
   ]
  },
  {
   "cell_type": "code",
   "execution_count": 39,
   "id": "ada35d55",
   "metadata": {},
   "outputs": [
    {
     "name": "stdout",
     "output_type": "stream",
     "text": [
      "Max Sales 2020: 780.0  Min Sales 2020: 52.0\n"
     ]
    }
   ],
   "source": [
    "print('Max Sales 2020:',sales_in_2020['No'].max(), ' Min Sales 2020:',sales_in_2020['No'].min())"
   ]
  },
  {
   "cell_type": "code",
   "execution_count": 40,
   "id": "23417166",
   "metadata": {},
   "outputs": [
    {
     "name": "stdout",
     "output_type": "stream",
     "text": [
      "Max Sales 2021: 2448.0  Min Sales 2021: 255.0\n"
     ]
    }
   ],
   "source": [
    "print('Max Sales 2021:',sales_in_2021['No'].max(), ' Min Sales 2021:',sales_in_2021['No'].min())"
   ]
  },
  {
   "cell_type": "code",
   "execution_count": 41,
   "id": "bae838f8",
   "metadata": {},
   "outputs": [
    {
     "name": "stdout",
     "output_type": "stream",
     "text": [
      "Max Sales 2022: 2166.0  Min Sales 2022: 155.0\n"
     ]
    }
   ],
   "source": [
    "print('Max Sales 2022:',sales_in_2022['No'].max(), ' Min Sales 2022:',sales_in_2022['No'].min())"
   ]
  },
  {
   "cell_type": "code",
   "execution_count": 42,
   "id": "bd08142f",
   "metadata": {},
   "outputs": [
    {
     "name": "stdout",
     "output_type": "stream",
     "text": [
      "Max Sales 2023: 1471.0  Min Sales 2023: 18.0\n"
     ]
    }
   ],
   "source": [
    "print('Max Sales 2023:',sales_in_2023['No'].max(), ' Min Sales 2023:',sales_in_2023['No'].min())"
   ]
  },
  {
   "cell_type": "code",
   "execution_count": 25,
   "id": "80543330",
   "metadata": {},
   "outputs": [
    {
     "data": {
      "image/png": "[encoded data removed]",
      "text/plain": [
       "<Figure size 432x288 with 1 Axes>"
      ]
     },
     "metadata": {
      "needs_background": "light"
     },
     "output_type": "display_data"
    }
   ],
   "source": [
    "sns.lineplot(x='Month',y='No',data=sales_in_2016)\n",
    "plt.show()"
   ]
  },
  {
   "cell_type": "code",
   "execution_count": 43,
   "id": "51c13353",
   "metadata": {},
   "outputs": [
    {
     "data": {
      "image/png": "[encoded data removed]",
      "text/plain": [
       "<Figure size 432x288 with 1 Axes>"
      ]
     },
     "metadata": {
      "needs_background": "light"
     },
     "output_type": "display_data"
    }
   ],
   "source": [
    "sns.lineplot(x='Month',y='No',data=sales_in_2017)\n",
    "plt.show()"
   ]
  },
  {
   "cell_type": "code",
   "execution_count": 44,
   "id": "fa7e278f",
   "metadata": {},
   "outputs": [
    {
     "data": {
      "image/png": "[encoded data removed]",
      "text/plain": [
       "<Figure size 432x288 with 1 Axes>"
      ]
     },
     "metadata": {
      "needs_background": "light"
     },
     "output_type": "display_data"
    }
   ],
   "source": [
    "sns.lineplot(x='Month',y='No',data=sales_in_2018)\n",
    "plt.show()"
   ]
  },
  {
   "cell_type": "code",
   "execution_count": 45,
   "id": "7d3249cb",
   "metadata": {},
   "outputs": [
    {
     "data": {
      "image/png": "[encoded data removed]",
      "text/plain": [
       "<Figure size 432x288 with 1 Axes>"
      ]
     },
     "metadata": {
      "needs_background": "light"
     },
     "output_type": "display_data"
    }
   ],
   "source": [
    "sns.lineplot(x='Month',y='No',data=sales_in_2019)\n",
    "plt.show()"
   ]
  },
  {
   "cell_type": "code",
   "execution_count": 46,
   "id": "7fcf63b5",
   "metadata": {},
   "outputs": [
    {
     "data": {
      "image/png": "[encoded data removed]",
      "text/plain": [
       "<Figure size 432x288 with 1 Axes>"
      ]
     },
     "metadata": {
      "needs_background": "light"
     },
     "output_type": "display_data"
    }
   ],
   "source": [
    "sns.lineplot(x='Month',y='No',data=sales_in_2020)\n",
    "plt.show()"
   ]
  },
  {
   "cell_type": "code",
   "execution_count": 47,
   "id": "e2897d4e",
   "metadata": {},
   "outputs": [
    {
     "data": {
      "image/png": "[encoded data removed]",
      "text/plain": [
       "<Figure size 432x288 with 1 Axes>"
      ]
     },
     "metadata": {
      "needs_background": "light"
     },
     "output_type": "display_data"
    }
   ],
   "source": [
    "sns.lineplot(x='Month',y='No',data=sales_in_2021)\n",
    "plt.show()"
   ]
  },
  {
   "cell_type": "code",
   "execution_count": 48,
   "id": "d08945a7",
   "metadata": {},
   "outputs": [
    {
     "data": {
      "image/png": "[encoded data removed]",
      "text/plain": [
       "<Figure size 432x288 with 1 Axes>"
      ]
     },
     "metadata": {
      "needs_background": "light"
     },
     "output_type": "display_data"
    }
   ],
   "source": [
    "sns.lineplot(x='Month',y='No',data=sales_in_2022)\n",
    "plt.show()"
   ]
  },
  {
   "cell_type": "code",
   "execution_count": 49,
   "id": "0465ad76",
   "metadata": {},
   "outputs": [
    {
     "data": {
      "image/png": "[encoded data removed]",
      "text/plain": [
       "<Figure size 432x288 with 1 Axes>"
      ]
     },
     "metadata": {
      "needs_background": "light"
     },
     "output_type": "display_data"
    }
   ],
   "source": [
    "sns.lineplot(x='Month',y='No',data=sales_in_2023)\n",
    "plt.show()"
   ]
  },
  {
   "cell_type": "code",
   "execution_count": 54,
   "id": "04d2db27",
   "metadata": {},
   "outputs": [
    {
     "data": {
      "image/png": "[encoded data removed]",
      "text/plain": [
       "<Figure size 360x360 with 1 Axes>"
      ]
     },
     "metadata": {
      "needs_background": "light"
     },
     "output_type": "display_data"
    }
   ],
   "source": [
    "#Checking for correlation\n",
    "data.drop(['No'],axis=1).corrwith(data['No']).plot(kind='bar',grid=True,figsize=(5,5),title='Correlation with Sales')\n",
    "plt.show()"
   ]
  },
  {
   "cell_type": "code",
   "execution_count": 61,
   "id": "33b5196b",
   "metadata": {},
   "outputs": [
    {
     "data": {
      "image/png": "[encoded data removed]",
      "text/plain": [
       "<Figure size 720x360 with 2 Axes>"
      ]
     },
     "metadata": {
      "needs_background": "light"
     },
     "output_type": "display_data"
    }
   ],
   "source": [
    "#Plotting heatmap\n",
    "corr=data.corr().abs()\n",
    "plt.figure(figsize=(10,5))\n",
    "sns.heatmap(corr,annot=True)\n",
    "plt.show()"
   ]
  },
  {
   "cell_type": "code",
   "execution_count": 62,
   "id": "676cc8e0",
   "metadata": {},
   "outputs": [
    {
     "data": {
      "image/png": "[encoded data removed]",
      "text/plain": [
       "<Figure size 432x288 with 1 Axes>"
      ]
     },
     "metadata": {
      "needs_background": "light"
     },
     "output_type": "display_data"
    }
   ],
   "source": [
    "sns.boxplot(data['Year'])\n",
    "plt.show()"
   ]
  },
  {
   "cell_type": "code",
   "execution_count": 63,
   "id": "0f12f06a",
   "metadata": {},
   "outputs": [
    {
     "data": {
      "image/png": "[encoded data removed]",
      "text/plain": [
       "<Figure size 432x288 with 1 Axes>"
      ]
     },
     "metadata": {
      "needs_background": "light"
     },
     "output_type": "display_data"
    }
   ],
   "source": [
    "sns.boxplot(data['Month'])\n",
    "plt.show()"
   ]
  },
  {
   "cell_type": "code",
   "execution_count": 64,
   "id": "989f6f2f",
   "metadata": {},
   "outputs": [
    {
     "data": {
      "text/plain": [
       "Year     0.045948\n",
       "Month    0.089055\n",
       "No       1.424584\n",
       "dtype: float64"
      ]
     },
     "execution_count": 64,
     "metadata": {},
     "output_type": "execute_result"
    }
   ],
   "source": [
    "data.skew()"
   ]
  },
  {
   "cell_type": "code",
   "execution_count": 66,
   "id": "a01c90f7",
   "metadata": {},
   "outputs": [
    {
     "data": {
      "text/html": [
       "<div>\n",
       "<style scoped>\n",
       "    .dataframe tbody tr th:only-of-type {\n",
       "        vertical-align: middle;\n",
       "    }\n",
       "\n",
       "    .dataframe tbody tr th {\n",
       "        vertical-align: top;\n",
       "    }\n",
       "\n",
       "    .dataframe thead th {\n",
       "        text-align: right;\n",
       "    }\n",
       "</style>\n",
       "<table border=\"1\" class=\"dataframe\">\n",
       "  <thead>\n",
       "    <tr style=\"text-align: right;\">\n",
       "      <th></th>\n",
       "      <th>Year</th>\n",
       "      <th>Month</th>\n",
       "    </tr>\n",
       "  </thead>\n",
       "  <tbody>\n",
       "    <tr>\n",
       "      <th>0</th>\n",
       "      <td>2016</td>\n",
       "      <td>1</td>\n",
       "    </tr>\n",
       "    <tr>\n",
       "      <th>1</th>\n",
       "      <td>2016</td>\n",
       "      <td>2</td>\n",
       "    </tr>\n",
       "    <tr>\n",
       "      <th>2</th>\n",
       "      <td>2016</td>\n",
       "      <td>3</td>\n",
       "    </tr>\n",
       "    <tr>\n",
       "      <th>3</th>\n",
       "      <td>2016</td>\n",
       "      <td>4</td>\n",
       "    </tr>\n",
       "    <tr>\n",
       "      <th>4</th>\n",
       "      <td>2016</td>\n",
       "      <td>5</td>\n",
       "    </tr>\n",
       "    <tr>\n",
       "      <th>...</th>\n",
       "      <td>...</td>\n",
       "      <td>...</td>\n",
       "    </tr>\n",
       "    <tr>\n",
       "      <th>85</th>\n",
       "      <td>2023</td>\n",
       "      <td>2</td>\n",
       "    </tr>\n",
       "    <tr>\n",
       "      <th>86</th>\n",
       "      <td>2023</td>\n",
       "      <td>3</td>\n",
       "    </tr>\n",
       "    <tr>\n",
       "      <th>87</th>\n",
       "      <td>2023</td>\n",
       "      <td>4</td>\n",
       "    </tr>\n",
       "    <tr>\n",
       "      <th>88</th>\n",
       "      <td>2023</td>\n",
       "      <td>5</td>\n",
       "    </tr>\n",
       "    <tr>\n",
       "      <th>89</th>\n",
       "      <td>2023</td>\n",
       "      <td>6</td>\n",
       "    </tr>\n",
       "  </tbody>\n",
       "</table>\n",
       "<p>90 rows × 2 columns</p>\n",
       "</div>"
      ],
      "text/plain": [
       "    Year  Month\n",
       "0   2016      1\n",
       "1   2016      2\n",
       "2   2016      3\n",
       "3   2016      4\n",
       "4   2016      5\n",
       "..   ...    ...\n",
       "85  2023      2\n",
       "86  2023      3\n",
       "87  2023      4\n",
       "88  2023      5\n",
       "89  2023      6\n",
       "\n",
       "[90 rows x 2 columns]"
      ]
     },
     "execution_count": 66,
     "metadata": {},
     "output_type": "execute_result"
    }
   ],
   "source": [
    "x=data.drop(['No'],axis=1)\n",
    "x"
   ]
  },
  {
   "cell_type": "code",
   "execution_count": 67,
   "id": "f2669b59",
   "metadata": {},
   "outputs": [
    {
     "data": {
      "text/plain": [
       "0       50.0\n",
       "1       10.0\n",
       "2       21.0\n",
       "3       81.0\n",
       "4        0.0\n",
       "       ...  \n",
       "85    1471.0\n",
       "86     704.0\n",
       "87    1134.0\n",
       "88    1381.0\n",
       "89     936.0\n",
       "Name: No, Length: 90, dtype: float64"
      ]
     },
     "execution_count": 67,
     "metadata": {},
     "output_type": "execute_result"
    }
   ],
   "source": [
    "y=data['No']\n",
    "y"
   ]
  },
  {
   "cell_type": "code",
   "execution_count": 68,
   "id": "493aee2d",
   "metadata": {},
   "outputs": [
    {
     "data": {
      "text/plain": [
       "array([[-1.50219138, -1.53790173],\n",
       "       [-1.50219138, -1.24773159],\n",
       "       [-1.50219138, -0.95756146],\n",
       "       [-1.50219138, -0.66739132],\n",
       "       [-1.50219138, -0.37722118],\n",
       "       [-1.50219138, -0.08705104],\n",
       "       [-1.50219138,  0.2031191 ],\n",
       "       [-1.50219138,  0.49328923],\n",
       "       [-1.50219138,  0.78345937],\n",
       "       [-1.50219138,  1.07362951],\n",
       "       [-1.50219138,  1.36379965],\n",
       "       [-1.50219138,  1.65396979],\n",
       "       [-1.04233688, -1.53790173],\n",
       "       [-1.04233688, -1.24773159],\n",
       "       [-1.04233688, -0.95756146],\n",
       "       [-1.04233688, -0.66739132],\n",
       "       [-1.04233688, -0.37722118],\n",
       "       [-1.04233688, -0.08705104],\n",
       "       [-1.04233688,  0.2031191 ],\n",
       "       [-1.04233688,  0.49328923],\n",
       "       [-1.04233688,  0.78345937],\n",
       "       [-1.04233688,  1.07362951],\n",
       "       [-1.04233688,  1.36379965],\n",
       "       [-1.04233688,  1.65396979],\n",
       "       [-0.58248237, -1.53790173],\n",
       "       [-0.58248237, -1.24773159],\n",
       "       [-0.58248237, -0.95756146],\n",
       "       [-0.58248237, -0.66739132],\n",
       "       [-0.58248237, -0.37722118],\n",
       "       [-0.58248237, -0.08705104],\n",
       "       [-0.58248237,  0.2031191 ],\n",
       "       [-0.58248237,  0.49328923],\n",
       "       [-0.58248237,  0.78345937],\n",
       "       [-0.58248237,  1.07362951],\n",
       "       [-0.58248237,  1.36379965],\n",
       "       [-0.58248237,  1.65396979],\n",
       "       [-0.12262787, -1.53790173],\n",
       "       [-0.12262787, -1.24773159],\n",
       "       [-0.12262787, -0.95756146],\n",
       "       [-0.12262787, -0.66739132],\n",
       "       [-0.12262787, -0.37722118],\n",
       "       [-0.12262787, -0.08705104],\n",
       "       [-0.12262787,  0.2031191 ],\n",
       "       [-0.12262787,  0.49328923],\n",
       "       [-0.12262787,  0.78345937],\n",
       "       [-0.12262787,  1.07362951],\n",
       "       [-0.12262787,  1.36379965],\n",
       "       [-0.12262787,  1.65396979],\n",
       "       [ 0.33722664, -1.53790173],\n",
       "       [ 0.33722664, -1.24773159],\n",
       "       [ 0.33722664, -0.95756146],\n",
       "       [ 0.33722664, -0.66739132],\n",
       "       [ 0.33722664, -0.37722118],\n",
       "       [ 0.33722664, -0.08705104],\n",
       "       [ 0.33722664,  0.2031191 ],\n",
       "       [ 0.33722664,  0.49328923],\n",
       "       [ 0.33722664,  0.78345937],\n",
       "       [ 0.33722664,  1.07362951],\n",
       "       [ 0.33722664,  1.36379965],\n",
       "       [ 0.33722664,  1.65396979],\n",
       "       [ 0.79708114, -1.53790173],\n",
       "       [ 0.79708114, -1.24773159],\n",
       "       [ 0.79708114, -0.95756146],\n",
       "       [ 0.79708114, -0.66739132],\n",
       "       [ 0.79708114, -0.37722118],\n",
       "       [ 0.79708114, -0.08705104],\n",
       "       [ 0.79708114,  0.2031191 ],\n",
       "       [ 0.79708114,  0.49328923],\n",
       "       [ 0.79708114,  0.78345937],\n",
       "       [ 0.79708114,  1.07362951],\n",
       "       [ 0.79708114,  1.36379965],\n",
       "       [ 0.79708114,  1.65396979],\n",
       "       [ 1.25693565, -1.53790173],\n",
       "       [ 1.25693565, -1.24773159],\n",
       "       [ 1.25693565, -0.95756146],\n",
       "       [ 1.25693565, -0.66739132],\n",
       "       [ 1.25693565, -0.37722118],\n",
       "       [ 1.25693565, -0.08705104],\n",
       "       [ 1.25693565,  0.2031191 ],\n",
       "       [ 1.25693565,  0.49328923],\n",
       "       [ 1.25693565,  0.78345937],\n",
       "       [ 1.25693565,  1.07362951],\n",
       "       [ 1.25693565,  1.36379965],\n",
       "       [ 1.25693565,  1.65396979],\n",
       "       [ 1.71679015, -1.53790173],\n",
       "       [ 1.71679015, -1.24773159],\n",
       "       [ 1.71679015, -0.95756146],\n",
       "       [ 1.71679015, -0.66739132],\n",
       "       [ 1.71679015, -0.37722118],\n",
       "       [ 1.71679015, -0.08705104]])"
      ]
     },
     "execution_count": 68,
     "metadata": {},
     "output_type": "execute_result"
    }
   ],
   "source": [
    "from sklearn.preprocessing import StandardScaler\n",
    "Scaler=StandardScaler()\n",
    "x_scaler=Scaler.fit_transform(x)\n",
    "x_scaler"
   ]
  },
  {
   "cell_type": "code",
   "execution_count": 118,
   "id": "175e37fc",
   "metadata": {},
   "outputs": [],
   "source": [
    "#Importing required libraries\n",
    "from sklearn.model_selection import train_test_split\n",
    "from sklearn.ensemble import RandomForestRegressor\n",
    "from sklearn.linear_model import LinearRegression\n",
    "from sklearn.ensemble import GradientBoostingRegressor\n",
    "from sklearn import metrics\n",
    "from sklearn.metrics import r2_score\n",
    "from sklearn.metrics import mean_absolute_error,mean_squared_error\n",
    "from sklearn.model_selection import cross_val_score"
   ]
  },
  {
   "cell_type": "code",
   "execution_count": 74,
   "id": "beed45b0",
   "metadata": {},
   "outputs": [],
   "source": [
    "rf=RandomForestRegressor()"
   ]
  },
  {
   "cell_type": "code",
   "execution_count": 78,
   "id": "34372acf",
   "metadata": {},
   "outputs": [
    {
     "name": "stdout",
     "output_type": "stream",
     "text": [
      "at random state 0, training accuracy is 87.96872491145959\n",
      "at random state 0, testing accuracy is 27.73319193950867\n",
      "\n",
      "\n",
      "at random state 1, training accuracy is 88.13369305072045\n",
      "at random state 1, testing accuracy is 10.845602854406057\n",
      "\n",
      "\n",
      "at random state 2, training accuracy is 91.12729177615178\n",
      "at random state 2, testing accuracy is -39.84323530154339\n",
      "\n",
      "\n",
      "at random state 3, training accuracy is 84.95750958771144\n",
      "at random state 3, testing accuracy is 27.429911516627403\n",
      "\n",
      "\n",
      "at random state 4, training accuracy is 87.75055437163843\n",
      "at random state 4, testing accuracy is 53.72802403886243\n",
      "\n",
      "\n",
      "at random state 5, training accuracy is 86.81538025097217\n",
      "at random state 5, testing accuracy is 41.52611500277488\n",
      "\n",
      "\n",
      "at random state 6, training accuracy is 88.76066309264314\n",
      "at random state 6, testing accuracy is 19.474658852769444\n",
      "\n",
      "\n",
      "at random state 7, training accuracy is 87.21662384316413\n",
      "at random state 7, testing accuracy is 62.241941557273485\n",
      "\n",
      "\n",
      "at random state 8, training accuracy is 85.4832485199858\n",
      "at random state 8, testing accuracy is 51.98475754764662\n",
      "\n",
      "\n",
      "at random state 9, training accuracy is 87.50899980122853\n",
      "at random state 9, testing accuracy is 51.084437559734816\n",
      "\n",
      "\n",
      "at random state 10, training accuracy is 87.13126860772317\n",
      "at random state 10, testing accuracy is 27.154759426505937\n",
      "\n",
      "\n",
      "at random state 11, training accuracy is 91.99931857594561\n",
      "at random state 11, testing accuracy is -15.101325873592142\n",
      "\n",
      "\n",
      "at random state 12, training accuracy is 87.6114107440064\n",
      "at random state 12, testing accuracy is 29.229351717404096\n",
      "\n",
      "\n",
      "at random state 13, training accuracy is 89.76113511766896\n",
      "at random state 13, testing accuracy is 16.5704814223832\n",
      "\n",
      "\n",
      "at random state 14, training accuracy is 87.89355420472333\n",
      "at random state 14, testing accuracy is 61.0866539828621\n",
      "\n",
      "\n",
      "at random state 15, training accuracy is 87.95108493622755\n",
      "at random state 15, testing accuracy is 44.84005048918562\n",
      "\n",
      "\n",
      "at random state 16, training accuracy is 88.52332164897146\n",
      "at random state 16, testing accuracy is 39.2063332092476\n",
      "\n",
      "\n",
      "at random state 17, training accuracy is 89.26906685214719\n",
      "at random state 17, testing accuracy is 38.77917487518996\n",
      "\n",
      "\n",
      "at random state 18, training accuracy is 90.50926239685802\n",
      "at random state 18, testing accuracy is 33.21247946299035\n",
      "\n",
      "\n",
      "at random state 19, training accuracy is 88.8154571756462\n",
      "at random state 19, testing accuracy is 33.796220314799584\n",
      "\n",
      "\n",
      "at random state 20, training accuracy is 90.92865807497962\n",
      "at random state 20, testing accuracy is -49.02207041830946\n",
      "\n",
      "\n",
      "at random state 21, training accuracy is 87.85802634619672\n",
      "at random state 21, testing accuracy is 55.453162991776765\n",
      "\n",
      "\n",
      "at random state 22, training accuracy is 90.85744903627202\n",
      "at random state 22, testing accuracy is -7.424775230010061\n",
      "\n",
      "\n",
      "at random state 23, training accuracy is 87.905226973583\n",
      "at random state 23, testing accuracy is 29.46425016306089\n",
      "\n",
      "\n",
      "at random state 24, training accuracy is 91.54175673727698\n",
      "at random state 24, testing accuracy is 14.573566220744183\n",
      "\n",
      "\n",
      "at random state 25, training accuracy is 88.78139006857447\n",
      "at random state 25, testing accuracy is 11.283614498190708\n",
      "\n",
      "\n",
      "at random state 26, training accuracy is 92.26505004800146\n",
      "at random state 26, testing accuracy is 18.95136693115491\n",
      "\n",
      "\n",
      "at random state 27, training accuracy is 91.51164235210673\n",
      "at random state 27, testing accuracy is -18.576350765206495\n",
      "\n",
      "\n",
      "at random state 28, training accuracy is 89.33663944346486\n",
      "at random state 28, testing accuracy is 18.831757664166325\n",
      "\n",
      "\n",
      "at random state 29, training accuracy is 89.24854673285965\n",
      "at random state 29, testing accuracy is 43.227932065550064\n",
      "\n",
      "\n",
      "at random state 30, training accuracy is 86.71229799138642\n",
      "at random state 30, testing accuracy is 41.92413309015953\n",
      "\n",
      "\n",
      "at random state 31, training accuracy is 87.64891610432099\n",
      "at random state 31, testing accuracy is 29.644342715961457\n",
      "\n",
      "\n",
      "at random state 32, training accuracy is 89.14979553338407\n",
      "at random state 32, testing accuracy is 18.108028244898488\n",
      "\n",
      "\n",
      "at random state 33, training accuracy is 87.37154286840587\n",
      "at random state 33, testing accuracy is -4.893539136965086\n",
      "\n",
      "\n",
      "at random state 34, training accuracy is 93.84169227125602\n",
      "at random state 34, testing accuracy is -237.46734467837834\n",
      "\n",
      "\n",
      "at random state 35, training accuracy is 88.47044935676197\n",
      "at random state 35, testing accuracy is 48.046995913003485\n",
      "\n",
      "\n",
      "at random state 36, training accuracy is 88.9037764649577\n",
      "at random state 36, testing accuracy is 41.245852335503194\n",
      "\n",
      "\n",
      "at random state 37, training accuracy is 89.82882216519424\n",
      "at random state 37, testing accuracy is -18.93554934007513\n",
      "\n",
      "\n",
      "at random state 38, training accuracy is 90.98629968082246\n",
      "at random state 38, testing accuracy is 8.775400692911617\n",
      "\n",
      "\n",
      "at random state 39, training accuracy is 90.77250795884747\n",
      "at random state 39, testing accuracy is -9.640171460745982\n",
      "\n",
      "\n",
      "at random state 40, training accuracy is 88.08832820529815\n",
      "at random state 40, testing accuracy is 48.12615322223272\n",
      "\n",
      "\n",
      "at random state 41, training accuracy is 89.87063993496281\n",
      "at random state 41, testing accuracy is -2.578418540680616\n",
      "\n",
      "\n",
      "at random state 42, training accuracy is 89.86983482912387\n",
      "at random state 42, testing accuracy is 43.63374669322677\n",
      "\n",
      "\n",
      "at random state 43, training accuracy is 89.03132140736069\n",
      "at random state 43, testing accuracy is 9.918628785635985\n",
      "\n",
      "\n",
      "at random state 44, training accuracy is 86.35860201860021\n",
      "at random state 44, testing accuracy is 36.0613477539024\n",
      "\n",
      "\n",
      "at random state 45, training accuracy is 89.66596600941598\n",
      "at random state 45, testing accuracy is -837.2537802907125\n",
      "\n",
      "\n",
      "at random state 46, training accuracy is 90.70649607336432\n",
      "at random state 46, testing accuracy is 8.207392850621986\n",
      "\n",
      "\n",
      "at random state 47, training accuracy is 89.57672260532563\n",
      "at random state 47, testing accuracy is 15.065508643176418\n",
      "\n",
      "\n",
      "at random state 48, training accuracy is 87.6276051361276\n",
      "at random state 48, testing accuracy is 54.40940807071504\n",
      "\n",
      "\n",
      "at random state 49, training accuracy is 87.7907894600652\n",
      "at random state 49, testing accuracy is 40.7372940619745\n",
      "\n",
      "\n",
      "at random state 50, training accuracy is 90.6539057731398\n",
      "at random state 50, testing accuracy is -11.866686842450491\n",
      "\n",
      "\n",
      "at random state 51, training accuracy is 90.23989253053357\n",
      "at random state 51, testing accuracy is -26.681349507565443\n",
      "\n",
      "\n",
      "at random state 52, training accuracy is 91.30666112914683\n",
      "at random state 52, testing accuracy is 12.782186412530617\n",
      "\n",
      "\n",
      "at random state 53, training accuracy is 87.06387370287752\n",
      "at random state 53, testing accuracy is 16.36807193137114\n",
      "\n",
      "\n",
      "at random state 54, training accuracy is 93.67996817642316\n",
      "at random state 54, testing accuracy is -21.572170907043354\n",
      "\n",
      "\n",
      "at random state 55, training accuracy is 86.95949260630552\n",
      "at random state 55, testing accuracy is 28.50201515694286\n",
      "\n",
      "\n",
      "at random state 56, training accuracy is 92.65540030519347\n",
      "at random state 56, testing accuracy is 9.925112881828024\n",
      "\n",
      "\n",
      "at random state 57, training accuracy is 88.5252455835539\n",
      "at random state 57, testing accuracy is 17.23793569057579\n",
      "\n",
      "\n",
      "at random state 58, training accuracy is 89.1508520140518\n",
      "at random state 58, testing accuracy is 15.96832758586878\n",
      "\n",
      "\n",
      "at random state 59, training accuracy is 89.47724973432685\n",
      "at random state 59, testing accuracy is 19.559170534294314\n",
      "\n",
      "\n",
      "at random state 60, training accuracy is 90.57155397799379\n",
      "at random state 60, testing accuracy is -15.359890547237098\n",
      "\n",
      "\n",
      "at random state 61, training accuracy is 87.92000585034998\n",
      "at random state 61, testing accuracy is 39.616675441678254\n",
      "\n",
      "\n",
      "at random state 62, training accuracy is 88.82586952787241\n",
      "at random state 62, testing accuracy is 15.424191689433009\n",
      "\n",
      "\n",
      "at random state 63, training accuracy is 90.87262443651578\n",
      "at random state 63, testing accuracy is 11.651401487655333\n",
      "\n",
      "\n",
      "at random state 64, training accuracy is 87.83753172294682\n",
      "at random state 64, testing accuracy is -20.732677336368745\n",
      "\n",
      "\n",
      "at random state 65, training accuracy is 90.01794484129586\n",
      "at random state 65, testing accuracy is 0.9628918001600262\n",
      "\n",
      "\n",
      "at random state 66, training accuracy is 89.7732545572601\n",
      "at random state 66, testing accuracy is 37.23625376662767\n",
      "\n",
      "\n",
      "at random state 67, training accuracy is 88.7082258927679\n",
      "at random state 67, testing accuracy is 0.8676449997580549\n",
      "\n",
      "\n",
      "at random state 68, training accuracy is 89.41957773641171\n",
      "at random state 68, testing accuracy is -41.82992873835014\n",
      "\n",
      "\n",
      "at random state 69, training accuracy is 88.71176159538344\n",
      "at random state 69, testing accuracy is 15.302987037301897\n",
      "\n",
      "\n",
      "at random state 70, training accuracy is 90.98480190241952\n",
      "at random state 70, testing accuracy is 19.159358382244807\n",
      "\n",
      "\n",
      "at random state 71, training accuracy is 85.85568206253706\n",
      "at random state 71, testing accuracy is 41.80392405031713\n",
      "\n",
      "\n",
      "at random state 72, training accuracy is 90.99322013309758\n",
      "at random state 72, testing accuracy is -85.25474386273267\n",
      "\n",
      "\n",
      "at random state 73, training accuracy is 88.4413662923019\n",
      "at random state 73, testing accuracy is 16.20410958504339\n",
      "\n",
      "\n",
      "at random state 74, training accuracy is 92.198709084577\n",
      "at random state 74, testing accuracy is -12.864639138042655\n",
      "\n",
      "\n",
      "at random state 75, training accuracy is 91.22718481182122\n",
      "at random state 75, testing accuracy is 35.84939949269079\n",
      "\n",
      "\n",
      "at random state 76, training accuracy is 90.24567402784737\n",
      "at random state 76, testing accuracy is -40.47782391028112\n",
      "\n",
      "\n",
      "at random state 77, training accuracy is 89.83178341310078\n",
      "at random state 77, testing accuracy is -15.098577020358238\n",
      "\n",
      "\n",
      "at random state 78, training accuracy is 89.70822865468521\n",
      "at random state 78, testing accuracy is 26.32533642563676\n",
      "\n",
      "\n",
      "at random state 79, training accuracy is 89.30530246443573\n",
      "at random state 79, testing accuracy is 36.13733706337088\n",
      "\n",
      "\n",
      "at random state 80, training accuracy is 86.84979175234646\n",
      "at random state 80, testing accuracy is 55.37606204372692\n",
      "\n",
      "\n",
      "at random state 81, training accuracy is 88.40352353728717\n",
      "at random state 81, testing accuracy is 24.29029251024417\n",
      "\n",
      "\n",
      "at random state 82, training accuracy is 92.76150678217611\n",
      "at random state 82, testing accuracy is -20.02761411769378\n",
      "\n",
      "\n",
      "at random state 83, training accuracy is 87.1223423069362\n",
      "at random state 83, testing accuracy is 52.52216719429042\n",
      "\n",
      "\n",
      "at random state 84, training accuracy is 87.4799366155326\n",
      "at random state 84, testing accuracy is -110.02987049981118\n",
      "\n",
      "\n",
      "at random state 85, training accuracy is 92.79665323080319\n",
      "at random state 85, testing accuracy is -92.96361389190847\n",
      "\n",
      "\n",
      "at random state 86, training accuracy is 91.36748826465296\n",
      "at random state 86, testing accuracy is -59.64671542282822\n",
      "\n",
      "\n",
      "at random state 87, training accuracy is 85.64560421361038\n",
      "at random state 87, testing accuracy is 22.395422402388178\n",
      "\n",
      "\n",
      "at random state 88, training accuracy is 87.61733832936156\n",
      "at random state 88, testing accuracy is 37.62190334310894\n",
      "\n",
      "\n",
      "at random state 89, training accuracy is 90.1159266719048\n",
      "at random state 89, testing accuracy is 1.111834591805294\n",
      "\n",
      "\n",
      "at random state 90, training accuracy is 91.53516670849567\n",
      "at random state 90, testing accuracy is -23.028456277450715\n",
      "\n",
      "\n",
      "at random state 91, training accuracy is 86.90571180699327\n",
      "at random state 91, testing accuracy is 35.83345428161405\n",
      "\n",
      "\n",
      "at random state 92, training accuracy is 89.73196057743932\n",
      "at random state 92, testing accuracy is 28.783371340204557\n",
      "\n",
      "\n",
      "at random state 93, training accuracy is 90.85607172160287\n",
      "at random state 93, testing accuracy is 26.463219533980375\n",
      "\n",
      "\n",
      "at random state 94, training accuracy is 86.59265076763441\n",
      "at random state 94, testing accuracy is 51.76635706817259\n",
      "\n",
      "\n",
      "at random state 95, training accuracy is 90.86911288667326\n",
      "at random state 95, testing accuracy is 15.202455246138346\n",
      "\n",
      "\n",
      "at random state 96, training accuracy is 87.47459990880866\n",
      "at random state 96, testing accuracy is 1.3833970526474948\n",
      "\n",
      "\n",
      "at random state 97, training accuracy is 90.20364268648717\n",
      "at random state 97, testing accuracy is 19.569119874453435\n",
      "\n",
      "\n",
      "at random state 98, training accuracy is 91.76821871124062\n",
      "at random state 98, testing accuracy is 18.084077528891196\n",
      "\n",
      "\n",
      "at random state 99, training accuracy is 91.85418735329208\n",
      "at random state 99, testing accuracy is -118.4148871429342\n",
      "\n",
      "\n",
      "at random state 100, training accuracy is 90.74165383465763\n",
      "at random state 100, testing accuracy is 41.303621257065856\n",
      "\n",
      "\n",
      "at random state 101, training accuracy is 91.25565630441245\n",
      "at random state 101, testing accuracy is 49.25343438894322\n",
      "\n",
      "\n",
      "at random state 102, training accuracy is 88.61411756752966\n",
      "at random state 102, testing accuracy is 30.4329570740564\n",
      "\n",
      "\n",
      "at random state 103, training accuracy is 90.7001603818131\n",
      "at random state 103, testing accuracy is -29.080186701074663\n",
      "\n",
      "\n",
      "at random state 104, training accuracy is 88.86474508785464\n",
      "at random state 104, testing accuracy is 33.90638238398637\n",
      "\n",
      "\n",
      "at random state 105, training accuracy is 90.93045752632024\n",
      "at random state 105, testing accuracy is -2.393664786020322\n",
      "\n",
      "\n",
      "at random state 106, training accuracy is 88.2552200642687\n",
      "at random state 106, testing accuracy is 18.887056489115682\n",
      "\n",
      "\n",
      "at random state 107, training accuracy is 89.6296156173374\n",
      "at random state 107, testing accuracy is 48.993101769167765\n",
      "\n",
      "\n",
      "at random state 108, training accuracy is 90.82318033409969\n",
      "at random state 108, testing accuracy is -28.947701876978527\n",
      "\n",
      "\n",
      "at random state 109, training accuracy is 88.87948886841419\n",
      "at random state 109, testing accuracy is 32.62311883045656\n",
      "\n",
      "\n",
      "at random state 110, training accuracy is 89.1839084822758\n",
      "at random state 110, testing accuracy is -24.969096286530636\n",
      "\n",
      "\n",
      "at random state 111, training accuracy is 91.62884786202568\n",
      "at random state 111, testing accuracy is 12.610633036947384\n",
      "\n",
      "\n",
      "at random state 112, training accuracy is 87.97047437825516\n",
      "at random state 112, testing accuracy is 4.389281554314939\n",
      "\n",
      "\n",
      "at random state 113, training accuracy is 90.02596823250823\n",
      "at random state 113, testing accuracy is -41.149363402667106\n",
      "\n",
      "\n",
      "at random state 114, training accuracy is 86.92143132203549\n",
      "at random state 114, testing accuracy is 50.130040142596364\n",
      "\n",
      "\n",
      "at random state 115, training accuracy is 89.14083317945985\n",
      "at random state 115, testing accuracy is 21.169645844919316\n",
      "\n",
      "\n",
      "at random state 116, training accuracy is 87.4467378440583\n",
      "at random state 116, testing accuracy is 56.80877992565906\n",
      "\n",
      "\n",
      "at random state 117, training accuracy is 87.73504871757889\n",
      "at random state 117, testing accuracy is 20.245588516271084\n",
      "\n",
      "\n",
      "at random state 118, training accuracy is 87.19258062068297\n",
      "at random state 118, testing accuracy is 42.12976464093499\n",
      "\n",
      "\n",
      "at random state 119, training accuracy is 88.83326021416241\n",
      "at random state 119, testing accuracy is 58.959571525376205\n",
      "\n",
      "\n",
      "at random state 120, training accuracy is 87.35092303397877\n",
      "at random state 120, testing accuracy is 35.544523931282214\n",
      "\n",
      "\n",
      "at random state 121, training accuracy is 90.69641506048227\n",
      "at random state 121, testing accuracy is -13.185955245702496\n",
      "\n",
      "\n",
      "at random state 122, training accuracy is 90.18301964484569\n",
      "at random state 122, testing accuracy is 41.26860372308786\n",
      "\n",
      "\n",
      "at random state 123, training accuracy is 90.7391768092238\n",
      "at random state 123, testing accuracy is -3.8052488668321782\n",
      "\n",
      "\n",
      "at random state 124, training accuracy is 91.66652881600493\n",
      "at random state 124, testing accuracy is -7.619730256220225\n",
      "\n",
      "\n",
      "at random state 125, training accuracy is 88.72451911775356\n",
      "at random state 125, testing accuracy is 35.80097748509943\n",
      "\n",
      "\n",
      "at random state 126, training accuracy is 89.83844566320897\n",
      "at random state 126, testing accuracy is 39.567049984838675\n",
      "\n",
      "\n",
      "at random state 127, training accuracy is 86.5693278083608\n",
      "at random state 127, testing accuracy is 58.675468051446046\n",
      "\n",
      "\n",
      "at random state 128, training accuracy is 86.96816388283713\n",
      "at random state 128, testing accuracy is 54.53408213579396\n",
      "\n",
      "\n",
      "at random state 129, training accuracy is 87.95373229773342\n",
      "at random state 129, testing accuracy is 30.00541923186426\n",
      "\n",
      "\n",
      "at random state 130, training accuracy is 87.8143730833648\n",
      "at random state 130, testing accuracy is 45.154277439976084\n",
      "\n",
      "\n",
      "at random state 131, training accuracy is 91.29514052069315\n",
      "at random state 131, testing accuracy is 10.671443030426332\n",
      "\n",
      "\n",
      "at random state 132, training accuracy is 88.192581710839\n",
      "at random state 132, testing accuracy is 23.287551902637837\n",
      "\n",
      "\n",
      "at random state 133, training accuracy is 88.50253004817843\n",
      "at random state 133, testing accuracy is 38.78892171326643\n",
      "\n",
      "\n",
      "at random state 134, training accuracy is 87.61790122984998\n",
      "at random state 134, testing accuracy is 42.705587391335584\n",
      "\n",
      "\n",
      "at random state 135, training accuracy is 88.38561756778873\n",
      "at random state 135, testing accuracy is 39.065552892338495\n",
      "\n",
      "\n",
      "at random state 136, training accuracy is 90.77243323184085\n",
      "at random state 136, testing accuracy is -3.023257551530545\n",
      "\n",
      "\n",
      "at random state 137, training accuracy is 91.3773426747188\n",
      "at random state 137, testing accuracy is -3.28966100434378\n",
      "\n",
      "\n",
      "at random state 138, training accuracy is 90.3739603191012\n",
      "at random state 138, testing accuracy is -104.94256370563697\n",
      "\n",
      "\n",
      "at random state 139, training accuracy is 88.39248235194324\n",
      "at random state 139, testing accuracy is 44.82555575281773\n",
      "\n",
      "\n",
      "at random state 140, training accuracy is 90.17638923091572\n",
      "at random state 140, testing accuracy is 20.289684325984283\n",
      "\n",
      "\n",
      "at random state 141, training accuracy is 91.80450046448775\n",
      "at random state 141, testing accuracy is -6.896168332893771\n",
      "\n",
      "\n",
      "at random state 142, training accuracy is 88.0644386825582\n",
      "at random state 142, testing accuracy is 39.35754423457607\n",
      "\n",
      "\n",
      "at random state 143, training accuracy is 91.69950223276412\n",
      "at random state 143, testing accuracy is -35.37136916710018\n",
      "\n",
      "\n",
      "at random state 144, training accuracy is 89.46080491796695\n",
      "at random state 144, testing accuracy is -29.73156991582073\n",
      "\n",
      "\n",
      "at random state 145, training accuracy is 89.8545186762322\n",
      "at random state 145, testing accuracy is -27.600548022635742\n",
      "\n",
      "\n",
      "at random state 146, training accuracy is 92.9545460095637\n",
      "at random state 146, testing accuracy is -0.602133277985506\n",
      "\n",
      "\n",
      "at random state 147, training accuracy is 86.99007318729143\n",
      "at random state 147, testing accuracy is 47.99812855757215\n",
      "\n",
      "\n",
      "at random state 148, training accuracy is 88.55191834102719\n",
      "at random state 148, testing accuracy is 45.794107722342616\n",
      "\n",
      "\n",
      "at random state 149, training accuracy is 92.99418145870419\n",
      "at random state 149, testing accuracy is -46.58697345930196\n",
      "\n",
      "\n",
      "at random state 150, training accuracy is 91.69237486944782\n",
      "at random state 150, testing accuracy is 11.2677190135829\n",
      "\n",
      "\n",
      "at random state 151, training accuracy is 93.88315875092074\n",
      "at random state 151, testing accuracy is -133.5154137799387\n",
      "\n",
      "\n",
      "at random state 152, training accuracy is 91.63847180770355\n",
      "at random state 152, testing accuracy is -47.096799738874616\n",
      "\n",
      "\n",
      "at random state 153, training accuracy is 91.28122809614887\n",
      "at random state 153, testing accuracy is -109.0263698177567\n",
      "\n",
      "\n",
      "at random state 154, training accuracy is 86.52283506639917\n",
      "at random state 154, testing accuracy is 39.42157883273105\n",
      "\n",
      "\n",
      "at random state 155, training accuracy is 90.85963451695342\n",
      "at random state 155, testing accuracy is -16.63284492442387\n",
      "\n",
      "\n",
      "at random state 156, training accuracy is 87.07889876949953\n",
      "at random state 156, testing accuracy is 24.161294118349918\n",
      "\n",
      "\n",
      "at random state 157, training accuracy is 89.00415814142421\n",
      "at random state 157, testing accuracy is -21.174245503210145\n",
      "\n",
      "\n",
      "at random state 158, training accuracy is 89.13702659834522\n",
      "at random state 158, testing accuracy is 25.860349872382425\n",
      "\n",
      "\n",
      "at random state 159, training accuracy is 86.99227549653241\n",
      "at random state 159, testing accuracy is 40.58355537552505\n",
      "\n",
      "\n",
      "at random state 160, training accuracy is 89.78767430990473\n",
      "at random state 160, testing accuracy is 6.881389146704608\n",
      "\n",
      "\n",
      "at random state 161, training accuracy is 87.38831410169718\n",
      "at random state 161, testing accuracy is 25.140161172721687\n",
      "\n",
      "\n",
      "at random state 162, training accuracy is 90.84068543758235\n",
      "at random state 162, testing accuracy is 12.664244407444015\n",
      "\n",
      "\n",
      "at random state 163, training accuracy is 85.32953826521647\n",
      "at random state 163, testing accuracy is 36.350975826746314\n",
      "\n",
      "\n",
      "at random state 164, training accuracy is 88.64114961518361\n",
      "at random state 164, testing accuracy is 24.94137024040238\n",
      "\n",
      "\n",
      "at random state 165, training accuracy is 86.14707799052292\n",
      "at random state 165, testing accuracy is 56.56991991885365\n",
      "\n",
      "\n",
      "at random state 166, training accuracy is 88.26637043182552\n",
      "at random state 166, testing accuracy is 29.28325240944558\n",
      "\n",
      "\n",
      "at random state 167, training accuracy is 87.57169277433286\n",
      "at random state 167, testing accuracy is 28.453564134695696\n",
      "\n",
      "\n",
      "at random state 168, training accuracy is 92.66617254892026\n",
      "at random state 168, testing accuracy is -26.549681085643794\n",
      "\n",
      "\n",
      "at random state 169, training accuracy is 92.37146745231482\n",
      "at random state 169, testing accuracy is -89.80909748917618\n",
      "\n",
      "\n",
      "at random state 170, training accuracy is 87.41543920011443\n",
      "at random state 170, testing accuracy is 6.602441316540464\n",
      "\n",
      "\n",
      "at random state 171, training accuracy is 85.8650849704557\n",
      "at random state 171, testing accuracy is 71.59350989553631\n",
      "\n",
      "\n",
      "at random state 172, training accuracy is 91.27956390161212\n",
      "at random state 172, testing accuracy is -50.842497235144826\n",
      "\n",
      "\n",
      "at random state 173, training accuracy is 88.95067322617868\n",
      "at random state 173, testing accuracy is 33.33293891791751\n",
      "\n",
      "\n",
      "at random state 174, training accuracy is 89.00612665774285\n",
      "at random state 174, testing accuracy is 43.70144308162064\n",
      "\n",
      "\n",
      "at random state 175, training accuracy is 89.03744308852873\n",
      "at random state 175, testing accuracy is 10.998194672210836\n",
      "\n",
      "\n",
      "at random state 176, training accuracy is 87.88343967117004\n",
      "at random state 176, testing accuracy is 50.11443382351628\n",
      "\n",
      "\n",
      "at random state 177, training accuracy is 89.09561175068959\n",
      "at random state 177, testing accuracy is 29.794190237585262\n",
      "\n",
      "\n",
      "at random state 178, training accuracy is 87.26026775901917\n",
      "at random state 178, testing accuracy is 26.620713439638088\n",
      "\n",
      "\n",
      "at random state 179, training accuracy is 86.04194963121819\n",
      "at random state 179, testing accuracy is 51.14319364815223\n",
      "\n",
      "\n",
      "at random state 180, training accuracy is 88.62887650984878\n",
      "at random state 180, testing accuracy is 37.45374227884\n",
      "\n",
      "\n",
      "at random state 181, training accuracy is 90.65889145247553\n",
      "at random state 181, testing accuracy is 16.493387902824587\n",
      "\n",
      "\n",
      "at random state 182, training accuracy is 85.38976550323044\n",
      "at random state 182, testing accuracy is 26.845995598515813\n",
      "\n",
      "\n",
      "at random state 183, training accuracy is 91.23845738306383\n",
      "at random state 183, testing accuracy is -18.56223057079567\n",
      "\n",
      "\n",
      "at random state 184, training accuracy is 88.6096303286144\n",
      "at random state 184, testing accuracy is 68.47745122718686\n",
      "\n",
      "\n",
      "at random state 185, training accuracy is 88.11523739565705\n",
      "at random state 185, testing accuracy is 40.170303039157886\n",
      "\n",
      "\n",
      "at random state 186, training accuracy is 87.64588714609623\n",
      "at random state 186, testing accuracy is 25.670378082822065\n",
      "\n",
      "\n",
      "at random state 187, training accuracy is 88.63256152677602\n",
      "at random state 187, testing accuracy is 26.70679638529416\n",
      "\n",
      "\n",
      "at random state 188, training accuracy is 89.48000038959482\n",
      "at random state 188, testing accuracy is 39.04538468600024\n",
      "\n",
      "\n",
      "at random state 189, training accuracy is 91.3110674718786\n",
      "at random state 189, testing accuracy is 18.552732955120288\n",
      "\n",
      "\n",
      "at random state 190, training accuracy is 91.70695573222758\n",
      "at random state 190, testing accuracy is -27.835415818395393\n",
      "\n",
      "\n",
      "at random state 191, training accuracy is 89.5263287892161\n",
      "at random state 191, testing accuracy is 31.545134693395347\n",
      "\n",
      "\n",
      "at random state 192, training accuracy is 88.270124473297\n",
      "at random state 192, testing accuracy is 59.90558096908967\n",
      "\n",
      "\n",
      "at random state 193, training accuracy is 90.70231403284726\n",
      "at random state 193, testing accuracy is 7.389903557194111\n",
      "\n",
      "\n",
      "at random state 194, training accuracy is 88.45924985610239\n",
      "at random state 194, testing accuracy is 10.37739892859717\n",
      "\n",
      "\n",
      "at random state 195, training accuracy is 89.48036693627529\n",
      "at random state 195, testing accuracy is 4.000475877519882\n",
      "\n",
      "\n",
      "at random state 196, training accuracy is 90.42504952293267\n",
      "at random state 196, testing accuracy is -2.055960521692124\n",
      "\n",
      "\n",
      "at random state 197, training accuracy is 86.45807069105356\n",
      "at random state 197, testing accuracy is 47.53017576249935\n",
      "\n",
      "\n",
      "at random state 198, training accuracy is 86.26104205879682\n",
      "at random state 198, testing accuracy is 43.67202335727991\n",
      "\n",
      "\n",
      "at random state 199, training accuracy is 90.16221194012485\n",
      "at random state 199, testing accuracy is 28.2138393339597\n",
      "\n",
      "\n"
     ]
    }
   ],
   "source": [
    "#using range fucntion to find the best random state using Logestic regression\n",
    "for i in range(0,200):\n",
    "    x_train,x_test,y_train,y_test=train_test_split(x_scaler,y,test_size=0.25,random_state=i)\n",
    "    rf.fit(x_train,y_train)\n",
    "    pred=rf.predict(x_train)\n",
    "    y_pred=rf.predict(x_test)\n",
    "    print(f'at random state {i}, training accuracy is {metrics.r2_score(y_train,pred)*100}')\n",
    "    print(f'at random state {i}, testing accuracy is {metrics.r2_score(y_test,y_pred)*100}')\n",
    "    print('\\n')"
   ]
  },
  {
   "cell_type": "code",
   "execution_count": 109,
   "id": "c0e1cf98",
   "metadata": {},
   "outputs": [],
   "source": [
    "x_train,x_test,y_train,y_test=train_test_split(x_scaler,y,test_size=0.25,random_state=171)"
   ]
  },
  {
   "cell_type": "code",
   "execution_count": 110,
   "id": "20847d88",
   "metadata": {},
   "outputs": [
    {
     "data": {
      "text/html": [
       "<style>#sk-container-id-7 {color: black;background-color: white;}#sk-container-id-7 pre{padding: 0;}#sk-container-id-7 div.sk-toggleable {background-color: white;}#sk-container-id-7 label.sk-toggleable__label {cursor: pointer;display: block;width: 100%;margin-bottom: 0;padding: 0.3em;box-sizing: border-box;text-align: center;}#sk-container-id-7 label.sk-toggleable__label-arrow:before {content: \"▸\";float: left;margin-right: 0.25em;color: #696969;}#sk-container-id-7 label.sk-toggleable__label-arrow:hover:before {color: black;}#sk-container-id-7 div.sk-estimator:hover label.sk-toggleable__label-arrow:before {color: black;}#sk-container-id-7 div.sk-toggleable__content {max-height: 0;max-width: 0;overflow: hidden;text-align: left;background-color: #f0f8ff;}#sk-container-id-7 div.sk-toggleable__content pre {margin: 0.2em;color: black;border-radius: 0.25em;background-color: #f0f8ff;}#sk-container-id-7 input.sk-toggleable__control:checked~div.sk-toggleable__content {max-height: 200px;max-width: 100%;overflow: auto;}#sk-container-id-7 input.sk-toggleable__control:checked~label.sk-toggleable__label-arrow:before {content: \"▾\";}#sk-container-id-7 div.sk-estimator input.sk-toggleable__control:checked~label.sk-toggleable__label {background-color: #d4ebff;}#sk-container-id-7 div.sk-label input.sk-toggleable__control:checked~label.sk-toggleable__label {background-color: #d4ebff;}#sk-container-id-7 input.sk-hidden--visually {border: 0;clip: rect(1px 1px 1px 1px);clip: rect(1px, 1px, 1px, 1px);height: 1px;margin: -1px;overflow: hidden;padding: 0;position: absolute;width: 1px;}#sk-container-id-7 div.sk-estimator {font-family: monospace;background-color: #f0f8ff;border: 1px dotted black;border-radius: 0.25em;box-sizing: border-box;margin-bottom: 0.5em;}#sk-container-id-7 div.sk-estimator:hover {background-color: #d4ebff;}#sk-container-id-7 div.sk-parallel-item::after {content: \"\";width: 100%;border-bottom: 1px solid gray;flex-grow: 1;}#sk-container-id-7 div.sk-label:hover label.sk-toggleable__label {background-color: #d4ebff;}#sk-container-id-7 div.sk-serial::before {content: \"\";position: absolute;border-left: 1px solid gray;box-sizing: border-box;top: 0;bottom: 0;left: 50%;z-index: 0;}#sk-container-id-7 div.sk-serial {display: flex;flex-direction: column;align-items: center;background-color: white;padding-right: 0.2em;padding-left: 0.2em;position: relative;}#sk-container-id-7 div.sk-item {position: relative;z-index: 1;}#sk-container-id-7 div.sk-parallel {display: flex;align-items: stretch;justify-content: center;background-color: white;position: relative;}#sk-container-id-7 div.sk-item::before, #sk-container-id-7 div.sk-parallel-item::before {content: \"\";position: absolute;border-left: 1px solid gray;box-sizing: border-box;top: 0;bottom: 0;left: 50%;z-index: -1;}#sk-container-id-7 div.sk-parallel-item {display: flex;flex-direction: column;z-index: 1;position: relative;background-color: white;}#sk-container-id-7 div.sk-parallel-item:first-child::after {align-self: flex-end;width: 50%;}#sk-container-id-7 div.sk-parallel-item:last-child::after {align-self: flex-start;width: 50%;}#sk-container-id-7 div.sk-parallel-item:only-child::after {width: 0;}#sk-container-id-7 div.sk-dashed-wrapped {border: 1px dashed gray;margin: 0 0.4em 0.5em 0.4em;box-sizing: border-box;padding-bottom: 0.4em;background-color: white;}#sk-container-id-7 div.sk-label label {font-family: monospace;font-weight: bold;display: inline-block;line-height: 1.2em;}#sk-container-id-7 div.sk-label-container {text-align: center;}#sk-container-id-7 div.sk-container {/* jupyter's `normalize.less` sets `[hidden] { display: none; }` but bootstrap.min.css set `[hidden] { display: none !important; }` so we also need the `!important` here to be able to override the default hidden behavior on the sphinx rendered scikit-learn.org. See: https://github.com/scikit-learn/scikit-learn/issues/21755 */display: inline-block !important;position: relative;}#sk-container-id-7 div.sk-text-repr-fallback {display: none;}</style><div id=\"sk-container-id-7\" class=\"sk-top-container\"><div class=\"sk-text-repr-fallback\"><pre>RandomForestRegressor()</pre><b>In a Jupyter environment, please rerun this cell to show the HTML representation or trust the notebook. <br />On GitHub, the HTML representation is unable to render, please try loading this page with nbviewer.org.</b></div><div class=\"sk-container\" hidden><div class=\"sk-item\"><div class=\"sk-estimator sk-toggleable\"><input class=\"sk-toggleable__control sk-hidden--visually\" id=\"sk-estimator-id-7\" type=\"checkbox\" checked><label for=\"sk-estimator-id-7\" class=\"sk-toggleable__label sk-toggleable__label-arrow\">RandomForestRegressor</label><div class=\"sk-toggleable__content\"><pre>RandomForestRegressor()</pre></div></div></div></div></div>"
      ],
      "text/plain": [
       "RandomForestRegressor()"
      ]
     },
     "execution_count": 110,
     "metadata": {},
     "output_type": "execute_result"
    }
   ],
   "source": [
    "rf.fit(x_train,y_train)"
   ]
  },
  {
   "cell_type": "code",
   "execution_count": 114,
   "id": "c54029fa",
   "metadata": {},
   "outputs": [],
   "source": [
    "pred=rf.predict(x_train)\n",
    "y_pred=rf.predict(x_test)"
   ]
  },
  {
   "cell_type": "code",
   "execution_count": 115,
   "id": "e23f65c8",
   "metadata": {},
   "outputs": [
    {
     "name": "stdout",
     "output_type": "stream",
     "text": [
      "\n",
      " Training Score: 86.50325561469404\n",
      "\n",
      " Testing Score: 72.92467257804222\n"
     ]
    }
   ],
   "source": [
    "print('\\n Training Score:',metrics.r2_score(y_train,pred)*100)\n",
    "print('\\n Testing Score:',metrics.r2_score(y_test,y_pred)*100)"
   ]
  },
  {
   "cell_type": "code",
   "execution_count": 116,
   "id": "2045c5b9",
   "metadata": {},
   "outputs": [],
   "source": [
    "train_accuracy=metrics.r2_score(y_train,pred)\n",
    "test_accuracy=metrics.r2_score(y_test,y_pred)"
   ]
  },
  {
   "cell_type": "code",
   "execution_count": 95,
   "id": "054631d8",
   "metadata": {},
   "outputs": [
    {
     "data": {
      "text/plain": [
       "204.4069565217391"
      ]
     },
     "execution_count": 95,
     "metadata": {},
     "output_type": "execute_result"
    }
   ],
   "source": [
    "mean_absolute_error(y_test,y_pred)"
   ]
  },
  {
   "cell_type": "code",
   "execution_count": 96,
   "id": "f455b257",
   "metadata": {},
   "outputs": [
    {
     "data": {
      "text/plain": [
       "73065.04753913042"
      ]
     },
     "execution_count": 96,
     "metadata": {},
     "output_type": "execute_result"
    }
   ],
   "source": [
    "mean_squared_error(y_test,y_pred)"
   ]
  },
  {
   "cell_type": "code",
   "execution_count": 97,
   "id": "a6726a80",
   "metadata": {},
   "outputs": [
    {
     "data": {
      "text/plain": [
       "270.30547079023466"
      ]
     },
     "execution_count": 97,
     "metadata": {},
     "output_type": "execute_result"
    }
   ],
   "source": [
    "np.sqrt(mean_squared_error(y_test,y_pred))"
   ]
  },
  {
   "cell_type": "code",
   "execution_count": 98,
   "id": "91e3e6fc",
   "metadata": {},
   "outputs": [
    {
     "data": {
      "image/png": "[encoded data removed]",
      "text/plain": [
       "<Figure size 576x432 with 1 Axes>"
      ]
     },
     "metadata": {
      "needs_background": "light"
     },
     "output_type": "display_data"
    }
   ],
   "source": [
    "#Plotting the best fit line\n",
    "plt.figure(figsize=(8,6))\n",
    "plt.scatter(x=y_test,y=y_pred,color='red')\n",
    "plt.plot(y_test,y_test,color='blue')\n",
    "plt.xlabel('Actual sale price',fontsize=10)\n",
    "plt.ylabel('Predicted sale price',fontsize=10)\n",
    "plt.show()"
   ]
  },
  {
   "cell_type": "code",
   "execution_count": 99,
   "id": "0e5fe560",
   "metadata": {},
   "outputs": [],
   "source": [
    "#saving the model\n",
    "#Importing required libraries\n",
    "import pickle\n",
    "pickle.dump(rf,open('Sales Predict','wb'))"
   ]
  },
  {
   "cell_type": "code",
   "execution_count": 100,
   "id": "1f215b48",
   "metadata": {},
   "outputs": [],
   "source": [
    "#Loading the saved model\n",
    "model=pickle.load(open('Sales Predict','rb'))"
   ]
  },
  {
   "cell_type": "code",
   "execution_count": 101,
   "id": "dce47759",
   "metadata": {},
   "outputs": [
    {
     "data": {
      "text/plain": [
       "array([1150.21,  105.8 ,  236.26,  223.45,  159.84,   71.86,  587.99,\n",
       "        173.65,  509.42,  764.88, 1691.95,  226.25,  160.98,  113.17,\n",
       "        271.57,  563.74,  708.3 ,  156.01,  943.63,  119.31,  458.77,\n",
       "        866.57,  564.77])"
      ]
     },
     "execution_count": 101,
     "metadata": {},
     "output_type": "execute_result"
    }
   ],
   "source": [
    "#Prediction\n",
    "prediction=model.predict(x_test)\n",
    "prediction"
   ]
  },
  {
   "cell_type": "code",
   "execution_count": 102,
   "id": "d30539dc",
   "metadata": {},
   "outputs": [
    {
     "data": {
      "text/html": [
       "<div>\n",
       "<style scoped>\n",
       "    .dataframe tbody tr th:only-of-type {\n",
       "        vertical-align: middle;\n",
       "    }\n",
       "\n",
       "    .dataframe tbody tr th {\n",
       "        vertical-align: top;\n",
       "    }\n",
       "\n",
       "    .dataframe thead th {\n",
       "        text-align: right;\n",
       "    }\n",
       "</style>\n",
       "<table border=\"1\" class=\"dataframe\">\n",
       "  <thead>\n",
       "    <tr style=\"text-align: right;\">\n",
       "      <th></th>\n",
       "      <th>0</th>\n",
       "      <th>1</th>\n",
       "      <th>2</th>\n",
       "      <th>3</th>\n",
       "      <th>4</th>\n",
       "      <th>5</th>\n",
       "      <th>6</th>\n",
       "      <th>7</th>\n",
       "      <th>8</th>\n",
       "      <th>9</th>\n",
       "      <th>...</th>\n",
       "      <th>13</th>\n",
       "      <th>14</th>\n",
       "      <th>15</th>\n",
       "      <th>16</th>\n",
       "      <th>17</th>\n",
       "      <th>18</th>\n",
       "      <th>19</th>\n",
       "      <th>20</th>\n",
       "      <th>21</th>\n",
       "      <th>22</th>\n",
       "    </tr>\n",
       "  </thead>\n",
       "  <tbody>\n",
       "    <tr>\n",
       "      <th>Predicted</th>\n",
       "      <td>1150.21</td>\n",
       "      <td>105.8</td>\n",
       "      <td>236.26</td>\n",
       "      <td>223.45</td>\n",
       "      <td>159.84</td>\n",
       "      <td>71.86</td>\n",
       "      <td>587.99</td>\n",
       "      <td>173.65</td>\n",
       "      <td>509.42</td>\n",
       "      <td>764.88</td>\n",
       "      <td>...</td>\n",
       "      <td>113.17</td>\n",
       "      <td>271.57</td>\n",
       "      <td>563.74</td>\n",
       "      <td>708.3</td>\n",
       "      <td>156.01</td>\n",
       "      <td>943.63</td>\n",
       "      <td>119.31</td>\n",
       "      <td>458.77</td>\n",
       "      <td>866.57</td>\n",
       "      <td>564.77</td>\n",
       "    </tr>\n",
       "    <tr>\n",
       "      <th>Actual</th>\n",
       "      <td>1227.00</td>\n",
       "      <td>21.0</td>\n",
       "      <td>52.00</td>\n",
       "      <td>10.00</td>\n",
       "      <td>141.00</td>\n",
       "      <td>111.00</td>\n",
       "      <td>194.00</td>\n",
       "      <td>0.00</td>\n",
       "      <td>638.00</td>\n",
       "      <td>1134.00</td>\n",
       "      <td>...</td>\n",
       "      <td>106.00</td>\n",
       "      <td>250.00</td>\n",
       "      <td>627.00</td>\n",
       "      <td>140.0</td>\n",
       "      <td>523.00</td>\n",
       "      <td>1580.00</td>\n",
       "      <td>198.00</td>\n",
       "      <td>0.00</td>\n",
       "      <td>607.00</td>\n",
       "      <td>406.00</td>\n",
       "    </tr>\n",
       "  </tbody>\n",
       "</table>\n",
       "<p>2 rows × 23 columns</p>\n",
       "</div>"
      ],
      "text/plain": [
       "                0      1       2       3       4       5       6       7   \\\n",
       "Predicted  1150.21  105.8  236.26  223.45  159.84   71.86  587.99  173.65   \n",
       "Actual     1227.00   21.0   52.00   10.00  141.00  111.00  194.00    0.00   \n",
       "\n",
       "               8        9   ...      13      14      15     16      17  \\\n",
       "Predicted  509.42   764.88  ...  113.17  271.57  563.74  708.3  156.01   \n",
       "Actual     638.00  1134.00  ...  106.00  250.00  627.00  140.0  523.00   \n",
       "\n",
       "                18      19      20      21      22  \n",
       "Predicted   943.63  119.31  458.77  866.57  564.77  \n",
       "Actual     1580.00  198.00    0.00  607.00  406.00  \n",
       "\n",
       "[2 rows x 23 columns]"
      ]
     },
     "execution_count": 102,
     "metadata": {},
     "output_type": "execute_result"
    }
   ],
   "source": [
    "Predicted_sales_Price=pd.DataFrame([model.predict(x_test)[:],y_test[:]],index=['Predicted','Actual'])\n",
    "Predicted_sales_Price"
   ]
  },
  {
   "cell_type": "code",
   "execution_count": null,
   "id": "bcd865e5",
   "metadata": {},
   "outputs": [],
   "source": []
  }
 ],
 "metadata": {
  "kernelspec": {
   "display_name": "Python 3 (ipykernel)",
   "language": "python",
   "name": "python3"
  },
  "language_info": {
   "codemirror_mode": {
    "name": "ipython",
    "version": 3
   },
   "file_extension": ".py",
   "mimetype": "text/x-python",
   "name": "python",
   "nbconvert_exporter": "python",
   "pygments_lexer": "ipython3",
   "version": "3.9.12"
  }
 },
 "nbformat": 4,
 "nbformat_minor": 5
}
