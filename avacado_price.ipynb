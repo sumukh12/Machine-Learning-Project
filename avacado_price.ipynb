{
 "cells": [
  {
   "cell_type": "code",
   "execution_count": 1,
   "metadata": {},
   "outputs": [],
   "source": [
    "import warnings\n",
    "warnings.filterwarnings(\"ignore\")\n"
   ]
  },
  {
   "cell_type": "code",
   "execution_count": 3,
   "metadata": {},
   "outputs": [],
   "source": [
    "import pandas as pd\n",
    "df=pd.read_csv(\"avacado_region.csv\")"
   ]
  },
  {
   "cell_type": "code",
   "execution_count": 4,
   "metadata": {},
   "outputs": [
    {
     "data": {
      "text/html": [
       "<div>\n",
       "<style scoped>\n",
       "    .dataframe tbody tr th:only-of-type {\n",
       "        vertical-align: middle;\n",
       "    }\n",
       "\n",
       "    .dataframe tbody tr th {\n",
       "        vertical-align: top;\n",
       "    }\n",
       "\n",
       "    .dataframe thead th {\n",
       "        text-align: right;\n",
       "    }\n",
       "</style>\n",
       "<table border=\"1\" class=\"dataframe\">\n",
       "  <thead>\n",
       "    <tr style=\"text-align: right;\">\n",
       "      <th></th>\n",
       "      <th>Unnamed: 0</th>\n",
       "      <th>Date</th>\n",
       "      <th>AveragePrice</th>\n",
       "      <th>Total Volume</th>\n",
       "      <th>4046</th>\n",
       "      <th>4225</th>\n",
       "      <th>4770</th>\n",
       "      <th>Total Bags</th>\n",
       "      <th>Small Bags</th>\n",
       "      <th>Large Bags</th>\n",
       "      <th>XLarge Bags</th>\n",
       "      <th>type</th>\n",
       "      <th>year</th>\n",
       "      <th>region</th>\n",
       "    </tr>\n",
       "  </thead>\n",
       "  <tbody>\n",
       "    <tr>\n",
       "      <th>0</th>\n",
       "      <td>0.0</td>\n",
       "      <td>27-12-2015</td>\n",
       "      <td>1.33</td>\n",
       "      <td>64236.62</td>\n",
       "      <td>1036.74</td>\n",
       "      <td>54454.85</td>\n",
       "      <td>48.16</td>\n",
       "      <td>8696.87</td>\n",
       "      <td>8603.62</td>\n",
       "      <td>93.25</td>\n",
       "      <td>0.0</td>\n",
       "      <td>conventional</td>\n",
       "      <td>2015.0</td>\n",
       "      <td>Albany</td>\n",
       "    </tr>\n",
       "    <tr>\n",
       "      <th>1</th>\n",
       "      <td>1.0</td>\n",
       "      <td>20-12-2015</td>\n",
       "      <td>1.35</td>\n",
       "      <td>54876.98</td>\n",
       "      <td>674.28</td>\n",
       "      <td>44638.81</td>\n",
       "      <td>58.33</td>\n",
       "      <td>9505.56</td>\n",
       "      <td>9408.07</td>\n",
       "      <td>97.49</td>\n",
       "      <td>0.0</td>\n",
       "      <td>conventional</td>\n",
       "      <td>2015.0</td>\n",
       "      <td>Albany</td>\n",
       "    </tr>\n",
       "    <tr>\n",
       "      <th>2</th>\n",
       "      <td>2.0</td>\n",
       "      <td>13-12-2015</td>\n",
       "      <td>0.93</td>\n",
       "      <td>118220.22</td>\n",
       "      <td>794.70</td>\n",
       "      <td>109149.67</td>\n",
       "      <td>130.50</td>\n",
       "      <td>8145.35</td>\n",
       "      <td>8042.21</td>\n",
       "      <td>103.14</td>\n",
       "      <td>0.0</td>\n",
       "      <td>conventional</td>\n",
       "      <td>2015.0</td>\n",
       "      <td>Albany</td>\n",
       "    </tr>\n",
       "    <tr>\n",
       "      <th>3</th>\n",
       "      <td>3.0</td>\n",
       "      <td>06-12-2015</td>\n",
       "      <td>1.08</td>\n",
       "      <td>78992.15</td>\n",
       "      <td>1132.00</td>\n",
       "      <td>71976.41</td>\n",
       "      <td>72.58</td>\n",
       "      <td>5811.16</td>\n",
       "      <td>5677.40</td>\n",
       "      <td>133.76</td>\n",
       "      <td>0.0</td>\n",
       "      <td>conventional</td>\n",
       "      <td>2015.0</td>\n",
       "      <td>Albany</td>\n",
       "    </tr>\n",
       "    <tr>\n",
       "      <th>4</th>\n",
       "      <td>4.0</td>\n",
       "      <td>29-11-2015</td>\n",
       "      <td>1.28</td>\n",
       "      <td>51039.60</td>\n",
       "      <td>941.48</td>\n",
       "      <td>43838.39</td>\n",
       "      <td>75.78</td>\n",
       "      <td>6183.95</td>\n",
       "      <td>5986.26</td>\n",
       "      <td>197.69</td>\n",
       "      <td>0.0</td>\n",
       "      <td>conventional</td>\n",
       "      <td>2015.0</td>\n",
       "      <td>Albany</td>\n",
       "    </tr>\n",
       "    <tr>\n",
       "      <th>...</th>\n",
       "      <td>...</td>\n",
       "      <td>...</td>\n",
       "      <td>...</td>\n",
       "      <td>...</td>\n",
       "      <td>...</td>\n",
       "      <td>...</td>\n",
       "      <td>...</td>\n",
       "      <td>...</td>\n",
       "      <td>...</td>\n",
       "      <td>...</td>\n",
       "      <td>...</td>\n",
       "      <td>...</td>\n",
       "      <td>...</td>\n",
       "      <td>...</td>\n",
       "    </tr>\n",
       "    <tr>\n",
       "      <th>16463</th>\n",
       "      <td>NaN</td>\n",
       "      <td>NaN</td>\n",
       "      <td>NaN</td>\n",
       "      <td>NaN</td>\n",
       "      <td>NaN</td>\n",
       "      <td>NaN</td>\n",
       "      <td>NaN</td>\n",
       "      <td>NaN</td>\n",
       "      <td>NaN</td>\n",
       "      <td>NaN</td>\n",
       "      <td>NaN</td>\n",
       "      <td>NaN</td>\n",
       "      <td>NaN</td>\n",
       "      <td>NaN</td>\n",
       "    </tr>\n",
       "    <tr>\n",
       "      <th>16464</th>\n",
       "      <td>NaN</td>\n",
       "      <td>NaN</td>\n",
       "      <td>NaN</td>\n",
       "      <td>NaN</td>\n",
       "      <td>NaN</td>\n",
       "      <td>NaN</td>\n",
       "      <td>NaN</td>\n",
       "      <td>NaN</td>\n",
       "      <td>NaN</td>\n",
       "      <td>NaN</td>\n",
       "      <td>NaN</td>\n",
       "      <td>NaN</td>\n",
       "      <td>NaN</td>\n",
       "      <td>NaN</td>\n",
       "    </tr>\n",
       "    <tr>\n",
       "      <th>16465</th>\n",
       "      <td>NaN</td>\n",
       "      <td>NaN</td>\n",
       "      <td>NaN</td>\n",
       "      <td>NaN</td>\n",
       "      <td>NaN</td>\n",
       "      <td>NaN</td>\n",
       "      <td>NaN</td>\n",
       "      <td>NaN</td>\n",
       "      <td>NaN</td>\n",
       "      <td>NaN</td>\n",
       "      <td>NaN</td>\n",
       "      <td>NaN</td>\n",
       "      <td>NaN</td>\n",
       "      <td>NaN</td>\n",
       "    </tr>\n",
       "    <tr>\n",
       "      <th>16466</th>\n",
       "      <td>NaN</td>\n",
       "      <td>NaN</td>\n",
       "      <td>NaN</td>\n",
       "      <td>NaN</td>\n",
       "      <td>NaN</td>\n",
       "      <td>NaN</td>\n",
       "      <td>NaN</td>\n",
       "      <td>NaN</td>\n",
       "      <td>NaN</td>\n",
       "      <td>NaN</td>\n",
       "      <td>NaN</td>\n",
       "      <td>NaN</td>\n",
       "      <td>NaN</td>\n",
       "      <td>NaN</td>\n",
       "    </tr>\n",
       "    <tr>\n",
       "      <th>16467</th>\n",
       "      <td>NaN</td>\n",
       "      <td>NaN</td>\n",
       "      <td>NaN</td>\n",
       "      <td>NaN</td>\n",
       "      <td>NaN</td>\n",
       "      <td>NaN</td>\n",
       "      <td>NaN</td>\n",
       "      <td>NaN</td>\n",
       "      <td>NaN</td>\n",
       "      <td>NaN</td>\n",
       "      <td>NaN</td>\n",
       "      <td>NaN</td>\n",
       "      <td>NaN</td>\n",
       "      <td>NaN</td>\n",
       "    </tr>\n",
       "  </tbody>\n",
       "</table>\n",
       "<p>16468 rows × 14 columns</p>\n",
       "</div>"
      ],
      "text/plain": [
       "       Unnamed: 0        Date  AveragePrice  Total Volume     4046       4225  \\\n",
       "0             0.0  27-12-2015          1.33      64236.62  1036.74   54454.85   \n",
       "1             1.0  20-12-2015          1.35      54876.98   674.28   44638.81   \n",
       "2             2.0  13-12-2015          0.93     118220.22   794.70  109149.67   \n",
       "3             3.0  06-12-2015          1.08      78992.15  1132.00   71976.41   \n",
       "4             4.0  29-11-2015          1.28      51039.60   941.48   43838.39   \n",
       "...           ...         ...           ...           ...      ...        ...   \n",
       "16463         NaN         NaN           NaN           NaN      NaN        NaN   \n",
       "16464         NaN         NaN           NaN           NaN      NaN        NaN   \n",
       "16465         NaN         NaN           NaN           NaN      NaN        NaN   \n",
       "16466         NaN         NaN           NaN           NaN      NaN        NaN   \n",
       "16467         NaN         NaN           NaN           NaN      NaN        NaN   \n",
       "\n",
       "         4770  Total Bags  Small Bags  Large Bags  XLarge Bags          type  \\\n",
       "0       48.16     8696.87     8603.62       93.25          0.0  conventional   \n",
       "1       58.33     9505.56     9408.07       97.49          0.0  conventional   \n",
       "2      130.50     8145.35     8042.21      103.14          0.0  conventional   \n",
       "3       72.58     5811.16     5677.40      133.76          0.0  conventional   \n",
       "4       75.78     6183.95     5986.26      197.69          0.0  conventional   \n",
       "...       ...         ...         ...         ...          ...           ...   \n",
       "16463     NaN         NaN         NaN         NaN          NaN           NaN   \n",
       "16464     NaN         NaN         NaN         NaN          NaN           NaN   \n",
       "16465     NaN         NaN         NaN         NaN          NaN           NaN   \n",
       "16466     NaN         NaN         NaN         NaN          NaN           NaN   \n",
       "16467     NaN         NaN         NaN         NaN          NaN           NaN   \n",
       "\n",
       "         year  region  \n",
       "0      2015.0  Albany  \n",
       "1      2015.0  Albany  \n",
       "2      2015.0  Albany  \n",
       "3      2015.0  Albany  \n",
       "4      2015.0  Albany  \n",
       "...       ...     ...  \n",
       "16463     NaN     NaN  \n",
       "16464     NaN     NaN  \n",
       "16465     NaN     NaN  \n",
       "16466     NaN     NaN  \n",
       "16467     NaN     NaN  \n",
       "\n",
       "[16468 rows x 14 columns]"
      ]
     },
     "execution_count": 4,
     "metadata": {},
     "output_type": "execute_result"
    }
   ],
   "source": [
    "df"
   ]
  },
  {
   "cell_type": "code",
   "execution_count": 5,
   "metadata": {},
   "outputs": [
    {
     "data": {
      "text/plain": [
       "Index(['Unnamed: 0', 'Date', 'AveragePrice', 'Total Volume', '4046', '4225',\n",
       "       '4770', 'Total Bags', 'Small Bags', 'Large Bags', 'XLarge Bags', 'type',\n",
       "       'year', 'region'],\n",
       "      dtype='object')"
      ]
     },
     "execution_count": 5,
     "metadata": {},
     "output_type": "execute_result"
    }
   ],
   "source": [
    "df.columns"
   ]
  },
  {
   "cell_type": "markdown",
   "metadata": {},
   "source": [
    "Unamed column is for no use so i am droping it"
   ]
  },
  {
   "cell_type": "code",
   "execution_count": 6,
   "metadata": {},
   "outputs": [],
   "source": [
    "df.drop(\"Unnamed: 0\",axis=1,inplace=True)"
   ]
  },
  {
   "cell_type": "code",
   "execution_count": 7,
   "metadata": {},
   "outputs": [
    {
     "data": {
      "text/plain": [
       "(16468, 13)"
      ]
     },
     "execution_count": 7,
     "metadata": {},
     "output_type": "execute_result"
    }
   ],
   "source": [
    "df.shape"
   ]
  },
  {
   "cell_type": "code",
   "execution_count": 8,
   "metadata": {},
   "outputs": [
    {
     "data": {
      "text/html": [
       "<div>\n",
       "<style scoped>\n",
       "    .dataframe tbody tr th:only-of-type {\n",
       "        vertical-align: middle;\n",
       "    }\n",
       "\n",
       "    .dataframe tbody tr th {\n",
       "        vertical-align: top;\n",
       "    }\n",
       "\n",
       "    .dataframe thead th {\n",
       "        text-align: right;\n",
       "    }\n",
       "</style>\n",
       "<table border=\"1\" class=\"dataframe\">\n",
       "  <thead>\n",
       "    <tr style=\"text-align: right;\">\n",
       "      <th></th>\n",
       "      <th>Date</th>\n",
       "      <th>AveragePrice</th>\n",
       "      <th>Total Volume</th>\n",
       "      <th>4046</th>\n",
       "      <th>4225</th>\n",
       "      <th>4770</th>\n",
       "      <th>Total Bags</th>\n",
       "      <th>Small Bags</th>\n",
       "      <th>Large Bags</th>\n",
       "      <th>XLarge Bags</th>\n",
       "      <th>type</th>\n",
       "      <th>year</th>\n",
       "      <th>region</th>\n",
       "    </tr>\n",
       "  </thead>\n",
       "  <tbody>\n",
       "    <tr>\n",
       "      <th>0</th>\n",
       "      <td>27-12-2015</td>\n",
       "      <td>1.33</td>\n",
       "      <td>64236.62</td>\n",
       "      <td>1036.74</td>\n",
       "      <td>54454.85</td>\n",
       "      <td>48.16</td>\n",
       "      <td>8696.87</td>\n",
       "      <td>8603.62</td>\n",
       "      <td>93.25</td>\n",
       "      <td>0.0</td>\n",
       "      <td>conventional</td>\n",
       "      <td>2015.0</td>\n",
       "      <td>Albany</td>\n",
       "    </tr>\n",
       "    <tr>\n",
       "      <th>1</th>\n",
       "      <td>20-12-2015</td>\n",
       "      <td>1.35</td>\n",
       "      <td>54876.98</td>\n",
       "      <td>674.28</td>\n",
       "      <td>44638.81</td>\n",
       "      <td>58.33</td>\n",
       "      <td>9505.56</td>\n",
       "      <td>9408.07</td>\n",
       "      <td>97.49</td>\n",
       "      <td>0.0</td>\n",
       "      <td>conventional</td>\n",
       "      <td>2015.0</td>\n",
       "      <td>Albany</td>\n",
       "    </tr>\n",
       "    <tr>\n",
       "      <th>2</th>\n",
       "      <td>13-12-2015</td>\n",
       "      <td>0.93</td>\n",
       "      <td>118220.22</td>\n",
       "      <td>794.70</td>\n",
       "      <td>109149.67</td>\n",
       "      <td>130.50</td>\n",
       "      <td>8145.35</td>\n",
       "      <td>8042.21</td>\n",
       "      <td>103.14</td>\n",
       "      <td>0.0</td>\n",
       "      <td>conventional</td>\n",
       "      <td>2015.0</td>\n",
       "      <td>Albany</td>\n",
       "    </tr>\n",
       "    <tr>\n",
       "      <th>3</th>\n",
       "      <td>06-12-2015</td>\n",
       "      <td>1.08</td>\n",
       "      <td>78992.15</td>\n",
       "      <td>1132.00</td>\n",
       "      <td>71976.41</td>\n",
       "      <td>72.58</td>\n",
       "      <td>5811.16</td>\n",
       "      <td>5677.40</td>\n",
       "      <td>133.76</td>\n",
       "      <td>0.0</td>\n",
       "      <td>conventional</td>\n",
       "      <td>2015.0</td>\n",
       "      <td>Albany</td>\n",
       "    </tr>\n",
       "    <tr>\n",
       "      <th>4</th>\n",
       "      <td>29-11-2015</td>\n",
       "      <td>1.28</td>\n",
       "      <td>51039.60</td>\n",
       "      <td>941.48</td>\n",
       "      <td>43838.39</td>\n",
       "      <td>75.78</td>\n",
       "      <td>6183.95</td>\n",
       "      <td>5986.26</td>\n",
       "      <td>197.69</td>\n",
       "      <td>0.0</td>\n",
       "      <td>conventional</td>\n",
       "      <td>2015.0</td>\n",
       "      <td>Albany</td>\n",
       "    </tr>\n",
       "    <tr>\n",
       "      <th>...</th>\n",
       "      <td>...</td>\n",
       "      <td>...</td>\n",
       "      <td>...</td>\n",
       "      <td>...</td>\n",
       "      <td>...</td>\n",
       "      <td>...</td>\n",
       "      <td>...</td>\n",
       "      <td>...</td>\n",
       "      <td>...</td>\n",
       "      <td>...</td>\n",
       "      <td>...</td>\n",
       "      <td>...</td>\n",
       "      <td>...</td>\n",
       "    </tr>\n",
       "    <tr>\n",
       "      <th>16463</th>\n",
       "      <td>NaN</td>\n",
       "      <td>NaN</td>\n",
       "      <td>NaN</td>\n",
       "      <td>NaN</td>\n",
       "      <td>NaN</td>\n",
       "      <td>NaN</td>\n",
       "      <td>NaN</td>\n",
       "      <td>NaN</td>\n",
       "      <td>NaN</td>\n",
       "      <td>NaN</td>\n",
       "      <td>NaN</td>\n",
       "      <td>NaN</td>\n",
       "      <td>NaN</td>\n",
       "    </tr>\n",
       "    <tr>\n",
       "      <th>16464</th>\n",
       "      <td>NaN</td>\n",
       "      <td>NaN</td>\n",
       "      <td>NaN</td>\n",
       "      <td>NaN</td>\n",
       "      <td>NaN</td>\n",
       "      <td>NaN</td>\n",
       "      <td>NaN</td>\n",
       "      <td>NaN</td>\n",
       "      <td>NaN</td>\n",
       "      <td>NaN</td>\n",
       "      <td>NaN</td>\n",
       "      <td>NaN</td>\n",
       "      <td>NaN</td>\n",
       "    </tr>\n",
       "    <tr>\n",
       "      <th>16465</th>\n",
       "      <td>NaN</td>\n",
       "      <td>NaN</td>\n",
       "      <td>NaN</td>\n",
       "      <td>NaN</td>\n",
       "      <td>NaN</td>\n",
       "      <td>NaN</td>\n",
       "      <td>NaN</td>\n",
       "      <td>NaN</td>\n",
       "      <td>NaN</td>\n",
       "      <td>NaN</td>\n",
       "      <td>NaN</td>\n",
       "      <td>NaN</td>\n",
       "      <td>NaN</td>\n",
       "    </tr>\n",
       "    <tr>\n",
       "      <th>16466</th>\n",
       "      <td>NaN</td>\n",
       "      <td>NaN</td>\n",
       "      <td>NaN</td>\n",
       "      <td>NaN</td>\n",
       "      <td>NaN</td>\n",
       "      <td>NaN</td>\n",
       "      <td>NaN</td>\n",
       "      <td>NaN</td>\n",
       "      <td>NaN</td>\n",
       "      <td>NaN</td>\n",
       "      <td>NaN</td>\n",
       "      <td>NaN</td>\n",
       "      <td>NaN</td>\n",
       "    </tr>\n",
       "    <tr>\n",
       "      <th>16467</th>\n",
       "      <td>NaN</td>\n",
       "      <td>NaN</td>\n",
       "      <td>NaN</td>\n",
       "      <td>NaN</td>\n",
       "      <td>NaN</td>\n",
       "      <td>NaN</td>\n",
       "      <td>NaN</td>\n",
       "      <td>NaN</td>\n",
       "      <td>NaN</td>\n",
       "      <td>NaN</td>\n",
       "      <td>NaN</td>\n",
       "      <td>NaN</td>\n",
       "      <td>NaN</td>\n",
       "    </tr>\n",
       "  </tbody>\n",
       "</table>\n",
       "<p>16468 rows × 13 columns</p>\n",
       "</div>"
      ],
      "text/plain": [
       "             Date  AveragePrice  Total Volume     4046       4225    4770  \\\n",
       "0      27-12-2015          1.33      64236.62  1036.74   54454.85   48.16   \n",
       "1      20-12-2015          1.35      54876.98   674.28   44638.81   58.33   \n",
       "2      13-12-2015          0.93     118220.22   794.70  109149.67  130.50   \n",
       "3      06-12-2015          1.08      78992.15  1132.00   71976.41   72.58   \n",
       "4      29-11-2015          1.28      51039.60   941.48   43838.39   75.78   \n",
       "...           ...           ...           ...      ...        ...     ...   \n",
       "16463         NaN           NaN           NaN      NaN        NaN     NaN   \n",
       "16464         NaN           NaN           NaN      NaN        NaN     NaN   \n",
       "16465         NaN           NaN           NaN      NaN        NaN     NaN   \n",
       "16466         NaN           NaN           NaN      NaN        NaN     NaN   \n",
       "16467         NaN           NaN           NaN      NaN        NaN     NaN   \n",
       "\n",
       "       Total Bags  Small Bags  Large Bags  XLarge Bags          type    year  \\\n",
       "0         8696.87     8603.62       93.25          0.0  conventional  2015.0   \n",
       "1         9505.56     9408.07       97.49          0.0  conventional  2015.0   \n",
       "2         8145.35     8042.21      103.14          0.0  conventional  2015.0   \n",
       "3         5811.16     5677.40      133.76          0.0  conventional  2015.0   \n",
       "4         6183.95     5986.26      197.69          0.0  conventional  2015.0   \n",
       "...           ...         ...         ...          ...           ...     ...   \n",
       "16463         NaN         NaN         NaN          NaN           NaN     NaN   \n",
       "16464         NaN         NaN         NaN          NaN           NaN     NaN   \n",
       "16465         NaN         NaN         NaN          NaN           NaN     NaN   \n",
       "16466         NaN         NaN         NaN          NaN           NaN     NaN   \n",
       "16467         NaN         NaN         NaN          NaN           NaN     NaN   \n",
       "\n",
       "       region  \n",
       "0      Albany  \n",
       "1      Albany  \n",
       "2      Albany  \n",
       "3      Albany  \n",
       "4      Albany  \n",
       "...       ...  \n",
       "16463     NaN  \n",
       "16464     NaN  \n",
       "16465     NaN  \n",
       "16466     NaN  \n",
       "16467     NaN  \n",
       "\n",
       "[16468 rows x 13 columns]"
      ]
     },
     "execution_count": 8,
     "metadata": {},
     "output_type": "execute_result"
    }
   ],
   "source": [
    "df"
   ]
  },
  {
   "cell_type": "code",
   "execution_count": 9,
   "metadata": {},
   "outputs": [
    {
     "data": {
      "text/plain": [
       "Date            14951\n",
       "AveragePrice    14951\n",
       "Total Volume    14951\n",
       "4046            14951\n",
       "4225            14951\n",
       "4770            14951\n",
       "Total Bags      14951\n",
       "Small Bags      14951\n",
       "Large Bags      14951\n",
       "XLarge Bags     14951\n",
       "type            14951\n",
       "year            14951\n",
       "region          14951\n",
       "dtype: int64"
      ]
     },
     "execution_count": 9,
     "metadata": {},
     "output_type": "execute_result"
    }
   ],
   "source": [
    "df.isnull().sum()"
   ]
  },
  {
   "cell_type": "code",
   "execution_count": 10,
   "metadata": {},
   "outputs": [
    {
     "data": {
      "text/plain": [
       "Date             object\n",
       "AveragePrice    float64\n",
       "Total Volume    float64\n",
       "4046            float64\n",
       "4225            float64\n",
       "4770            float64\n",
       "Total Bags      float64\n",
       "Small Bags      float64\n",
       "Large Bags      float64\n",
       "XLarge Bags     float64\n",
       "type             object\n",
       "year            float64\n",
       "region           object\n",
       "dtype: object"
      ]
     },
     "execution_count": 10,
     "metadata": {},
     "output_type": "execute_result"
    }
   ],
   "source": [
    "df.dtypes"
   ]
  },
  {
   "cell_type": "code",
   "execution_count": 11,
   "metadata": {},
   "outputs": [],
   "source": [
    "df[\"AveragePrice\"]=df[\"AveragePrice\"].fillna(df[\"AveragePrice\"].median())"
   ]
  },
  {
   "cell_type": "code",
   "execution_count": 13,
   "metadata": {},
   "outputs": [],
   "source": [
    "df[\"Total Volume\"]=df[\"Total Volume\"].fillna(df[\"Total Volume\"].median())"
   ]
  },
  {
   "cell_type": "code",
   "execution_count": 14,
   "metadata": {},
   "outputs": [
    {
     "data": {
      "text/html": [
       "<div>\n",
       "<style scoped>\n",
       "    .dataframe tbody tr th:only-of-type {\n",
       "        vertical-align: middle;\n",
       "    }\n",
       "\n",
       "    .dataframe tbody tr th {\n",
       "        vertical-align: top;\n",
       "    }\n",
       "\n",
       "    .dataframe thead th {\n",
       "        text-align: right;\n",
       "    }\n",
       "</style>\n",
       "<table border=\"1\" class=\"dataframe\">\n",
       "  <thead>\n",
       "    <tr style=\"text-align: right;\">\n",
       "      <th></th>\n",
       "      <th>Date</th>\n",
       "      <th>AveragePrice</th>\n",
       "      <th>Total Volume</th>\n",
       "      <th>4046</th>\n",
       "      <th>4225</th>\n",
       "      <th>4770</th>\n",
       "      <th>Total Bags</th>\n",
       "      <th>Small Bags</th>\n",
       "      <th>Large Bags</th>\n",
       "      <th>XLarge Bags</th>\n",
       "      <th>type</th>\n",
       "      <th>year</th>\n",
       "      <th>region</th>\n",
       "    </tr>\n",
       "  </thead>\n",
       "  <tbody>\n",
       "    <tr>\n",
       "      <th>0</th>\n",
       "      <td>27-12-2015</td>\n",
       "      <td>1.33</td>\n",
       "      <td>64236.62</td>\n",
       "      <td>1036.74</td>\n",
       "      <td>54454.85</td>\n",
       "      <td>48.16</td>\n",
       "      <td>8696.87</td>\n",
       "      <td>8603.62</td>\n",
       "      <td>93.25</td>\n",
       "      <td>0.0</td>\n",
       "      <td>conventional</td>\n",
       "      <td>2015.0</td>\n",
       "      <td>Albany</td>\n",
       "    </tr>\n",
       "    <tr>\n",
       "      <th>1</th>\n",
       "      <td>20-12-2015</td>\n",
       "      <td>1.35</td>\n",
       "      <td>54876.98</td>\n",
       "      <td>674.28</td>\n",
       "      <td>44638.81</td>\n",
       "      <td>58.33</td>\n",
       "      <td>9505.56</td>\n",
       "      <td>9408.07</td>\n",
       "      <td>97.49</td>\n",
       "      <td>0.0</td>\n",
       "      <td>conventional</td>\n",
       "      <td>2015.0</td>\n",
       "      <td>Albany</td>\n",
       "    </tr>\n",
       "    <tr>\n",
       "      <th>2</th>\n",
       "      <td>13-12-2015</td>\n",
       "      <td>0.93</td>\n",
       "      <td>118220.22</td>\n",
       "      <td>794.70</td>\n",
       "      <td>109149.67</td>\n",
       "      <td>130.50</td>\n",
       "      <td>8145.35</td>\n",
       "      <td>8042.21</td>\n",
       "      <td>103.14</td>\n",
       "      <td>0.0</td>\n",
       "      <td>conventional</td>\n",
       "      <td>2015.0</td>\n",
       "      <td>Albany</td>\n",
       "    </tr>\n",
       "    <tr>\n",
       "      <th>3</th>\n",
       "      <td>06-12-2015</td>\n",
       "      <td>1.08</td>\n",
       "      <td>78992.15</td>\n",
       "      <td>1132.00</td>\n",
       "      <td>71976.41</td>\n",
       "      <td>72.58</td>\n",
       "      <td>5811.16</td>\n",
       "      <td>5677.40</td>\n",
       "      <td>133.76</td>\n",
       "      <td>0.0</td>\n",
       "      <td>conventional</td>\n",
       "      <td>2015.0</td>\n",
       "      <td>Albany</td>\n",
       "    </tr>\n",
       "    <tr>\n",
       "      <th>4</th>\n",
       "      <td>29-11-2015</td>\n",
       "      <td>1.28</td>\n",
       "      <td>51039.60</td>\n",
       "      <td>941.48</td>\n",
       "      <td>43838.39</td>\n",
       "      <td>75.78</td>\n",
       "      <td>6183.95</td>\n",
       "      <td>5986.26</td>\n",
       "      <td>197.69</td>\n",
       "      <td>0.0</td>\n",
       "      <td>conventional</td>\n",
       "      <td>2015.0</td>\n",
       "      <td>Albany</td>\n",
       "    </tr>\n",
       "    <tr>\n",
       "      <th>...</th>\n",
       "      <td>...</td>\n",
       "      <td>...</td>\n",
       "      <td>...</td>\n",
       "      <td>...</td>\n",
       "      <td>...</td>\n",
       "      <td>...</td>\n",
       "      <td>...</td>\n",
       "      <td>...</td>\n",
       "      <td>...</td>\n",
       "      <td>...</td>\n",
       "      <td>...</td>\n",
       "      <td>...</td>\n",
       "      <td>...</td>\n",
       "    </tr>\n",
       "    <tr>\n",
       "      <th>16463</th>\n",
       "      <td>NaN</td>\n",
       "      <td>1.08</td>\n",
       "      <td>402791.86</td>\n",
       "      <td>NaN</td>\n",
       "      <td>NaN</td>\n",
       "      <td>NaN</td>\n",
       "      <td>NaN</td>\n",
       "      <td>NaN</td>\n",
       "      <td>NaN</td>\n",
       "      <td>NaN</td>\n",
       "      <td>NaN</td>\n",
       "      <td>NaN</td>\n",
       "      <td>NaN</td>\n",
       "    </tr>\n",
       "    <tr>\n",
       "      <th>16464</th>\n",
       "      <td>NaN</td>\n",
       "      <td>1.08</td>\n",
       "      <td>402791.86</td>\n",
       "      <td>NaN</td>\n",
       "      <td>NaN</td>\n",
       "      <td>NaN</td>\n",
       "      <td>NaN</td>\n",
       "      <td>NaN</td>\n",
       "      <td>NaN</td>\n",
       "      <td>NaN</td>\n",
       "      <td>NaN</td>\n",
       "      <td>NaN</td>\n",
       "      <td>NaN</td>\n",
       "    </tr>\n",
       "    <tr>\n",
       "      <th>16465</th>\n",
       "      <td>NaN</td>\n",
       "      <td>1.08</td>\n",
       "      <td>402791.86</td>\n",
       "      <td>NaN</td>\n",
       "      <td>NaN</td>\n",
       "      <td>NaN</td>\n",
       "      <td>NaN</td>\n",
       "      <td>NaN</td>\n",
       "      <td>NaN</td>\n",
       "      <td>NaN</td>\n",
       "      <td>NaN</td>\n",
       "      <td>NaN</td>\n",
       "      <td>NaN</td>\n",
       "    </tr>\n",
       "    <tr>\n",
       "      <th>16466</th>\n",
       "      <td>NaN</td>\n",
       "      <td>1.08</td>\n",
       "      <td>402791.86</td>\n",
       "      <td>NaN</td>\n",
       "      <td>NaN</td>\n",
       "      <td>NaN</td>\n",
       "      <td>NaN</td>\n",
       "      <td>NaN</td>\n",
       "      <td>NaN</td>\n",
       "      <td>NaN</td>\n",
       "      <td>NaN</td>\n",
       "      <td>NaN</td>\n",
       "      <td>NaN</td>\n",
       "    </tr>\n",
       "    <tr>\n",
       "      <th>16467</th>\n",
       "      <td>NaN</td>\n",
       "      <td>1.08</td>\n",
       "      <td>402791.86</td>\n",
       "      <td>NaN</td>\n",
       "      <td>NaN</td>\n",
       "      <td>NaN</td>\n",
       "      <td>NaN</td>\n",
       "      <td>NaN</td>\n",
       "      <td>NaN</td>\n",
       "      <td>NaN</td>\n",
       "      <td>NaN</td>\n",
       "      <td>NaN</td>\n",
       "      <td>NaN</td>\n",
       "    </tr>\n",
       "  </tbody>\n",
       "</table>\n",
       "<p>16468 rows × 13 columns</p>\n",
       "</div>"
      ],
      "text/plain": [
       "             Date  AveragePrice  Total Volume     4046       4225    4770  \\\n",
       "0      27-12-2015          1.33      64236.62  1036.74   54454.85   48.16   \n",
       "1      20-12-2015          1.35      54876.98   674.28   44638.81   58.33   \n",
       "2      13-12-2015          0.93     118220.22   794.70  109149.67  130.50   \n",
       "3      06-12-2015          1.08      78992.15  1132.00   71976.41   72.58   \n",
       "4      29-11-2015          1.28      51039.60   941.48   43838.39   75.78   \n",
       "...           ...           ...           ...      ...        ...     ...   \n",
       "16463         NaN          1.08     402791.86      NaN        NaN     NaN   \n",
       "16464         NaN          1.08     402791.86      NaN        NaN     NaN   \n",
       "16465         NaN          1.08     402791.86      NaN        NaN     NaN   \n",
       "16466         NaN          1.08     402791.86      NaN        NaN     NaN   \n",
       "16467         NaN          1.08     402791.86      NaN        NaN     NaN   \n",
       "\n",
       "       Total Bags  Small Bags  Large Bags  XLarge Bags          type    year  \\\n",
       "0         8696.87     8603.62       93.25          0.0  conventional  2015.0   \n",
       "1         9505.56     9408.07       97.49          0.0  conventional  2015.0   \n",
       "2         8145.35     8042.21      103.14          0.0  conventional  2015.0   \n",
       "3         5811.16     5677.40      133.76          0.0  conventional  2015.0   \n",
       "4         6183.95     5986.26      197.69          0.0  conventional  2015.0   \n",
       "...           ...         ...         ...          ...           ...     ...   \n",
       "16463         NaN         NaN         NaN          NaN           NaN     NaN   \n",
       "16464         NaN         NaN         NaN          NaN           NaN     NaN   \n",
       "16465         NaN         NaN         NaN          NaN           NaN     NaN   \n",
       "16466         NaN         NaN         NaN          NaN           NaN     NaN   \n",
       "16467         NaN         NaN         NaN          NaN           NaN     NaN   \n",
       "\n",
       "       region  \n",
       "0      Albany  \n",
       "1      Albany  \n",
       "2      Albany  \n",
       "3      Albany  \n",
       "4      Albany  \n",
       "...       ...  \n",
       "16463     NaN  \n",
       "16464     NaN  \n",
       "16465     NaN  \n",
       "16466     NaN  \n",
       "16467     NaN  \n",
       "\n",
       "[16468 rows x 13 columns]"
      ]
     },
     "execution_count": 14,
     "metadata": {},
     "output_type": "execute_result"
    }
   ],
   "source": [
    "df"
   ]
  },
  {
   "cell_type": "code",
   "execution_count": 16,
   "metadata": {},
   "outputs": [],
   "source": [
    "df[\"4046\"]=df[\"4046\"].fillna(df[\"4046\"].median())"
   ]
  },
  {
   "cell_type": "code",
   "execution_count": 17,
   "metadata": {},
   "outputs": [],
   "source": [
    "df[\"4225\"]=df[\"4225\"].fillna(df[\"4225\"].median())"
   ]
  },
  {
   "cell_type": "code",
   "execution_count": 18,
   "metadata": {},
   "outputs": [],
   "source": [
    "import numpy as np"
   ]
  },
  {
   "cell_type": "code",
   "execution_count": 19,
   "metadata": {},
   "outputs": [],
   "source": [
    "df=df.replace(np.NaN,df[\"4770\"].mean())"
   ]
  },
  {
   "cell_type": "code",
   "execution_count": 20,
   "metadata": {},
   "outputs": [],
   "source": [
    "df=df.replace(np.NaN,df[\"Total Bags\"].mean())"
   ]
  },
  {
   "cell_type": "code",
   "execution_count": 22,
   "metadata": {},
   "outputs": [],
   "source": [
    "df=df.replace(np.NaN,df[\"Small Bags\"].mean())"
   ]
  },
  {
   "cell_type": "code",
   "execution_count": 24,
   "metadata": {},
   "outputs": [],
   "source": [
    "df=df.replace(np.NaN,df[\"Large Bags\"].mean())"
   ]
  },
  {
   "cell_type": "code",
   "execution_count": 26,
   "metadata": {},
   "outputs": [],
   "source": [
    "df=df.replace(np.NaN,df[\"XLarge Bags\"].mean())"
   ]
  },
  {
   "cell_type": "code",
   "execution_count": 27,
   "metadata": {},
   "outputs": [
    {
     "data": {
      "text/plain": [
       "0        conventional\n",
       "1        conventional\n",
       "2        conventional\n",
       "3        conventional\n",
       "4        conventional\n",
       "             ...     \n",
       "16463         50405.5\n",
       "16464         50405.5\n",
       "16465         50405.5\n",
       "16466         50405.5\n",
       "16467         50405.5\n",
       "Name: type, Length: 16468, dtype: object"
      ]
     },
     "execution_count": 27,
     "metadata": {},
     "output_type": "execute_result"
    }
   ],
   "source": [
    "df[\"type\"].fillna(df[\"type\"])"
   ]
  },
  {
   "cell_type": "code",
   "execution_count": 40,
   "metadata": {},
   "outputs": [
    {
     "data": {
      "text/plain": [
       "0         2015.000000\n",
       "1         2015.000000\n",
       "2         2015.000000\n",
       "3         2015.000000\n",
       "4         2015.000000\n",
       "             ...     \n",
       "16463    50405.495399\n",
       "16464    50405.495399\n",
       "16465    50405.495399\n",
       "16466    50405.495399\n",
       "16467    50405.495399\n",
       "Name: year, Length: 16468, dtype: float64"
      ]
     },
     "execution_count": 40,
     "metadata": {},
     "output_type": "execute_result"
    }
   ],
   "source": [
    "df[\"year\"].fillna(df[\"year\"].median())"
   ]
  },
  {
   "cell_type": "code",
   "execution_count": 30,
   "metadata": {},
   "outputs": [
    {
     "data": {
      "text/plain": [
       "0         Albany\n",
       "1         Albany\n",
       "2         Albany\n",
       "3         Albany\n",
       "4         Albany\n",
       "          ...   \n",
       "16463    50405.5\n",
       "16464    50405.5\n",
       "16465    50405.5\n",
       "16466    50405.5\n",
       "16467    50405.5\n",
       "Name: region, Length: 16468, dtype: object"
      ]
     },
     "execution_count": 30,
     "metadata": {},
     "output_type": "execute_result"
    }
   ],
   "source": [
    "df[\"region\"].fillna(df[\"region\"])"
   ]
  },
  {
   "cell_type": "code",
   "execution_count": 31,
   "metadata": {},
   "outputs": [
    {
     "data": {
      "text/html": [
       "<div>\n",
       "<style scoped>\n",
       "    .dataframe tbody tr th:only-of-type {\n",
       "        vertical-align: middle;\n",
       "    }\n",
       "\n",
       "    .dataframe tbody tr th {\n",
       "        vertical-align: top;\n",
       "    }\n",
       "\n",
       "    .dataframe thead th {\n",
       "        text-align: right;\n",
       "    }\n",
       "</style>\n",
       "<table border=\"1\" class=\"dataframe\">\n",
       "  <thead>\n",
       "    <tr style=\"text-align: right;\">\n",
       "      <th></th>\n",
       "      <th>Date</th>\n",
       "      <th>AveragePrice</th>\n",
       "      <th>Total Volume</th>\n",
       "      <th>4046</th>\n",
       "      <th>4225</th>\n",
       "      <th>4770</th>\n",
       "      <th>Total Bags</th>\n",
       "      <th>Small Bags</th>\n",
       "      <th>Large Bags</th>\n",
       "      <th>XLarge Bags</th>\n",
       "      <th>type</th>\n",
       "      <th>year</th>\n",
       "      <th>region</th>\n",
       "    </tr>\n",
       "  </thead>\n",
       "  <tbody>\n",
       "    <tr>\n",
       "      <th>0</th>\n",
       "      <td>27-12-2015</td>\n",
       "      <td>1.33</td>\n",
       "      <td>64236.62</td>\n",
       "      <td>1036.74</td>\n",
       "      <td>54454.85</td>\n",
       "      <td>48.160000</td>\n",
       "      <td>8696.870000</td>\n",
       "      <td>8603.620000</td>\n",
       "      <td>93.250000</td>\n",
       "      <td>0.000000</td>\n",
       "      <td>conventional</td>\n",
       "      <td>2015.000000</td>\n",
       "      <td>Albany</td>\n",
       "    </tr>\n",
       "    <tr>\n",
       "      <th>1</th>\n",
       "      <td>20-12-2015</td>\n",
       "      <td>1.35</td>\n",
       "      <td>54876.98</td>\n",
       "      <td>674.28</td>\n",
       "      <td>44638.81</td>\n",
       "      <td>58.330000</td>\n",
       "      <td>9505.560000</td>\n",
       "      <td>9408.070000</td>\n",
       "      <td>97.490000</td>\n",
       "      <td>0.000000</td>\n",
       "      <td>conventional</td>\n",
       "      <td>2015.000000</td>\n",
       "      <td>Albany</td>\n",
       "    </tr>\n",
       "    <tr>\n",
       "      <th>2</th>\n",
       "      <td>13-12-2015</td>\n",
       "      <td>0.93</td>\n",
       "      <td>118220.22</td>\n",
       "      <td>794.70</td>\n",
       "      <td>109149.67</td>\n",
       "      <td>130.500000</td>\n",
       "      <td>8145.350000</td>\n",
       "      <td>8042.210000</td>\n",
       "      <td>103.140000</td>\n",
       "      <td>0.000000</td>\n",
       "      <td>conventional</td>\n",
       "      <td>2015.000000</td>\n",
       "      <td>Albany</td>\n",
       "    </tr>\n",
       "    <tr>\n",
       "      <th>3</th>\n",
       "      <td>06-12-2015</td>\n",
       "      <td>1.08</td>\n",
       "      <td>78992.15</td>\n",
       "      <td>1132.00</td>\n",
       "      <td>71976.41</td>\n",
       "      <td>72.580000</td>\n",
       "      <td>5811.160000</td>\n",
       "      <td>5677.400000</td>\n",
       "      <td>133.760000</td>\n",
       "      <td>0.000000</td>\n",
       "      <td>conventional</td>\n",
       "      <td>2015.000000</td>\n",
       "      <td>Albany</td>\n",
       "    </tr>\n",
       "    <tr>\n",
       "      <th>4</th>\n",
       "      <td>29-11-2015</td>\n",
       "      <td>1.28</td>\n",
       "      <td>51039.60</td>\n",
       "      <td>941.48</td>\n",
       "      <td>43838.39</td>\n",
       "      <td>75.780000</td>\n",
       "      <td>6183.950000</td>\n",
       "      <td>5986.260000</td>\n",
       "      <td>197.690000</td>\n",
       "      <td>0.000000</td>\n",
       "      <td>conventional</td>\n",
       "      <td>2015.000000</td>\n",
       "      <td>Albany</td>\n",
       "    </tr>\n",
       "    <tr>\n",
       "      <th>...</th>\n",
       "      <td>...</td>\n",
       "      <td>...</td>\n",
       "      <td>...</td>\n",
       "      <td>...</td>\n",
       "      <td>...</td>\n",
       "      <td>...</td>\n",
       "      <td>...</td>\n",
       "      <td>...</td>\n",
       "      <td>...</td>\n",
       "      <td>...</td>\n",
       "      <td>...</td>\n",
       "      <td>...</td>\n",
       "      <td>...</td>\n",
       "    </tr>\n",
       "    <tr>\n",
       "      <th>16463</th>\n",
       "      <td>50405.5</td>\n",
       "      <td>1.08</td>\n",
       "      <td>402791.86</td>\n",
       "      <td>81751.17</td>\n",
       "      <td>118664.89</td>\n",
       "      <td>50405.495399</td>\n",
       "      <td>50405.495399</td>\n",
       "      <td>50405.495399</td>\n",
       "      <td>50405.495399</td>\n",
       "      <td>50405.495399</td>\n",
       "      <td>50405.5</td>\n",
       "      <td>50405.495399</td>\n",
       "      <td>50405.5</td>\n",
       "    </tr>\n",
       "    <tr>\n",
       "      <th>16464</th>\n",
       "      <td>50405.5</td>\n",
       "      <td>1.08</td>\n",
       "      <td>402791.86</td>\n",
       "      <td>81751.17</td>\n",
       "      <td>118664.89</td>\n",
       "      <td>50405.495399</td>\n",
       "      <td>50405.495399</td>\n",
       "      <td>50405.495399</td>\n",
       "      <td>50405.495399</td>\n",
       "      <td>50405.495399</td>\n",
       "      <td>50405.5</td>\n",
       "      <td>50405.495399</td>\n",
       "      <td>50405.5</td>\n",
       "    </tr>\n",
       "    <tr>\n",
       "      <th>16465</th>\n",
       "      <td>50405.5</td>\n",
       "      <td>1.08</td>\n",
       "      <td>402791.86</td>\n",
       "      <td>81751.17</td>\n",
       "      <td>118664.89</td>\n",
       "      <td>50405.495399</td>\n",
       "      <td>50405.495399</td>\n",
       "      <td>50405.495399</td>\n",
       "      <td>50405.495399</td>\n",
       "      <td>50405.495399</td>\n",
       "      <td>50405.5</td>\n",
       "      <td>50405.495399</td>\n",
       "      <td>50405.5</td>\n",
       "    </tr>\n",
       "    <tr>\n",
       "      <th>16466</th>\n",
       "      <td>50405.5</td>\n",
       "      <td>1.08</td>\n",
       "      <td>402791.86</td>\n",
       "      <td>81751.17</td>\n",
       "      <td>118664.89</td>\n",
       "      <td>50405.495399</td>\n",
       "      <td>50405.495399</td>\n",
       "      <td>50405.495399</td>\n",
       "      <td>50405.495399</td>\n",
       "      <td>50405.495399</td>\n",
       "      <td>50405.5</td>\n",
       "      <td>50405.495399</td>\n",
       "      <td>50405.5</td>\n",
       "    </tr>\n",
       "    <tr>\n",
       "      <th>16467</th>\n",
       "      <td>50405.5</td>\n",
       "      <td>1.08</td>\n",
       "      <td>402791.86</td>\n",
       "      <td>81751.17</td>\n",
       "      <td>118664.89</td>\n",
       "      <td>50405.495399</td>\n",
       "      <td>50405.495399</td>\n",
       "      <td>50405.495399</td>\n",
       "      <td>50405.495399</td>\n",
       "      <td>50405.495399</td>\n",
       "      <td>50405.5</td>\n",
       "      <td>50405.495399</td>\n",
       "      <td>50405.5</td>\n",
       "    </tr>\n",
       "  </tbody>\n",
       "</table>\n",
       "<p>16468 rows × 13 columns</p>\n",
       "</div>"
      ],
      "text/plain": [
       "             Date  AveragePrice  Total Volume      4046       4225  \\\n",
       "0      27-12-2015          1.33      64236.62   1036.74   54454.85   \n",
       "1      20-12-2015          1.35      54876.98    674.28   44638.81   \n",
       "2      13-12-2015          0.93     118220.22    794.70  109149.67   \n",
       "3      06-12-2015          1.08      78992.15   1132.00   71976.41   \n",
       "4      29-11-2015          1.28      51039.60    941.48   43838.39   \n",
       "...           ...           ...           ...       ...        ...   \n",
       "16463     50405.5          1.08     402791.86  81751.17  118664.89   \n",
       "16464     50405.5          1.08     402791.86  81751.17  118664.89   \n",
       "16465     50405.5          1.08     402791.86  81751.17  118664.89   \n",
       "16466     50405.5          1.08     402791.86  81751.17  118664.89   \n",
       "16467     50405.5          1.08     402791.86  81751.17  118664.89   \n",
       "\n",
       "               4770    Total Bags    Small Bags    Large Bags   XLarge Bags  \\\n",
       "0         48.160000   8696.870000   8603.620000     93.250000      0.000000   \n",
       "1         58.330000   9505.560000   9408.070000     97.490000      0.000000   \n",
       "2        130.500000   8145.350000   8042.210000    103.140000      0.000000   \n",
       "3         72.580000   5811.160000   5677.400000    133.760000      0.000000   \n",
       "4         75.780000   6183.950000   5986.260000    197.690000      0.000000   \n",
       "...             ...           ...           ...           ...           ...   \n",
       "16463  50405.495399  50405.495399  50405.495399  50405.495399  50405.495399   \n",
       "16464  50405.495399  50405.495399  50405.495399  50405.495399  50405.495399   \n",
       "16465  50405.495399  50405.495399  50405.495399  50405.495399  50405.495399   \n",
       "16466  50405.495399  50405.495399  50405.495399  50405.495399  50405.495399   \n",
       "16467  50405.495399  50405.495399  50405.495399  50405.495399  50405.495399   \n",
       "\n",
       "               type          year   region  \n",
       "0      conventional   2015.000000   Albany  \n",
       "1      conventional   2015.000000   Albany  \n",
       "2      conventional   2015.000000   Albany  \n",
       "3      conventional   2015.000000   Albany  \n",
       "4      conventional   2015.000000   Albany  \n",
       "...             ...           ...      ...  \n",
       "16463       50405.5  50405.495399  50405.5  \n",
       "16464       50405.5  50405.495399  50405.5  \n",
       "16465       50405.5  50405.495399  50405.5  \n",
       "16466       50405.5  50405.495399  50405.5  \n",
       "16467       50405.5  50405.495399  50405.5  \n",
       "\n",
       "[16468 rows x 13 columns]"
      ]
     },
     "execution_count": 31,
     "metadata": {},
     "output_type": "execute_result"
    }
   ],
   "source": [
    "df"
   ]
  },
  {
   "cell_type": "code",
   "execution_count": 32,
   "metadata": {},
   "outputs": [
    {
     "data": {
      "text/plain": [
       "Date            0\n",
       "AveragePrice    0\n",
       "Total Volume    0\n",
       "4046            0\n",
       "4225            0\n",
       "4770            0\n",
       "Total Bags      0\n",
       "Small Bags      0\n",
       "Large Bags      0\n",
       "XLarge Bags     0\n",
       "type            0\n",
       "year            0\n",
       "region          0\n",
       "dtype: int64"
      ]
     },
     "execution_count": 32,
     "metadata": {},
     "output_type": "execute_result"
    }
   ],
   "source": [
    "df.isnull().sum()"
   ]
  },
  {
   "cell_type": "markdown",
   "metadata": {},
   "source": [
    "The avacoda data i fill the all the nan value with mean and median to predict the price\n"
   ]
  },
  {
   "cell_type": "code",
   "execution_count": 33,
   "metadata": {},
   "outputs": [],
   "source": [
    "from sklearn.preprocessing import LabelEncoder"
   ]
  },
  {
   "cell_type": "markdown",
   "metadata": {},
   "source": [
    "# EDA"
   ]
  },
  {
   "cell_type": "code",
   "execution_count": 35,
   "metadata": {},
   "outputs": [],
   "source": [
    "import matplotlib.pyplot as plt\n",
    "import seaborn as sns"
   ]
  },
  {
   "cell_type": "code",
   "execution_count": 36,
   "metadata": {},
   "outputs": [
    {
     "data": {
      "text/plain": [
       "year          AveragePrice\n",
       "2015.000000   0.99               41\n",
       "              1.08               40\n",
       "              1.03               38\n",
       "              1.09               38\n",
       "              1.10               37\n",
       "                              ...  \n",
       "2016.000000   1.60                1\n",
       "              1.61                1\n",
       "              1.64                1\n",
       "              1.66                1\n",
       "50405.495399  1.08            14951\n",
       "Name: AveragePrice, Length: 189, dtype: int64"
      ]
     },
     "execution_count": 36,
     "metadata": {},
     "output_type": "execute_result"
    }
   ],
   "source": [
    "df.groupby(\"year\")[\"AveragePrice\"].value_counts()"
   ]
  },
  {
   "cell_type": "code",
   "execution_count": 37,
   "metadata": {},
   "outputs": [
    {
     "data": {
      "text/html": [
       "<div>\n",
       "<style scoped>\n",
       "    .dataframe tbody tr th:only-of-type {\n",
       "        vertical-align: middle;\n",
       "    }\n",
       "\n",
       "    .dataframe tbody tr th {\n",
       "        vertical-align: top;\n",
       "    }\n",
       "\n",
       "    .dataframe thead th {\n",
       "        text-align: right;\n",
       "    }\n",
       "</style>\n",
       "<table border=\"1\" class=\"dataframe\">\n",
       "  <thead>\n",
       "    <tr style=\"text-align: right;\">\n",
       "      <th></th>\n",
       "      <th>AveragePrice</th>\n",
       "      <th>Total Volume</th>\n",
       "      <th>4046</th>\n",
       "      <th>4225</th>\n",
       "      <th>4770</th>\n",
       "      <th>Total Bags</th>\n",
       "      <th>Small Bags</th>\n",
       "      <th>Large Bags</th>\n",
       "      <th>XLarge Bags</th>\n",
       "      <th>year</th>\n",
       "    </tr>\n",
       "  </thead>\n",
       "  <tbody>\n",
       "    <tr>\n",
       "      <th>count</th>\n",
       "      <td>16468.000000</td>\n",
       "      <td>1.646800e+04</td>\n",
       "      <td>1.646800e+04</td>\n",
       "      <td>1.646800e+04</td>\n",
       "      <td>1.646800e+04</td>\n",
       "      <td>1.646800e+04</td>\n",
       "      <td>1.646800e+04</td>\n",
       "      <td>1.646800e+04</td>\n",
       "      <td>16468.000000</td>\n",
       "      <td>16468.000000</td>\n",
       "    </tr>\n",
       "    <tr>\n",
       "      <th>mean</th>\n",
       "      <td>1.079538</td>\n",
       "      <td>5.132494e+05</td>\n",
       "      <td>1.337691e+05</td>\n",
       "      <td>1.640581e+05</td>\n",
       "      <td>5.040550e+04</td>\n",
       "      <td>7.280786e+04</td>\n",
       "      <td>6.867878e+04</td>\n",
       "      <td>4.969034e+04</td>\n",
       "      <td>45963.220089</td>\n",
       "      <td>45947.872462</td>\n",
       "    </tr>\n",
       "    <tr>\n",
       "      <th>std</th>\n",
       "      <td>0.057331</td>\n",
       "      <td>1.389080e+06</td>\n",
       "      <td>6.130926e+05</td>\n",
       "      <td>5.272171e+05</td>\n",
       "      <td>4.180541e+04</td>\n",
       "      <td>2.404980e+05</td>\n",
       "      <td>2.046614e+05</td>\n",
       "      <td>3.593905e+04</td>\n",
       "      <td>14128.645415</td>\n",
       "      <td>13994.547037</td>\n",
       "    </tr>\n",
       "    <tr>\n",
       "      <th>min</th>\n",
       "      <td>0.490000</td>\n",
       "      <td>3.875074e+04</td>\n",
       "      <td>4.677200e+02</td>\n",
       "      <td>1.783770e+03</td>\n",
       "      <td>0.000000e+00</td>\n",
       "      <td>3.311770e+03</td>\n",
       "      <td>3.311770e+03</td>\n",
       "      <td>0.000000e+00</td>\n",
       "      <td>0.000000</td>\n",
       "      <td>2015.000000</td>\n",
       "    </tr>\n",
       "    <tr>\n",
       "      <th>25%</th>\n",
       "      <td>1.080000</td>\n",
       "      <td>4.027919e+05</td>\n",
       "      <td>8.175117e+04</td>\n",
       "      <td>1.186649e+05</td>\n",
       "      <td>5.040550e+04</td>\n",
       "      <td>5.040550e+04</td>\n",
       "      <td>5.040550e+04</td>\n",
       "      <td>5.040550e+04</td>\n",
       "      <td>50405.495399</td>\n",
       "      <td>50405.495399</td>\n",
       "    </tr>\n",
       "    <tr>\n",
       "      <th>50%</th>\n",
       "      <td>1.080000</td>\n",
       "      <td>4.027919e+05</td>\n",
       "      <td>8.175117e+04</td>\n",
       "      <td>1.186649e+05</td>\n",
       "      <td>5.040550e+04</td>\n",
       "      <td>5.040550e+04</td>\n",
       "      <td>5.040550e+04</td>\n",
       "      <td>5.040550e+04</td>\n",
       "      <td>50405.495399</td>\n",
       "      <td>50405.495399</td>\n",
       "    </tr>\n",
       "    <tr>\n",
       "      <th>75%</th>\n",
       "      <td>1.080000</td>\n",
       "      <td>4.027919e+05</td>\n",
       "      <td>8.175117e+04</td>\n",
       "      <td>1.186649e+05</td>\n",
       "      <td>5.040550e+04</td>\n",
       "      <td>5.040550e+04</td>\n",
       "      <td>5.040550e+04</td>\n",
       "      <td>5.040550e+04</td>\n",
       "      <td>50405.495399</td>\n",
       "      <td>50405.495399</td>\n",
       "    </tr>\n",
       "    <tr>\n",
       "      <th>max</th>\n",
       "      <td>1.680000</td>\n",
       "      <td>4.465546e+07</td>\n",
       "      <td>1.893304e+07</td>\n",
       "      <td>1.895648e+07</td>\n",
       "      <td>1.381516e+06</td>\n",
       "      <td>6.736304e+06</td>\n",
       "      <td>5.893642e+06</td>\n",
       "      <td>1.121076e+06</td>\n",
       "      <td>108072.790000</td>\n",
       "      <td>50405.495399</td>\n",
       "    </tr>\n",
       "  </tbody>\n",
       "</table>\n",
       "</div>"
      ],
      "text/plain": [
       "       AveragePrice  Total Volume          4046          4225          4770  \\\n",
       "count  16468.000000  1.646800e+04  1.646800e+04  1.646800e+04  1.646800e+04   \n",
       "mean       1.079538  5.132494e+05  1.337691e+05  1.640581e+05  5.040550e+04   \n",
       "std        0.057331  1.389080e+06  6.130926e+05  5.272171e+05  4.180541e+04   \n",
       "min        0.490000  3.875074e+04  4.677200e+02  1.783770e+03  0.000000e+00   \n",
       "25%        1.080000  4.027919e+05  8.175117e+04  1.186649e+05  5.040550e+04   \n",
       "50%        1.080000  4.027919e+05  8.175117e+04  1.186649e+05  5.040550e+04   \n",
       "75%        1.080000  4.027919e+05  8.175117e+04  1.186649e+05  5.040550e+04   \n",
       "max        1.680000  4.465546e+07  1.893304e+07  1.895648e+07  1.381516e+06   \n",
       "\n",
       "         Total Bags    Small Bags    Large Bags    XLarge Bags          year  \n",
       "count  1.646800e+04  1.646800e+04  1.646800e+04   16468.000000  16468.000000  \n",
       "mean   7.280786e+04  6.867878e+04  4.969034e+04   45963.220089  45947.872462  \n",
       "std    2.404980e+05  2.046614e+05  3.593905e+04   14128.645415  13994.547037  \n",
       "min    3.311770e+03  3.311770e+03  0.000000e+00       0.000000   2015.000000  \n",
       "25%    5.040550e+04  5.040550e+04  5.040550e+04   50405.495399  50405.495399  \n",
       "50%    5.040550e+04  5.040550e+04  5.040550e+04   50405.495399  50405.495399  \n",
       "75%    5.040550e+04  5.040550e+04  5.040550e+04   50405.495399  50405.495399  \n",
       "max    6.736304e+06  5.893642e+06  1.121076e+06  108072.790000  50405.495399  "
      ]
     },
     "execution_count": 37,
     "metadata": {},
     "output_type": "execute_result"
    }
   ],
   "source": [
    "df.describe()"
   ]
  },
  {
   "cell_type": "raw",
   "metadata": {},
   "source": [
    "1]In Average price the min is 0.49 and max is 1.68,mean is higher than standard deviation,\n",
    "2]In total volumn mean is higher than standard deviation \n",
    "3]In remaining column standard deviation is high ,max percentile is high in xlarge bags"
   ]
  },
  {
   "cell_type": "code",
   "execution_count": 38,
   "metadata": {},
   "outputs": [
    {
     "data": {
      "text/plain": [
       "<matplotlib.axes._subplots.AxesSubplot at 0x9315bb0>"
      ]
     },
     "execution_count": 38,
     "metadata": {},
     "output_type": "execute_result"
    },
    {
     "data": {
      "image/png": "[encoded data removed]",
      "text/plain": [
       "<Figure size 432x288 with 1 Axes>"
      ]
     },
     "metadata": {
      "needs_background": "light"
     },
     "output_type": "display_data"
    }
   ],
   "source": [
    "sns.barplot(x=\"year\",y=\"AveragePrice\",data=df)"
   ]
  },
  {
   "cell_type": "markdown",
   "metadata": {},
   "source": [
    "In 2016 The price has gone high of Avacodo"
   ]
  },
  {
   "cell_type": "code",
   "execution_count": 43,
   "metadata": {},
   "outputs": [
    {
     "data": {
      "text/plain": [
       "<matplotlib.axes._subplots.AxesSubplot at 0x9aa1850>"
      ]
     },
     "execution_count": 43,
     "metadata": {},
     "output_type": "execute_result"
    },
    {
     "data": {
      "image/png": "[encoded data removed]",
      "text/plain": [
       "<Figure size 432x288 with 1 Axes>"
      ]
     },
     "metadata": {
      "needs_background": "light"
     },
     "output_type": "display_data"
    }
   ],
   "source": [
    "sns.barplot(x=\"type\",y=\"AveragePrice\",data=df)"
   ]
  },
  {
   "cell_type": "markdown",
   "metadata": {},
   "source": [
    "conventional has  higher price"
   ]
  },
  {
   "cell_type": "raw",
   "metadata": {},
   "source": [
    "i cant predict the price with type and region so i will drop them "
   ]
  },
  {
   "cell_type": "code",
   "execution_count": 45,
   "metadata": {},
   "outputs": [],
   "source": [
    "df.drop([\"type\",\"region\"],axis=1,inplace=True)"
   ]
  },
  {
   "cell_type": "code",
   "execution_count": 47,
   "metadata": {},
   "outputs": [
    {
     "data": {
      "text/plain": [
       "AveragePrice       AxesSubplot(0.125,0.749828;0.352273x0.130172)\n",
       "Total Volume    AxesSubplot(0.547727,0.749828;0.352273x0.130172)\n",
       "4046               AxesSubplot(0.125,0.593621;0.352273x0.130172)\n",
       "4225            AxesSubplot(0.547727,0.593621;0.352273x0.130172)\n",
       "4770               AxesSubplot(0.125,0.437414;0.352273x0.130172)\n",
       "Total Bags      AxesSubplot(0.547727,0.437414;0.352273x0.130172)\n",
       "Small Bags         AxesSubplot(0.125,0.281207;0.352273x0.130172)\n",
       "Large Bags      AxesSubplot(0.547727,0.281207;0.352273x0.130172)\n",
       "XLarge Bags           AxesSubplot(0.125,0.125;0.352273x0.130172)\n",
       "year               AxesSubplot(0.547727,0.125;0.352273x0.130172)\n",
       "dtype: object"
      ]
     },
     "execution_count": 47,
     "metadata": {},
     "output_type": "execute_result"
    },
    {
     "data": {
      "image/png": "[encoded data removed]",
      "text/plain": [
       "<Figure size 720x864 with 10 Axes>"
      ]
     },
     "metadata": {
      "needs_background": "light"
     },
     "output_type": "display_data"
    }
   ],
   "source": [
    "df.plot(kind=\"box\",subplots=True,layout=(5,2),figsize=(10,12))"
   ]
  },
  {
   "cell_type": "markdown",
   "metadata": {},
   "source": [
    "There are extreame Outlier in the avacado dataset"
   ]
  },
  {
   "cell_type": "code",
   "execution_count": 59,
   "metadata": {},
   "outputs": [],
   "source": [
    "df.drop(\"Date\",axis=1,inplace=True)"
   ]
  },
  {
   "cell_type": "code",
   "execution_count": 60,
   "metadata": {},
   "outputs": [
    {
     "data": {
      "text/plain": [
       "AveragePrice    -0.597853\n",
       "Total Volume    20.780598\n",
       "4046            20.223665\n",
       "4225            21.202221\n",
       "4770            17.792883\n",
       "Total Bags      18.037713\n",
       "Small Bags      18.086957\n",
       "Large Bags      16.248946\n",
       "XLarge Bags     -2.873624\n",
       "year            -2.821090\n",
       "dtype: float64"
      ]
     },
     "execution_count": 60,
     "metadata": {},
     "output_type": "execute_result"
    }
   ],
   "source": [
    "df.skew()"
   ]
  },
  {
   "cell_type": "markdown",
   "metadata": {},
   "source": [
    "there are extream outlier in the data set"
   ]
  },
  {
   "cell_type": "code",
   "execution_count": 62,
   "metadata": {},
   "outputs": [],
   "source": [
    "from scipy.stats import zscore"
   ]
  },
  {
   "cell_type": "code",
   "execution_count": 65,
   "metadata": {},
   "outputs": [
    {
     "data": {
      "text/plain": [
       "array([[4.36879111, 0.32325445, 0.21650297, ..., 1.38007538, 3.25329247,\n",
       "        3.13938038],\n",
       "       [4.7176504 , 0.32999266, 0.21709419, ..., 1.3799574 , 3.25329247,\n",
       "        3.13938038],\n",
       "       [2.60839475, 0.28439044, 0.21689777, ..., 1.37980019, 3.25329247,\n",
       "        3.13938038],\n",
       "       ...,\n",
       "       [0.00804995, 0.0795209 , 0.08484768, ..., 0.01989967, 0.31442577,\n",
       "        0.31853537],\n",
       "       [0.00804995, 0.0795209 , 0.08484768, ..., 0.01989967, 0.31442577,\n",
       "        0.31853537],\n",
       "       [0.00804995, 0.0795209 , 0.08484768, ..., 0.01989967, 0.31442577,\n",
       "        0.31853537]])"
      ]
     },
     "execution_count": 65,
     "metadata": {},
     "output_type": "execute_result"
    }
   ],
   "source": [
    "z=np.abs(zscore(df))\n",
    "z"
   ]
  },
  {
   "cell_type": "code",
   "execution_count": 86,
   "metadata": {},
   "outputs": [],
   "source": [
    "threshold=3\n",
    "df_new=[(z<3).all(axis=1)]\n"
   ]
  },
  {
   "cell_type": "code",
   "execution_count": 88,
   "metadata": {},
   "outputs": [
    {
     "data": {
      "text/plain": [
       "[array([False, False, False, ..., False, False, False])]"
      ]
     },
     "execution_count": 88,
     "metadata": {},
     "output_type": "execute_result"
    }
   ],
   "source": [
    "df_new"
   ]
  },
  {
   "cell_type": "code",
   "execution_count": 70,
   "metadata": {},
   "outputs": [
    {
     "data": {
      "text/html": [
       "<div>\n",
       "<style scoped>\n",
       "    .dataframe tbody tr th:only-of-type {\n",
       "        vertical-align: middle;\n",
       "    }\n",
       "\n",
       "    .dataframe tbody tr th {\n",
       "        vertical-align: top;\n",
       "    }\n",
       "\n",
       "    .dataframe thead th {\n",
       "        text-align: right;\n",
       "    }\n",
       "</style>\n",
       "<table border=\"1\" class=\"dataframe\">\n",
       "  <thead>\n",
       "    <tr style=\"text-align: right;\">\n",
       "      <th></th>\n",
       "      <th>AveragePrice</th>\n",
       "      <th>Total Volume</th>\n",
       "      <th>4046</th>\n",
       "      <th>4225</th>\n",
       "      <th>4770</th>\n",
       "      <th>Total Bags</th>\n",
       "      <th>Small Bags</th>\n",
       "      <th>Large Bags</th>\n",
       "      <th>XLarge Bags</th>\n",
       "      <th>year</th>\n",
       "    </tr>\n",
       "  </thead>\n",
       "  <tbody>\n",
       "    <tr>\n",
       "      <th>0</th>\n",
       "      <td>1.33</td>\n",
       "      <td>64236.62</td>\n",
       "      <td>1036.74</td>\n",
       "      <td>54454.85</td>\n",
       "      <td>48.160000</td>\n",
       "      <td>8696.870000</td>\n",
       "      <td>8603.620000</td>\n",
       "      <td>93.250000</td>\n",
       "      <td>0.000000</td>\n",
       "      <td>2015.000000</td>\n",
       "    </tr>\n",
       "    <tr>\n",
       "      <th>1</th>\n",
       "      <td>1.35</td>\n",
       "      <td>54876.98</td>\n",
       "      <td>674.28</td>\n",
       "      <td>44638.81</td>\n",
       "      <td>58.330000</td>\n",
       "      <td>9505.560000</td>\n",
       "      <td>9408.070000</td>\n",
       "      <td>97.490000</td>\n",
       "      <td>0.000000</td>\n",
       "      <td>2015.000000</td>\n",
       "    </tr>\n",
       "    <tr>\n",
       "      <th>2</th>\n",
       "      <td>0.93</td>\n",
       "      <td>118220.22</td>\n",
       "      <td>794.70</td>\n",
       "      <td>109149.67</td>\n",
       "      <td>130.500000</td>\n",
       "      <td>8145.350000</td>\n",
       "      <td>8042.210000</td>\n",
       "      <td>103.140000</td>\n",
       "      <td>0.000000</td>\n",
       "      <td>2015.000000</td>\n",
       "    </tr>\n",
       "    <tr>\n",
       "      <th>3</th>\n",
       "      <td>1.08</td>\n",
       "      <td>78992.15</td>\n",
       "      <td>1132.00</td>\n",
       "      <td>71976.41</td>\n",
       "      <td>72.580000</td>\n",
       "      <td>5811.160000</td>\n",
       "      <td>5677.400000</td>\n",
       "      <td>133.760000</td>\n",
       "      <td>0.000000</td>\n",
       "      <td>2015.000000</td>\n",
       "    </tr>\n",
       "    <tr>\n",
       "      <th>4</th>\n",
       "      <td>1.28</td>\n",
       "      <td>51039.60</td>\n",
       "      <td>941.48</td>\n",
       "      <td>43838.39</td>\n",
       "      <td>75.780000</td>\n",
       "      <td>6183.950000</td>\n",
       "      <td>5986.260000</td>\n",
       "      <td>197.690000</td>\n",
       "      <td>0.000000</td>\n",
       "      <td>2015.000000</td>\n",
       "    </tr>\n",
       "    <tr>\n",
       "      <th>...</th>\n",
       "      <td>...</td>\n",
       "      <td>...</td>\n",
       "      <td>...</td>\n",
       "      <td>...</td>\n",
       "      <td>...</td>\n",
       "      <td>...</td>\n",
       "      <td>...</td>\n",
       "      <td>...</td>\n",
       "      <td>...</td>\n",
       "      <td>...</td>\n",
       "    </tr>\n",
       "    <tr>\n",
       "      <th>16463</th>\n",
       "      <td>1.08</td>\n",
       "      <td>402791.86</td>\n",
       "      <td>81751.17</td>\n",
       "      <td>118664.89</td>\n",
       "      <td>50405.495399</td>\n",
       "      <td>50405.495399</td>\n",
       "      <td>50405.495399</td>\n",
       "      <td>50405.495399</td>\n",
       "      <td>50405.495399</td>\n",
       "      <td>50405.495399</td>\n",
       "    </tr>\n",
       "    <tr>\n",
       "      <th>16464</th>\n",
       "      <td>1.08</td>\n",
       "      <td>402791.86</td>\n",
       "      <td>81751.17</td>\n",
       "      <td>118664.89</td>\n",
       "      <td>50405.495399</td>\n",
       "      <td>50405.495399</td>\n",
       "      <td>50405.495399</td>\n",
       "      <td>50405.495399</td>\n",
       "      <td>50405.495399</td>\n",
       "      <td>50405.495399</td>\n",
       "    </tr>\n",
       "    <tr>\n",
       "      <th>16465</th>\n",
       "      <td>1.08</td>\n",
       "      <td>402791.86</td>\n",
       "      <td>81751.17</td>\n",
       "      <td>118664.89</td>\n",
       "      <td>50405.495399</td>\n",
       "      <td>50405.495399</td>\n",
       "      <td>50405.495399</td>\n",
       "      <td>50405.495399</td>\n",
       "      <td>50405.495399</td>\n",
       "      <td>50405.495399</td>\n",
       "    </tr>\n",
       "    <tr>\n",
       "      <th>16466</th>\n",
       "      <td>1.08</td>\n",
       "      <td>402791.86</td>\n",
       "      <td>81751.17</td>\n",
       "      <td>118664.89</td>\n",
       "      <td>50405.495399</td>\n",
       "      <td>50405.495399</td>\n",
       "      <td>50405.495399</td>\n",
       "      <td>50405.495399</td>\n",
       "      <td>50405.495399</td>\n",
       "      <td>50405.495399</td>\n",
       "    </tr>\n",
       "    <tr>\n",
       "      <th>16467</th>\n",
       "      <td>1.08</td>\n",
       "      <td>402791.86</td>\n",
       "      <td>81751.17</td>\n",
       "      <td>118664.89</td>\n",
       "      <td>50405.495399</td>\n",
       "      <td>50405.495399</td>\n",
       "      <td>50405.495399</td>\n",
       "      <td>50405.495399</td>\n",
       "      <td>50405.495399</td>\n",
       "      <td>50405.495399</td>\n",
       "    </tr>\n",
       "  </tbody>\n",
       "</table>\n",
       "<p>16468 rows × 10 columns</p>\n",
       "</div>"
      ],
      "text/plain": [
       "       AveragePrice  Total Volume      4046       4225          4770  \\\n",
       "0              1.33      64236.62   1036.74   54454.85     48.160000   \n",
       "1              1.35      54876.98    674.28   44638.81     58.330000   \n",
       "2              0.93     118220.22    794.70  109149.67    130.500000   \n",
       "3              1.08      78992.15   1132.00   71976.41     72.580000   \n",
       "4              1.28      51039.60    941.48   43838.39     75.780000   \n",
       "...             ...           ...       ...        ...           ...   \n",
       "16463          1.08     402791.86  81751.17  118664.89  50405.495399   \n",
       "16464          1.08     402791.86  81751.17  118664.89  50405.495399   \n",
       "16465          1.08     402791.86  81751.17  118664.89  50405.495399   \n",
       "16466          1.08     402791.86  81751.17  118664.89  50405.495399   \n",
       "16467          1.08     402791.86  81751.17  118664.89  50405.495399   \n",
       "\n",
       "         Total Bags    Small Bags    Large Bags   XLarge Bags          year  \n",
       "0       8696.870000   8603.620000     93.250000      0.000000   2015.000000  \n",
       "1       9505.560000   9408.070000     97.490000      0.000000   2015.000000  \n",
       "2       8145.350000   8042.210000    103.140000      0.000000   2015.000000  \n",
       "3       5811.160000   5677.400000    133.760000      0.000000   2015.000000  \n",
       "4       6183.950000   5986.260000    197.690000      0.000000   2015.000000  \n",
       "...             ...           ...           ...           ...           ...  \n",
       "16463  50405.495399  50405.495399  50405.495399  50405.495399  50405.495399  \n",
       "16464  50405.495399  50405.495399  50405.495399  50405.495399  50405.495399  \n",
       "16465  50405.495399  50405.495399  50405.495399  50405.495399  50405.495399  \n",
       "16466  50405.495399  50405.495399  50405.495399  50405.495399  50405.495399  \n",
       "16467  50405.495399  50405.495399  50405.495399  50405.495399  50405.495399  \n",
       "\n",
       "[16468 rows x 10 columns]"
      ]
     },
     "execution_count": 70,
     "metadata": {},
     "output_type": "execute_result"
    }
   ],
   "source": [
    "df"
   ]
  },
  {
   "cell_type": "code",
   "execution_count": 74,
   "metadata": {},
   "outputs": [],
   "source": [
    "x=df.drop(\"AveragePrice\",axis=1)\n",
    "y=df[\"AveragePrice\"]"
   ]
  },
  {
   "cell_type": "markdown",
   "metadata": {},
   "source": [
    "# removing skewness"
   ]
  },
  {
   "cell_type": "code",
   "execution_count": 71,
   "metadata": {},
   "outputs": [],
   "source": [
    "from sklearn.preprocessing import power_transform"
   ]
  },
  {
   "cell_type": "code",
   "execution_count": 75,
   "metadata": {},
   "outputs": [
    {
     "data": {
      "text/plain": [
       "array([[ 0.00000000e+00, -5.67142334e+00, -1.59724738e+00, ...,\n",
       "        -3.52898084e+00, -3.21924853e+00, -3.13936876e+00],\n",
       "       [ 0.00000000e+00, -6.17596344e+00, -2.02135640e+00, ...,\n",
       "        -3.52564964e+00, -3.21924853e+00, -3.13936876e+00],\n",
       "       [ 0.00000000e+00, -5.98433299e+00, -1.74385752e-01, ...,\n",
       "        -3.52131522e+00, -3.21924853e+00, -3.13936876e+00],\n",
       "       ...,\n",
       "       [ 0.00000000e+00, -2.18844244e-03, -9.52684905e-03, ...,\n",
       "         1.50935573e-01,  3.14801448e-01,  3.18535375e-01],\n",
       "       [ 0.00000000e+00, -2.18844244e-03, -9.52684905e-03, ...,\n",
       "         1.50935573e-01,  3.14801448e-01,  3.18535375e-01],\n",
       "       [ 0.00000000e+00, -2.18844244e-03, -9.52684905e-03, ...,\n",
       "         1.50935573e-01,  3.14801448e-01,  3.18535375e-01]])"
      ]
     },
     "execution_count": 75,
     "metadata": {},
     "output_type": "execute_result"
    }
   ],
   "source": [
    "x=power_transform(x,method=\"yeo-johnson\")\n",
    "x"
   ]
  },
  {
   "cell_type": "code",
   "execution_count": 76,
   "metadata": {},
   "outputs": [],
   "source": [
    "from sklearn.preprocessing import StandardScaler"
   ]
  },
  {
   "cell_type": "code",
   "execution_count": 77,
   "metadata": {},
   "outputs": [
    {
     "data": {
      "text/plain": [
       "array([[ 0.00000000e+00, -5.67142334e+00, -1.59724738e+00, ...,\n",
       "        -3.52898084e+00, -3.21924853e+00, -3.13936876e+00],\n",
       "       [ 0.00000000e+00, -6.17596344e+00, -2.02135640e+00, ...,\n",
       "        -3.52564964e+00, -3.21924853e+00, -3.13936876e+00],\n",
       "       [ 0.00000000e+00, -5.98433299e+00, -1.74385752e-01, ...,\n",
       "        -3.52131522e+00, -3.21924853e+00, -3.13936876e+00],\n",
       "       ...,\n",
       "       [ 0.00000000e+00, -2.18844244e-03, -9.52684905e-03, ...,\n",
       "         1.50935573e-01,  3.14801448e-01,  3.18535375e-01],\n",
       "       [ 0.00000000e+00, -2.18844244e-03, -9.52684905e-03, ...,\n",
       "         1.50935573e-01,  3.14801448e-01,  3.18535375e-01],\n",
       "       [ 0.00000000e+00, -2.18844244e-03, -9.52684905e-03, ...,\n",
       "         1.50935573e-01,  3.14801448e-01,  3.18535375e-01]])"
      ]
     },
     "execution_count": 77,
     "metadata": {},
     "output_type": "execute_result"
    }
   ],
   "source": [
    "sc=StandardScaler()\n",
    "scaledx=sc.fit_transform(x)\n",
    "x"
   ]
  },
  {
   "cell_type": "code",
   "execution_count": 79,
   "metadata": {},
   "outputs": [],
   "source": [
    "from sklearn.model_selection import train_test_split\n",
    "from sklearn.linear_model import LinearRegression\n",
    "from sklearn.metrics import r2_score\n",
    "from sklearn.metrics import mean_squared_error,mean_absolute_error"
   ]
  },
  {
   "cell_type": "code",
   "execution_count": 82,
   "metadata": {},
   "outputs": [
    {
     "name": "stdout",
     "output_type": "stream",
     "text": [
      " best accuracy=40.42328756024174 found on random_state302\n",
      "mean squared error: 0.002081949093257138\n",
      "mean absolute error: 0.010483940236675062\n"
     ]
    }
   ],
   "source": [
    "best_rstate=0\n",
    "accu=0\n",
    "for i in range(0,1000):\n",
    "    x_train,x_test,y_train,y_test=train_test_split(scaledx,y,test_size=.30,random_state=i)\n",
    "    mod=LinearRegression()\n",
    "    mod.fit(x_train,y_train)\n",
    "    predmod=mod.predict(x_test)\n",
    "    tempaccu=r2_score(y_test,predmod)\n",
    "    if tempaccu>accu:\n",
    "        accu=tempaccu\n",
    "        best_rstate=i\n",
    "print(f\" best accuracy={accu*100} found on random_state{best_rstate}\")\n",
    "print(\"mean squared error:\",mean_squared_error(y_test,predmod))\n",
    "print(\"mean absolute error:\",mean_absolute_error(y_test,predmod))"
   ]
  },
  {
   "cell_type": "code",
   "execution_count": 85,
   "metadata": {},
   "outputs": [],
   "source": [
    "from sklearn.model_selection import cross_val_score\n",
    "from sklearn.model_selection import train_test_split"
   ]
  },
  {
   "cell_type": "code",
   "execution_count": 90,
   "metadata": {},
   "outputs": [],
   "source": [
    "x_train,x_test,y_train,y_test=train_test_split(scaledx,y,test_size=.30,random_state=302)"
   ]
  },
  {
   "cell_type": "markdown",
   "metadata": {},
   "source": [
    "# finding best model"
   ]
  },
  {
   "cell_type": "markdown",
   "metadata": {},
   "source": [
    "AdaBoostRegressor"
   ]
  },
  {
   "cell_type": "code",
   "execution_count": 91,
   "metadata": {},
   "outputs": [],
   "source": [
    "from sklearn.ensemble import AdaBoostRegressor"
   ]
  },
  {
   "cell_type": "code",
   "execution_count": 93,
   "metadata": {},
   "outputs": [
    {
     "name": "stdout",
     "output_type": "stream",
     "text": [
      " accuracy=45.34078739493451,cross val score=43.98301286033403 & difference=1.3577745346004804\n",
      "mean squared error= 0.0016427498049139291\n",
      "mean absolute error= 0.027418291145243658\n"
     ]
    }
   ],
   "source": [
    "ad=AdaBoostRegressor()\n",
    "ad.fit(x_train,y_train)\n",
    "predad=ad.predict(x_test)\n",
    "r2score=r2_score(y_test,predad)\n",
    "cvscore=cross_val_score(AdaBoostRegressor(),x_train,y_train,cv=5).mean()\n",
    "print(f\" accuracy={r2score*100},cross val score={cvscore*100} & difference={(r2score*100)-(cvscore*100)}\")\n",
    "print(\"mean squared error=\",mean_squared_error(y_test,predad))\n",
    "print(\"mean absolute error=\",mean_absolute_error(y_test,predad))"
   ]
  },
  {
   "cell_type": "markdown",
   "metadata": {},
   "source": [
    "DecisionTreeRegressor"
   ]
  },
  {
   "cell_type": "code",
   "execution_count": 95,
   "metadata": {},
   "outputs": [],
   "source": [
    "from sklearn.tree import DecisionTreeRegressor"
   ]
  },
  {
   "cell_type": "code",
   "execution_count": 96,
   "metadata": {},
   "outputs": [
    {
     "name": "stdout",
     "output_type": "stream",
     "text": [
      " accuracy=56.233986023691365,cross val score=59.778397132142544 & difference=-3.544411108451179\n",
      "mean squared error: 0.0013153612629022461\n",
      "mean absolute error: 0.007540983606616009\n"
     ]
    }
   ],
   "source": [
    "dtc=DecisionTreeRegressor()\n",
    "dtc.fit(x_train,y_train)\n",
    "preddtc=dtc.predict(x_test)\n",
    "r2score=r2_score(y_test,preddtc)\n",
    "cvscore=cross_val_score(DecisionTreeRegressor(),x_train,y_train,cv=5).mean()\n",
    "print(f\" accuracy={r2score*100},cross val score={cvscore*100} & difference={(r2score*100)-(cvscore*100)}\")\n",
    "print(\"mean squared error:\",mean_squared_error(y_test,preddtc))\n",
    "print(\"mean absolute error:\",mean_absolute_error(y_test,preddtc))"
   ]
  },
  {
   "cell_type": "markdown",
   "metadata": {},
   "source": [
    "GradientBoostingRegressor()"
   ]
  },
  {
   "cell_type": "code",
   "execution_count": 98,
   "metadata": {},
   "outputs": [],
   "source": [
    "from sklearn.ensemble import GradientBoostingRegressor"
   ]
  },
  {
   "cell_type": "code",
   "execution_count": 100,
   "metadata": {},
   "outputs": [
    {
     "name": "stdout",
     "output_type": "stream",
     "text": [
      " accuracy=67.94284436173902,cross val score=67.92947608921168 & difference=0.013368272527344516\n",
      "mean squared error: 0.0009634585582370483\n",
      "mean absolute error: 0.007389028456615832\n"
     ]
    }
   ],
   "source": [
    "gbr=GradientBoostingRegressor()\n",
    "gbr.fit(x_train,y_train)\n",
    "predgbr=gbr.predict(x_test)\n",
    "r2score=r2_score(y_test,predgbr)\n",
    "cvscore=cross_val_score(GradientBoostingRegressor(),x_train,y_train,cv=5).mean()\n",
    "print(f\" accuracy={r2score*100},cross val score={cvscore*100} & difference={(r2score*100)-(cvscore*100)}\")\n",
    "print(\"mean squared error:\",mean_squared_error(y_test,predgbr))\n",
    "print(\"mean absolute error:\",mean_absolute_error(y_test,predgbr))"
   ]
  },
  {
   "cell_type": "markdown",
   "metadata": {},
   "source": [
    "kneighborsRegressor"
   ]
  },
  {
   "cell_type": "code",
   "execution_count": 101,
   "metadata": {},
   "outputs": [],
   "source": [
    "from sklearn.neighbors import KNeighborsRegressor"
   ]
  },
  {
   "cell_type": "code",
   "execution_count": 109,
   "metadata": {},
   "outputs": [
    {
     "name": "stdout",
     "output_type": "stream",
     "text": [
      " accuracy=79.03810491111565,cross val score=69.80131102103138 & difference=9.236793890084272\n",
      "mean squared error: 0.0006299971665654724\n",
      "mean absolute error: 0.005508196721311475\n"
     ]
    }
   ],
   "source": [
    "knn=KNeighborsRegressor()\n",
    "knn.fit(x_train,y_train)\n",
    "predknn=knn.predict(x_test)\n",
    "r2score=r2_score(y_test,predknn)\n",
    "cvscore=cross_val_score(KNeighborsRegressor(),x_train,y_train,cv=3).mean()\n",
    "print(f\" accuracy={r2score*100},cross val score={cvscore*100} & difference={(r2score*100)-(cvscore*100)}\")\n",
    "print(\"mean squared error:\",mean_squared_error(y_test,predknn))\n",
    "print(\"mean absolute error:\",mean_absolute_error(y_test,predknn))"
   ]
  },
  {
   "cell_type": "markdown",
   "metadata": {},
   "source": [
    "i am going with KneighborsRegressor with accuarcy 79.03 % and cvscore 69.80"
   ]
  },
  {
   "cell_type": "code",
   "execution_count": 103,
   "metadata": {},
   "outputs": [],
   "source": [
    "from sklearn.model_selection import GridSearchCV"
   ]
  },
  {
   "cell_type": "markdown",
   "metadata": {},
   "source": [
    "# Hypertuning model"
   ]
  },
  {
   "cell_type": "code",
   "execution_count": 104,
   "metadata": {},
   "outputs": [
    {
     "data": {
      "text/plain": [
       "{'n_neighbors': 3}"
      ]
     },
     "execution_count": 104,
     "metadata": {},
     "output_type": "execute_result"
    }
   ],
   "source": [
    "x_train,x_test,y_train,y_test=train_test_split(scaledx,y,test_size=.30,random_state=302)\n",
    "knn=KNeighborsRegressor()\n",
    "parameters={\"n_neighbors\" :range(1,30)}\n",
    "gsv=GridSearchCV(knn,parameters)\n",
    "gsv.fit(x_train,y_train)\n",
    "gsv.best_params_"
   ]
  },
  {
   "cell_type": "markdown",
   "metadata": {},
   "source": [
    "prediction with the graph"
   ]
  },
  {
   "cell_type": "code",
   "execution_count": 110,
   "metadata": {},
   "outputs": [
    {
     "data": {
      "image/png": "[encoded data removed]",
      "text/plain": [
       "<Figure size 432x288 with 1 Axes>"
      ]
     },
     "metadata": {
      "needs_background": "light"
     },
     "output_type": "display_data"
    }
   ],
   "source": [
    "plt.scatter(x=y_test,y=predknn)\n",
    "plt.xlabel(\"y_test\")\n",
    "plt.ylabel(\"y_predicted\")\n",
    "plt.show()"
   ]
  },
  {
   "cell_type": "markdown",
   "metadata": {},
   "source": [
    "# conclusion"
   ]
  },
  {
   "cell_type": "code",
   "execution_count": 111,
   "metadata": {},
   "outputs": [],
   "source": [
    "a=np.array(y_test)\n"
   ]
  },
  {
   "cell_type": "code",
   "execution_count": 112,
   "metadata": {},
   "outputs": [],
   "source": [
    "predicted=np.array(knn.predict(x_test))"
   ]
  },
  {
   "cell_type": "code",
   "execution_count": 113,
   "metadata": {},
   "outputs": [],
   "source": [
    "df_con=pd.DataFrame({\"original\":a,\"predicted\":predicted},index=range(len(a)))"
   ]
  },
  {
   "cell_type": "code",
   "execution_count": 114,
   "metadata": {},
   "outputs": [
    {
     "data": {
      "text/html": [
       "<div>\n",
       "<style scoped>\n",
       "    .dataframe tbody tr th:only-of-type {\n",
       "        vertical-align: middle;\n",
       "    }\n",
       "\n",
       "    .dataframe tbody tr th {\n",
       "        vertical-align: top;\n",
       "    }\n",
       "\n",
       "    .dataframe thead th {\n",
       "        text-align: right;\n",
       "    }\n",
       "</style>\n",
       "<table border=\"1\" class=\"dataframe\">\n",
       "  <thead>\n",
       "    <tr style=\"text-align: right;\">\n",
       "      <th></th>\n",
       "      <th>original</th>\n",
       "      <th>predicted</th>\n",
       "    </tr>\n",
       "  </thead>\n",
       "  <tbody>\n",
       "    <tr>\n",
       "      <th>0</th>\n",
       "      <td>1.08</td>\n",
       "      <td>1.08</td>\n",
       "    </tr>\n",
       "    <tr>\n",
       "      <th>1</th>\n",
       "      <td>1.08</td>\n",
       "      <td>1.08</td>\n",
       "    </tr>\n",
       "    <tr>\n",
       "      <th>2</th>\n",
       "      <td>1.08</td>\n",
       "      <td>1.08</td>\n",
       "    </tr>\n",
       "    <tr>\n",
       "      <th>3</th>\n",
       "      <td>1.08</td>\n",
       "      <td>1.08</td>\n",
       "    </tr>\n",
       "    <tr>\n",
       "      <th>4</th>\n",
       "      <td>1.08</td>\n",
       "      <td>1.08</td>\n",
       "    </tr>\n",
       "    <tr>\n",
       "      <th>...</th>\n",
       "      <td>...</td>\n",
       "      <td>...</td>\n",
       "    </tr>\n",
       "    <tr>\n",
       "      <th>4936</th>\n",
       "      <td>1.08</td>\n",
       "      <td>1.08</td>\n",
       "    </tr>\n",
       "    <tr>\n",
       "      <th>4937</th>\n",
       "      <td>1.08</td>\n",
       "      <td>1.08</td>\n",
       "    </tr>\n",
       "    <tr>\n",
       "      <th>4938</th>\n",
       "      <td>1.08</td>\n",
       "      <td>1.08</td>\n",
       "    </tr>\n",
       "    <tr>\n",
       "      <th>4939</th>\n",
       "      <td>1.08</td>\n",
       "      <td>1.08</td>\n",
       "    </tr>\n",
       "    <tr>\n",
       "      <th>4940</th>\n",
       "      <td>1.08</td>\n",
       "      <td>1.08</td>\n",
       "    </tr>\n",
       "  </tbody>\n",
       "</table>\n",
       "<p>4941 rows × 2 columns</p>\n",
       "</div>"
      ],
      "text/plain": [
       "      original  predicted\n",
       "0         1.08       1.08\n",
       "1         1.08       1.08\n",
       "2         1.08       1.08\n",
       "3         1.08       1.08\n",
       "4         1.08       1.08\n",
       "...        ...        ...\n",
       "4936      1.08       1.08\n",
       "4937      1.08       1.08\n",
       "4938      1.08       1.08\n",
       "4939      1.08       1.08\n",
       "4940      1.08       1.08\n",
       "\n",
       "[4941 rows x 2 columns]"
      ]
     },
     "execution_count": 114,
     "metadata": {},
     "output_type": "execute_result"
    }
   ],
   "source": [
    "df_con"
   ]
  },
  {
   "cell_type": "code",
   "execution_count": null,
   "metadata": {},
   "outputs": [],
   "source": []
  }
 ],
 "metadata": {
  "kernelspec": {
   "display_name": "Python 3",
   "language": "python",
   "name": "python3"
  },
  "language_info": {
   "codemirror_mode": {
    "name": "ipython",
    "version": 3
   },
   "file_extension": ".py",
   "mimetype": "text/x-python",
   "name": "python",
   "nbconvert_exporter": "python",
   "pygments_lexer": "ipython3",
   "version": "3.8.3"
  }
 },
 "nbformat": 4,
 "nbformat_minor": 4
}
