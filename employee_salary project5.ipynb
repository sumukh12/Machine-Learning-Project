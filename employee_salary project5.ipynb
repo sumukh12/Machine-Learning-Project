{
 "cells": [
  {
   "cell_type": "code",
   "execution_count": 1,
   "metadata": {},
   "outputs": [],
   "source": [
    "import warnings\n",
    "warnings.filterwarnings(\"ignore\")"
   ]
  },
  {
   "cell_type": "code",
   "execution_count": 2,
   "metadata": {},
   "outputs": [],
   "source": [
    "import pandas as pd\n",
    "df=pd.read_csv(\"employee.csv\")"
   ]
  },
  {
   "cell_type": "code",
   "execution_count": 3,
   "metadata": {},
   "outputs": [
    {
     "data": {
      "text/html": [
       "<div>\n",
       "<style scoped>\n",
       "    .dataframe tbody tr th:only-of-type {\n",
       "        vertical-align: middle;\n",
       "    }\n",
       "\n",
       "    .dataframe tbody tr th {\n",
       "        vertical-align: top;\n",
       "    }\n",
       "\n",
       "    .dataframe thead th {\n",
       "        text-align: right;\n",
       "    }\n",
       "</style>\n",
       "<table border=\"1\" class=\"dataframe\">\n",
       "  <thead>\n",
       "    <tr style=\"text-align: right;\">\n",
       "      <th></th>\n",
       "      <th>emiid</th>\n",
       "      <th>Name Prefix</th>\n",
       "      <th>First Name</th>\n",
       "      <th>Middle Initial</th>\n",
       "      <th>Last Name</th>\n",
       "      <th>Gender</th>\n",
       "      <th>E Mail</th>\n",
       "      <th>Father's Name</th>\n",
       "      <th>Mother's Name</th>\n",
       "      <th>Mother's Maiden Name</th>\n",
       "      <th>...</th>\n",
       "      <th>SSN</th>\n",
       "      <th>Phone No</th>\n",
       "      <th>Place Name</th>\n",
       "      <th>County</th>\n",
       "      <th>City</th>\n",
       "      <th>State</th>\n",
       "      <th>Zip</th>\n",
       "      <th>Region</th>\n",
       "      <th>User Name</th>\n",
       "      <th>Password</th>\n",
       "    </tr>\n",
       "  </thead>\n",
       "  <tbody>\n",
       "    <tr>\n",
       "      <th>0</th>\n",
       "      <td>850297</td>\n",
       "      <td>Ms.</td>\n",
       "      <td>Shawna</td>\n",
       "      <td>W</td>\n",
       "      <td>Buck</td>\n",
       "      <td>F</td>\n",
       "      <td>shawna.buck@gmail.com</td>\n",
       "      <td>Rosario Buck</td>\n",
       "      <td>Keisha Buck</td>\n",
       "      <td>Hendricks</td>\n",
       "      <td>...</td>\n",
       "      <td>222-11-7603</td>\n",
       "      <td>702-771-7149</td>\n",
       "      <td>Las Vegas</td>\n",
       "      <td>Clark</td>\n",
       "      <td>Las Vegas</td>\n",
       "      <td>NV</td>\n",
       "      <td>89128</td>\n",
       "      <td>West</td>\n",
       "      <td>swbuck</td>\n",
       "      <td>ja8?k3BTF^]o@&lt;&amp;</td>\n",
       "    </tr>\n",
       "    <tr>\n",
       "      <th>1</th>\n",
       "      <td>304721</td>\n",
       "      <td>Mr.</td>\n",
       "      <td>Nathaniel</td>\n",
       "      <td>Z</td>\n",
       "      <td>Burke</td>\n",
       "      <td>M</td>\n",
       "      <td>nathaniel.burke@walmart.com</td>\n",
       "      <td>Derrick Burke</td>\n",
       "      <td>Phoebe Burke</td>\n",
       "      <td>Pugh</td>\n",
       "      <td>...</td>\n",
       "      <td>550-99-9897</td>\n",
       "      <td>231-765-6923</td>\n",
       "      <td>Irons</td>\n",
       "      <td>Lake</td>\n",
       "      <td>Irons</td>\n",
       "      <td>MI</td>\n",
       "      <td>49644</td>\n",
       "      <td>Midwest</td>\n",
       "      <td>nzburke</td>\n",
       "      <td>tPA@4Wh9Ja$+Ln</td>\n",
       "    </tr>\n",
       "    <tr>\n",
       "      <th>2</th>\n",
       "      <td>412317</td>\n",
       "      <td>Drs.</td>\n",
       "      <td>Elisabeth</td>\n",
       "      <td>W</td>\n",
       "      <td>Foster</td>\n",
       "      <td>F</td>\n",
       "      <td>elisabeth.foster@gmail.com</td>\n",
       "      <td>Irwin Foster</td>\n",
       "      <td>Janie Foster</td>\n",
       "      <td>Delaney</td>\n",
       "      <td>...</td>\n",
       "      <td>215-91-0004</td>\n",
       "      <td>270-749-4774</td>\n",
       "      <td>Lexington</td>\n",
       "      <td>Fayette</td>\n",
       "      <td>Lexington</td>\n",
       "      <td>KY</td>\n",
       "      <td>40501</td>\n",
       "      <td>South</td>\n",
       "      <td>ewfoster</td>\n",
       "      <td>5D.B4IGNkWJfG&lt;~</td>\n",
       "    </tr>\n",
       "    <tr>\n",
       "      <th>3</th>\n",
       "      <td>621375</td>\n",
       "      <td>Mrs.</td>\n",
       "      <td>Briana</td>\n",
       "      <td>C</td>\n",
       "      <td>Lancaster</td>\n",
       "      <td>F</td>\n",
       "      <td>briana.lancaster@yahoo.com</td>\n",
       "      <td>Jeffrey Lancaster</td>\n",
       "      <td>Shelby Lancaster</td>\n",
       "      <td>Weiss</td>\n",
       "      <td>...</td>\n",
       "      <td>534-71-1053</td>\n",
       "      <td>219-623-8216</td>\n",
       "      <td>Munster</td>\n",
       "      <td>Lake</td>\n",
       "      <td>Munster</td>\n",
       "      <td>IN</td>\n",
       "      <td>46321</td>\n",
       "      <td>Midwest</td>\n",
       "      <td>bclancaster</td>\n",
       "      <td>I%?JDM;pW</td>\n",
       "    </tr>\n",
       "    <tr>\n",
       "      <th>4</th>\n",
       "      <td>787549</td>\n",
       "      <td>Hon.</td>\n",
       "      <td>Estella</td>\n",
       "      <td>L</td>\n",
       "      <td>Potter</td>\n",
       "      <td>F</td>\n",
       "      <td>estella.potter@gmail.com</td>\n",
       "      <td>Booker Potter</td>\n",
       "      <td>Katelyn Potter</td>\n",
       "      <td>Pate</td>\n",
       "      <td>...</td>\n",
       "      <td>644-29-6396</td>\n",
       "      <td>907-677-8486</td>\n",
       "      <td>Fairbanks</td>\n",
       "      <td>Fairbanks North Star</td>\n",
       "      <td>Fairbanks</td>\n",
       "      <td>AK</td>\n",
       "      <td>99709</td>\n",
       "      <td>West</td>\n",
       "      <td>elpotter</td>\n",
       "      <td>j4jkEXfC&amp;Rh</td>\n",
       "    </tr>\n",
       "    <tr>\n",
       "      <th>...</th>\n",
       "      <td>...</td>\n",
       "      <td>...</td>\n",
       "      <td>...</td>\n",
       "      <td>...</td>\n",
       "      <td>...</td>\n",
       "      <td>...</td>\n",
       "      <td>...</td>\n",
       "      <td>...</td>\n",
       "      <td>...</td>\n",
       "      <td>...</td>\n",
       "      <td>...</td>\n",
       "      <td>...</td>\n",
       "      <td>...</td>\n",
       "      <td>...</td>\n",
       "      <td>...</td>\n",
       "      <td>...</td>\n",
       "      <td>...</td>\n",
       "      <td>...</td>\n",
       "      <td>...</td>\n",
       "      <td>...</td>\n",
       "      <td>...</td>\n",
       "    </tr>\n",
       "    <tr>\n",
       "      <th>995</th>\n",
       "      <td>568435</td>\n",
       "      <td>Ms.</td>\n",
       "      <td>Bonnie</td>\n",
       "      <td>K</td>\n",
       "      <td>Baker</td>\n",
       "      <td>F</td>\n",
       "      <td>bonnie.baker@bp.com</td>\n",
       "      <td>Edwardo Baker</td>\n",
       "      <td>Pauline Baker</td>\n",
       "      <td>Robinson</td>\n",
       "      <td>...</td>\n",
       "      <td>064-02-6162</td>\n",
       "      <td>262-696-9171</td>\n",
       "      <td>Mukwonago</td>\n",
       "      <td>Waukesha</td>\n",
       "      <td>Mukwonago</td>\n",
       "      <td>WI</td>\n",
       "      <td>53149</td>\n",
       "      <td>Midwest</td>\n",
       "      <td>bkbaker</td>\n",
       "      <td>a?Co:/r;nu_wTQ</td>\n",
       "    </tr>\n",
       "    <tr>\n",
       "      <th>996</th>\n",
       "      <td>597409</td>\n",
       "      <td>Mr.</td>\n",
       "      <td>Luke</td>\n",
       "      <td>S</td>\n",
       "      <td>Turner</td>\n",
       "      <td>M</td>\n",
       "      <td>luke.turner@charter.net</td>\n",
       "      <td>Javier Turner</td>\n",
       "      <td>Nicole Turner</td>\n",
       "      <td>Sykes</td>\n",
       "      <td>...</td>\n",
       "      <td>056-02-8240</td>\n",
       "      <td>231-629-0498</td>\n",
       "      <td>Freeport</td>\n",
       "      <td>Barry</td>\n",
       "      <td>Freeport</td>\n",
       "      <td>MI</td>\n",
       "      <td>49325</td>\n",
       "      <td>Midwest</td>\n",
       "      <td>lsturner</td>\n",
       "      <td>7n5@64VC7|</td>\n",
       "    </tr>\n",
       "    <tr>\n",
       "      <th>997</th>\n",
       "      <td>359608</td>\n",
       "      <td>Hon.</td>\n",
       "      <td>Eva</td>\n",
       "      <td>S</td>\n",
       "      <td>Holman</td>\n",
       "      <td>F</td>\n",
       "      <td>eva.holman@hotmail.com</td>\n",
       "      <td>Coy Holman</td>\n",
       "      <td>Haley Holman</td>\n",
       "      <td>Boyle</td>\n",
       "      <td>...</td>\n",
       "      <td>343-11-1935</td>\n",
       "      <td>209-912-6705</td>\n",
       "      <td>Turlock</td>\n",
       "      <td>Stanislaus</td>\n",
       "      <td>Turlock</td>\n",
       "      <td>CA</td>\n",
       "      <td>95381</td>\n",
       "      <td>West</td>\n",
       "      <td>esholman</td>\n",
       "      <td>DG&lt;&lt;&lt;e}*WgD&lt;U</td>\n",
       "    </tr>\n",
       "    <tr>\n",
       "      <th>998</th>\n",
       "      <td>803426</td>\n",
       "      <td>Mrs.</td>\n",
       "      <td>Maritza</td>\n",
       "      <td>H</td>\n",
       "      <td>Christian</td>\n",
       "      <td>F</td>\n",
       "      <td>maritza.christian@microsoft.com</td>\n",
       "      <td>Dion Christian</td>\n",
       "      <td>Stephanie Christian</td>\n",
       "      <td>Mooney</td>\n",
       "      <td>...</td>\n",
       "      <td>336-11-5030</td>\n",
       "      <td>203-224-9056</td>\n",
       "      <td>Stamford</td>\n",
       "      <td>Fairfield</td>\n",
       "      <td>Stamford</td>\n",
       "      <td>CT</td>\n",
       "      <td>6910</td>\n",
       "      <td>Northeast</td>\n",
       "      <td>mhchristian</td>\n",
       "      <td>Krs@#TnM</td>\n",
       "    </tr>\n",
       "    <tr>\n",
       "      <th>999</th>\n",
       "      <td>669618</td>\n",
       "      <td>Drs.</td>\n",
       "      <td>Phyllis</td>\n",
       "      <td>H</td>\n",
       "      <td>Dudley</td>\n",
       "      <td>F</td>\n",
       "      <td>phyllis.dudley@yahoo.co.in</td>\n",
       "      <td>Jarrod Dudley</td>\n",
       "      <td>Latisha Dudley</td>\n",
       "      <td>Wilcox</td>\n",
       "      <td>...</td>\n",
       "      <td>101-02-6501</td>\n",
       "      <td>405-970-2341</td>\n",
       "      <td>Meno</td>\n",
       "      <td>Major</td>\n",
       "      <td>Meno</td>\n",
       "      <td>OK</td>\n",
       "      <td>73760</td>\n",
       "      <td>South</td>\n",
       "      <td>phdudley</td>\n",
       "      <td>h6wt@400%&amp;Uu</td>\n",
       "    </tr>\n",
       "  </tbody>\n",
       "</table>\n",
       "<p>1000 rows × 37 columns</p>\n",
       "</div>"
      ],
      "text/plain": [
       "     emiid    Name Prefix First Name Middle Initial  Last Name Gender  \\\n",
       "0      850297         Ms.     Shawna              W       Buck      F   \n",
       "1      304721         Mr.  Nathaniel              Z      Burke      M   \n",
       "2      412317        Drs.  Elisabeth              W     Foster      F   \n",
       "3      621375        Mrs.     Briana              C  Lancaster      F   \n",
       "4      787549        Hon.    Estella              L     Potter      F   \n",
       "..        ...         ...        ...            ...        ...    ...   \n",
       "995    568435         Ms.     Bonnie              K      Baker      F   \n",
       "996    597409         Mr.       Luke              S     Turner      M   \n",
       "997    359608        Hon.        Eva              S     Holman      F   \n",
       "998    803426        Mrs.    Maritza              H  Christian      F   \n",
       "999    669618        Drs.    Phyllis              H     Dudley      F   \n",
       "\n",
       "                              E Mail      Father's Name        Mother's Name  \\\n",
       "0              shawna.buck@gmail.com       Rosario Buck          Keisha Buck   \n",
       "1        nathaniel.burke@walmart.com      Derrick Burke         Phoebe Burke   \n",
       "2         elisabeth.foster@gmail.com       Irwin Foster         Janie Foster   \n",
       "3         briana.lancaster@yahoo.com  Jeffrey Lancaster     Shelby Lancaster   \n",
       "4           estella.potter@gmail.com      Booker Potter       Katelyn Potter   \n",
       "..                               ...                ...                  ...   \n",
       "995              bonnie.baker@bp.com      Edwardo Baker        Pauline Baker   \n",
       "996          luke.turner@charter.net      Javier Turner        Nicole Turner   \n",
       "997           eva.holman@hotmail.com         Coy Holman         Haley Holman   \n",
       "998  maritza.christian@microsoft.com     Dion Christian  Stephanie Christian   \n",
       "999       phyllis.dudley@yahoo.co.in      Jarrod Dudley       Latisha Dudley   \n",
       "\n",
       "    Mother's Maiden Name  ...          SSN      Phone No  Place Name  \\\n",
       "0              Hendricks  ...  222-11-7603  702-771-7149   Las Vegas   \n",
       "1                   Pugh  ...  550-99-9897  231-765-6923       Irons   \n",
       "2                Delaney  ...  215-91-0004  270-749-4774   Lexington   \n",
       "3                  Weiss  ...  534-71-1053  219-623-8216     Munster   \n",
       "4                   Pate  ...  644-29-6396  907-677-8486   Fairbanks   \n",
       "..                   ...  ...          ...           ...         ...   \n",
       "995             Robinson  ...  064-02-6162  262-696-9171   Mukwonago   \n",
       "996                Sykes  ...  056-02-8240  231-629-0498    Freeport   \n",
       "997                Boyle  ...  343-11-1935  209-912-6705     Turlock   \n",
       "998               Mooney  ...  336-11-5030  203-224-9056    Stamford   \n",
       "999               Wilcox  ...  101-02-6501  405-970-2341        Meno   \n",
       "\n",
       "                   County       City State    Zip     Region    User Name  \\\n",
       "0                   Clark  Las Vegas    NV  89128       West       swbuck   \n",
       "1                    Lake      Irons    MI  49644    Midwest      nzburke   \n",
       "2                 Fayette  Lexington    KY  40501      South     ewfoster   \n",
       "3                    Lake    Munster    IN  46321    Midwest  bclancaster   \n",
       "4    Fairbanks North Star  Fairbanks    AK  99709       West     elpotter   \n",
       "..                    ...        ...   ...    ...        ...          ...   \n",
       "995              Waukesha  Mukwonago    WI  53149    Midwest      bkbaker   \n",
       "996                 Barry   Freeport    MI  49325    Midwest     lsturner   \n",
       "997            Stanislaus    Turlock    CA  95381       West     esholman   \n",
       "998             Fairfield   Stamford    CT   6910  Northeast  mhchristian   \n",
       "999                 Major       Meno    OK  73760      South     phdudley   \n",
       "\n",
       "            Password  \n",
       "0    ja8?k3BTF^]o@<&  \n",
       "1     tPA@4Wh9Ja$+Ln  \n",
       "2    5D.B4IGNkWJfG<~  \n",
       "3          I%?JDM;pW  \n",
       "4        j4jkEXfC&Rh  \n",
       "..               ...  \n",
       "995   a?Co:/r;nu_wTQ  \n",
       "996       7n5@64VC7|  \n",
       "997    DG<<<e}*WgD<U  \n",
       "998         Krs@#TnM  \n",
       "999     h6wt@400%&Uu  \n",
       "\n",
       "[1000 rows x 37 columns]"
      ]
     },
     "execution_count": 3,
     "metadata": {},
     "output_type": "execute_result"
    }
   ],
   "source": [
    "df"
   ]
  },
  {
   "cell_type": "code",
   "execution_count": 4,
   "metadata": {},
   "outputs": [
    {
     "data": {
      "text/plain": [
       "(1000, 37)"
      ]
     },
     "execution_count": 4,
     "metadata": {},
     "output_type": "execute_result"
    }
   ],
   "source": [
    "df.shape"
   ]
  },
  {
   "cell_type": "code",
   "execution_count": 5,
   "metadata": {},
   "outputs": [
    {
     "data": {
      "text/plain": [
       "emiid                       int64\n",
       "Name Prefix                object\n",
       "First Name                 object\n",
       "Middle Initial             object\n",
       "Last Name                  object\n",
       "Gender                     object\n",
       "E Mail                     object\n",
       "Father's Name              object\n",
       "Mother's Name              object\n",
       "Mother's Maiden Name       object\n",
       "Date of Birth              object\n",
       "Time of Birth              object\n",
       "Age in Yrs.               float64\n",
       "Weight in Kgs.              int64\n",
       "Date of Joining            object\n",
       "Quarter of Joining         object\n",
       "Half of Joining            object\n",
       "Year of Joining             int64\n",
       "Month of Joining            int64\n",
       "Month Name of Joining      object\n",
       "Short Month                object\n",
       "Day of Joining              int64\n",
       "DOW of Joining             object\n",
       "Short DOW                  object\n",
       "Age in Company (Years)    float64\n",
       "Salary                      int64\n",
       "Last % Hike                object\n",
       "SSN                        object\n",
       "Phone No                   object\n",
       "Place Name                 object\n",
       "County                     object\n",
       "City                       object\n",
       "State                      object\n",
       "Zip                         int64\n",
       "Region                     object\n",
       "User Name                  object\n",
       "Password                   object\n",
       "dtype: object"
      ]
     },
     "execution_count": 5,
     "metadata": {},
     "output_type": "execute_result"
    }
   ],
   "source": [
    "df.dtypes"
   ]
  },
  {
   "cell_type": "markdown",
   "metadata": {},
   "source": [
    "data cleasing required"
   ]
  },
  {
   "cell_type": "code",
   "execution_count": 6,
   "metadata": {},
   "outputs": [],
   "source": [
    "df.drop(\"Name Prefix\",axis=1,inplace=True)"
   ]
  },
  {
   "cell_type": "code",
   "execution_count": 7,
   "metadata": {},
   "outputs": [],
   "source": [
    "df.drop(\"First Name\",axis=1,inplace=True)"
   ]
  },
  {
   "cell_type": "code",
   "execution_count": 8,
   "metadata": {},
   "outputs": [],
   "source": [
    "df.drop(\"Middle Initial\",axis=1,inplace=True)"
   ]
  },
  {
   "cell_type": "code",
   "execution_count": 9,
   "metadata": {},
   "outputs": [],
   "source": [
    "df.drop(\"Last Name\",axis=1,inplace=True)"
   ]
  },
  {
   "cell_type": "code",
   "execution_count": 10,
   "metadata": {},
   "outputs": [],
   "source": [
    "df.drop(\"E Mail\",axis=1,inplace=True)"
   ]
  },
  {
   "cell_type": "code",
   "execution_count": 11,
   "metadata": {},
   "outputs": [],
   "source": [
    "df.drop(\"Father's Name\",axis=1,inplace=True)"
   ]
  },
  {
   "cell_type": "code",
   "execution_count": 12,
   "metadata": {},
   "outputs": [],
   "source": [
    "df.drop(\"Mother's Name\",axis=1,inplace=True)"
   ]
  },
  {
   "cell_type": "code",
   "execution_count": 13,
   "metadata": {},
   "outputs": [],
   "source": [
    "df.drop(\"Mother's Maiden Name\",axis=1,inplace=True)"
   ]
  },
  {
   "cell_type": "code",
   "execution_count": 14,
   "metadata": {},
   "outputs": [],
   "source": [
    "df.drop(\"Date of Birth\",axis=1,inplace=True)"
   ]
  },
  {
   "cell_type": "code",
   "execution_count": 15,
   "metadata": {},
   "outputs": [],
   "source": [
    "df.drop(\"Time of Birth\",axis=1,inplace=True)"
   ]
  },
  {
   "cell_type": "code",
   "execution_count": 16,
   "metadata": {},
   "outputs": [],
   "source": [
    "df.drop(\"Date of Joining\",axis=1,inplace=True)"
   ]
  },
  {
   "cell_type": "code",
   "execution_count": 17,
   "metadata": {},
   "outputs": [],
   "source": [
    "df.drop(\"Quarter of Joining\",axis=1,inplace=True)"
   ]
  },
  {
   "cell_type": "code",
   "execution_count": 18,
   "metadata": {},
   "outputs": [],
   "source": [
    "df.drop(\"Half of Joining\",axis=1,inplace=True)"
   ]
  },
  {
   "cell_type": "code",
   "execution_count": 19,
   "metadata": {},
   "outputs": [],
   "source": [
    "df.drop(\"Month Name of Joining\",axis=1,inplace=True)"
   ]
  },
  {
   "cell_type": "code",
   "execution_count": 20,
   "metadata": {},
   "outputs": [],
   "source": [
    "df.drop(\"Short Month\",axis=1,inplace=True)"
   ]
  },
  {
   "cell_type": "code",
   "execution_count": 21,
   "metadata": {},
   "outputs": [],
   "source": [
    "df.drop(\"DOW of Joining\",axis=1,inplace=True)"
   ]
  },
  {
   "cell_type": "code",
   "execution_count": 22,
   "metadata": {},
   "outputs": [],
   "source": [
    "df.drop(\"Short DOW\",axis=1,inplace=True)"
   ]
  },
  {
   "cell_type": "code",
   "execution_count": 23,
   "metadata": {},
   "outputs": [],
   "source": [
    "df.drop(\"SSN\",axis=1,inplace=True)"
   ]
  },
  {
   "cell_type": "code",
   "execution_count": 24,
   "metadata": {},
   "outputs": [],
   "source": [
    "df.drop(\"Phone No\",axis=1,inplace=True)"
   ]
  },
  {
   "cell_type": "code",
   "execution_count": 25,
   "metadata": {},
   "outputs": [],
   "source": [
    "df.drop(\"Place Name\",axis=1,inplace=True)"
   ]
  },
  {
   "cell_type": "code",
   "execution_count": 26,
   "metadata": {},
   "outputs": [],
   "source": [
    "df.drop(\"City\",axis=1,inplace=True)"
   ]
  },
  {
   "cell_type": "code",
   "execution_count": 27,
   "metadata": {},
   "outputs": [],
   "source": [
    "df.drop(\"State\",axis=1,inplace=True)"
   ]
  },
  {
   "cell_type": "code",
   "execution_count": 28,
   "metadata": {},
   "outputs": [],
   "source": [
    "df.drop(\"Region\",axis=1,inplace=True)"
   ]
  },
  {
   "cell_type": "code",
   "execution_count": 29,
   "metadata": {},
   "outputs": [],
   "source": [
    "df.drop(\"User Name\",axis=1,inplace=True)"
   ]
  },
  {
   "cell_type": "code",
   "execution_count": 30,
   "metadata": {},
   "outputs": [],
   "source": [
    "df.drop(\"Password\",axis=1,inplace=True)"
   ]
  },
  {
   "cell_type": "code",
   "execution_count": 31,
   "metadata": {},
   "outputs": [
    {
     "data": {
      "text/html": [
       "<div>\n",
       "<style scoped>\n",
       "    .dataframe tbody tr th:only-of-type {\n",
       "        vertical-align: middle;\n",
       "    }\n",
       "\n",
       "    .dataframe tbody tr th {\n",
       "        vertical-align: top;\n",
       "    }\n",
       "\n",
       "    .dataframe thead th {\n",
       "        text-align: right;\n",
       "    }\n",
       "</style>\n",
       "<table border=\"1\" class=\"dataframe\">\n",
       "  <thead>\n",
       "    <tr style=\"text-align: right;\">\n",
       "      <th></th>\n",
       "      <th>emiid</th>\n",
       "      <th>Gender</th>\n",
       "      <th>Age in Yrs.</th>\n",
       "      <th>Weight in Kgs.</th>\n",
       "      <th>Year of Joining</th>\n",
       "      <th>Month of Joining</th>\n",
       "      <th>Day of Joining</th>\n",
       "      <th>Age in Company (Years)</th>\n",
       "      <th>Salary</th>\n",
       "      <th>Last % Hike</th>\n",
       "      <th>County</th>\n",
       "      <th>Zip</th>\n",
       "    </tr>\n",
       "  </thead>\n",
       "  <tbody>\n",
       "    <tr>\n",
       "      <th>0</th>\n",
       "      <td>850297</td>\n",
       "      <td>F</td>\n",
       "      <td>45.66</td>\n",
       "      <td>44</td>\n",
       "      <td>2010</td>\n",
       "      <td>12</td>\n",
       "      <td>18</td>\n",
       "      <td>6.61</td>\n",
       "      <td>119090</td>\n",
       "      <td>17%</td>\n",
       "      <td>Clark</td>\n",
       "      <td>89128</td>\n",
       "    </tr>\n",
       "    <tr>\n",
       "      <th>1</th>\n",
       "      <td>304721</td>\n",
       "      <td>M</td>\n",
       "      <td>23.76</td>\n",
       "      <td>52</td>\n",
       "      <td>2017</td>\n",
       "      <td>4</td>\n",
       "      <td>25</td>\n",
       "      <td>0.26</td>\n",
       "      <td>117991</td>\n",
       "      <td>14%</td>\n",
       "      <td>Lake</td>\n",
       "      <td>49644</td>\n",
       "    </tr>\n",
       "    <tr>\n",
       "      <th>2</th>\n",
       "      <td>412317</td>\n",
       "      <td>F</td>\n",
       "      <td>22.68</td>\n",
       "      <td>42</td>\n",
       "      <td>2017</td>\n",
       "      <td>3</td>\n",
       "      <td>27</td>\n",
       "      <td>0.34</td>\n",
       "      <td>161045</td>\n",
       "      <td>28%</td>\n",
       "      <td>Fayette</td>\n",
       "      <td>40501</td>\n",
       "    </tr>\n",
       "    <tr>\n",
       "      <th>3</th>\n",
       "      <td>621375</td>\n",
       "      <td>F</td>\n",
       "      <td>41.70</td>\n",
       "      <td>43</td>\n",
       "      <td>2003</td>\n",
       "      <td>2</td>\n",
       "      <td>25</td>\n",
       "      <td>14.43</td>\n",
       "      <td>142616</td>\n",
       "      <td>16%</td>\n",
       "      <td>Lake</td>\n",
       "      <td>46321</td>\n",
       "    </tr>\n",
       "    <tr>\n",
       "      <th>4</th>\n",
       "      <td>787549</td>\n",
       "      <td>F</td>\n",
       "      <td>22.39</td>\n",
       "      <td>58</td>\n",
       "      <td>2016</td>\n",
       "      <td>10</td>\n",
       "      <td>11</td>\n",
       "      <td>0.79</td>\n",
       "      <td>135706</td>\n",
       "      <td>11%</td>\n",
       "      <td>Fairbanks North Star</td>\n",
       "      <td>99709</td>\n",
       "    </tr>\n",
       "    <tr>\n",
       "      <th>...</th>\n",
       "      <td>...</td>\n",
       "      <td>...</td>\n",
       "      <td>...</td>\n",
       "      <td>...</td>\n",
       "      <td>...</td>\n",
       "      <td>...</td>\n",
       "      <td>...</td>\n",
       "      <td>...</td>\n",
       "      <td>...</td>\n",
       "      <td>...</td>\n",
       "      <td>...</td>\n",
       "      <td>...</td>\n",
       "    </tr>\n",
       "    <tr>\n",
       "      <th>995</th>\n",
       "      <td>568435</td>\n",
       "      <td>F</td>\n",
       "      <td>32.01</td>\n",
       "      <td>59</td>\n",
       "      <td>2008</td>\n",
       "      <td>1</td>\n",
       "      <td>7</td>\n",
       "      <td>9.56</td>\n",
       "      <td>72930</td>\n",
       "      <td>10%</td>\n",
       "      <td>Waukesha</td>\n",
       "      <td>53149</td>\n",
       "    </tr>\n",
       "    <tr>\n",
       "      <th>996</th>\n",
       "      <td>597409</td>\n",
       "      <td>M</td>\n",
       "      <td>30.48</td>\n",
       "      <td>84</td>\n",
       "      <td>2010</td>\n",
       "      <td>3</td>\n",
       "      <td>5</td>\n",
       "      <td>7.40</td>\n",
       "      <td>121949</td>\n",
       "      <td>16%</td>\n",
       "      <td>Barry</td>\n",
       "      <td>49325</td>\n",
       "    </tr>\n",
       "    <tr>\n",
       "      <th>997</th>\n",
       "      <td>359608</td>\n",
       "      <td>F</td>\n",
       "      <td>59.88</td>\n",
       "      <td>50</td>\n",
       "      <td>2001</td>\n",
       "      <td>2</td>\n",
       "      <td>20</td>\n",
       "      <td>16.44</td>\n",
       "      <td>82734</td>\n",
       "      <td>14%</td>\n",
       "      <td>Stanislaus</td>\n",
       "      <td>95381</td>\n",
       "    </tr>\n",
       "    <tr>\n",
       "      <th>998</th>\n",
       "      <td>803426</td>\n",
       "      <td>F</td>\n",
       "      <td>30.21</td>\n",
       "      <td>48</td>\n",
       "      <td>2012</td>\n",
       "      <td>3</td>\n",
       "      <td>15</td>\n",
       "      <td>5.37</td>\n",
       "      <td>66854</td>\n",
       "      <td>9%</td>\n",
       "      <td>Fairfield</td>\n",
       "      <td>6910</td>\n",
       "    </tr>\n",
       "    <tr>\n",
       "      <th>999</th>\n",
       "      <td>669618</td>\n",
       "      <td>F</td>\n",
       "      <td>59.78</td>\n",
       "      <td>56</td>\n",
       "      <td>1980</td>\n",
       "      <td>1</td>\n",
       "      <td>17</td>\n",
       "      <td>37.55</td>\n",
       "      <td>105069</td>\n",
       "      <td>6%</td>\n",
       "      <td>Major</td>\n",
       "      <td>73760</td>\n",
       "    </tr>\n",
       "  </tbody>\n",
       "</table>\n",
       "<p>1000 rows × 12 columns</p>\n",
       "</div>"
      ],
      "text/plain": [
       "     emiid    Gender  Age in Yrs.  Weight in Kgs.  Year of Joining  \\\n",
       "0      850297      F        45.66              44             2010   \n",
       "1      304721      M        23.76              52             2017   \n",
       "2      412317      F        22.68              42             2017   \n",
       "3      621375      F        41.70              43             2003   \n",
       "4      787549      F        22.39              58             2016   \n",
       "..        ...    ...          ...             ...              ...   \n",
       "995    568435      F        32.01              59             2008   \n",
       "996    597409      M        30.48              84             2010   \n",
       "997    359608      F        59.88              50             2001   \n",
       "998    803426      F        30.21              48             2012   \n",
       "999    669618      F        59.78              56             1980   \n",
       "\n",
       "     Month of Joining  Day of Joining  Age in Company (Years)  Salary  \\\n",
       "0                  12              18                    6.61  119090   \n",
       "1                   4              25                    0.26  117991   \n",
       "2                   3              27                    0.34  161045   \n",
       "3                   2              25                   14.43  142616   \n",
       "4                  10              11                    0.79  135706   \n",
       "..                ...             ...                     ...     ...   \n",
       "995                 1               7                    9.56   72930   \n",
       "996                 3               5                    7.40  121949   \n",
       "997                 2              20                   16.44   82734   \n",
       "998                 3              15                    5.37   66854   \n",
       "999                 1              17                   37.55  105069   \n",
       "\n",
       "    Last % Hike                County    Zip  \n",
       "0           17%                 Clark  89128  \n",
       "1           14%                  Lake  49644  \n",
       "2           28%               Fayette  40501  \n",
       "3           16%                  Lake  46321  \n",
       "4           11%  Fairbanks North Star  99709  \n",
       "..          ...                   ...    ...  \n",
       "995         10%              Waukesha  53149  \n",
       "996         16%                 Barry  49325  \n",
       "997         14%            Stanislaus  95381  \n",
       "998          9%             Fairfield   6910  \n",
       "999          6%                 Major  73760  \n",
       "\n",
       "[1000 rows x 12 columns]"
      ]
     },
     "execution_count": 31,
     "metadata": {},
     "output_type": "execute_result"
    }
   ],
   "source": [
    "df"
   ]
  },
  {
   "cell_type": "code",
   "execution_count": 32,
   "metadata": {},
   "outputs": [
    {
     "data": {
      "text/plain": [
       "emiid                       int64\n",
       "Gender                     object\n",
       "Age in Yrs.               float64\n",
       "Weight in Kgs.              int64\n",
       "Year of Joining             int64\n",
       "Month of Joining            int64\n",
       "Day of Joining              int64\n",
       "Age in Company (Years)    float64\n",
       "Salary                      int64\n",
       "Last % Hike                object\n",
       "County                     object\n",
       "Zip                         int64\n",
       "dtype: object"
      ]
     },
     "execution_count": 32,
     "metadata": {},
     "output_type": "execute_result"
    }
   ],
   "source": [
    "df.dtypes"
   ]
  },
  {
   "cell_type": "markdown",
   "metadata": {},
   "source": [
    "cantegorical value into numerical by applying LabelEncoder"
   ]
  },
  {
   "cell_type": "code",
   "execution_count": 33,
   "metadata": {},
   "outputs": [],
   "source": [
    "import numpy as np\n",
    "from sklearn.preprocessing import LabelEncoder"
   ]
  },
  {
   "cell_type": "code",
   "execution_count": 34,
   "metadata": {},
   "outputs": [
    {
     "data": {
      "text/plain": [
       "0      0\n",
       "1      1\n",
       "2      0\n",
       "3      0\n",
       "4      0\n",
       "      ..\n",
       "995    0\n",
       "996    1\n",
       "997    0\n",
       "998    0\n",
       "999    0\n",
       "Name: Gender, Length: 1000, dtype: int32"
      ]
     },
     "execution_count": 34,
     "metadata": {},
     "output_type": "execute_result"
    }
   ],
   "source": [
    "le=LabelEncoder()\n",
    "df[\"Gender\"]=le.fit_transform(df[\"Gender\"])\n",
    "df[\"Gender\"]"
   ]
  },
  {
   "cell_type": "markdown",
   "metadata": {},
   "source": [
    "0 is female and 1 is male"
   ]
  },
  {
   "cell_type": "code",
   "execution_count": 35,
   "metadata": {},
   "outputs": [
    {
     "data": {
      "text/plain": [
       "0       9\n",
       "1       6\n",
       "2      21\n",
       "3       8\n",
       "4       3\n",
       "       ..\n",
       "995     2\n",
       "996     8\n",
       "997     6\n",
       "998    30\n",
       "999    27\n",
       "Name: Last % Hike, Length: 1000, dtype: int32"
      ]
     },
     "execution_count": 35,
     "metadata": {},
     "output_type": "execute_result"
    }
   ],
   "source": [
    "df[\"Last % Hike\"]=le.fit_transform(df[\"Last % Hike\"])\n",
    "df[\"Last % Hike\"]"
   ]
  },
  {
   "cell_type": "code",
   "execution_count": 36,
   "metadata": {},
   "outputs": [
    {
     "data": {
      "text/plain": [
       "0      106\n",
       "1      276\n",
       "2      184\n",
       "3      276\n",
       "4      177\n",
       "      ... \n",
       "995    557\n",
       "996     30\n",
       "997    505\n",
       "998    179\n",
       "999    311\n",
       "Name: County, Length: 1000, dtype: int32"
      ]
     },
     "execution_count": 36,
     "metadata": {},
     "output_type": "execute_result"
    }
   ],
   "source": [
    "df[\"County\"]=le.fit_transform(df[\"County\"])\n",
    "df[\"County\"]"
   ]
  },
  {
   "cell_type": "markdown",
   "metadata": {},
   "source": [
    "cleasing and data transforing into numerical done"
   ]
  },
  {
   "cell_type": "code",
   "execution_count": 37,
   "metadata": {},
   "outputs": [
    {
     "data": {
      "text/plain": [
       "(1000, 12)"
      ]
     },
     "execution_count": 37,
     "metadata": {},
     "output_type": "execute_result"
    }
   ],
   "source": [
    "df.shape"
   ]
  },
  {
   "cell_type": "code",
   "execution_count": 38,
   "metadata": {},
   "outputs": [
    {
     "data": {
      "text/html": [
       "<div>\n",
       "<style scoped>\n",
       "    .dataframe tbody tr th:only-of-type {\n",
       "        vertical-align: middle;\n",
       "    }\n",
       "\n",
       "    .dataframe tbody tr th {\n",
       "        vertical-align: top;\n",
       "    }\n",
       "\n",
       "    .dataframe thead th {\n",
       "        text-align: right;\n",
       "    }\n",
       "</style>\n",
       "<table border=\"1\" class=\"dataframe\">\n",
       "  <thead>\n",
       "    <tr style=\"text-align: right;\">\n",
       "      <th></th>\n",
       "      <th>emiid</th>\n",
       "      <th>Gender</th>\n",
       "      <th>Age in Yrs.</th>\n",
       "      <th>Weight in Kgs.</th>\n",
       "      <th>Year of Joining</th>\n",
       "      <th>Month of Joining</th>\n",
       "      <th>Day of Joining</th>\n",
       "      <th>Age in Company (Years)</th>\n",
       "      <th>Salary</th>\n",
       "      <th>Last % Hike</th>\n",
       "      <th>County</th>\n",
       "      <th>Zip</th>\n",
       "    </tr>\n",
       "  </thead>\n",
       "  <tbody>\n",
       "    <tr>\n",
       "      <th>count</th>\n",
       "      <td>1000.000000</td>\n",
       "      <td>1000.000000</td>\n",
       "      <td>1000.000000</td>\n",
       "      <td>1000.000000</td>\n",
       "      <td>1000.000000</td>\n",
       "      <td>1000.000000</td>\n",
       "      <td>1000.000000</td>\n",
       "      <td>1000.000000</td>\n",
       "      <td>1000.000000</td>\n",
       "      <td>1000.000000</td>\n",
       "      <td>1000.000000</td>\n",
       "      <td>1000.000000</td>\n",
       "    </tr>\n",
       "    <tr>\n",
       "      <th>mean</th>\n",
       "      <td>549097.583000</td>\n",
       "      <td>0.509000</td>\n",
       "      <td>40.377250</td>\n",
       "      <td>59.409000</td>\n",
       "      <td>2006.992000</td>\n",
       "      <td>6.415000</td>\n",
       "      <td>16.481000</td>\n",
       "      <td>10.093720</td>\n",
       "      <td>120288.528000</td>\n",
       "      <td>15.007000</td>\n",
       "      <td>295.853000</td>\n",
       "      <td>48698.499000</td>\n",
       "    </tr>\n",
       "    <tr>\n",
       "      <th>std</th>\n",
       "      <td>264810.879315</td>\n",
       "      <td>0.500169</td>\n",
       "      <td>11.107729</td>\n",
       "      <td>13.900322</td>\n",
       "      <td>8.565588</td>\n",
       "      <td>3.428488</td>\n",
       "      <td>8.831514</td>\n",
       "      <td>8.568863</td>\n",
       "      <td>45178.339916</td>\n",
       "      <td>8.754747</td>\n",
       "      <td>161.539123</td>\n",
       "      <td>27396.021481</td>\n",
       "    </tr>\n",
       "    <tr>\n",
       "      <th>min</th>\n",
       "      <td>114425.000000</td>\n",
       "      <td>0.000000</td>\n",
       "      <td>21.040000</td>\n",
       "      <td>40.000000</td>\n",
       "      <td>1980.000000</td>\n",
       "      <td>1.000000</td>\n",
       "      <td>1.000000</td>\n",
       "      <td>0.000000</td>\n",
       "      <td>40040.000000</td>\n",
       "      <td>0.000000</td>\n",
       "      <td>0.000000</td>\n",
       "      <td>1002.000000</td>\n",
       "    </tr>\n",
       "    <tr>\n",
       "      <th>25%</th>\n",
       "      <td>307757.000000</td>\n",
       "      <td>0.000000</td>\n",
       "      <td>30.925000</td>\n",
       "      <td>49.000000</td>\n",
       "      <td>2002.000000</td>\n",
       "      <td>4.000000</td>\n",
       "      <td>9.000000</td>\n",
       "      <td>3.152500</td>\n",
       "      <td>82122.000000</td>\n",
       "      <td>8.000000</td>\n",
       "      <td>166.750000</td>\n",
       "      <td>25421.750000</td>\n",
       "    </tr>\n",
       "    <tr>\n",
       "      <th>50%</th>\n",
       "      <td>543073.000000</td>\n",
       "      <td>1.000000</td>\n",
       "      <td>40.730000</td>\n",
       "      <td>57.000000</td>\n",
       "      <td>2009.000000</td>\n",
       "      <td>6.000000</td>\n",
       "      <td>17.000000</td>\n",
       "      <td>7.815000</td>\n",
       "      <td>119409.000000</td>\n",
       "      <td>15.000000</td>\n",
       "      <td>294.500000</td>\n",
       "      <td>47416.500000</td>\n",
       "    </tr>\n",
       "    <tr>\n",
       "      <th>75%</th>\n",
       "      <td>788450.250000</td>\n",
       "      <td>1.000000</td>\n",
       "      <td>49.852500</td>\n",
       "      <td>68.000000</td>\n",
       "      <td>2014.000000</td>\n",
       "      <td>10.000000</td>\n",
       "      <td>24.000000</td>\n",
       "      <td>15.465000</td>\n",
       "      <td>159109.000000</td>\n",
       "      <td>22.000000</td>\n",
       "      <td>431.250000</td>\n",
       "      <td>71101.000000</td>\n",
       "    </tr>\n",
       "    <tr>\n",
       "      <th>max</th>\n",
       "      <td>999475.000000</td>\n",
       "      <td>1.000000</td>\n",
       "      <td>59.980000</td>\n",
       "      <td>90.000000</td>\n",
       "      <td>2017.000000</td>\n",
       "      <td>12.000000</td>\n",
       "      <td>31.000000</td>\n",
       "      <td>37.570000</td>\n",
       "      <td>199943.000000</td>\n",
       "      <td>30.000000</td>\n",
       "      <td>581.000000</td>\n",
       "      <td>99791.000000</td>\n",
       "    </tr>\n",
       "  </tbody>\n",
       "</table>\n",
       "</div>"
      ],
      "text/plain": [
       "            emiid          Gender  Age in Yrs.  Weight in Kgs.  \\\n",
       "count    1000.000000  1000.000000  1000.000000     1000.000000   \n",
       "mean   549097.583000     0.509000    40.377250       59.409000   \n",
       "std    264810.879315     0.500169    11.107729       13.900322   \n",
       "min    114425.000000     0.000000    21.040000       40.000000   \n",
       "25%    307757.000000     0.000000    30.925000       49.000000   \n",
       "50%    543073.000000     1.000000    40.730000       57.000000   \n",
       "75%    788450.250000     1.000000    49.852500       68.000000   \n",
       "max    999475.000000     1.000000    59.980000       90.000000   \n",
       "\n",
       "       Year of Joining  Month of Joining  Day of Joining  \\\n",
       "count      1000.000000       1000.000000     1000.000000   \n",
       "mean       2006.992000          6.415000       16.481000   \n",
       "std           8.565588          3.428488        8.831514   \n",
       "min        1980.000000          1.000000        1.000000   \n",
       "25%        2002.000000          4.000000        9.000000   \n",
       "50%        2009.000000          6.000000       17.000000   \n",
       "75%        2014.000000         10.000000       24.000000   \n",
       "max        2017.000000         12.000000       31.000000   \n",
       "\n",
       "       Age in Company (Years)         Salary  Last % Hike       County  \\\n",
       "count             1000.000000    1000.000000  1000.000000  1000.000000   \n",
       "mean                10.093720  120288.528000    15.007000   295.853000   \n",
       "std                  8.568863   45178.339916     8.754747   161.539123   \n",
       "min                  0.000000   40040.000000     0.000000     0.000000   \n",
       "25%                  3.152500   82122.000000     8.000000   166.750000   \n",
       "50%                  7.815000  119409.000000    15.000000   294.500000   \n",
       "75%                 15.465000  159109.000000    22.000000   431.250000   \n",
       "max                 37.570000  199943.000000    30.000000   581.000000   \n",
       "\n",
       "                Zip  \n",
       "count   1000.000000  \n",
       "mean   48698.499000  \n",
       "std    27396.021481  \n",
       "min     1002.000000  \n",
       "25%    25421.750000  \n",
       "50%    47416.500000  \n",
       "75%    71101.000000  \n",
       "max    99791.000000  "
      ]
     },
     "execution_count": 38,
     "metadata": {},
     "output_type": "execute_result"
    }
   ],
   "source": [
    "df.describe()"
   ]
  },
  {
   "cell_type": "raw",
   "metadata": {},
   "source": [
    "1]Mean is higher than median in emiid,weight in kgs.\n",
    "2]there is higher difference between max percentile and 75th \n",
    "3]std is high in so skewness is present"
   ]
  },
  {
   "cell_type": "code",
   "execution_count": 39,
   "metadata": {},
   "outputs": [],
   "source": [
    "corr=df.corr()"
   ]
  },
  {
   "cell_type": "code",
   "execution_count": 40,
   "metadata": {},
   "outputs": [],
   "source": [
    "import matplotlib.pyplot as plt\n",
    "import seaborn as sns"
   ]
  },
  {
   "cell_type": "code",
   "execution_count": 41,
   "metadata": {},
   "outputs": [
    {
     "data": {
      "text/plain": [
       "<matplotlib.axes._subplots.AxesSubplot at 0x96c1268>"
      ]
     },
     "execution_count": 41,
     "metadata": {},
     "output_type": "execute_result"
    },
    {
     "data": {
      "image/png": "[encoded data removed]",
      "text/plain": [
       "<Figure size 720x720 with 2 Axes>"
      ]
     },
     "metadata": {
      "needs_background": "light"
     },
     "output_type": "display_data"
    }
   ],
   "source": [
    "plt.figure(figsize=(10,10))\n",
    "sns.heatmap(corr,cmap=\"Blues\",annot=True)"
   ]
  },
  {
   "cell_type": "markdown",
   "metadata": {},
   "source": [
    "1]salary and hike % salary is highly corelated"
   ]
  },
  {
   "cell_type": "code",
   "execution_count": 42,
   "metadata": {},
   "outputs": [
    {
     "data": {
      "text/plain": [
       "emiid                     0.029501\n",
       "Gender                   -0.036060\n",
       "Age in Yrs.               0.006173\n",
       "Weight in Kgs.            0.657110\n",
       "Year of Joining          -0.958797\n",
       "Month of Joining          0.057287\n",
       "Day of Joining           -0.143305\n",
       "Age in Company (Years)    0.968211\n",
       "Salary                    0.034356\n",
       "Last % Hike               0.007634\n",
       "County                   -0.003393\n",
       "Zip                       0.147698\n",
       "dtype: float64"
      ]
     },
     "execution_count": 42,
     "metadata": {},
     "output_type": "execute_result"
    }
   ],
   "source": [
    "df.skew()"
   ]
  },
  {
   "cell_type": "markdown",
   "metadata": {},
   "source": [
    "there is skewness is present in age in company and weight in kgs so we will drop them"
   ]
  },
  {
   "cell_type": "code",
   "execution_count": 43,
   "metadata": {},
   "outputs": [],
   "source": [
    "df.drop(\"Weight in Kgs.\",axis=1,inplace=True)"
   ]
  },
  {
   "cell_type": "code",
   "execution_count": 44,
   "metadata": {},
   "outputs": [],
   "source": [
    "df.drop(\"Age in Company (Years)\",axis=1,inplace=True)"
   ]
  },
  {
   "cell_type": "code",
   "execution_count": 45,
   "metadata": {},
   "outputs": [
    {
     "data": {
      "text/html": [
       "<div>\n",
       "<style scoped>\n",
       "    .dataframe tbody tr th:only-of-type {\n",
       "        vertical-align: middle;\n",
       "    }\n",
       "\n",
       "    .dataframe tbody tr th {\n",
       "        vertical-align: top;\n",
       "    }\n",
       "\n",
       "    .dataframe thead th {\n",
       "        text-align: right;\n",
       "    }\n",
       "</style>\n",
       "<table border=\"1\" class=\"dataframe\">\n",
       "  <thead>\n",
       "    <tr style=\"text-align: right;\">\n",
       "      <th></th>\n",
       "      <th>emiid</th>\n",
       "      <th>Gender</th>\n",
       "      <th>Age in Yrs.</th>\n",
       "      <th>Year of Joining</th>\n",
       "      <th>Month of Joining</th>\n",
       "      <th>Day of Joining</th>\n",
       "      <th>Salary</th>\n",
       "      <th>Last % Hike</th>\n",
       "      <th>County</th>\n",
       "      <th>Zip</th>\n",
       "    </tr>\n",
       "  </thead>\n",
       "  <tbody>\n",
       "    <tr>\n",
       "      <th>0</th>\n",
       "      <td>850297</td>\n",
       "      <td>0</td>\n",
       "      <td>45.66</td>\n",
       "      <td>2010</td>\n",
       "      <td>12</td>\n",
       "      <td>18</td>\n",
       "      <td>119090</td>\n",
       "      <td>9</td>\n",
       "      <td>106</td>\n",
       "      <td>89128</td>\n",
       "    </tr>\n",
       "    <tr>\n",
       "      <th>1</th>\n",
       "      <td>304721</td>\n",
       "      <td>1</td>\n",
       "      <td>23.76</td>\n",
       "      <td>2017</td>\n",
       "      <td>4</td>\n",
       "      <td>25</td>\n",
       "      <td>117991</td>\n",
       "      <td>6</td>\n",
       "      <td>276</td>\n",
       "      <td>49644</td>\n",
       "    </tr>\n",
       "    <tr>\n",
       "      <th>2</th>\n",
       "      <td>412317</td>\n",
       "      <td>0</td>\n",
       "      <td>22.68</td>\n",
       "      <td>2017</td>\n",
       "      <td>3</td>\n",
       "      <td>27</td>\n",
       "      <td>161045</td>\n",
       "      <td>21</td>\n",
       "      <td>184</td>\n",
       "      <td>40501</td>\n",
       "    </tr>\n",
       "    <tr>\n",
       "      <th>3</th>\n",
       "      <td>621375</td>\n",
       "      <td>0</td>\n",
       "      <td>41.70</td>\n",
       "      <td>2003</td>\n",
       "      <td>2</td>\n",
       "      <td>25</td>\n",
       "      <td>142616</td>\n",
       "      <td>8</td>\n",
       "      <td>276</td>\n",
       "      <td>46321</td>\n",
       "    </tr>\n",
       "    <tr>\n",
       "      <th>4</th>\n",
       "      <td>787549</td>\n",
       "      <td>0</td>\n",
       "      <td>22.39</td>\n",
       "      <td>2016</td>\n",
       "      <td>10</td>\n",
       "      <td>11</td>\n",
       "      <td>135706</td>\n",
       "      <td>3</td>\n",
       "      <td>177</td>\n",
       "      <td>99709</td>\n",
       "    </tr>\n",
       "    <tr>\n",
       "      <th>...</th>\n",
       "      <td>...</td>\n",
       "      <td>...</td>\n",
       "      <td>...</td>\n",
       "      <td>...</td>\n",
       "      <td>...</td>\n",
       "      <td>...</td>\n",
       "      <td>...</td>\n",
       "      <td>...</td>\n",
       "      <td>...</td>\n",
       "      <td>...</td>\n",
       "    </tr>\n",
       "    <tr>\n",
       "      <th>995</th>\n",
       "      <td>568435</td>\n",
       "      <td>0</td>\n",
       "      <td>32.01</td>\n",
       "      <td>2008</td>\n",
       "      <td>1</td>\n",
       "      <td>7</td>\n",
       "      <td>72930</td>\n",
       "      <td>2</td>\n",
       "      <td>557</td>\n",
       "      <td>53149</td>\n",
       "    </tr>\n",
       "    <tr>\n",
       "      <th>996</th>\n",
       "      <td>597409</td>\n",
       "      <td>1</td>\n",
       "      <td>30.48</td>\n",
       "      <td>2010</td>\n",
       "      <td>3</td>\n",
       "      <td>5</td>\n",
       "      <td>121949</td>\n",
       "      <td>8</td>\n",
       "      <td>30</td>\n",
       "      <td>49325</td>\n",
       "    </tr>\n",
       "    <tr>\n",
       "      <th>997</th>\n",
       "      <td>359608</td>\n",
       "      <td>0</td>\n",
       "      <td>59.88</td>\n",
       "      <td>2001</td>\n",
       "      <td>2</td>\n",
       "      <td>20</td>\n",
       "      <td>82734</td>\n",
       "      <td>6</td>\n",
       "      <td>505</td>\n",
       "      <td>95381</td>\n",
       "    </tr>\n",
       "    <tr>\n",
       "      <th>998</th>\n",
       "      <td>803426</td>\n",
       "      <td>0</td>\n",
       "      <td>30.21</td>\n",
       "      <td>2012</td>\n",
       "      <td>3</td>\n",
       "      <td>15</td>\n",
       "      <td>66854</td>\n",
       "      <td>30</td>\n",
       "      <td>179</td>\n",
       "      <td>6910</td>\n",
       "    </tr>\n",
       "    <tr>\n",
       "      <th>999</th>\n",
       "      <td>669618</td>\n",
       "      <td>0</td>\n",
       "      <td>59.78</td>\n",
       "      <td>1980</td>\n",
       "      <td>1</td>\n",
       "      <td>17</td>\n",
       "      <td>105069</td>\n",
       "      <td>27</td>\n",
       "      <td>311</td>\n",
       "      <td>73760</td>\n",
       "    </tr>\n",
       "  </tbody>\n",
       "</table>\n",
       "<p>1000 rows × 10 columns</p>\n",
       "</div>"
      ],
      "text/plain": [
       "     emiid     Gender  Age in Yrs.  Year of Joining  Month of Joining  \\\n",
       "0      850297       0        45.66             2010                12   \n",
       "1      304721       1        23.76             2017                 4   \n",
       "2      412317       0        22.68             2017                 3   \n",
       "3      621375       0        41.70             2003                 2   \n",
       "4      787549       0        22.39             2016                10   \n",
       "..        ...     ...          ...              ...               ...   \n",
       "995    568435       0        32.01             2008                 1   \n",
       "996    597409       1        30.48             2010                 3   \n",
       "997    359608       0        59.88             2001                 2   \n",
       "998    803426       0        30.21             2012                 3   \n",
       "999    669618       0        59.78             1980                 1   \n",
       "\n",
       "     Day of Joining  Salary  Last % Hike  County    Zip  \n",
       "0                18  119090            9     106  89128  \n",
       "1                25  117991            6     276  49644  \n",
       "2                27  161045           21     184  40501  \n",
       "3                25  142616            8     276  46321  \n",
       "4                11  135706            3     177  99709  \n",
       "..              ...     ...          ...     ...    ...  \n",
       "995               7   72930            2     557  53149  \n",
       "996               5  121949            8      30  49325  \n",
       "997              20   82734            6     505  95381  \n",
       "998              15   66854           30     179   6910  \n",
       "999              17  105069           27     311  73760  \n",
       "\n",
       "[1000 rows x 10 columns]"
      ]
     },
     "execution_count": 45,
     "metadata": {},
     "output_type": "execute_result"
    }
   ],
   "source": [
    "df"
   ]
  },
  {
   "cell_type": "code",
   "execution_count": 46,
   "metadata": {},
   "outputs": [
    {
     "data": {
      "image/png": "[encoded data removed]",
      "text/plain": [
       "<Figure size 432x288 with 1 Axes>"
      ]
     },
     "metadata": {
      "needs_background": "light"
     },
     "output_type": "display_data"
    }
   ],
   "source": [
    "sns.countplot(df[\"Gender\"])\n",
    "plt.title(\"Gender\")\n",
    "plt.show()"
   ]
  },
  {
   "cell_type": "markdown",
   "metadata": {},
   "source": [
    "In this countplot we can see more male are working in this dataset"
   ]
  },
  {
   "cell_type": "code",
   "execution_count": 47,
   "metadata": {},
   "outputs": [
    {
     "data": {
      "image/png": "[encoded data removed]",
      "text/plain": [
       "<Figure size 432x288 with 1 Axes>"
      ]
     },
     "metadata": {
      "needs_background": "light"
     },
     "output_type": "display_data"
    }
   ],
   "source": [
    "sns.countplot(df[\"Last % Hike\"])\n",
    "plt.title(\"Salary Distribution\")\n",
    "plt.show()"
   ]
  },
  {
   "cell_type": "code",
   "execution_count": 48,
   "metadata": {},
   "outputs": [
    {
     "data": {
      "text/plain": [
       "emiid                  AxesSubplot(0.125,0.657941;0.110714x0.222059)\n",
       "Gender              AxesSubplot(0.257857,0.657941;0.110714x0.222059)\n",
       "Age in Yrs.         AxesSubplot(0.390714,0.657941;0.110714x0.222059)\n",
       "Year of Joining     AxesSubplot(0.523571,0.657941;0.110714x0.222059)\n",
       "Month of Joining    AxesSubplot(0.656429,0.657941;0.110714x0.222059)\n",
       "Day of Joining      AxesSubplot(0.789286,0.657941;0.110714x0.222059)\n",
       "Salary                 AxesSubplot(0.125,0.391471;0.110714x0.222059)\n",
       "Last % Hike         AxesSubplot(0.257857,0.391471;0.110714x0.222059)\n",
       "County              AxesSubplot(0.390714,0.391471;0.110714x0.222059)\n",
       "Zip                 AxesSubplot(0.523571,0.391471;0.110714x0.222059)\n",
       "dtype: object"
      ]
     },
     "execution_count": 48,
     "metadata": {},
     "output_type": "execute_result"
    },
    {
     "data": {
      "image/png": "[encoded data removed]",
      "text/plain": [
       "<Figure size 432x288 with 18 Axes>"
      ]
     },
     "metadata": {
      "needs_background": "light"
     },
     "output_type": "display_data"
    }
   ],
   "source": [
    "df.plot(kind=\"box\",subplots=True,layout=(3,6))"
   ]
  },
  {
   "cell_type": "code",
   "execution_count": 49,
   "metadata": {},
   "outputs": [],
   "source": [
    "from scipy.stats import zscore\n",
    "import numpy as np\n",
    "z=np.abs(zscore(df))\n",
    "threshold=3\n",
    "new_df=df[(z<3).all(axis=1)]"
   ]
  },
  {
   "cell_type": "code",
   "execution_count": 50,
   "metadata": {},
   "outputs": [
    {
     "name": "stdout",
     "output_type": "stream",
     "text": [
      "Original shape= (1000, 10) \n",
      "new shape= (994, 10)\n"
     ]
    }
   ],
   "source": [
    "print(\"Original shape=\",df.shape,\"\\nnew shape=\",new_df.shape)"
   ]
  },
  {
   "cell_type": "markdown",
   "metadata": {},
   "source": [
    "6 outlier has been removed"
   ]
  },
  {
   "cell_type": "code",
   "execution_count": 51,
   "metadata": {},
   "outputs": [
    {
     "data": {
      "text/plain": [
       "emiid               0.027949\n",
       "Gender             -0.040310\n",
       "Age in Yrs.         0.008416\n",
       "Year of Joining    -0.910888\n",
       "Month of Joining    0.055024\n",
       "Day of Joining     -0.151329\n",
       "Salary              0.037302\n",
       "Last % Hike         0.011012\n",
       "County             -0.002295\n",
       "Zip                 0.147794\n",
       "dtype: float64"
      ]
     },
     "execution_count": 51,
     "metadata": {},
     "output_type": "execute_result"
    }
   ],
   "source": [
    "new_df.skew()"
   ]
  },
  {
   "cell_type": "code",
   "execution_count": 54,
   "metadata": {},
   "outputs": [],
   "source": [
    "new_df.drop(\"Year of Joining\",axis=1,inplace=True)"
   ]
  },
  {
   "cell_type": "code",
   "execution_count": 55,
   "metadata": {},
   "outputs": [
    {
     "data": {
      "text/html": [
       "<div>\n",
       "<style scoped>\n",
       "    .dataframe tbody tr th:only-of-type {\n",
       "        vertical-align: middle;\n",
       "    }\n",
       "\n",
       "    .dataframe tbody tr th {\n",
       "        vertical-align: top;\n",
       "    }\n",
       "\n",
       "    .dataframe thead th {\n",
       "        text-align: right;\n",
       "    }\n",
       "</style>\n",
       "<table border=\"1\" class=\"dataframe\">\n",
       "  <thead>\n",
       "    <tr style=\"text-align: right;\">\n",
       "      <th></th>\n",
       "      <th>emiid</th>\n",
       "      <th>Gender</th>\n",
       "      <th>Age in Yrs.</th>\n",
       "      <th>Month of Joining</th>\n",
       "      <th>Day of Joining</th>\n",
       "      <th>Salary</th>\n",
       "      <th>Last % Hike</th>\n",
       "      <th>County</th>\n",
       "      <th>Zip</th>\n",
       "    </tr>\n",
       "  </thead>\n",
       "  <tbody>\n",
       "    <tr>\n",
       "      <th>0</th>\n",
       "      <td>850297</td>\n",
       "      <td>0</td>\n",
       "      <td>45.66</td>\n",
       "      <td>12</td>\n",
       "      <td>18</td>\n",
       "      <td>119090</td>\n",
       "      <td>9</td>\n",
       "      <td>106</td>\n",
       "      <td>89128</td>\n",
       "    </tr>\n",
       "    <tr>\n",
       "      <th>1</th>\n",
       "      <td>304721</td>\n",
       "      <td>1</td>\n",
       "      <td>23.76</td>\n",
       "      <td>4</td>\n",
       "      <td>25</td>\n",
       "      <td>117991</td>\n",
       "      <td>6</td>\n",
       "      <td>276</td>\n",
       "      <td>49644</td>\n",
       "    </tr>\n",
       "    <tr>\n",
       "      <th>2</th>\n",
       "      <td>412317</td>\n",
       "      <td>0</td>\n",
       "      <td>22.68</td>\n",
       "      <td>3</td>\n",
       "      <td>27</td>\n",
       "      <td>161045</td>\n",
       "      <td>21</td>\n",
       "      <td>184</td>\n",
       "      <td>40501</td>\n",
       "    </tr>\n",
       "    <tr>\n",
       "      <th>3</th>\n",
       "      <td>621375</td>\n",
       "      <td>0</td>\n",
       "      <td>41.70</td>\n",
       "      <td>2</td>\n",
       "      <td>25</td>\n",
       "      <td>142616</td>\n",
       "      <td>8</td>\n",
       "      <td>276</td>\n",
       "      <td>46321</td>\n",
       "    </tr>\n",
       "    <tr>\n",
       "      <th>4</th>\n",
       "      <td>787549</td>\n",
       "      <td>0</td>\n",
       "      <td>22.39</td>\n",
       "      <td>10</td>\n",
       "      <td>11</td>\n",
       "      <td>135706</td>\n",
       "      <td>3</td>\n",
       "      <td>177</td>\n",
       "      <td>99709</td>\n",
       "    </tr>\n",
       "    <tr>\n",
       "      <th>...</th>\n",
       "      <td>...</td>\n",
       "      <td>...</td>\n",
       "      <td>...</td>\n",
       "      <td>...</td>\n",
       "      <td>...</td>\n",
       "      <td>...</td>\n",
       "      <td>...</td>\n",
       "      <td>...</td>\n",
       "      <td>...</td>\n",
       "    </tr>\n",
       "    <tr>\n",
       "      <th>994</th>\n",
       "      <td>172440</td>\n",
       "      <td>1</td>\n",
       "      <td>28.61</td>\n",
       "      <td>6</td>\n",
       "      <td>21</td>\n",
       "      <td>84585</td>\n",
       "      <td>28</td>\n",
       "      <td>300</td>\n",
       "      <td>91051</td>\n",
       "    </tr>\n",
       "    <tr>\n",
       "      <th>995</th>\n",
       "      <td>568435</td>\n",
       "      <td>0</td>\n",
       "      <td>32.01</td>\n",
       "      <td>1</td>\n",
       "      <td>7</td>\n",
       "      <td>72930</td>\n",
       "      <td>2</td>\n",
       "      <td>557</td>\n",
       "      <td>53149</td>\n",
       "    </tr>\n",
       "    <tr>\n",
       "      <th>996</th>\n",
       "      <td>597409</td>\n",
       "      <td>1</td>\n",
       "      <td>30.48</td>\n",
       "      <td>3</td>\n",
       "      <td>5</td>\n",
       "      <td>121949</td>\n",
       "      <td>8</td>\n",
       "      <td>30</td>\n",
       "      <td>49325</td>\n",
       "    </tr>\n",
       "    <tr>\n",
       "      <th>997</th>\n",
       "      <td>359608</td>\n",
       "      <td>0</td>\n",
       "      <td>59.88</td>\n",
       "      <td>2</td>\n",
       "      <td>20</td>\n",
       "      <td>82734</td>\n",
       "      <td>6</td>\n",
       "      <td>505</td>\n",
       "      <td>95381</td>\n",
       "    </tr>\n",
       "    <tr>\n",
       "      <th>998</th>\n",
       "      <td>803426</td>\n",
       "      <td>0</td>\n",
       "      <td>30.21</td>\n",
       "      <td>3</td>\n",
       "      <td>15</td>\n",
       "      <td>66854</td>\n",
       "      <td>30</td>\n",
       "      <td>179</td>\n",
       "      <td>6910</td>\n",
       "    </tr>\n",
       "  </tbody>\n",
       "</table>\n",
       "<p>994 rows × 9 columns</p>\n",
       "</div>"
      ],
      "text/plain": [
       "     emiid     Gender  Age in Yrs.  Month of Joining  Day of Joining  Salary  \\\n",
       "0      850297       0        45.66                12              18  119090   \n",
       "1      304721       1        23.76                 4              25  117991   \n",
       "2      412317       0        22.68                 3              27  161045   \n",
       "3      621375       0        41.70                 2              25  142616   \n",
       "4      787549       0        22.39                10              11  135706   \n",
       "..        ...     ...          ...               ...             ...     ...   \n",
       "994    172440       1        28.61                 6              21   84585   \n",
       "995    568435       0        32.01                 1               7   72930   \n",
       "996    597409       1        30.48                 3               5  121949   \n",
       "997    359608       0        59.88                 2              20   82734   \n",
       "998    803426       0        30.21                 3              15   66854   \n",
       "\n",
       "     Last % Hike  County    Zip  \n",
       "0              9     106  89128  \n",
       "1              6     276  49644  \n",
       "2             21     184  40501  \n",
       "3              8     276  46321  \n",
       "4              3     177  99709  \n",
       "..           ...     ...    ...  \n",
       "994           28     300  91051  \n",
       "995            2     557  53149  \n",
       "996            8      30  49325  \n",
       "997            6     505  95381  \n",
       "998           30     179   6910  \n",
       "\n",
       "[994 rows x 9 columns]"
      ]
     },
     "execution_count": 55,
     "metadata": {},
     "output_type": "execute_result"
    }
   ],
   "source": [
    "new_df"
   ]
  },
  {
   "cell_type": "markdown",
   "metadata": {},
   "source": [
    "# modeling "
   ]
  },
  {
   "cell_type": "code",
   "execution_count": 101,
   "metadata": {},
   "outputs": [],
   "source": [
    "from sklearn.preprocessing import StandardScaler\n",
    "from sklearn.model_selection import train_test_split\n",
    "from sklearn.linear_model import LinearRegression\n",
    "from sklearn.model_selection import cross_val_score\n",
    "from sklearn.metrics import r2_score\n",
    "from sklearn.metrics import mean_squared_error,mean_absolute_error"
   ]
  },
  {
   "cell_type": "code",
   "execution_count": 102,
   "metadata": {},
   "outputs": [],
   "source": [
    "x=df.drop(\"Age in Yrs.\",axis=1)\n",
    "y=df[\"Age in Yrs.\"]"
   ]
  },
  {
   "cell_type": "code",
   "execution_count": 103,
   "metadata": {},
   "outputs": [
    {
     "data": {
      "text/html": [
       "<div>\n",
       "<style scoped>\n",
       "    .dataframe tbody tr th:only-of-type {\n",
       "        vertical-align: middle;\n",
       "    }\n",
       "\n",
       "    .dataframe tbody tr th {\n",
       "        vertical-align: top;\n",
       "    }\n",
       "\n",
       "    .dataframe thead th {\n",
       "        text-align: right;\n",
       "    }\n",
       "</style>\n",
       "<table border=\"1\" class=\"dataframe\">\n",
       "  <thead>\n",
       "    <tr style=\"text-align: right;\">\n",
       "      <th></th>\n",
       "      <th>emiid</th>\n",
       "      <th>Gender</th>\n",
       "      <th>Year of Joining</th>\n",
       "      <th>Month of Joining</th>\n",
       "      <th>Day of Joining</th>\n",
       "      <th>Salary</th>\n",
       "      <th>Last % Hike</th>\n",
       "      <th>County</th>\n",
       "      <th>Zip</th>\n",
       "    </tr>\n",
       "  </thead>\n",
       "  <tbody>\n",
       "    <tr>\n",
       "      <th>0</th>\n",
       "      <td>850297</td>\n",
       "      <td>0</td>\n",
       "      <td>2010</td>\n",
       "      <td>12</td>\n",
       "      <td>18</td>\n",
       "      <td>119090</td>\n",
       "      <td>9</td>\n",
       "      <td>106</td>\n",
       "      <td>89128</td>\n",
       "    </tr>\n",
       "    <tr>\n",
       "      <th>1</th>\n",
       "      <td>304721</td>\n",
       "      <td>1</td>\n",
       "      <td>2017</td>\n",
       "      <td>4</td>\n",
       "      <td>25</td>\n",
       "      <td>117991</td>\n",
       "      <td>6</td>\n",
       "      <td>276</td>\n",
       "      <td>49644</td>\n",
       "    </tr>\n",
       "    <tr>\n",
       "      <th>2</th>\n",
       "      <td>412317</td>\n",
       "      <td>0</td>\n",
       "      <td>2017</td>\n",
       "      <td>3</td>\n",
       "      <td>27</td>\n",
       "      <td>161045</td>\n",
       "      <td>21</td>\n",
       "      <td>184</td>\n",
       "      <td>40501</td>\n",
       "    </tr>\n",
       "    <tr>\n",
       "      <th>3</th>\n",
       "      <td>621375</td>\n",
       "      <td>0</td>\n",
       "      <td>2003</td>\n",
       "      <td>2</td>\n",
       "      <td>25</td>\n",
       "      <td>142616</td>\n",
       "      <td>8</td>\n",
       "      <td>276</td>\n",
       "      <td>46321</td>\n",
       "    </tr>\n",
       "    <tr>\n",
       "      <th>4</th>\n",
       "      <td>787549</td>\n",
       "      <td>0</td>\n",
       "      <td>2016</td>\n",
       "      <td>10</td>\n",
       "      <td>11</td>\n",
       "      <td>135706</td>\n",
       "      <td>3</td>\n",
       "      <td>177</td>\n",
       "      <td>99709</td>\n",
       "    </tr>\n",
       "    <tr>\n",
       "      <th>...</th>\n",
       "      <td>...</td>\n",
       "      <td>...</td>\n",
       "      <td>...</td>\n",
       "      <td>...</td>\n",
       "      <td>...</td>\n",
       "      <td>...</td>\n",
       "      <td>...</td>\n",
       "      <td>...</td>\n",
       "      <td>...</td>\n",
       "    </tr>\n",
       "    <tr>\n",
       "      <th>995</th>\n",
       "      <td>568435</td>\n",
       "      <td>0</td>\n",
       "      <td>2008</td>\n",
       "      <td>1</td>\n",
       "      <td>7</td>\n",
       "      <td>72930</td>\n",
       "      <td>2</td>\n",
       "      <td>557</td>\n",
       "      <td>53149</td>\n",
       "    </tr>\n",
       "    <tr>\n",
       "      <th>996</th>\n",
       "      <td>597409</td>\n",
       "      <td>1</td>\n",
       "      <td>2010</td>\n",
       "      <td>3</td>\n",
       "      <td>5</td>\n",
       "      <td>121949</td>\n",
       "      <td>8</td>\n",
       "      <td>30</td>\n",
       "      <td>49325</td>\n",
       "    </tr>\n",
       "    <tr>\n",
       "      <th>997</th>\n",
       "      <td>359608</td>\n",
       "      <td>0</td>\n",
       "      <td>2001</td>\n",
       "      <td>2</td>\n",
       "      <td>20</td>\n",
       "      <td>82734</td>\n",
       "      <td>6</td>\n",
       "      <td>505</td>\n",
       "      <td>95381</td>\n",
       "    </tr>\n",
       "    <tr>\n",
       "      <th>998</th>\n",
       "      <td>803426</td>\n",
       "      <td>0</td>\n",
       "      <td>2012</td>\n",
       "      <td>3</td>\n",
       "      <td>15</td>\n",
       "      <td>66854</td>\n",
       "      <td>30</td>\n",
       "      <td>179</td>\n",
       "      <td>6910</td>\n",
       "    </tr>\n",
       "    <tr>\n",
       "      <th>999</th>\n",
       "      <td>669618</td>\n",
       "      <td>0</td>\n",
       "      <td>1980</td>\n",
       "      <td>1</td>\n",
       "      <td>17</td>\n",
       "      <td>105069</td>\n",
       "      <td>27</td>\n",
       "      <td>311</td>\n",
       "      <td>73760</td>\n",
       "    </tr>\n",
       "  </tbody>\n",
       "</table>\n",
       "<p>1000 rows × 9 columns</p>\n",
       "</div>"
      ],
      "text/plain": [
       "     emiid     Gender  Year of Joining  Month of Joining  Day of Joining  \\\n",
       "0      850297       0             2010                12              18   \n",
       "1      304721       1             2017                 4              25   \n",
       "2      412317       0             2017                 3              27   \n",
       "3      621375       0             2003                 2              25   \n",
       "4      787549       0             2016                10              11   \n",
       "..        ...     ...              ...               ...             ...   \n",
       "995    568435       0             2008                 1               7   \n",
       "996    597409       1             2010                 3               5   \n",
       "997    359608       0             2001                 2              20   \n",
       "998    803426       0             2012                 3              15   \n",
       "999    669618       0             1980                 1              17   \n",
       "\n",
       "     Salary  Last % Hike  County    Zip  \n",
       "0    119090            9     106  89128  \n",
       "1    117991            6     276  49644  \n",
       "2    161045           21     184  40501  \n",
       "3    142616            8     276  46321  \n",
       "4    135706            3     177  99709  \n",
       "..      ...          ...     ...    ...  \n",
       "995   72930            2     557  53149  \n",
       "996  121949            8      30  49325  \n",
       "997   82734            6     505  95381  \n",
       "998   66854           30     179   6910  \n",
       "999  105069           27     311  73760  \n",
       "\n",
       "[1000 rows x 9 columns]"
      ]
     },
     "execution_count": 103,
     "metadata": {},
     "output_type": "execute_result"
    }
   ],
   "source": [
    "x"
   ]
  },
  {
   "cell_type": "code",
   "execution_count": 104,
   "metadata": {},
   "outputs": [
    {
     "data": {
      "text/plain": [
       "0      45.66\n",
       "1      23.76\n",
       "2      22.68\n",
       "3      41.70\n",
       "4      22.39\n",
       "       ...  \n",
       "995    32.01\n",
       "996    30.48\n",
       "997    59.88\n",
       "998    30.21\n",
       "999    59.78\n",
       "Name: Age in Yrs., Length: 1000, dtype: float64"
      ]
     },
     "execution_count": 104,
     "metadata": {},
     "output_type": "execute_result"
    }
   ],
   "source": [
    "y"
   ]
  },
  {
   "cell_type": "code",
   "execution_count": 105,
   "metadata": {},
   "outputs": [],
   "source": [
    "sc=StandardScaler()\n",
    "scaledx=sc.fit_transform(x)"
   ]
  },
  {
   "cell_type": "code",
   "execution_count": 106,
   "metadata": {},
   "outputs": [
    {
     "name": "stdout",
     "output_type": "stream",
     "text": [
      " best accuarcy 52.884577777835375 found on random_state 69\n"
     ]
    }
   ],
   "source": [
    "best_rstate=0\n",
    "accu=0\n",
    "for i in range(0,1000):\n",
    "    x_train,x_test,y_train,y_test=train_test_split(scaledx,y,test_size=.35,random_state=i)\n",
    "    mod=LinearRegression()\n",
    "    mod.fit(x_train,y_train)\n",
    "    predmod=mod.predict(x_test)\n",
    "    tempaccu=r2_score(y_test,predmod)\n",
    "    if tempaccu>accu:\n",
    "        accu=tempaccu\n",
    "        best_rstate=i\n",
    "print(f\" best accuarcy {accu*100} found on random_state {best_rstate}\")"
   ]
  },
  {
   "cell_type": "raw",
   "metadata": {},
   "source": [
    "we found best random_state is 69 so we will apply it train_test_split in next step"
   ]
  },
  {
   "cell_type": "markdown",
   "metadata": {},
   "source": [
    "# Finding the best model"
   ]
  },
  {
   "cell_type": "markdown",
   "metadata": {},
   "source": [
    "Linear Regression"
   ]
  },
  {
   "cell_type": "code",
   "execution_count": 109,
   "metadata": {},
   "outputs": [
    {
     "name": "stdout",
     "output_type": "stream",
     "text": [
      " accuarcy=38.53117541197898,cross_val_score=45.64402637958342 & difference=-7.1128509676044445\n",
      "73.61041858611242\n",
      "6.8439703755280785\n"
     ]
    }
   ],
   "source": [
    "from sklearn.linear_model import LinearRegression\n",
    "lg=LinearRegression()\n",
    "lg.fit(x_train,y_train)\n",
    "predlg=lg.predict(x_test)\n",
    "r2score=r2_score(y_test,predlg)\n",
    "cvscore=cross_val_score(LinearRegression(),x_train,y_train,cv=5).mean()\n",
    "print(f\" accuarcy={r2score*100},cross_val_score={cvscore*100} & difference={(r2score*100)-(cvscore*100)}\")\n",
    "print(mean_squared_error(y_test,predlg))\n",
    "print(mean_absolute_error(y_test,predlg))"
   ]
  },
  {
   "cell_type": "markdown",
   "metadata": {},
   "source": [
    "RandomForestRegressor"
   ]
  },
  {
   "cell_type": "code",
   "execution_count": 113,
   "metadata": {},
   "outputs": [
    {
     "name": "stdout",
     "output_type": "stream",
     "text": [
      " accuracy=35.2235149297201,cross_val_score=41.893770848909035 & difference=-6.670255919188932\n",
      "77.57142279062859\n",
      "6.884637714285715\n"
     ]
    }
   ],
   "source": [
    "from sklearn.ensemble import RandomForestRegressor\n",
    "rg=RandomForestRegressor()\n",
    "rg.fit(x_train,y_train)\n",
    "predrg=rg.predict(x_test)\n",
    "r2score=r2_score(y_test,predrg)\n",
    "cvscore=cross_val_score(RandomForestRegressor(),x_train,y_train,cv=5).mean()\n",
    "print(f\" accuracy={r2score*100},cross_val_score={cvscore*100} & difference={(r2score*100)-(cvscore*100)}\")\n",
    "print(mean_squared_error(y_test,predrg))\n",
    "print(mean_absolute_error(y_test,predrg))"
   ]
  },
  {
   "cell_type": "markdown",
   "metadata": {},
   "source": [
    "AdaBoostRegressor"
   ]
  },
  {
   "cell_type": "code",
   "execution_count": 114,
   "metadata": {},
   "outputs": [
    {
     "name": "stdout",
     "output_type": "stream",
     "text": [
      " accuracy=34.72679640629227,cross_val_score=41.95729738431518 & difference=-7.23050097802291\n",
      "78.16625535289175\n",
      "7.320142430283741\n"
     ]
    }
   ],
   "source": [
    "from sklearn.ensemble import AdaBoostRegressor\n",
    "ad=AdaBoostRegressor()\n",
    "ad.fit(x_train,y_train)\n",
    "predad=ad.predict(x_test)\n",
    "r2score=r2_score(y_test,predad)\n",
    "cvscore=cross_val_score(AdaBoostRegressor(),x_train,y_train,cv=5).mean()\n",
    "print(f\" accuracy={r2score*100},cross_val_score={cvscore*100} & difference={(r2score*100)-(cvscore*100)}\")\n",
    "print(mean_squared_error(y_test,predad))\n",
    "print(mean_absolute_error(y_test,predad))"
   ]
  },
  {
   "cell_type": "markdown",
   "metadata": {},
   "source": [
    "SGDRegressor"
   ]
  },
  {
   "cell_type": "code",
   "execution_count": 116,
   "metadata": {},
   "outputs": [
    {
     "name": "stdout",
     "output_type": "stream",
     "text": [
      " accuracy=38.50460112336786,cross_val_score=45.557375469831264 & difference=-7.052774346463401\n",
      "73.64224194570002\n",
      "6.841808312187764\n"
     ]
    }
   ],
   "source": [
    "from sklearn.linear_model import SGDRegressor\n",
    "sgd=SGDRegressor()\n",
    "sgd.fit(x_train,y_train)\n",
    "predgd=sgd.predict(x_test)\n",
    "r2score=r2_score(y_test,predgd)\n",
    "cvscore=cross_val_score(SGDRegressor(),x_train,y_train,cv=5).mean()\n",
    "print(f\" accuracy={r2score*100},cross_val_score={cvscore*100} & difference={(r2score*100)-(cvscore*100)}\")\n",
    "print(mean_squared_error(y_test,predgd))\n",
    "print(mean_absolute_error(y_test,predgd))"
   ]
  },
  {
   "cell_type": "markdown",
   "metadata": {},
   "source": [
    "LinearRegression and SGDRegressor are best performing model with almost same accuracy and cross_val_score ,but sgd is slightly performing well so i am moving with sgd"
   ]
  },
  {
   "cell_type": "markdown",
   "metadata": {},
   "source": [
    "# hyperparameter tuning"
   ]
  },
  {
   "cell_type": "code",
   "execution_count": 132,
   "metadata": {},
   "outputs": [],
   "source": [
    "parameters={\"max_iter\":[700,900,1200,1400,1600,1800,1900,2000],\n",
    "            \"alpha\" :[0.00001,0.0001,0.001,0.01,1,10,100]},\n",
    "            "
   ]
  },
  {
   "cell_type": "code",
   "execution_count": 133,
   "metadata": {},
   "outputs": [
    {
     "name": "stdout",
     "output_type": "stream",
     "text": [
      "Final accuracy : 0.38807947145462196\n"
     ]
    }
   ],
   "source": [
    "from sklearn.model_selection import GridSearchCV\n",
    "gcv=GridSearchCV(SGDRegressor(),parameters,cv=5,scoring=\"r2\")\n",
    "gcv.fit(x_train,y_train)\n",
    "gcv.best_estimator_\n",
    "predgcv=gcv.best_estimator_.predict(x_test)\n",
    "print(\"Final accuracy :\",r2_score(y_test,predgcv))"
   ]
  },
  {
   "cell_type": "markdown",
   "metadata": {},
   "source": [
    "Final Aaccuracy is 38% without penalty "
   ]
  },
  {
   "cell_type": "code",
   "execution_count": 135,
   "metadata": {},
   "outputs": [],
   "source": [
    "import numpy as np\n",
    "a=np.array(y_test)"
   ]
  },
  {
   "cell_type": "code",
   "execution_count": 136,
   "metadata": {},
   "outputs": [],
   "source": [
    "predicted=np.array(gcv.best_estimator_.predict(x_test))"
   ]
  },
  {
   "cell_type": "code",
   "execution_count": 139,
   "metadata": {},
   "outputs": [],
   "source": [
    "df_com=pd.DataFrame({\"original\":a,\"predicted\":predicted},index=range(len(a)))"
   ]
  },
  {
   "cell_type": "code",
   "execution_count": 140,
   "metadata": {},
   "outputs": [
    {
     "data": {
      "text/html": [
       "<div>\n",
       "<style scoped>\n",
       "    .dataframe tbody tr th:only-of-type {\n",
       "        vertical-align: middle;\n",
       "    }\n",
       "\n",
       "    .dataframe tbody tr th {\n",
       "        vertical-align: top;\n",
       "    }\n",
       "\n",
       "    .dataframe thead th {\n",
       "        text-align: right;\n",
       "    }\n",
       "</style>\n",
       "<table border=\"1\" class=\"dataframe\">\n",
       "  <thead>\n",
       "    <tr style=\"text-align: right;\">\n",
       "      <th></th>\n",
       "      <th>original</th>\n",
       "      <th>predicted</th>\n",
       "    </tr>\n",
       "  </thead>\n",
       "  <tbody>\n",
       "    <tr>\n",
       "      <th>0</th>\n",
       "      <td>51.79</td>\n",
       "      <td>48.723431</td>\n",
       "    </tr>\n",
       "    <tr>\n",
       "      <th>1</th>\n",
       "      <td>52.07</td>\n",
       "      <td>42.709937</td>\n",
       "    </tr>\n",
       "    <tr>\n",
       "      <th>2</th>\n",
       "      <td>49.50</td>\n",
       "      <td>51.997740</td>\n",
       "    </tr>\n",
       "    <tr>\n",
       "      <th>3</th>\n",
       "      <td>24.39</td>\n",
       "      <td>32.169395</td>\n",
       "    </tr>\n",
       "    <tr>\n",
       "      <th>4</th>\n",
       "      <td>51.81</td>\n",
       "      <td>50.740058</td>\n",
       "    </tr>\n",
       "    <tr>\n",
       "      <th>...</th>\n",
       "      <td>...</td>\n",
       "      <td>...</td>\n",
       "    </tr>\n",
       "    <tr>\n",
       "      <th>345</th>\n",
       "      <td>32.27</td>\n",
       "      <td>32.560906</td>\n",
       "    </tr>\n",
       "    <tr>\n",
       "      <th>346</th>\n",
       "      <td>28.30</td>\n",
       "      <td>36.744879</td>\n",
       "    </tr>\n",
       "    <tr>\n",
       "      <th>347</th>\n",
       "      <td>38.94</td>\n",
       "      <td>46.483514</td>\n",
       "    </tr>\n",
       "    <tr>\n",
       "      <th>348</th>\n",
       "      <td>49.99</td>\n",
       "      <td>50.982182</td>\n",
       "    </tr>\n",
       "    <tr>\n",
       "      <th>349</th>\n",
       "      <td>26.57</td>\n",
       "      <td>33.539889</td>\n",
       "    </tr>\n",
       "  </tbody>\n",
       "</table>\n",
       "<p>350 rows × 2 columns</p>\n",
       "</div>"
      ],
      "text/plain": [
       "     original  predicted\n",
       "0       51.79  48.723431\n",
       "1       52.07  42.709937\n",
       "2       49.50  51.997740\n",
       "3       24.39  32.169395\n",
       "4       51.81  50.740058\n",
       "..        ...        ...\n",
       "345     32.27  32.560906\n",
       "346     28.30  36.744879\n",
       "347     38.94  46.483514\n",
       "348     49.99  50.982182\n",
       "349     26.57  33.539889\n",
       "\n",
       "[350 rows x 2 columns]"
      ]
     },
     "execution_count": 140,
     "metadata": {},
     "output_type": "execute_result"
    }
   ],
   "source": [
    "df_com"
   ]
  },
  {
   "cell_type": "code",
   "execution_count": 142,
   "metadata": {},
   "outputs": [],
   "source": [
    "import pickle\n",
    "filename=\"employee_salary.pkl\"\n",
    "pickle.dump(gcv.best_estimator_,open(filename,\"wb\"))"
   ]
  },
  {
   "cell_type": "code",
   "execution_count": null,
   "metadata": {},
   "outputs": [],
   "source": []
  }
 ],
 "metadata": {
  "kernelspec": {
   "display_name": "Python 3",
   "language": "python",
   "name": "python3"
  },
  "language_info": {
   "codemirror_mode": {
    "name": "ipython",
    "version": 3
   },
   "file_extension": ".py",
   "mimetype": "text/x-python",
   "name": "python",
   "nbconvert_exporter": "python",
   "pygments_lexer": "ipython3",
   "version": "3.8.3"
  }
 },
 "nbformat": 4,
 "nbformat_minor": 4
}
