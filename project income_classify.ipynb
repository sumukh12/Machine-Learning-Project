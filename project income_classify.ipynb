{
 "cells": [
  {
   "cell_type": "code",
   "execution_count": 2,
   "metadata": {},
   "outputs": [],
   "source": [
    "import pandas as pd\n",
    "import numpy as np\n",
    "import matplotlib.pyplot as plt\n",
    "import seaborn as sns\n",
    "%matplotlib inline\n",
    "import warnings\n",
    "warnings.filterwarnings(\"ignore\")"
   ]
  },
  {
   "cell_type": "code",
   "execution_count": 3,
   "metadata": {},
   "outputs": [],
   "source": [
    "df=pd.read_csv(\"adult_income.csv\",sep=\",\\s\")\n",
    "df.columns=[\"Age\",\"Workclass\",\"fnlwgt\",\"Education\",\"Education_num\",\"Maritial-Status\",\"Occupation\",\"Relationship\",\"Race\",\"Sex\",\"Capital_gain\",\"Capital_loss\",\"Hour_per_week\",\"Native_country\",\"Income\"]"
   ]
  },
  {
   "cell_type": "code",
   "execution_count": 4,
   "metadata": {},
   "outputs": [
    {
     "data": {
      "text/html": [
       "<div>\n",
       "<style scoped>\n",
       "    .dataframe tbody tr th:only-of-type {\n",
       "        vertical-align: middle;\n",
       "    }\n",
       "\n",
       "    .dataframe tbody tr th {\n",
       "        vertical-align: top;\n",
       "    }\n",
       "\n",
       "    .dataframe thead th {\n",
       "        text-align: right;\n",
       "    }\n",
       "</style>\n",
       "<table border=\"1\" class=\"dataframe\">\n",
       "  <thead>\n",
       "    <tr style=\"text-align: right;\">\n",
       "      <th></th>\n",
       "      <th>Age</th>\n",
       "      <th>Workclass</th>\n",
       "      <th>fnlwgt</th>\n",
       "      <th>Education</th>\n",
       "      <th>Education_num</th>\n",
       "      <th>Maritial-Status</th>\n",
       "      <th>Occupation</th>\n",
       "      <th>Relationship</th>\n",
       "      <th>Race</th>\n",
       "      <th>Sex</th>\n",
       "      <th>Capital_gain</th>\n",
       "      <th>Capital_loss</th>\n",
       "      <th>Hour_per_week</th>\n",
       "      <th>Native_country</th>\n",
       "      <th>Income</th>\n",
       "    </tr>\n",
       "  </thead>\n",
       "  <tbody>\n",
       "    <tr>\n",
       "      <th>0</th>\n",
       "      <td>50</td>\n",
       "      <td>Self-emp-not-inc</td>\n",
       "      <td>83311</td>\n",
       "      <td>Bachelors</td>\n",
       "      <td>13</td>\n",
       "      <td>Married-civ-spouse</td>\n",
       "      <td>Exec-managerial</td>\n",
       "      <td>Husband</td>\n",
       "      <td>White</td>\n",
       "      <td>Male</td>\n",
       "      <td>0</td>\n",
       "      <td>0</td>\n",
       "      <td>13</td>\n",
       "      <td>United-States</td>\n",
       "      <td>&lt;=50K</td>\n",
       "    </tr>\n",
       "    <tr>\n",
       "      <th>1</th>\n",
       "      <td>38</td>\n",
       "      <td>Private</td>\n",
       "      <td>215646</td>\n",
       "      <td>HS-grad</td>\n",
       "      <td>9</td>\n",
       "      <td>Divorced</td>\n",
       "      <td>Handlers-cleaners</td>\n",
       "      <td>Not-in-family</td>\n",
       "      <td>White</td>\n",
       "      <td>Male</td>\n",
       "      <td>0</td>\n",
       "      <td>0</td>\n",
       "      <td>40</td>\n",
       "      <td>United-States</td>\n",
       "      <td>&lt;=50K</td>\n",
       "    </tr>\n",
       "    <tr>\n",
       "      <th>2</th>\n",
       "      <td>53</td>\n",
       "      <td>Private</td>\n",
       "      <td>234721</td>\n",
       "      <td>11th</td>\n",
       "      <td>7</td>\n",
       "      <td>Married-civ-spouse</td>\n",
       "      <td>Handlers-cleaners</td>\n",
       "      <td>Husband</td>\n",
       "      <td>Black</td>\n",
       "      <td>Male</td>\n",
       "      <td>0</td>\n",
       "      <td>0</td>\n",
       "      <td>40</td>\n",
       "      <td>United-States</td>\n",
       "      <td>&lt;=50K</td>\n",
       "    </tr>\n",
       "    <tr>\n",
       "      <th>3</th>\n",
       "      <td>28</td>\n",
       "      <td>Private</td>\n",
       "      <td>338409</td>\n",
       "      <td>Bachelors</td>\n",
       "      <td>13</td>\n",
       "      <td>Married-civ-spouse</td>\n",
       "      <td>Prof-specialty</td>\n",
       "      <td>Wife</td>\n",
       "      <td>Black</td>\n",
       "      <td>Female</td>\n",
       "      <td>0</td>\n",
       "      <td>0</td>\n",
       "      <td>40</td>\n",
       "      <td>Cuba</td>\n",
       "      <td>&lt;=50K</td>\n",
       "    </tr>\n",
       "    <tr>\n",
       "      <th>4</th>\n",
       "      <td>37</td>\n",
       "      <td>Private</td>\n",
       "      <td>284582</td>\n",
       "      <td>Masters</td>\n",
       "      <td>14</td>\n",
       "      <td>Married-civ-spouse</td>\n",
       "      <td>Exec-managerial</td>\n",
       "      <td>Wife</td>\n",
       "      <td>White</td>\n",
       "      <td>Female</td>\n",
       "      <td>0</td>\n",
       "      <td>0</td>\n",
       "      <td>40</td>\n",
       "      <td>United-States</td>\n",
       "      <td>&lt;=50K</td>\n",
       "    </tr>\n",
       "    <tr>\n",
       "      <th>...</th>\n",
       "      <td>...</td>\n",
       "      <td>...</td>\n",
       "      <td>...</td>\n",
       "      <td>...</td>\n",
       "      <td>...</td>\n",
       "      <td>...</td>\n",
       "      <td>...</td>\n",
       "      <td>...</td>\n",
       "      <td>...</td>\n",
       "      <td>...</td>\n",
       "      <td>...</td>\n",
       "      <td>...</td>\n",
       "      <td>...</td>\n",
       "      <td>...</td>\n",
       "      <td>...</td>\n",
       "    </tr>\n",
       "    <tr>\n",
       "      <th>32555</th>\n",
       "      <td>27</td>\n",
       "      <td>Private</td>\n",
       "      <td>257302</td>\n",
       "      <td>Assoc-acdm</td>\n",
       "      <td>12</td>\n",
       "      <td>Married-civ-spouse</td>\n",
       "      <td>Tech-support</td>\n",
       "      <td>Wife</td>\n",
       "      <td>White</td>\n",
       "      <td>Female</td>\n",
       "      <td>0</td>\n",
       "      <td>0</td>\n",
       "      <td>38</td>\n",
       "      <td>United-States</td>\n",
       "      <td>&lt;=50K</td>\n",
       "    </tr>\n",
       "    <tr>\n",
       "      <th>32556</th>\n",
       "      <td>40</td>\n",
       "      <td>Private</td>\n",
       "      <td>154374</td>\n",
       "      <td>HS-grad</td>\n",
       "      <td>9</td>\n",
       "      <td>Married-civ-spouse</td>\n",
       "      <td>Machine-op-inspct</td>\n",
       "      <td>Husband</td>\n",
       "      <td>White</td>\n",
       "      <td>Male</td>\n",
       "      <td>0</td>\n",
       "      <td>0</td>\n",
       "      <td>40</td>\n",
       "      <td>United-States</td>\n",
       "      <td>&gt;50K</td>\n",
       "    </tr>\n",
       "    <tr>\n",
       "      <th>32557</th>\n",
       "      <td>58</td>\n",
       "      <td>Private</td>\n",
       "      <td>151910</td>\n",
       "      <td>HS-grad</td>\n",
       "      <td>9</td>\n",
       "      <td>Widowed</td>\n",
       "      <td>Adm-clerical</td>\n",
       "      <td>Unmarried</td>\n",
       "      <td>White</td>\n",
       "      <td>Female</td>\n",
       "      <td>0</td>\n",
       "      <td>0</td>\n",
       "      <td>40</td>\n",
       "      <td>United-States</td>\n",
       "      <td>&lt;=50K</td>\n",
       "    </tr>\n",
       "    <tr>\n",
       "      <th>32558</th>\n",
       "      <td>22</td>\n",
       "      <td>Private</td>\n",
       "      <td>201490</td>\n",
       "      <td>HS-grad</td>\n",
       "      <td>9</td>\n",
       "      <td>Never-married</td>\n",
       "      <td>Adm-clerical</td>\n",
       "      <td>Own-child</td>\n",
       "      <td>White</td>\n",
       "      <td>Male</td>\n",
       "      <td>0</td>\n",
       "      <td>0</td>\n",
       "      <td>20</td>\n",
       "      <td>United-States</td>\n",
       "      <td>&lt;=50K</td>\n",
       "    </tr>\n",
       "    <tr>\n",
       "      <th>32559</th>\n",
       "      <td>52</td>\n",
       "      <td>Self-emp-inc</td>\n",
       "      <td>287927</td>\n",
       "      <td>HS-grad</td>\n",
       "      <td>9</td>\n",
       "      <td>Married-civ-spouse</td>\n",
       "      <td>Exec-managerial</td>\n",
       "      <td>Wife</td>\n",
       "      <td>White</td>\n",
       "      <td>Female</td>\n",
       "      <td>15024</td>\n",
       "      <td>0</td>\n",
       "      <td>40</td>\n",
       "      <td>United-States</td>\n",
       "      <td>&gt;50K</td>\n",
       "    </tr>\n",
       "  </tbody>\n",
       "</table>\n",
       "<p>32560 rows × 15 columns</p>\n",
       "</div>"
      ],
      "text/plain": [
       "       Age         Workclass  fnlwgt   Education  Education_num  \\\n",
       "0       50  Self-emp-not-inc   83311   Bachelors             13   \n",
       "1       38           Private  215646     HS-grad              9   \n",
       "2       53           Private  234721        11th              7   \n",
       "3       28           Private  338409   Bachelors             13   \n",
       "4       37           Private  284582     Masters             14   \n",
       "...    ...               ...     ...         ...            ...   \n",
       "32555   27           Private  257302  Assoc-acdm             12   \n",
       "32556   40           Private  154374     HS-grad              9   \n",
       "32557   58           Private  151910     HS-grad              9   \n",
       "32558   22           Private  201490     HS-grad              9   \n",
       "32559   52      Self-emp-inc  287927     HS-grad              9   \n",
       "\n",
       "          Maritial-Status         Occupation   Relationship   Race     Sex  \\\n",
       "0      Married-civ-spouse    Exec-managerial        Husband  White    Male   \n",
       "1                Divorced  Handlers-cleaners  Not-in-family  White    Male   \n",
       "2      Married-civ-spouse  Handlers-cleaners        Husband  Black    Male   \n",
       "3      Married-civ-spouse     Prof-specialty           Wife  Black  Female   \n",
       "4      Married-civ-spouse    Exec-managerial           Wife  White  Female   \n",
       "...                   ...                ...            ...    ...     ...   \n",
       "32555  Married-civ-spouse       Tech-support           Wife  White  Female   \n",
       "32556  Married-civ-spouse  Machine-op-inspct        Husband  White    Male   \n",
       "32557             Widowed       Adm-clerical      Unmarried  White  Female   \n",
       "32558       Never-married       Adm-clerical      Own-child  White    Male   \n",
       "32559  Married-civ-spouse    Exec-managerial           Wife  White  Female   \n",
       "\n",
       "       Capital_gain  Capital_loss  Hour_per_week Native_country Income  \n",
       "0                 0             0             13  United-States  <=50K  \n",
       "1                 0             0             40  United-States  <=50K  \n",
       "2                 0             0             40  United-States  <=50K  \n",
       "3                 0             0             40           Cuba  <=50K  \n",
       "4                 0             0             40  United-States  <=50K  \n",
       "...             ...           ...            ...            ...    ...  \n",
       "32555             0             0             38  United-States  <=50K  \n",
       "32556             0             0             40  United-States   >50K  \n",
       "32557             0             0             40  United-States  <=50K  \n",
       "32558             0             0             20  United-States  <=50K  \n",
       "32559         15024             0             40  United-States   >50K  \n",
       "\n",
       "[32560 rows x 15 columns]"
      ]
     },
     "execution_count": 4,
     "metadata": {},
     "output_type": "execute_result"
    }
   ],
   "source": [
    "df"
   ]
  },
  {
   "cell_type": "raw",
   "metadata": {},
   "source": [
    "Observation:\n",
    "    There are 32560 rows and 15 columns is there in our data set"
   ]
  },
  {
   "cell_type": "code",
   "execution_count": 5,
   "metadata": {},
   "outputs": [
    {
     "data": {
      "text/plain": [
       "False"
      ]
     },
     "execution_count": 5,
     "metadata": {},
     "output_type": "execute_result"
    }
   ],
   "source": [
    "#checking for null values\n",
    "df.isnull().values.any()"
   ]
  },
  {
   "cell_type": "raw",
   "metadata": {},
   "source": [
    "observation:\n",
    "    Here we can see There are no null values but there is ? present in our dataset which treated as null values."
   ]
  },
  {
   "cell_type": "code",
   "execution_count": 6,
   "metadata": {},
   "outputs": [
    {
     "name": "stdout",
     "output_type": "stream",
     "text": [
      "<class 'pandas.core.frame.DataFrame'>\n",
      "RangeIndex: 32560 entries, 0 to 32559\n",
      "Data columns (total 15 columns):\n",
      " #   Column           Non-Null Count  Dtype \n",
      "---  ------           --------------  ----- \n",
      " 0   Age              32560 non-null  int64 \n",
      " 1   Workclass        32560 non-null  object\n",
      " 2   fnlwgt           32560 non-null  int64 \n",
      " 3   Education        32560 non-null  object\n",
      " 4   Education_num    32560 non-null  int64 \n",
      " 5   Maritial-Status  32560 non-null  object\n",
      " 6   Occupation       32560 non-null  object\n",
      " 7   Relationship     32560 non-null  object\n",
      " 8   Race             32560 non-null  object\n",
      " 9   Sex              32560 non-null  object\n",
      " 10  Capital_gain     32560 non-null  int64 \n",
      " 11  Capital_loss     32560 non-null  int64 \n",
      " 12  Hour_per_week    32560 non-null  int64 \n",
      " 13  Native_country   32560 non-null  object\n",
      " 14  Income           32560 non-null  object\n",
      "dtypes: int64(6), object(9)\n",
      "memory usage: 2.6+ MB\n"
     ]
    }
   ],
   "source": [
    "#checking information about dataset\n",
    "df.info()"
   ]
  },
  {
   "cell_type": "code",
   "execution_count": 7,
   "metadata": {},
   "outputs": [],
   "source": [
    "#Information shows that there is nullvalues in our dataset but ? is there so will replace it"
   ]
  },
  {
   "cell_type": "code",
   "execution_count": 8,
   "metadata": {},
   "outputs": [
    {
     "data": {
      "text/html": [
       "<div>\n",
       "<style scoped>\n",
       "    .dataframe tbody tr th:only-of-type {\n",
       "        vertical-align: middle;\n",
       "    }\n",
       "\n",
       "    .dataframe tbody tr th {\n",
       "        vertical-align: top;\n",
       "    }\n",
       "\n",
       "    .dataframe thead th {\n",
       "        text-align: right;\n",
       "    }\n",
       "</style>\n",
       "<table border=\"1\" class=\"dataframe\">\n",
       "  <thead>\n",
       "    <tr style=\"text-align: right;\">\n",
       "      <th></th>\n",
       "      <th>Age</th>\n",
       "      <th>Workclass</th>\n",
       "      <th>fnlwgt</th>\n",
       "      <th>Education</th>\n",
       "      <th>Education_num</th>\n",
       "      <th>Maritial-Status</th>\n",
       "      <th>Occupation</th>\n",
       "      <th>Relationship</th>\n",
       "      <th>Race</th>\n",
       "      <th>Sex</th>\n",
       "      <th>Capital_gain</th>\n",
       "      <th>Capital_loss</th>\n",
       "      <th>Hour_per_week</th>\n",
       "      <th>Native_country</th>\n",
       "      <th>Income</th>\n",
       "    </tr>\n",
       "  </thead>\n",
       "  <tbody>\n",
       "    <tr>\n",
       "      <th>0</th>\n",
       "      <td>50</td>\n",
       "      <td>Self-emp-not-inc</td>\n",
       "      <td>83311</td>\n",
       "      <td>Bachelors</td>\n",
       "      <td>13</td>\n",
       "      <td>Married-civ-spouse</td>\n",
       "      <td>Exec-managerial</td>\n",
       "      <td>Husband</td>\n",
       "      <td>White</td>\n",
       "      <td>Male</td>\n",
       "      <td>0</td>\n",
       "      <td>0</td>\n",
       "      <td>13</td>\n",
       "      <td>United-States</td>\n",
       "      <td>&lt;=50K</td>\n",
       "    </tr>\n",
       "    <tr>\n",
       "      <th>1</th>\n",
       "      <td>38</td>\n",
       "      <td>Private</td>\n",
       "      <td>215646</td>\n",
       "      <td>HS-grad</td>\n",
       "      <td>9</td>\n",
       "      <td>Divorced</td>\n",
       "      <td>Handlers-cleaners</td>\n",
       "      <td>Not-in-family</td>\n",
       "      <td>White</td>\n",
       "      <td>Male</td>\n",
       "      <td>0</td>\n",
       "      <td>0</td>\n",
       "      <td>40</td>\n",
       "      <td>United-States</td>\n",
       "      <td>&lt;=50K</td>\n",
       "    </tr>\n",
       "    <tr>\n",
       "      <th>2</th>\n",
       "      <td>53</td>\n",
       "      <td>Private</td>\n",
       "      <td>234721</td>\n",
       "      <td>11th</td>\n",
       "      <td>7</td>\n",
       "      <td>Married-civ-spouse</td>\n",
       "      <td>Handlers-cleaners</td>\n",
       "      <td>Husband</td>\n",
       "      <td>Black</td>\n",
       "      <td>Male</td>\n",
       "      <td>0</td>\n",
       "      <td>0</td>\n",
       "      <td>40</td>\n",
       "      <td>United-States</td>\n",
       "      <td>&lt;=50K</td>\n",
       "    </tr>\n",
       "    <tr>\n",
       "      <th>3</th>\n",
       "      <td>28</td>\n",
       "      <td>Private</td>\n",
       "      <td>338409</td>\n",
       "      <td>Bachelors</td>\n",
       "      <td>13</td>\n",
       "      <td>Married-civ-spouse</td>\n",
       "      <td>Prof-specialty</td>\n",
       "      <td>Wife</td>\n",
       "      <td>Black</td>\n",
       "      <td>Female</td>\n",
       "      <td>0</td>\n",
       "      <td>0</td>\n",
       "      <td>40</td>\n",
       "      <td>Cuba</td>\n",
       "      <td>&lt;=50K</td>\n",
       "    </tr>\n",
       "    <tr>\n",
       "      <th>4</th>\n",
       "      <td>37</td>\n",
       "      <td>Private</td>\n",
       "      <td>284582</td>\n",
       "      <td>Masters</td>\n",
       "      <td>14</td>\n",
       "      <td>Married-civ-spouse</td>\n",
       "      <td>Exec-managerial</td>\n",
       "      <td>Wife</td>\n",
       "      <td>White</td>\n",
       "      <td>Female</td>\n",
       "      <td>0</td>\n",
       "      <td>0</td>\n",
       "      <td>40</td>\n",
       "      <td>United-States</td>\n",
       "      <td>&lt;=50K</td>\n",
       "    </tr>\n",
       "    <tr>\n",
       "      <th>...</th>\n",
       "      <td>...</td>\n",
       "      <td>...</td>\n",
       "      <td>...</td>\n",
       "      <td>...</td>\n",
       "      <td>...</td>\n",
       "      <td>...</td>\n",
       "      <td>...</td>\n",
       "      <td>...</td>\n",
       "      <td>...</td>\n",
       "      <td>...</td>\n",
       "      <td>...</td>\n",
       "      <td>...</td>\n",
       "      <td>...</td>\n",
       "      <td>...</td>\n",
       "      <td>...</td>\n",
       "    </tr>\n",
       "    <tr>\n",
       "      <th>32555</th>\n",
       "      <td>27</td>\n",
       "      <td>Private</td>\n",
       "      <td>257302</td>\n",
       "      <td>Assoc-acdm</td>\n",
       "      <td>12</td>\n",
       "      <td>Married-civ-spouse</td>\n",
       "      <td>Tech-support</td>\n",
       "      <td>Wife</td>\n",
       "      <td>White</td>\n",
       "      <td>Female</td>\n",
       "      <td>0</td>\n",
       "      <td>0</td>\n",
       "      <td>38</td>\n",
       "      <td>United-States</td>\n",
       "      <td>&lt;=50K</td>\n",
       "    </tr>\n",
       "    <tr>\n",
       "      <th>32556</th>\n",
       "      <td>40</td>\n",
       "      <td>Private</td>\n",
       "      <td>154374</td>\n",
       "      <td>HS-grad</td>\n",
       "      <td>9</td>\n",
       "      <td>Married-civ-spouse</td>\n",
       "      <td>Machine-op-inspct</td>\n",
       "      <td>Husband</td>\n",
       "      <td>White</td>\n",
       "      <td>Male</td>\n",
       "      <td>0</td>\n",
       "      <td>0</td>\n",
       "      <td>40</td>\n",
       "      <td>United-States</td>\n",
       "      <td>&gt;50K</td>\n",
       "    </tr>\n",
       "    <tr>\n",
       "      <th>32557</th>\n",
       "      <td>58</td>\n",
       "      <td>Private</td>\n",
       "      <td>151910</td>\n",
       "      <td>HS-grad</td>\n",
       "      <td>9</td>\n",
       "      <td>Widowed</td>\n",
       "      <td>Adm-clerical</td>\n",
       "      <td>Unmarried</td>\n",
       "      <td>White</td>\n",
       "      <td>Female</td>\n",
       "      <td>0</td>\n",
       "      <td>0</td>\n",
       "      <td>40</td>\n",
       "      <td>United-States</td>\n",
       "      <td>&lt;=50K</td>\n",
       "    </tr>\n",
       "    <tr>\n",
       "      <th>32558</th>\n",
       "      <td>22</td>\n",
       "      <td>Private</td>\n",
       "      <td>201490</td>\n",
       "      <td>HS-grad</td>\n",
       "      <td>9</td>\n",
       "      <td>Never-married</td>\n",
       "      <td>Adm-clerical</td>\n",
       "      <td>Own-child</td>\n",
       "      <td>White</td>\n",
       "      <td>Male</td>\n",
       "      <td>0</td>\n",
       "      <td>0</td>\n",
       "      <td>20</td>\n",
       "      <td>United-States</td>\n",
       "      <td>&lt;=50K</td>\n",
       "    </tr>\n",
       "    <tr>\n",
       "      <th>32559</th>\n",
       "      <td>52</td>\n",
       "      <td>Self-emp-inc</td>\n",
       "      <td>287927</td>\n",
       "      <td>HS-grad</td>\n",
       "      <td>9</td>\n",
       "      <td>Married-civ-spouse</td>\n",
       "      <td>Exec-managerial</td>\n",
       "      <td>Wife</td>\n",
       "      <td>White</td>\n",
       "      <td>Female</td>\n",
       "      <td>15024</td>\n",
       "      <td>0</td>\n",
       "      <td>40</td>\n",
       "      <td>United-States</td>\n",
       "      <td>&gt;50K</td>\n",
       "    </tr>\n",
       "  </tbody>\n",
       "</table>\n",
       "<p>32560 rows × 15 columns</p>\n",
       "</div>"
      ],
      "text/plain": [
       "       Age         Workclass  fnlwgt   Education  Education_num  \\\n",
       "0       50  Self-emp-not-inc   83311   Bachelors             13   \n",
       "1       38           Private  215646     HS-grad              9   \n",
       "2       53           Private  234721        11th              7   \n",
       "3       28           Private  338409   Bachelors             13   \n",
       "4       37           Private  284582     Masters             14   \n",
       "...    ...               ...     ...         ...            ...   \n",
       "32555   27           Private  257302  Assoc-acdm             12   \n",
       "32556   40           Private  154374     HS-grad              9   \n",
       "32557   58           Private  151910     HS-grad              9   \n",
       "32558   22           Private  201490     HS-grad              9   \n",
       "32559   52      Self-emp-inc  287927     HS-grad              9   \n",
       "\n",
       "          Maritial-Status         Occupation   Relationship   Race     Sex  \\\n",
       "0      Married-civ-spouse    Exec-managerial        Husband  White    Male   \n",
       "1                Divorced  Handlers-cleaners  Not-in-family  White    Male   \n",
       "2      Married-civ-spouse  Handlers-cleaners        Husband  Black    Male   \n",
       "3      Married-civ-spouse     Prof-specialty           Wife  Black  Female   \n",
       "4      Married-civ-spouse    Exec-managerial           Wife  White  Female   \n",
       "...                   ...                ...            ...    ...     ...   \n",
       "32555  Married-civ-spouse       Tech-support           Wife  White  Female   \n",
       "32556  Married-civ-spouse  Machine-op-inspct        Husband  White    Male   \n",
       "32557             Widowed       Adm-clerical      Unmarried  White  Female   \n",
       "32558       Never-married       Adm-clerical      Own-child  White    Male   \n",
       "32559  Married-civ-spouse    Exec-managerial           Wife  White  Female   \n",
       "\n",
       "       Capital_gain  Capital_loss  Hour_per_week Native_country Income  \n",
       "0                 0             0             13  United-States  <=50K  \n",
       "1                 0             0             40  United-States  <=50K  \n",
       "2                 0             0             40  United-States  <=50K  \n",
       "3                 0             0             40           Cuba  <=50K  \n",
       "4                 0             0             40  United-States  <=50K  \n",
       "...             ...           ...            ...            ...    ...  \n",
       "32555             0             0             38  United-States  <=50K  \n",
       "32556             0             0             40  United-States   >50K  \n",
       "32557             0             0             40  United-States  <=50K  \n",
       "32558             0             0             20  United-States  <=50K  \n",
       "32559         15024             0             40  United-States   >50K  \n",
       "\n",
       "[32560 rows x 15 columns]"
      ]
     },
     "execution_count": 8,
     "metadata": {},
     "output_type": "execute_result"
    }
   ],
   "source": [
    "#replace ? mark with NaN\n",
    "df=df.replace(\"?\",np.NaN)\n",
    "df"
   ]
  },
  {
   "cell_type": "code",
   "execution_count": 9,
   "metadata": {},
   "outputs": [
    {
     "data": {
      "text/plain": [
       "True"
      ]
     },
     "execution_count": 9,
     "metadata": {},
     "output_type": "execute_result"
    }
   ],
   "source": [
    "df.isnull().values.any()"
   ]
  },
  {
   "cell_type": "raw",
   "metadata": {},
   "source": [
    "Now its tell that null value is present\n",
    "now we check the number of null values present"
   ]
  },
  {
   "cell_type": "code",
   "execution_count": 10,
   "metadata": {},
   "outputs": [
    {
     "data": {
      "text/plain": [
       "Age                   0\n",
       "Workclass          1836\n",
       "fnlwgt                0\n",
       "Education             0\n",
       "Education_num         0\n",
       "Maritial-Status       0\n",
       "Occupation         1843\n",
       "Relationship          0\n",
       "Race                  0\n",
       "Sex                   0\n",
       "Capital_gain          0\n",
       "Capital_loss          0\n",
       "Hour_per_week         0\n",
       "Native_country      583\n",
       "Income                0\n",
       "dtype: int64"
      ]
     },
     "execution_count": 10,
     "metadata": {},
     "output_type": "execute_result"
    }
   ],
   "source": [
    "df.isnull().sum()"
   ]
  },
  {
   "cell_type": "raw",
   "metadata": {},
   "source": [
    "observation:\n",
    "1]There are 1836 null value present in Workclass columns\n",
    "2]1843 in occupation\n",
    "3]583 in native_country"
   ]
  },
  {
   "cell_type": "code",
   "execution_count": 11,
   "metadata": {},
   "outputs": [
    {
     "data": {
      "text/plain": [
       "<matplotlib.axes._subplots.AxesSubplot at 0x924f820>"
      ]
     },
     "execution_count": 11,
     "metadata": {},
     "output_type": "execute_result"
    },
    {
     "data": {
      "image/png": "[encoded data removed]",
      "text/plain": [
       "<Figure size 432x288 with 1 Axes>"
      ]
     },
     "metadata": {
      "needs_background": "light"
     },
     "output_type": "display_data"
    }
   ],
   "source": [
    "sns.heatmap(df.isnull(),yticklabels=False,cbar=False)"
   ]
  },
  {
   "cell_type": "code",
   "execution_count": 12,
   "metadata": {},
   "outputs": [],
   "source": [
    "# inputing null values with mode\n",
    "for col in [\"Workclass\",\"Occupation\",\"Native_country\"]:\n",
    "    df[col].fillna(df[col].mode()[0],inplace=True)\n"
   ]
  },
  {
   "cell_type": "code",
   "execution_count": 13,
   "metadata": {},
   "outputs": [
    {
     "data": {
      "text/plain": [
       "False"
      ]
     },
     "execution_count": 13,
     "metadata": {},
     "output_type": "execute_result"
    }
   ],
   "source": [
    "df.isnull().values.any()"
   ]
  },
  {
   "cell_type": "markdown",
   "metadata": {},
   "source": [
    "Now our null values is removed.we can see it via visiulization"
   ]
  },
  {
   "cell_type": "markdown",
   "metadata": {},
   "source": [
    "# Now our data is ready for Visiulization without any missing values."
   ]
  },
  {
   "cell_type": "code",
   "execution_count": 14,
   "metadata": {},
   "outputs": [
    {
     "data": {
      "text/html": [
       "<div>\n",
       "<style scoped>\n",
       "    .dataframe tbody tr th:only-of-type {\n",
       "        vertical-align: middle;\n",
       "    }\n",
       "\n",
       "    .dataframe tbody tr th {\n",
       "        vertical-align: top;\n",
       "    }\n",
       "\n",
       "    .dataframe thead th {\n",
       "        text-align: right;\n",
       "    }\n",
       "</style>\n",
       "<table border=\"1\" class=\"dataframe\">\n",
       "  <thead>\n",
       "    <tr style=\"text-align: right;\">\n",
       "      <th></th>\n",
       "      <th>Age</th>\n",
       "      <th>Workclass</th>\n",
       "      <th>fnlwgt</th>\n",
       "      <th>Education</th>\n",
       "      <th>Education_num</th>\n",
       "      <th>Maritial-Status</th>\n",
       "      <th>Occupation</th>\n",
       "      <th>Relationship</th>\n",
       "      <th>Race</th>\n",
       "      <th>Sex</th>\n",
       "      <th>Capital_gain</th>\n",
       "      <th>Capital_loss</th>\n",
       "      <th>Hour_per_week</th>\n",
       "      <th>Native_country</th>\n",
       "      <th>Income</th>\n",
       "    </tr>\n",
       "  </thead>\n",
       "  <tbody>\n",
       "    <tr>\n",
       "      <th>0</th>\n",
       "      <td>50</td>\n",
       "      <td>Self-emp-not-inc</td>\n",
       "      <td>83311</td>\n",
       "      <td>Bachelors</td>\n",
       "      <td>13</td>\n",
       "      <td>Married-civ-spouse</td>\n",
       "      <td>Exec-managerial</td>\n",
       "      <td>Husband</td>\n",
       "      <td>White</td>\n",
       "      <td>Male</td>\n",
       "      <td>0</td>\n",
       "      <td>0</td>\n",
       "      <td>13</td>\n",
       "      <td>United-States</td>\n",
       "      <td>&lt;=50K</td>\n",
       "    </tr>\n",
       "    <tr>\n",
       "      <th>1</th>\n",
       "      <td>38</td>\n",
       "      <td>Private</td>\n",
       "      <td>215646</td>\n",
       "      <td>HS-grad</td>\n",
       "      <td>9</td>\n",
       "      <td>Divorced</td>\n",
       "      <td>Handlers-cleaners</td>\n",
       "      <td>Not-in-family</td>\n",
       "      <td>White</td>\n",
       "      <td>Male</td>\n",
       "      <td>0</td>\n",
       "      <td>0</td>\n",
       "      <td>40</td>\n",
       "      <td>United-States</td>\n",
       "      <td>&lt;=50K</td>\n",
       "    </tr>\n",
       "    <tr>\n",
       "      <th>2</th>\n",
       "      <td>53</td>\n",
       "      <td>Private</td>\n",
       "      <td>234721</td>\n",
       "      <td>11th</td>\n",
       "      <td>7</td>\n",
       "      <td>Married-civ-spouse</td>\n",
       "      <td>Handlers-cleaners</td>\n",
       "      <td>Husband</td>\n",
       "      <td>Black</td>\n",
       "      <td>Male</td>\n",
       "      <td>0</td>\n",
       "      <td>0</td>\n",
       "      <td>40</td>\n",
       "      <td>United-States</td>\n",
       "      <td>&lt;=50K</td>\n",
       "    </tr>\n",
       "    <tr>\n",
       "      <th>3</th>\n",
       "      <td>28</td>\n",
       "      <td>Private</td>\n",
       "      <td>338409</td>\n",
       "      <td>Bachelors</td>\n",
       "      <td>13</td>\n",
       "      <td>Married-civ-spouse</td>\n",
       "      <td>Prof-specialty</td>\n",
       "      <td>Wife</td>\n",
       "      <td>Black</td>\n",
       "      <td>Female</td>\n",
       "      <td>0</td>\n",
       "      <td>0</td>\n",
       "      <td>40</td>\n",
       "      <td>Cuba</td>\n",
       "      <td>&lt;=50K</td>\n",
       "    </tr>\n",
       "    <tr>\n",
       "      <th>4</th>\n",
       "      <td>37</td>\n",
       "      <td>Private</td>\n",
       "      <td>284582</td>\n",
       "      <td>Masters</td>\n",
       "      <td>14</td>\n",
       "      <td>Married-civ-spouse</td>\n",
       "      <td>Exec-managerial</td>\n",
       "      <td>Wife</td>\n",
       "      <td>White</td>\n",
       "      <td>Female</td>\n",
       "      <td>0</td>\n",
       "      <td>0</td>\n",
       "      <td>40</td>\n",
       "      <td>United-States</td>\n",
       "      <td>&lt;=50K</td>\n",
       "    </tr>\n",
       "  </tbody>\n",
       "</table>\n",
       "</div>"
      ],
      "text/plain": [
       "   Age         Workclass  fnlwgt  Education  Education_num  \\\n",
       "0   50  Self-emp-not-inc   83311  Bachelors             13   \n",
       "1   38           Private  215646    HS-grad              9   \n",
       "2   53           Private  234721       11th              7   \n",
       "3   28           Private  338409  Bachelors             13   \n",
       "4   37           Private  284582    Masters             14   \n",
       "\n",
       "      Maritial-Status         Occupation   Relationship   Race     Sex  \\\n",
       "0  Married-civ-spouse    Exec-managerial        Husband  White    Male   \n",
       "1            Divorced  Handlers-cleaners  Not-in-family  White    Male   \n",
       "2  Married-civ-spouse  Handlers-cleaners        Husband  Black    Male   \n",
       "3  Married-civ-spouse     Prof-specialty           Wife  Black  Female   \n",
       "4  Married-civ-spouse    Exec-managerial           Wife  White  Female   \n",
       "\n",
       "   Capital_gain  Capital_loss  Hour_per_week Native_country Income  \n",
       "0             0             0             13  United-States  <=50K  \n",
       "1             0             0             40  United-States  <=50K  \n",
       "2             0             0             40  United-States  <=50K  \n",
       "3             0             0             40           Cuba  <=50K  \n",
       "4             0             0             40  United-States  <=50K  "
      ]
     },
     "execution_count": 14,
     "metadata": {},
     "output_type": "execute_result"
    }
   ],
   "source": [
    "df_income=pd.DataFrame(df)\n",
    "df_income.head()"
   ]
  },
  {
   "cell_type": "code",
   "execution_count": 15,
   "metadata": {},
   "outputs": [
    {
     "data": {
      "text/plain": [
       "Index(['Age', 'Workclass', 'fnlwgt', 'Education', 'Education_num',\n",
       "       'Maritial-Status', 'Occupation', 'Relationship', 'Race', 'Sex',\n",
       "       'Capital_gain', 'Capital_loss', 'Hour_per_week', 'Native_country',\n",
       "       'Income'],\n",
       "      dtype='object')"
      ]
     },
     "execution_count": 15,
     "metadata": {},
     "output_type": "execute_result"
    }
   ],
   "source": [
    "df_income.columns"
   ]
  },
  {
   "cell_type": "code",
   "execution_count": 16,
   "metadata": {},
   "outputs": [
    {
     "data": {
      "text/plain": [
       "Age                 int64\n",
       "Workclass          object\n",
       "fnlwgt              int64\n",
       "Education          object\n",
       "Education_num       int64\n",
       "Maritial-Status    object\n",
       "Occupation         object\n",
       "Relationship       object\n",
       "Race               object\n",
       "Sex                object\n",
       "Capital_gain        int64\n",
       "Capital_loss        int64\n",
       "Hour_per_week       int64\n",
       "Native_country     object\n",
       "Income             object\n",
       "dtype: object"
      ]
     },
     "execution_count": 16,
     "metadata": {},
     "output_type": "execute_result"
    }
   ],
   "source": [
    "df_income.dtypes"
   ]
  },
  {
   "cell_type": "raw",
   "metadata": {},
   "source": [
    "observation:\n",
    "    Numeric Features\n",
    "    Numeric_features=[age,fnlwgt,Education_num,Capital_gain,Capital_loss,Hour_per_week]\n",
    "    \n",
    "    Categorical feature\n",
    "    Categorical feature=[workclass,Education,Maritial-status,occupation,relationship,race,sex,native_country,income]"
   ]
  },
  {
   "cell_type": "markdown",
   "metadata": {},
   "source": [
    "# For Analyzing the data with target that income we have to change income into numeric type."
   ]
  },
  {
   "cell_type": "code",
   "execution_count": 17,
   "metadata": {},
   "outputs": [
    {
     "data": {
      "text/plain": [
       "dtype('int64')"
      ]
     },
     "execution_count": 17,
     "metadata": {},
     "output_type": "execute_result"
    }
   ],
   "source": [
    "#changing the data of column target\n",
    "df_income[\"Income\"]=df_income[\"Income\"].map({'<=50K':0,'>50K':1})\n",
    "df_income[\"Income\"].dtypes"
   ]
  },
  {
   "cell_type": "code",
   "execution_count": 18,
   "metadata": {},
   "outputs": [
    {
     "data": {
      "text/plain": [
       "array([0, 1], dtype=int64)"
      ]
     },
     "execution_count": 18,
     "metadata": {},
     "output_type": "execute_result"
    }
   ],
   "source": [
    "df_income[\"Income\"].unique()"
   ]
  },
  {
   "cell_type": "raw",
   "metadata": {},
   "source": [
    "observation:\n",
    "1 is stand for greater than 50k and 0 stands for below than 50k"
   ]
  },
  {
   "cell_type": "markdown",
   "metadata": {},
   "source": [
    "# Summary Statistics"
   ]
  },
  {
   "cell_type": "code",
   "execution_count": 19,
   "metadata": {},
   "outputs": [
    {
     "data": {
      "text/html": [
       "<div>\n",
       "<style scoped>\n",
       "    .dataframe tbody tr th:only-of-type {\n",
       "        vertical-align: middle;\n",
       "    }\n",
       "\n",
       "    .dataframe tbody tr th {\n",
       "        vertical-align: top;\n",
       "    }\n",
       "\n",
       "    .dataframe thead th {\n",
       "        text-align: right;\n",
       "    }\n",
       "</style>\n",
       "<table border=\"1\" class=\"dataframe\">\n",
       "  <thead>\n",
       "    <tr style=\"text-align: right;\">\n",
       "      <th></th>\n",
       "      <th>Age</th>\n",
       "      <th>fnlwgt</th>\n",
       "      <th>Education_num</th>\n",
       "      <th>Capital_gain</th>\n",
       "      <th>Capital_loss</th>\n",
       "      <th>Hour_per_week</th>\n",
       "      <th>Income</th>\n",
       "    </tr>\n",
       "  </thead>\n",
       "  <tbody>\n",
       "    <tr>\n",
       "      <th>count</th>\n",
       "      <td>32560.000000</td>\n",
       "      <td>3.256000e+04</td>\n",
       "      <td>32560.000000</td>\n",
       "      <td>32560.000000</td>\n",
       "      <td>32560.000000</td>\n",
       "      <td>32560.000000</td>\n",
       "      <td>32560.000000</td>\n",
       "    </tr>\n",
       "    <tr>\n",
       "      <th>mean</th>\n",
       "      <td>38.581634</td>\n",
       "      <td>1.897818e+05</td>\n",
       "      <td>10.080590</td>\n",
       "      <td>1077.615172</td>\n",
       "      <td>87.306511</td>\n",
       "      <td>40.437469</td>\n",
       "      <td>0.240817</td>\n",
       "    </tr>\n",
       "    <tr>\n",
       "      <th>std</th>\n",
       "      <td>13.640642</td>\n",
       "      <td>1.055498e+05</td>\n",
       "      <td>2.572709</td>\n",
       "      <td>7385.402999</td>\n",
       "      <td>402.966116</td>\n",
       "      <td>12.347618</td>\n",
       "      <td>0.427586</td>\n",
       "    </tr>\n",
       "    <tr>\n",
       "      <th>min</th>\n",
       "      <td>17.000000</td>\n",
       "      <td>1.228500e+04</td>\n",
       "      <td>1.000000</td>\n",
       "      <td>0.000000</td>\n",
       "      <td>0.000000</td>\n",
       "      <td>1.000000</td>\n",
       "      <td>0.000000</td>\n",
       "    </tr>\n",
       "    <tr>\n",
       "      <th>25%</th>\n",
       "      <td>28.000000</td>\n",
       "      <td>1.178315e+05</td>\n",
       "      <td>9.000000</td>\n",
       "      <td>0.000000</td>\n",
       "      <td>0.000000</td>\n",
       "      <td>40.000000</td>\n",
       "      <td>0.000000</td>\n",
       "    </tr>\n",
       "    <tr>\n",
       "      <th>50%</th>\n",
       "      <td>37.000000</td>\n",
       "      <td>1.783630e+05</td>\n",
       "      <td>10.000000</td>\n",
       "      <td>0.000000</td>\n",
       "      <td>0.000000</td>\n",
       "      <td>40.000000</td>\n",
       "      <td>0.000000</td>\n",
       "    </tr>\n",
       "    <tr>\n",
       "      <th>75%</th>\n",
       "      <td>48.000000</td>\n",
       "      <td>2.370545e+05</td>\n",
       "      <td>12.000000</td>\n",
       "      <td>0.000000</td>\n",
       "      <td>0.000000</td>\n",
       "      <td>45.000000</td>\n",
       "      <td>0.000000</td>\n",
       "    </tr>\n",
       "    <tr>\n",
       "      <th>max</th>\n",
       "      <td>90.000000</td>\n",
       "      <td>1.484705e+06</td>\n",
       "      <td>16.000000</td>\n",
       "      <td>99999.000000</td>\n",
       "      <td>4356.000000</td>\n",
       "      <td>99.000000</td>\n",
       "      <td>1.000000</td>\n",
       "    </tr>\n",
       "  </tbody>\n",
       "</table>\n",
       "</div>"
      ],
      "text/plain": [
       "                Age        fnlwgt  Education_num  Capital_gain  Capital_loss  \\\n",
       "count  32560.000000  3.256000e+04   32560.000000  32560.000000  32560.000000   \n",
       "mean      38.581634  1.897818e+05      10.080590   1077.615172     87.306511   \n",
       "std       13.640642  1.055498e+05       2.572709   7385.402999    402.966116   \n",
       "min       17.000000  1.228500e+04       1.000000      0.000000      0.000000   \n",
       "25%       28.000000  1.178315e+05       9.000000      0.000000      0.000000   \n",
       "50%       37.000000  1.783630e+05      10.000000      0.000000      0.000000   \n",
       "75%       48.000000  2.370545e+05      12.000000      0.000000      0.000000   \n",
       "max       90.000000  1.484705e+06      16.000000  99999.000000   4356.000000   \n",
       "\n",
       "       Hour_per_week        Income  \n",
       "count   32560.000000  32560.000000  \n",
       "mean       40.437469      0.240817  \n",
       "std        12.347618      0.427586  \n",
       "min         1.000000      0.000000  \n",
       "25%        40.000000      0.000000  \n",
       "50%        40.000000      0.000000  \n",
       "75%        45.000000      0.000000  \n",
       "max        99.000000      1.000000  "
      ]
     },
     "execution_count": 19,
     "metadata": {},
     "output_type": "execute_result"
    }
   ],
   "source": [
    "df_income.describe()"
   ]
  },
  {
   "cell_type": "raw",
   "metadata": {},
   "source": [
    " observation:\n",
    "    1-min age is 17 years and max age is 90 years in our dataset.\n",
    "    2-min education-num is 1 and max is 16.\n",
    "    3-hour_per week min is 17 and max is 99.\n",
    "    4-In age,fnlwgt,capital_gain,capital_loss attribute mean is greater than median therefore attribute data has high skewness.\n",
    "    5-ofcourse 75% and max is higher in age,capital_gain,capital_loss,hours_per_week therefore outlier is present so we have to remove it."
   ]
  },
  {
   "cell_type": "markdown",
   "metadata": {},
   "source": [
    "# Exploring Data Variable"
   ]
  },
  {
   "cell_type": "code",
   "execution_count": 20,
   "metadata": {},
   "outputs": [
    {
     "name": "stdout",
     "output_type": "stream",
     "text": [
      "Workclass : ['Self-emp-not-inc' 'Private' 'State-gov' 'Federal-gov' 'Local-gov'\n",
      " 'Self-emp-inc' 'Without-pay' 'Never-worked']\n",
      "Private             24532\n",
      "Self-emp-not-inc     2541\n",
      "Local-gov            2093\n",
      "State-gov            1297\n",
      "Self-emp-inc         1116\n",
      "Federal-gov           960\n",
      "Without-pay            14\n",
      "Never-worked            7\n",
      "Name: Workclass, dtype: int64\n",
      "*********************************************************\n",
      "/n\n",
      "Education : ['Bachelors' 'HS-grad' '11th' 'Masters' '9th' 'Some-college' 'Assoc-acdm'\n",
      " 'Assoc-voc' '7th-8th' 'Doctorate' 'Prof-school' '5th-6th' '10th'\n",
      " '1st-4th' 'Preschool' '12th']\n",
      "HS-grad         10501\n",
      "Some-college     7291\n",
      "Bachelors        5354\n",
      "Masters          1723\n",
      "Assoc-voc        1382\n",
      "11th             1175\n",
      "Assoc-acdm       1067\n",
      "10th              933\n",
      "7th-8th           646\n",
      "Prof-school       576\n",
      "9th               514\n",
      "12th              433\n",
      "Doctorate         413\n",
      "5th-6th           333\n",
      "1st-4th           168\n",
      "Preschool          51\n",
      "Name: Education, dtype: int64\n",
      "*********************************************************\n",
      "/n\n",
      "Maritial-Status : ['Married-civ-spouse' 'Divorced' 'Married-spouse-absent' 'Never-married'\n",
      " 'Separated' 'Married-AF-spouse' 'Widowed']\n",
      "Married-civ-spouse       14976\n",
      "Never-married            10682\n",
      "Divorced                  4443\n",
      "Separated                 1025\n",
      "Widowed                    993\n",
      "Married-spouse-absent      418\n",
      "Married-AF-spouse           23\n",
      "Name: Maritial-Status, dtype: int64\n",
      "*********************************************************\n",
      "/n\n",
      "Occupation : ['Exec-managerial' 'Handlers-cleaners' 'Prof-specialty' 'Other-service'\n",
      " 'Adm-clerical' 'Sales' 'Craft-repair' 'Transport-moving'\n",
      " 'Farming-fishing' 'Machine-op-inspct' 'Tech-support' 'Protective-serv'\n",
      " 'Armed-Forces' 'Priv-house-serv']\n",
      "Prof-specialty       5983\n",
      "Craft-repair         4099\n",
      "Exec-managerial      4066\n",
      "Adm-clerical         3769\n",
      "Sales                3650\n",
      "Other-service        3295\n",
      "Machine-op-inspct    2002\n",
      "Transport-moving     1597\n",
      "Handlers-cleaners    1370\n",
      "Farming-fishing       994\n",
      "Tech-support          928\n",
      "Protective-serv       649\n",
      "Priv-house-serv       149\n",
      "Armed-Forces            9\n",
      "Name: Occupation, dtype: int64\n",
      "*********************************************************\n",
      "/n\n",
      "Relationship : ['Husband' 'Not-in-family' 'Wife' 'Own-child' 'Unmarried' 'Other-relative']\n",
      "Husband           13193\n",
      "Not-in-family      8304\n",
      "Own-child          5068\n",
      "Unmarried          3446\n",
      "Wife               1568\n",
      "Other-relative      981\n",
      "Name: Relationship, dtype: int64\n",
      "*********************************************************\n",
      "/n\n",
      "Race : ['White' 'Black' 'Asian-Pac-Islander' 'Amer-Indian-Eskimo' 'Other']\n",
      "White                 27815\n",
      "Black                  3124\n",
      "Asian-Pac-Islander     1039\n",
      "Amer-Indian-Eskimo      311\n",
      "Other                   271\n",
      "Name: Race, dtype: int64\n",
      "*********************************************************\n",
      "/n\n",
      "Sex : ['Male' 'Female']\n",
      "Male      21789\n",
      "Female    10771\n",
      "Name: Sex, dtype: int64\n",
      "*********************************************************\n",
      "/n\n",
      "Native_country : ['United-States' 'Cuba' 'Jamaica' 'India' 'Mexico' 'South' 'Puerto-Rico'\n",
      " 'Honduras' 'England' 'Canada' 'Germany' 'Iran' 'Philippines' 'Italy'\n",
      " 'Poland' 'Columbia' 'Cambodia' 'Thailand' 'Ecuador' 'Laos' 'Taiwan'\n",
      " 'Haiti' 'Portugal' 'Dominican-Republic' 'El-Salvador' 'France'\n",
      " 'Guatemala' 'China' 'Japan' 'Yugoslavia' 'Peru'\n",
      " 'Outlying-US(Guam-USVI-etc)' 'Scotland' 'Trinadad&Tobago' 'Greece'\n",
      " 'Nicaragua' 'Vietnam' 'Hong' 'Ireland' 'Hungary' 'Holand-Netherlands']\n",
      "United-States                 29752\n",
      "Mexico                          643\n",
      "Philippines                     198\n",
      "Germany                         137\n",
      "Canada                          121\n",
      "Puerto-Rico                     114\n",
      "El-Salvador                     106\n",
      "India                           100\n",
      "Cuba                             95\n",
      "England                          90\n",
      "Jamaica                          81\n",
      "South                            80\n",
      "China                            75\n",
      "Italy                            73\n",
      "Dominican-Republic               70\n",
      "Vietnam                          67\n",
      "Guatemala                        64\n",
      "Japan                            62\n",
      "Poland                           60\n",
      "Columbia                         59\n",
      "Taiwan                           51\n",
      "Haiti                            44\n",
      "Iran                             43\n",
      "Portugal                         37\n",
      "Nicaragua                        34\n",
      "Peru                             31\n",
      "Greece                           29\n",
      "France                           29\n",
      "Ecuador                          28\n",
      "Ireland                          24\n",
      "Hong                             20\n",
      "Cambodia                         19\n",
      "Trinadad&Tobago                  19\n",
      "Thailand                         18\n",
      "Laos                             18\n",
      "Yugoslavia                       16\n",
      "Outlying-US(Guam-USVI-etc)       14\n",
      "Hungary                          13\n",
      "Honduras                         13\n",
      "Scotland                         12\n",
      "Holand-Netherlands                1\n",
      "Name: Native_country, dtype: int64\n",
      "*********************************************************\n",
      "/n\n"
     ]
    }
   ],
   "source": [
    "#printing the object types and their unique values.\n",
    "for column in df_income:\n",
    "    if df_income[column].dtype==object:\n",
    "        print(str(column) + ' : '+ str(df_income[column].unique()))\n",
    "        print(df_income[column].value_counts())\n",
    "        print('*********************************************************')\n",
    "        print('/n')\n"
   ]
  },
  {
   "cell_type": "markdown",
   "metadata": {},
   "source": [
    "here we see the summary of categorical column"
   ]
  },
  {
   "cell_type": "markdown",
   "metadata": {},
   "source": [
    "# To check the correlation"
   ]
  },
  {
   "cell_type": "code",
   "execution_count": 21,
   "metadata": {},
   "outputs": [],
   "source": [
    "corr=df_income.corr()"
   ]
  },
  {
   "cell_type": "code",
   "execution_count": 22,
   "metadata": {},
   "outputs": [
    {
     "data": {
      "text/html": [
       "<div>\n",
       "<style scoped>\n",
       "    .dataframe tbody tr th:only-of-type {\n",
       "        vertical-align: middle;\n",
       "    }\n",
       "\n",
       "    .dataframe tbody tr th {\n",
       "        vertical-align: top;\n",
       "    }\n",
       "\n",
       "    .dataframe thead th {\n",
       "        text-align: right;\n",
       "    }\n",
       "</style>\n",
       "<table border=\"1\" class=\"dataframe\">\n",
       "  <thead>\n",
       "    <tr style=\"text-align: right;\">\n",
       "      <th></th>\n",
       "      <th>Age</th>\n",
       "      <th>fnlwgt</th>\n",
       "      <th>Education_num</th>\n",
       "      <th>Capital_gain</th>\n",
       "      <th>Capital_loss</th>\n",
       "      <th>Hour_per_week</th>\n",
       "      <th>Income</th>\n",
       "    </tr>\n",
       "  </thead>\n",
       "  <tbody>\n",
       "    <tr>\n",
       "      <th>Age</th>\n",
       "      <td>1.000000</td>\n",
       "      <td>-0.076646</td>\n",
       "      <td>0.036527</td>\n",
       "      <td>0.077674</td>\n",
       "      <td>0.057775</td>\n",
       "      <td>0.068756</td>\n",
       "      <td>0.234039</td>\n",
       "    </tr>\n",
       "    <tr>\n",
       "      <th>fnlwgt</th>\n",
       "      <td>-0.076646</td>\n",
       "      <td>1.000000</td>\n",
       "      <td>-0.043159</td>\n",
       "      <td>0.000437</td>\n",
       "      <td>-0.010259</td>\n",
       "      <td>-0.018770</td>\n",
       "      <td>-0.009481</td>\n",
       "    </tr>\n",
       "    <tr>\n",
       "      <th>Education_num</th>\n",
       "      <td>0.036527</td>\n",
       "      <td>-0.043159</td>\n",
       "      <td>1.000000</td>\n",
       "      <td>0.122627</td>\n",
       "      <td>0.079932</td>\n",
       "      <td>0.148127</td>\n",
       "      <td>0.335182</td>\n",
       "    </tr>\n",
       "    <tr>\n",
       "      <th>Capital_gain</th>\n",
       "      <td>0.077674</td>\n",
       "      <td>0.000437</td>\n",
       "      <td>0.122627</td>\n",
       "      <td>1.000000</td>\n",
       "      <td>-0.031614</td>\n",
       "      <td>0.078409</td>\n",
       "      <td>0.223333</td>\n",
       "    </tr>\n",
       "    <tr>\n",
       "      <th>Capital_loss</th>\n",
       "      <td>0.057775</td>\n",
       "      <td>-0.010259</td>\n",
       "      <td>0.079932</td>\n",
       "      <td>-0.031614</td>\n",
       "      <td>1.000000</td>\n",
       "      <td>0.054256</td>\n",
       "      <td>0.150523</td>\n",
       "    </tr>\n",
       "    <tr>\n",
       "      <th>Hour_per_week</th>\n",
       "      <td>0.068756</td>\n",
       "      <td>-0.018770</td>\n",
       "      <td>0.148127</td>\n",
       "      <td>0.078409</td>\n",
       "      <td>0.054256</td>\n",
       "      <td>1.000000</td>\n",
       "      <td>0.229690</td>\n",
       "    </tr>\n",
       "    <tr>\n",
       "      <th>Income</th>\n",
       "      <td>0.234039</td>\n",
       "      <td>-0.009481</td>\n",
       "      <td>0.335182</td>\n",
       "      <td>0.223333</td>\n",
       "      <td>0.150523</td>\n",
       "      <td>0.229690</td>\n",
       "      <td>1.000000</td>\n",
       "    </tr>\n",
       "  </tbody>\n",
       "</table>\n",
       "</div>"
      ],
      "text/plain": [
       "                    Age    fnlwgt  Education_num  Capital_gain  Capital_loss  \\\n",
       "Age            1.000000 -0.076646       0.036527      0.077674      0.057775   \n",
       "fnlwgt        -0.076646  1.000000      -0.043159      0.000437     -0.010259   \n",
       "Education_num  0.036527 -0.043159       1.000000      0.122627      0.079932   \n",
       "Capital_gain   0.077674  0.000437       0.122627      1.000000     -0.031614   \n",
       "Capital_loss   0.057775 -0.010259       0.079932     -0.031614      1.000000   \n",
       "Hour_per_week  0.068756 -0.018770       0.148127      0.078409      0.054256   \n",
       "Income         0.234039 -0.009481       0.335182      0.223333      0.150523   \n",
       "\n",
       "               Hour_per_week    Income  \n",
       "Age                 0.068756  0.234039  \n",
       "fnlwgt             -0.018770 -0.009481  \n",
       "Education_num       0.148127  0.335182  \n",
       "Capital_gain        0.078409  0.223333  \n",
       "Capital_loss        0.054256  0.150523  \n",
       "Hour_per_week       1.000000  0.229690  \n",
       "Income              0.229690  1.000000  "
      ]
     },
     "execution_count": 22,
     "metadata": {},
     "output_type": "execute_result"
    }
   ],
   "source": [
    "corr"
   ]
  },
  {
   "cell_type": "raw",
   "metadata": {},
   "source": [
    "Here we can see the coorelation between the column.\n",
    "for better understanding we have to visiulization."
   ]
  },
  {
   "cell_type": "code",
   "execution_count": 23,
   "metadata": {},
   "outputs": [
    {
     "data": {
      "image/png": "[encoded data removed]",
      "text/plain": [
       "<Figure size 576x432 with 2 Axes>"
      ]
     },
     "metadata": {
      "needs_background": "light"
     },
     "output_type": "display_data"
    }
   ],
   "source": [
    "plt.figure(figsize=(8,6))\n",
    "sns.heatmap(corr,annot=True,fmt='.0%',cmap='Blues')\n",
    "plt.show()"
   ]
  },
  {
   "cell_type": "code",
   "execution_count": 24,
   "metadata": {},
   "outputs": [
    {
     "data": {
      "text/plain": [
       "Text(0.5, 1.0, 'Correlation with target Variable')"
      ]
     },
     "execution_count": 24,
     "metadata": {},
     "output_type": "execute_result"
    },
    {
     "data": {
      "image/png": "[encoded data removed]",
      "text/plain": [
       "<Figure size 576x432 with 1 Axes>"
      ]
     },
     "metadata": {
      "needs_background": "light"
     },
     "output_type": "display_data"
    }
   ],
   "source": [
    "plt.figure(figsize=(8,6))\n",
    "df_income.drop('Income',axis=1).corrwith(df_income['Income']).plot(kind=\"bar\",grid=True)\n",
    "plt.xticks(rotation=20)\n",
    "plt.title(\"Correlation with target Variable\")\n"
   ]
  },
  {
   "cell_type": "raw",
   "metadata": {},
   "source": [
    "fnlwgt is negatively correlated with target variable.\n",
    "education_num is highly correlated with target variable amoung all inputs variable."
   ]
  },
  {
   "cell_type": "markdown",
   "metadata": {},
   "source": [
    "# Data visualization"
   ]
  },
  {
   "cell_type": "markdown",
   "metadata": {},
   "source": [
    "our feature variable of intrest is home\n",
    "it refers to the monthly income of people\n",
    "we already change the integer value as it contain only two number 0 and 1\n",
    "1 stands for greater 50k\n",
    "0 stands for less than 50k"
   ]
  },
  {
   "cell_type": "markdown",
   "metadata": {},
   "source": [
    "# Univariate Analysis"
   ]
  },
  {
   "cell_type": "code",
   "execution_count": 25,
   "metadata": {},
   "outputs": [
    {
     "data": {
      "image/png": "[encoded data removed]",
      "text/plain": [
       "<Figure size 432x288 with 1 Axes>"
      ]
     },
     "metadata": {
      "needs_background": "light"
     },
     "output_type": "display_data"
    },
    {
     "name": "stdout",
     "output_type": "stream",
     "text": [
      "0    24719\n",
      "1     7841\n",
      "Name: Income, dtype: int64\n"
     ]
    }
   ],
   "source": [
    "#checking income count of people\n",
    "plt.subplots(figsize=(6,4))\n",
    "sns.countplot(x='Income',data=df_income)\n",
    "plt.title(\"Income count of people\")\n",
    "plt.xlabel('0=<=50k and 1=>50k')\n",
    "plt.ylabel('Income count')\n",
    "plt.show()\n",
    "\n",
    "\n",
    "print(df_income.Income.value_counts())"
   ]
  },
  {
   "cell_type": "raw",
   "metadata": {},
   "source": [
    "observation:\n",
    "24719 peoples income is less than equal to 50k\n",
    "7841 people income is more than equal 50k"
   ]
  },
  {
   "cell_type": "code",
   "execution_count": 26,
   "metadata": {},
   "outputs": [
    {
     "data": {
      "image/png": "[encoded data removed]",
      "text/plain": [
       "<Figure size 432x288 with 1 Axes>"
      ]
     },
     "metadata": {
      "needs_background": "light"
     },
     "output_type": "display_data"
    },
    {
     "name": "stdout",
     "output_type": "stream",
     "text": [
      "Male      21789\n",
      "Female    10771\n",
      "Name: Sex, dtype: int64\n"
     ]
    }
   ],
   "source": [
    "#checking the number of male and female\n",
    "plt.subplots(figsize=(6,4))\n",
    "sns.countplot(x=\"Sex\",data=df_income)\n",
    "plt.title(\"Number of Male and Female\")\n",
    "plt.show()\n",
    "print(df_income.Sex.value_counts())"
   ]
  },
  {
   "cell_type": "raw",
   "metadata": {},
   "source": [
    "Observation:\n",
    "    21789 number of males and 10771 female"
   ]
  },
  {
   "cell_type": "code",
   "execution_count": 27,
   "metadata": {},
   "outputs": [
    {
     "data": {
      "text/plain": [
       "36    898\n",
       "31    888\n",
       "34    886\n",
       "23    877\n",
       "35    876\n",
       "     ... \n",
       "83      6\n",
       "85      3\n",
       "88      3\n",
       "87      1\n",
       "86      1\n",
       "Name: Age, Length: 73, dtype: int64"
      ]
     },
     "execution_count": 27,
     "metadata": {},
     "output_type": "execute_result"
    }
   ],
   "source": [
    "df_income.Age.value_counts()"
   ]
  },
  {
   "cell_type": "raw",
   "metadata": {},
   "source": [
    "maximun people is age of 36 that is 898\n",
    "only one people age is 87,86\n",
    "there is 3of 88 which is highest age in data set"
   ]
  },
  {
   "cell_type": "code",
   "execution_count": 28,
   "metadata": {},
   "outputs": [
    {
     "data": {
      "image/png": "[encoded data removed]",
      "text/plain": [
       "<Figure size 720x432 with 1 Axes>"
      ]
     },
     "metadata": {
      "needs_background": "light"
     },
     "output_type": "display_data"
    }
   ],
   "source": [
    "#Maritial status of people\n",
    "plt.subplots(figsize=(10,6))\n",
    "sns.countplot(x=\"Maritial-Status\",data=df_income)\n",
    "plt.title(\"Number of people Maritial Status\")\n",
    "plt.xticks(rotation=20)\n",
    "plt.show()\n",
    "\n"
   ]
  },
  {
   "cell_type": "raw",
   "metadata": {},
   "source": [
    "Maximum people are married "
   ]
  },
  {
   "cell_type": "code",
   "execution_count": 29,
   "metadata": {},
   "outputs": [
    {
     "data": {
      "image/png": "[encoded data removed]",
      "text/plain": [
       "<Figure size 720x432 with 1 Axes>"
      ]
     },
     "metadata": {
      "needs_background": "light"
     },
     "output_type": "display_data"
    },
    {
     "name": "stdout",
     "output_type": "stream",
     "text": [
      "Private             24532\n",
      "Self-emp-not-inc     2541\n",
      "Local-gov            2093\n",
      "State-gov            1297\n",
      "Self-emp-inc         1116\n",
      "Federal-gov           960\n",
      "Without-pay            14\n",
      "Never-worked            7\n",
      "Name: Workclass, dtype: int64\n"
     ]
    }
   ],
   "source": [
    "#workclass of people\n",
    "plt.figure(figsize=(10,6))\n",
    "sns.countplot(x=\"Workclass\",data=df_income)\n",
    "plt.title(\"Number of People Workclass\")\n",
    "plt.xticks(rotation=10)\n",
    "plt.show()\n",
    "print(df_income.Workclass.value_counts())"
   ]
  },
  {
   "cell_type": "raw",
   "metadata": {},
   "source": [
    "Findings:\n",
    "    Above the workclass of people\n",
    "    24532 people are working in priovate job\n",
    "    2541 are self emp-not-inc\n",
    "    2093 local-gov\n",
    "    1297 for state gov\n",
    "    7 people are never worked"
   ]
  },
  {
   "cell_type": "code",
   "execution_count": 30,
   "metadata": {},
   "outputs": [
    {
     "data": {
      "image/png": "[encoded data removed]",
      "text/plain": [
       "<Figure size 720x432 with 1 Axes>"
      ]
     },
     "metadata": {
      "needs_background": "light"
     },
     "output_type": "display_data"
    },
    {
     "name": "stdout",
     "output_type": "stream",
     "text": [
      "Husband           13193\n",
      "Not-in-family      8304\n",
      "Own-child          5068\n",
      "Unmarried          3446\n",
      "Wife               1568\n",
      "Other-relative      981\n",
      "Name: Relationship, dtype: int64\n"
     ]
    }
   ],
   "source": [
    "plt.figure(figsize=(10,6))\n",
    "sns.countplot(x=\"Relationship\",data=df_income)\n",
    "plt.title(\"Number of people in relationship\")\n",
    "plt.xticks(rotation=10)\n",
    "plt.show()\n",
    "\n",
    "print(df_income.Relationship.value_counts())"
   ]
  },
  {
   "cell_type": "code",
   "execution_count": 31,
   "metadata": {},
   "outputs": [
    {
     "data": {
      "image/png": "[encoded data removed]",
      "text/plain": [
       "<Figure size 720x432 with 1 Axes>"
      ]
     },
     "metadata": {
      "needs_background": "light"
     },
     "output_type": "display_data"
    },
    {
     "name": "stdout",
     "output_type": "stream",
     "text": [
      "HS-grad         10501\n",
      "Some-college     7291\n",
      "Bachelors        5354\n",
      "Masters          1723\n",
      "Assoc-voc        1382\n",
      "11th             1175\n",
      "Assoc-acdm       1067\n",
      "10th              933\n",
      "7th-8th           646\n",
      "Prof-school       576\n",
      "9th               514\n",
      "12th              433\n",
      "Doctorate         413\n",
      "5th-6th           333\n",
      "1st-4th           168\n",
      "Preschool          51\n",
      "Name: Education, dtype: int64\n"
     ]
    }
   ],
   "source": [
    "plt.figure(figsize=(10,6))\n",
    "sns.countplot(x=\"Education\",data=df_income)\n",
    "plt.title(\"Number of people Educated\")\n",
    "plt.xticks(rotation=20)\n",
    "plt.show()\n",
    "print(df_income.Education.value_counts())"
   ]
  },
  {
   "cell_type": "code",
   "execution_count": 32,
   "metadata": {},
   "outputs": [
    {
     "data": {
      "image/png": "[encoded data removed]",
      "text/plain": [
       "<Figure size 432x288 with 1 Axes>"
      ]
     },
     "metadata": {
      "needs_background": "light"
     },
     "output_type": "display_data"
    }
   ],
   "source": [
    "#checking numper per hour week\n",
    "df_income[\"Hour_per_week\"].hist()\n",
    "plt.xlabel(\"hour per week\")\n",
    "plt.ylabel(\"hour\")\n",
    "plt.title(\"People of doing number of week\")\n",
    "plt.show()"
   ]
  },
  {
   "cell_type": "raw",
   "metadata": {},
   "source": [
    "approx 30 to 40 hours 17500 people works"
   ]
  },
  {
   "cell_type": "markdown",
   "metadata": {},
   "source": [
    "# Bivarate Analysis"
   ]
  },
  {
   "cell_type": "code",
   "execution_count": 33,
   "metadata": {},
   "outputs": [
    {
     "data": {
      "image/png": "[encoded data removed]",
      "text/plain": [
       "<Figure size 432x216 with 2 Axes>"
      ]
     },
     "metadata": {
      "needs_background": "light"
     },
     "output_type": "display_data"
    }
   ],
   "source": [
    "facet=sns.FacetGrid(df_income,col=\"Income\")\n",
    "facet.map(sns.distplot,\"Age\")\n",
    "plt.show()"
   ]
  },
  {
   "cell_type": "markdown",
   "metadata": {},
   "source": [
    "# Sex vs Income"
   ]
  },
  {
   "cell_type": "code",
   "execution_count": 34,
   "metadata": {},
   "outputs": [
    {
     "data": {
      "image/png": "[encoded data removed]",
      "text/plain": [
       "<Figure size 432x288 with 1 Axes>"
      ]
     },
     "metadata": {
      "needs_background": "light"
     },
     "output_type": "display_data"
    },
    {
     "name": "stdout",
     "output_type": "stream",
     "text": [
      "Sex     Income\n",
      "Female  0          9592\n",
      "        1          1179\n",
      "Male    0         15127\n",
      "        1          6662\n",
      "Name: Income, dtype: int64\n"
     ]
    }
   ],
   "source": [
    "sns.countplot(x=\"Sex\",hue=\"Income\",data=df_income)\n",
    "plt.title(\"Salary count according to the sex\")\n",
    "plt.xlabel('0=<=50k and 1= >50k')\n",
    "plt.ylabel('Counting of people')\n",
    "plt.show()\n",
    "\n",
    "print(df_income.groupby('Sex')['Income'].value_counts())"
   ]
  },
  {
   "cell_type": "markdown",
   "metadata": {},
   "source": [
    "# Education vs income"
   ]
  },
  {
   "cell_type": "code",
   "execution_count": 35,
   "metadata": {},
   "outputs": [
    {
     "data": {
      "image/png": "[encoded data removed]",
      "text/plain": [
       "<Figure size 1296x576 with 1 Axes>"
      ]
     },
     "metadata": {
      "needs_background": "light"
     },
     "output_type": "display_data"
    },
    {
     "name": "stdout",
     "output_type": "stream",
     "text": [
      "Education     Income\n",
      "10th          0          871\n",
      "              1           62\n",
      "11th          0         1115\n",
      "              1           60\n",
      "12th          0          400\n",
      "              1           33\n",
      "1st-4th       0          162\n",
      "              1            6\n",
      "5th-6th       0          317\n",
      "              1           16\n",
      "7th-8th       0          606\n",
      "              1           40\n",
      "9th           0          487\n",
      "              1           27\n",
      "Assoc-acdm    0          802\n",
      "              1          265\n",
      "Assoc-voc     0         1021\n",
      "              1          361\n",
      "Bachelors     0         3133\n",
      "              1         2221\n",
      "Doctorate     1          306\n",
      "              0          107\n",
      "HS-grad       0         8826\n",
      "              1         1675\n",
      "Masters       1          959\n",
      "              0          764\n",
      "Preschool     0           51\n",
      "Prof-school   1          423\n",
      "              0          153\n",
      "Some-college  0         5904\n",
      "              1         1387\n",
      "Name: Income, dtype: int64\n"
     ]
    }
   ],
   "source": [
    "plt.subplots(figsize=(18,8))\n",
    "sns.countplot(x=\"Education\",hue=\"Income\",data=df_income)\n",
    "plt.title(\"Salary count according to the education\")\n",
    "plt.xlabel(\"0=<=50k and 1= >50k\" )\n",
    "plt.ylabel(\"Comting of people\")\n",
    "plt.show()\n",
    "\n",
    "print(df_income.groupby(\"Education\")[\"Income\"].value_counts())"
   ]
  },
  {
   "cell_type": "markdown",
   "metadata": {},
   "source": [
    "# Cheking skewness"
   ]
  },
  {
   "cell_type": "code",
   "execution_count": 36,
   "metadata": {},
   "outputs": [
    {
     "data": {
      "text/plain": [
       "Age               0.558738\n",
       "fnlwgt            1.446972\n",
       "Education_num    -0.311630\n",
       "Capital_gain     11.953690\n",
       "Capital_loss      4.594549\n",
       "Hour_per_week     0.227636\n",
       "Income            1.212383\n",
       "dtype: float64"
      ]
     },
     "execution_count": 36,
     "metadata": {},
     "output_type": "execute_result"
    }
   ],
   "source": [
    "df_income.skew()"
   ]
  },
  {
   "cell_type": "code",
   "execution_count": 37,
   "metadata": {},
   "outputs": [],
   "source": [
    "#treating skewness via square root method and cube root method\n",
    "df_income.skew()\n",
    "for col in df_income.skew().index:\n",
    "    if col in df_income.describe().columns:\n",
    "        if df_income[col].skew()>0.55:\n",
    "            df_income[col]=np.sqrt(df_income[col])\n",
    "        if df_income[col].skew()<0.55:\n",
    "            df_income[col]=np.cbrt(df_income[col])\n",
    "        "
   ]
  },
  {
   "cell_type": "markdown",
   "metadata": {},
   "source": [
    "# Converting categorical data into Numeric variable"
   ]
  },
  {
   "cell_type": "code",
   "execution_count": 38,
   "metadata": {},
   "outputs": [],
   "source": [
    "#transforing non numeric column into numeric column\n",
    "from sklearn.preprocessing import LabelEncoder\n",
    "le=LabelEncoder()\n",
    "for column in df_income.columns:\n",
    "    if df_income[column].dtypes==np.number:\n",
    "        continue\n",
    "    df_income[column]=le.fit_transform(df_income[column])"
   ]
  },
  {
   "cell_type": "code",
   "execution_count": 39,
   "metadata": {},
   "outputs": [
    {
     "data": {
      "text/html": [
       "<div>\n",
       "<style scoped>\n",
       "    .dataframe tbody tr th:only-of-type {\n",
       "        vertical-align: middle;\n",
       "    }\n",
       "\n",
       "    .dataframe tbody tr th {\n",
       "        vertical-align: top;\n",
       "    }\n",
       "\n",
       "    .dataframe thead th {\n",
       "        text-align: right;\n",
       "    }\n",
       "</style>\n",
       "<table border=\"1\" class=\"dataframe\">\n",
       "  <thead>\n",
       "    <tr style=\"text-align: right;\">\n",
       "      <th></th>\n",
       "      <th>Age</th>\n",
       "      <th>Workclass</th>\n",
       "      <th>fnlwgt</th>\n",
       "      <th>Education</th>\n",
       "      <th>Education_num</th>\n",
       "      <th>Maritial-Status</th>\n",
       "      <th>Occupation</th>\n",
       "      <th>Relationship</th>\n",
       "      <th>Race</th>\n",
       "      <th>Sex</th>\n",
       "      <th>Capital_gain</th>\n",
       "      <th>Capital_loss</th>\n",
       "      <th>Hour_per_week</th>\n",
       "      <th>Native_country</th>\n",
       "      <th>Income</th>\n",
       "    </tr>\n",
       "  </thead>\n",
       "  <tbody>\n",
       "    <tr>\n",
       "      <th>0</th>\n",
       "      <td>1.919383</td>\n",
       "      <td>5</td>\n",
       "      <td>6.608716</td>\n",
       "      <td>9</td>\n",
       "      <td>2.351335</td>\n",
       "      <td>2</td>\n",
       "      <td>3</td>\n",
       "      <td>0</td>\n",
       "      <td>4</td>\n",
       "      <td>1</td>\n",
       "      <td>0.0</td>\n",
       "      <td>0.0</td>\n",
       "      <td>2.351335</td>\n",
       "      <td>38</td>\n",
       "      <td>0.0</td>\n",
       "    </tr>\n",
       "    <tr>\n",
       "      <th>1</th>\n",
       "      <td>1.833569</td>\n",
       "      <td>3</td>\n",
       "      <td>7.743849</td>\n",
       "      <td>11</td>\n",
       "      <td>2.080084</td>\n",
       "      <td>0</td>\n",
       "      <td>5</td>\n",
       "      <td>1</td>\n",
       "      <td>4</td>\n",
       "      <td>1</td>\n",
       "      <td>0.0</td>\n",
       "      <td>0.0</td>\n",
       "      <td>3.419952</td>\n",
       "      <td>38</td>\n",
       "      <td>0.0</td>\n",
       "    </tr>\n",
       "    <tr>\n",
       "      <th>2</th>\n",
       "      <td>1.938114</td>\n",
       "      <td>3</td>\n",
       "      <td>7.854020</td>\n",
       "      <td>1</td>\n",
       "      <td>1.912931</td>\n",
       "      <td>2</td>\n",
       "      <td>5</td>\n",
       "      <td>0</td>\n",
       "      <td>2</td>\n",
       "      <td>1</td>\n",
       "      <td>0.0</td>\n",
       "      <td>0.0</td>\n",
       "      <td>3.419952</td>\n",
       "      <td>38</td>\n",
       "      <td>0.0</td>\n",
       "    </tr>\n",
       "    <tr>\n",
       "      <th>3</th>\n",
       "      <td>1.742581</td>\n",
       "      <td>3</td>\n",
       "      <td>8.347831</td>\n",
       "      <td>9</td>\n",
       "      <td>2.351335</td>\n",
       "      <td>2</td>\n",
       "      <td>9</td>\n",
       "      <td>5</td>\n",
       "      <td>2</td>\n",
       "      <td>0</td>\n",
       "      <td>0.0</td>\n",
       "      <td>0.0</td>\n",
       "      <td>3.419952</td>\n",
       "      <td>4</td>\n",
       "      <td>0.0</td>\n",
       "    </tr>\n",
       "    <tr>\n",
       "      <th>4</th>\n",
       "      <td>1.825437</td>\n",
       "      <td>3</td>\n",
       "      <td>8.110256</td>\n",
       "      <td>12</td>\n",
       "      <td>2.410142</td>\n",
       "      <td>2</td>\n",
       "      <td>3</td>\n",
       "      <td>5</td>\n",
       "      <td>4</td>\n",
       "      <td>0</td>\n",
       "      <td>0.0</td>\n",
       "      <td>0.0</td>\n",
       "      <td>3.419952</td>\n",
       "      <td>38</td>\n",
       "      <td>0.0</td>\n",
       "    </tr>\n",
       "  </tbody>\n",
       "</table>\n",
       "</div>"
      ],
      "text/plain": [
       "        Age  Workclass    fnlwgt  Education  Education_num  Maritial-Status  \\\n",
       "0  1.919383          5  6.608716          9       2.351335                2   \n",
       "1  1.833569          3  7.743849         11       2.080084                0   \n",
       "2  1.938114          3  7.854020          1       1.912931                2   \n",
       "3  1.742581          3  8.347831          9       2.351335                2   \n",
       "4  1.825437          3  8.110256         12       2.410142                2   \n",
       "\n",
       "   Occupation  Relationship  Race  Sex  Capital_gain  Capital_loss  \\\n",
       "0           3             0     4    1           0.0           0.0   \n",
       "1           5             1     4    1           0.0           0.0   \n",
       "2           5             0     2    1           0.0           0.0   \n",
       "3           9             5     2    0           0.0           0.0   \n",
       "4           3             5     4    0           0.0           0.0   \n",
       "\n",
       "   Hour_per_week  Native_country  Income  \n",
       "0       2.351335              38     0.0  \n",
       "1       3.419952              38     0.0  \n",
       "2       3.419952              38     0.0  \n",
       "3       3.419952               4     0.0  \n",
       "4       3.419952              38     0.0  "
      ]
     },
     "execution_count": 39,
     "metadata": {},
     "output_type": "execute_result"
    }
   ],
   "source": [
    "df_income.head()"
   ]
  },
  {
   "cell_type": "markdown",
   "metadata": {},
   "source": [
    "# Plotting outliers:"
   ]
  },
  {
   "cell_type": "code",
   "execution_count": 40,
   "metadata": {},
   "outputs": [
    {
     "data": {
      "text/plain": [
       "<matplotlib.axes._subplots.AxesSubplot at 0xa867640>"
      ]
     },
     "execution_count": 40,
     "metadata": {},
     "output_type": "execute_result"
    },
    {
     "data": {
      "image/png": "[encoded data removed]",
      "text/plain": [
       "<Figure size 432x288 with 1 Axes>"
      ]
     },
     "metadata": {
      "needs_background": "light"
     },
     "output_type": "display_data"
    }
   ],
   "source": [
    "df_income[\"Age\"].plot.box()"
   ]
  },
  {
   "cell_type": "code",
   "execution_count": 41,
   "metadata": {},
   "outputs": [
    {
     "data": {
      "text/plain": [
       "<matplotlib.axes._subplots.AxesSubplot at 0x9c237d8>"
      ]
     },
     "execution_count": 41,
     "metadata": {},
     "output_type": "execute_result"
    },
    {
     "data": {
      "image/png": "[encoded data removed]",
      "text/plain": [
       "<Figure size 432x288 with 1 Axes>"
      ]
     },
     "metadata": {
      "needs_background": "light"
     },
     "output_type": "display_data"
    }
   ],
   "source": [
    "df[\"Hour_per_week\"].plot.box()"
   ]
  },
  {
   "cell_type": "raw",
   "metadata": {},
   "source": [
    "observation:\n",
    "    There are some outliers present in dataset."
   ]
  },
  {
   "cell_type": "markdown",
   "metadata": {},
   "source": [
    "# Removing outlier"
   ]
  },
  {
   "cell_type": "code",
   "execution_count": 42,
   "metadata": {},
   "outputs": [
    {
     "data": {
      "text/plain": [
       "array([[0.89173505, 1.72133587, 1.06991994, ..., 2.59368713, 0.26137428,\n",
       "        0.5632099 ],\n",
       "       [0.10461133, 0.08522344, 0.44809231, ..., 0.07877413, 0.26137428,\n",
       "        0.5632099 ],\n",
       "       [1.06354264, 0.08522344, 0.59542287, ..., 0.07877413, 0.26137428,\n",
       "        0.5632099 ],\n",
       "       ...,\n",
       "       [1.33266535, 0.08522344, 0.1392861 , ..., 0.07877413, 0.26137428,\n",
       "        0.5632099 ],\n",
       "       [1.35967324, 0.08522344, 0.3315621 , ..., 1.68566782, 0.26137428,\n",
       "        0.5632099 ],\n",
       "       [1.00719481, 0.81805622, 0.95923104, ..., 0.07877413, 0.26137428,\n",
       "        1.77553698]])"
      ]
     },
     "execution_count": 42,
     "metadata": {},
     "output_type": "execute_result"
    }
   ],
   "source": [
    "from scipy.stats import zscore\n",
    "z=np.abs(zscore(df_income))\n",
    "z"
   ]
  },
  {
   "cell_type": "code",
   "execution_count": 43,
   "metadata": {},
   "outputs": [
    {
     "name": "stdout",
     "output_type": "stream",
     "text": [
      "(array([    3,     7,    10, ..., 32550, 32552, 32559], dtype=int32), array([13, 10,  8, ...,  8,  8, 10], dtype=int32))\n"
     ]
    }
   ],
   "source": [
    "threshold=3\n",
    "print(np.where(z>3))"
   ]
  },
  {
   "cell_type": "code",
   "execution_count": 44,
   "metadata": {},
   "outputs": [],
   "source": [
    "new_income=df_income[(z<3).all(axis=1)]"
   ]
  },
  {
   "cell_type": "code",
   "execution_count": 45,
   "metadata": {},
   "outputs": [
    {
     "name": "stdout",
     "output_type": "stream",
     "text": [
      "(32560, 15) \t\t (27065, 15)\n"
     ]
    }
   ],
   "source": [
    "print(df_income.shape ,'\\t\\t',new_income.shape)"
   ]
  },
  {
   "cell_type": "markdown",
   "metadata": {},
   "source": [
    "# Model Traning"
   ]
  },
  {
   "cell_type": "code",
   "execution_count": 46,
   "metadata": {},
   "outputs": [
    {
     "data": {
      "text/html": [
       "<div>\n",
       "<style scoped>\n",
       "    .dataframe tbody tr th:only-of-type {\n",
       "        vertical-align: middle;\n",
       "    }\n",
       "\n",
       "    .dataframe tbody tr th {\n",
       "        vertical-align: top;\n",
       "    }\n",
       "\n",
       "    .dataframe thead th {\n",
       "        text-align: right;\n",
       "    }\n",
       "</style>\n",
       "<table border=\"1\" class=\"dataframe\">\n",
       "  <thead>\n",
       "    <tr style=\"text-align: right;\">\n",
       "      <th></th>\n",
       "      <th>Age</th>\n",
       "      <th>Workclass</th>\n",
       "      <th>fnlwgt</th>\n",
       "      <th>Education</th>\n",
       "      <th>Education_num</th>\n",
       "      <th>Maritial-Status</th>\n",
       "      <th>Occupation</th>\n",
       "      <th>Relationship</th>\n",
       "      <th>Race</th>\n",
       "      <th>Sex</th>\n",
       "      <th>Capital_gain</th>\n",
       "      <th>Capital_loss</th>\n",
       "      <th>Hour_per_week</th>\n",
       "      <th>Native_country</th>\n",
       "      <th>Income</th>\n",
       "    </tr>\n",
       "  </thead>\n",
       "  <tbody>\n",
       "    <tr>\n",
       "      <th>0</th>\n",
       "      <td>1.919383</td>\n",
       "      <td>5</td>\n",
       "      <td>6.608716</td>\n",
       "      <td>9</td>\n",
       "      <td>2.351335</td>\n",
       "      <td>2</td>\n",
       "      <td>3</td>\n",
       "      <td>0</td>\n",
       "      <td>4</td>\n",
       "      <td>1</td>\n",
       "      <td>0.0</td>\n",
       "      <td>0.0</td>\n",
       "      <td>2.351335</td>\n",
       "      <td>38</td>\n",
       "      <td>0.0</td>\n",
       "    </tr>\n",
       "    <tr>\n",
       "      <th>1</th>\n",
       "      <td>1.833569</td>\n",
       "      <td>3</td>\n",
       "      <td>7.743849</td>\n",
       "      <td>11</td>\n",
       "      <td>2.080084</td>\n",
       "      <td>0</td>\n",
       "      <td>5</td>\n",
       "      <td>1</td>\n",
       "      <td>4</td>\n",
       "      <td>1</td>\n",
       "      <td>0.0</td>\n",
       "      <td>0.0</td>\n",
       "      <td>3.419952</td>\n",
       "      <td>38</td>\n",
       "      <td>0.0</td>\n",
       "    </tr>\n",
       "    <tr>\n",
       "      <th>2</th>\n",
       "      <td>1.938114</td>\n",
       "      <td>3</td>\n",
       "      <td>7.854020</td>\n",
       "      <td>1</td>\n",
       "      <td>1.912931</td>\n",
       "      <td>2</td>\n",
       "      <td>5</td>\n",
       "      <td>0</td>\n",
       "      <td>2</td>\n",
       "      <td>1</td>\n",
       "      <td>0.0</td>\n",
       "      <td>0.0</td>\n",
       "      <td>3.419952</td>\n",
       "      <td>38</td>\n",
       "      <td>0.0</td>\n",
       "    </tr>\n",
       "    <tr>\n",
       "      <th>4</th>\n",
       "      <td>1.825437</td>\n",
       "      <td>3</td>\n",
       "      <td>8.110256</td>\n",
       "      <td>12</td>\n",
       "      <td>2.410142</td>\n",
       "      <td>2</td>\n",
       "      <td>3</td>\n",
       "      <td>5</td>\n",
       "      <td>4</td>\n",
       "      <td>0</td>\n",
       "      <td>0.0</td>\n",
       "      <td>0.0</td>\n",
       "      <td>3.419952</td>\n",
       "      <td>38</td>\n",
       "      <td>0.0</td>\n",
       "    </tr>\n",
       "    <tr>\n",
       "      <th>5</th>\n",
       "      <td>1.912931</td>\n",
       "      <td>3</td>\n",
       "      <td>7.369498</td>\n",
       "      <td>6</td>\n",
       "      <td>1.709976</td>\n",
       "      <td>3</td>\n",
       "      <td>7</td>\n",
       "      <td>1</td>\n",
       "      <td>2</td>\n",
       "      <td>0</td>\n",
       "      <td>0.0</td>\n",
       "      <td>0.0</td>\n",
       "      <td>2.519842</td>\n",
       "      <td>22</td>\n",
       "      <td>0.0</td>\n",
       "    </tr>\n",
       "  </tbody>\n",
       "</table>\n",
       "</div>"
      ],
      "text/plain": [
       "        Age  Workclass    fnlwgt  Education  Education_num  Maritial-Status  \\\n",
       "0  1.919383          5  6.608716          9       2.351335                2   \n",
       "1  1.833569          3  7.743849         11       2.080084                0   \n",
       "2  1.938114          3  7.854020          1       1.912931                2   \n",
       "4  1.825437          3  8.110256         12       2.410142                2   \n",
       "5  1.912931          3  7.369498          6       1.709976                3   \n",
       "\n",
       "   Occupation  Relationship  Race  Sex  Capital_gain  Capital_loss  \\\n",
       "0           3             0     4    1           0.0           0.0   \n",
       "1           5             1     4    1           0.0           0.0   \n",
       "2           5             0     2    1           0.0           0.0   \n",
       "4           3             5     4    0           0.0           0.0   \n",
       "5           7             1     2    0           0.0           0.0   \n",
       "\n",
       "   Hour_per_week  Native_country  Income  \n",
       "0       2.351335              38     0.0  \n",
       "1       3.419952              38     0.0  \n",
       "2       3.419952              38     0.0  \n",
       "4       3.419952              38     0.0  \n",
       "5       2.519842              22     0.0  "
      ]
     },
     "execution_count": 46,
     "metadata": {},
     "output_type": "execute_result"
    }
   ],
   "source": [
    "new_income.head()"
   ]
  },
  {
   "cell_type": "code",
   "execution_count": 47,
   "metadata": {},
   "outputs": [],
   "source": [
    "x=new_income.drop(columns=[\"Income\"],axis=1)\n"
   ]
  },
  {
   "cell_type": "code",
   "execution_count": 48,
   "metadata": {},
   "outputs": [
    {
     "data": {
      "text/plain": [
       "0    0.0\n",
       "1    0.0\n",
       "2    0.0\n",
       "4    0.0\n",
       "5    0.0\n",
       "Name: Income, dtype: float64"
      ]
     },
     "execution_count": 48,
     "metadata": {},
     "output_type": "execute_result"
    }
   ],
   "source": [
    "y=new_income[\"Income\"]\n",
    "y.head()"
   ]
  },
  {
   "cell_type": "code",
   "execution_count": 49,
   "metadata": {},
   "outputs": [],
   "source": [
    "#saclinmg the shape of input and target variable\n",
    "from sklearn.preprocessing import StandardScaler\n",
    "sc=StandardScaler()\n",
    "scaledx=sc.fit_transform(x)"
   ]
  },
  {
   "cell_type": "code",
   "execution_count": 50,
   "metadata": {},
   "outputs": [],
   "source": [
    "#spitting the data into training and testing"
   ]
  },
  {
   "cell_type": "code",
   "execution_count": 51,
   "metadata": {},
   "outputs": [],
   "source": [
    "from sklearn.model_selection import train_test_split\n",
    "x_train,x_test,y_train,y_test=train_test_split(scaledx,y,test_size=.20,random_state=42,stratify=y)"
   ]
  },
  {
   "cell_type": "code",
   "execution_count": 52,
   "metadata": {},
   "outputs": [],
   "source": [
    "#importing all the  model librabry\n",
    "from sklearn.linear_model import LogisticRegression\n",
    "from sklearn.naive_bayes import GaussianNB\n",
    "from sklearn.svm import SVC\n",
    "from sklearn.tree import DecisionTreeClassifier\n",
    "from sklearn.neighbors import KNeighborsClassifier\n",
    "\n",
    "#importing error library\n",
    "from sklearn.metrics import accuracy_score,confusion_matrix,classification_report\n",
    "from sklearn.model_selection import GridSearchCV,cross_val_score\n"
   ]
  },
  {
   "cell_type": "markdown",
   "metadata": {},
   "source": [
    "# Finding Best Parameter"
   ]
  },
  {
   "cell_type": "code",
   "execution_count": 53,
   "metadata": {},
   "outputs": [
    {
     "name": "stdout",
     "output_type": "stream",
     "text": [
      "{'C': 1, 'random_state': 42}\n"
     ]
    }
   ],
   "source": [
    "#using grid searchcv to find out the best parameter in logisticregression\n",
    "parameters={'C':[1,10],'random_state':range(42,100)}\n",
    "lg=LogisticRegression()\n",
    "clf=GridSearchCV(lg,parameters)\n",
    "clf.fit(scaledx,y)\n",
    "print(clf.best_params_)"
   ]
  },
  {
   "cell_type": "code",
   "execution_count": 54,
   "metadata": {},
   "outputs": [
    {
     "name": "stdout",
     "output_type": "stream",
     "text": [
      "{'n_neighbors': 22}\n"
     ]
    }
   ],
   "source": [
    "parameters={'n_neighbors':range(22,25)}\n",
    "knn=KNeighborsClassifier()\n",
    "clf=GridSearchCV(knn,parameters)\n",
    "clf.fit(scaledx,y)\n",
    "print(clf.best_params_)"
   ]
  },
  {
   "cell_type": "code",
   "execution_count": 55,
   "metadata": {},
   "outputs": [],
   "source": [
    "#model with its best parameters\n",
    "lg=LogisticRegression(random_state=42)\n",
    "knn=KNeighborsClassifier(n_neighbors=22)\n",
    "svc=SVC()"
   ]
  },
  {
   "cell_type": "code",
   "execution_count": 56,
   "metadata": {},
   "outputs": [
    {
     "name": "stdout",
     "output_type": "stream",
     "text": [
      "Accuarcy_score of: LogisticRegression(random_state=42) is\n",
      "0.8169222242748938\n",
      "[[3997  242]\n",
      " [ 749  425]]\n",
      "              precision    recall  f1-score   support\n",
      "\n",
      "         0.0       0.84      0.94      0.89      4239\n",
      "         1.0       0.64      0.36      0.46      1174\n",
      "\n",
      "    accuracy                           0.82      5413\n",
      "   macro avg       0.74      0.65      0.68      5413\n",
      "weighted avg       0.80      0.82      0.80      5413\n",
      "\n",
      "******************************************************\n",
      "/n\n",
      "Accuarcy_score of: GaussianNB() is\n",
      "0.781821540735267\n",
      "[[3376  863]\n",
      " [ 318  856]]\n",
      "              precision    recall  f1-score   support\n",
      "\n",
      "         0.0       0.91      0.80      0.85      4239\n",
      "         1.0       0.50      0.73      0.59      1174\n",
      "\n",
      "    accuracy                           0.78      5413\n",
      "   macro avg       0.71      0.76      0.72      5413\n",
      "weighted avg       0.82      0.78      0.79      5413\n",
      "\n",
      "******************************************************\n",
      "/n\n",
      "Accuarcy_score of: SVC() is\n",
      "0.8416774431923147\n",
      "[[4016  223]\n",
      " [ 634  540]]\n",
      "              precision    recall  f1-score   support\n",
      "\n",
      "         0.0       0.86      0.95      0.90      4239\n",
      "         1.0       0.71      0.46      0.56      1174\n",
      "\n",
      "    accuracy                           0.84      5413\n",
      "   macro avg       0.79      0.70      0.73      5413\n",
      "weighted avg       0.83      0.84      0.83      5413\n",
      "\n",
      "******************************************************\n",
      "/n\n",
      "Accuarcy_score of: DecisionTreeClassifier() is\n",
      "0.808054683170146\n",
      "[[3699  540]\n",
      " [ 499  675]]\n",
      "              precision    recall  f1-score   support\n",
      "\n",
      "         0.0       0.88      0.87      0.88      4239\n",
      "         1.0       0.56      0.57      0.57      1174\n",
      "\n",
      "    accuracy                           0.81      5413\n",
      "   macro avg       0.72      0.72      0.72      5413\n",
      "weighted avg       0.81      0.81      0.81      5413\n",
      "\n",
      "******************************************************\n",
      "/n\n",
      "Accuarcy_score of: KNeighborsClassifier(n_neighbors=22) is\n",
      "0.8363199704415296\n",
      "[[3948  291]\n",
      " [ 595  579]]\n",
      "              precision    recall  f1-score   support\n",
      "\n",
      "         0.0       0.87      0.93      0.90      4239\n",
      "         1.0       0.67      0.49      0.57      1174\n",
      "\n",
      "    accuracy                           0.84      5413\n",
      "   macro avg       0.77      0.71      0.73      5413\n",
      "weighted avg       0.82      0.84      0.83      5413\n",
      "\n",
      "******************************************************\n",
      "/n\n"
     ]
    }
   ],
   "source": [
    "model=[lg,GaussianNB(),SVC(),DecisionTreeClassifier(),knn]\n",
    "for m in  model:\n",
    "    m.fit(x_train,y_train)\n",
    "    m.score(x_train,y_train)\n",
    "    predm=m.predict(x_test)\n",
    "    print('Accuarcy_score of:',m,'is')\n",
    "    print(accuracy_score(y_test,predm))\n",
    "    print(confusion_matrix(y_test,predm))\n",
    "    print(classification_report(y_test,predm))\n",
    "    print('******************************************************')\n",
    "    print('/n')"
   ]
  },
  {
   "cell_type": "code",
   "execution_count": 57,
   "metadata": {},
   "outputs": [
    {
     "name": "stdout",
     "output_type": "stream",
     "text": [
      "Model LogisticRegression(random_state=42)\n",
      "cvscore [0.82083487 0.81935722 0.82120429 0.81935722 0.8215737  0.82668145\n",
      " 0.81448633 0.82335551 0.8240946  0.81929047]\n",
      "mean score: 0.8210235651404435\n",
      "std score: 0.00313917677639615\n",
      "*****************************************\n",
      "/n\n",
      "Model GaussianNB()\n",
      "cvscore [0.76800887 0.77281123 0.78315478 0.7691171  0.75803472 0.77974871\n",
      " 0.77014043 0.77198817 0.78898744 0.7841833 ]\n",
      "mean score: 0.7746174749922937\n",
      "std score: 0.008811078066810071\n",
      "*****************************************\n",
      "/n\n",
      "Model SVC()\n",
      "cvscore [0.83819727 0.84521611 0.8507573  0.83819727 0.83856668 0.8473762\n",
      " 0.84294161 0.85070214 0.84552846 0.84146341]\n",
      "mean score: 0.8438946439536599\n",
      "std score: 0.00458368262106495\n",
      "*****************************************\n",
      "/n\n",
      "Model DecisionTreeClassifier()\n",
      "cvscore [0.78869597 0.79977835 0.801256   0.78093831 0.8042113  0.80044346\n",
      " 0.79563932 0.80339985 0.79785661 0.80266075]\n",
      "mean score: 0.7974879940893979\n",
      "std score: 0.006998814348213467\n",
      "*****************************************\n",
      "/n\n",
      "Model KNeighborsClassifier(n_neighbors=22)\n",
      "cvscore [0.83117843 0.83967492 0.85223495 0.83302549 0.84336904 0.84183296\n",
      " 0.84035477 0.84441981 0.84515891 0.84257206]\n",
      "mean score: 0.8413821329333956\n",
      "std score: 0.005698782535272836\n",
      "*****************************************\n",
      "/n\n"
     ]
    }
   ],
   "source": [
    "#cross val score\n",
    "model=[lg,GaussianNB(),SVC(),DecisionTreeClassifier(),knn]\n",
    "for n in model:\n",
    "    cvscore=cross_val_score(n,scaledx,y,cv=10,scoring='accuracy')\n",
    "    print('Model',n)\n",
    "    print('cvscore',cvscore)\n",
    "    print('mean score:',cvscore.mean())\n",
    "    print('std score:',cvscore.std())\n",
    "    print('*****************************************')\n",
    "    print('/n')"
   ]
  },
  {
   "cell_type": "raw",
   "metadata": {},
   "source": [
    "above all score svc is giving best score\n",
    "now we use some boosting technique to boostup our score\n",
    "after that we will decide which is the best score"
   ]
  },
  {
   "cell_type": "markdown",
   "metadata": {},
   "source": [
    "# using Ensemble technique boosting up score"
   ]
  },
  {
   "cell_type": "code",
   "execution_count": 58,
   "metadata": {},
   "outputs": [],
   "source": [
    "from sklearn.ensemble import RandomForestClassifier\n",
    "from sklearn.ensemble import AdaBoostClassifier\n",
    "from sklearn.ensemble import GradientBoostingClassifier\n",
    "from sklearn.ensemble import BaggingClassifier\n",
    "from sklearn.ensemble import ExtraTreesClassifier"
   ]
  },
  {
   "cell_type": "code",
   "execution_count": 59,
   "metadata": {},
   "outputs": [
    {
     "name": "stdout",
     "output_type": "stream",
     "text": [
      "Accuracy score of  RandomForestClassifier() is:\n",
      "0.846295954184371\n",
      "[[3936  303]\n",
      " [ 529  645]]\n",
      "              precision    recall  f1-score   support\n",
      "\n",
      "         0.0       0.88      0.93      0.90      4239\n",
      "         1.0       0.68      0.55      0.61      1174\n",
      "\n",
      "    accuracy                           0.85      5413\n",
      "   macro avg       0.78      0.74      0.76      5413\n",
      "weighted avg       0.84      0.85      0.84      5413\n",
      "\n",
      "*********************************************************************\n",
      "/n\n",
      "Accuracy score of  AdaBoostClassifier() is:\n",
      "0.853870312211343\n",
      "[[4006  233]\n",
      " [ 558  616]]\n",
      "              precision    recall  f1-score   support\n",
      "\n",
      "         0.0       0.88      0.95      0.91      4239\n",
      "         1.0       0.73      0.52      0.61      1174\n",
      "\n",
      "    accuracy                           0.85      5413\n",
      "   macro avg       0.80      0.73      0.76      5413\n",
      "weighted avg       0.84      0.85      0.84      5413\n",
      "\n",
      "*********************************************************************\n",
      "/n\n",
      "Accuracy score of  GradientBoostingClassifier() is:\n",
      "0.8581193423240348\n",
      "[[4020  219]\n",
      " [ 549  625]]\n",
      "              precision    recall  f1-score   support\n",
      "\n",
      "         0.0       0.88      0.95      0.91      4239\n",
      "         1.0       0.74      0.53      0.62      1174\n",
      "\n",
      "    accuracy                           0.86      5413\n",
      "   macro avg       0.81      0.74      0.77      5413\n",
      "weighted avg       0.85      0.86      0.85      5413\n",
      "\n",
      "*********************************************************************\n",
      "/n\n",
      "Accuracy score of  BaggingClassifier() is:\n",
      "0.8370589322002586\n",
      "[[3926  313]\n",
      " [ 569  605]]\n",
      "              precision    recall  f1-score   support\n",
      "\n",
      "         0.0       0.87      0.93      0.90      4239\n",
      "         1.0       0.66      0.52      0.58      1174\n",
      "\n",
      "    accuracy                           0.84      5413\n",
      "   macro avg       0.77      0.72      0.74      5413\n",
      "weighted avg       0.83      0.84      0.83      5413\n",
      "\n",
      "*********************************************************************\n",
      "/n\n",
      "Accuracy score of  ExtraTreesClassifier() is:\n",
      "0.8400147792351745\n",
      "[[3898  341]\n",
      " [ 525  649]]\n",
      "              precision    recall  f1-score   support\n",
      "\n",
      "         0.0       0.88      0.92      0.90      4239\n",
      "         1.0       0.66      0.55      0.60      1174\n",
      "\n",
      "    accuracy                           0.84      5413\n",
      "   macro avg       0.77      0.74      0.75      5413\n",
      "weighted avg       0.83      0.84      0.83      5413\n",
      "\n",
      "*********************************************************************\n",
      "/n\n"
     ]
    }
   ],
   "source": [
    "model=[RandomForestClassifier(),AdaBoostClassifier(),GradientBoostingClassifier(),BaggingClassifier(),ExtraTreesClassifier()]\n",
    "for n in model:\n",
    "    n.fit(x_train,y_train)\n",
    "    n.score(x_train,y_train)\n",
    "    predn=n.predict(x_test)\n",
    "    print('Accuracy score of ',n,'is:')\n",
    "    print(accuracy_score(y_test,predn))\n",
    "    print(confusion_matrix(y_test,predn))\n",
    "    print(classification_report(y_test,predn))\n",
    "    print('*********************************************************************')\n",
    "    print('/n')"
   ]
  },
  {
   "cell_type": "code",
   "execution_count": 60,
   "metadata": {},
   "outputs": [
    {
     "name": "stdout",
     "output_type": "stream",
     "text": [
      "model: RandomForestClassifier()\n",
      "cvscore: [0.83782785 0.84558552 0.84706317 0.84669376 0.84004433 0.84146341\n",
      " 0.84848485 0.8466371  0.85144124 0.8473762 ]\n",
      "mean score: 0.8452617437313844\n",
      "std score 0.003965465979849476\n",
      "****************************************************************\n",
      "/n\n",
      "model: AdaBoostClassifier()\n",
      "cvscore: [0.84817141 0.84706317 0.86073144 0.84558552 0.8537126  0.85181079\n",
      " 0.85698448 0.86031042 0.85772358 0.85291944]\n",
      "mean score: 0.8535012836611221\n",
      "std score 0.005141566606285373\n",
      "****************************************************************\n",
      "/n\n",
      "model: GradientBoostingClassifier()\n",
      "cvscore: [0.85223495 0.8566679  0.8655338  0.85408201 0.8566679  0.85735403\n",
      " 0.85735403 0.86289727 0.85883222 0.85181079]\n",
      "mean score: 0.8573434890408951\n",
      "std score 0.004103659985691695\n",
      "****************************************************************\n",
      "/n\n",
      "model: BaggingClassifier()\n",
      "cvscore: [0.82933136 0.83745844 0.82674547 0.82563724 0.83524197 0.8263119\n",
      " 0.83739837 0.84478936 0.84109387 0.83333333]\n",
      "mean score: 0.8337341310243541\n",
      "std score 0.006284822803791381\n",
      "****************************************************************\n",
      "/n\n",
      "model: ExtraTreesClassifier()\n",
      "cvscore: [0.82822313 0.84189139 0.84410787 0.83450314 0.83376431 0.83407243\n",
      " 0.84331116 0.84072432 0.84109387 0.84035477]\n",
      "mean score: 0.8382046382172523\n",
      "std score 0.004939226819188972\n",
      "****************************************************************\n",
      "/n\n"
     ]
    }
   ],
   "source": [
    "#cvsore for boosting model\n",
    "model=[RandomForestClassifier(),AdaBoostClassifier(),GradientBoostingClassifier(),BaggingClassifier(),ExtraTreesClassifier()]\n",
    "for m in model:\n",
    "    cvscore=cross_val_score(m,scaledx,y,cv=10,scoring='accuracy')\n",
    "    print('model:',m)\n",
    "    print('cvscore:',cvscore)\n",
    "    print('mean score:',cvscore.mean())\n",
    "    print('std score',cvscore.std())\n",
    "    print('****************************************************************')\n",
    "    print('/n')"
   ]
  },
  {
   "cell_type": "markdown",
   "metadata": {},
   "source": [
    "Gradientboostingclassifier gives the best score and its not suffering from underfitting and overfitting"
   ]
  },
  {
   "cell_type": "code",
   "execution_count": 61,
   "metadata": {},
   "outputs": [
    {
     "name": "stdout",
     "output_type": "stream",
     "text": [
      "0.8636615555145021\n",
      "[[4012  227]\n",
      " [ 511  663]]\n",
      "              precision    recall  f1-score   support\n",
      "\n",
      "         0.0       0.89      0.95      0.92      4239\n",
      "         1.0       0.74      0.56      0.64      1174\n",
      "\n",
      "    accuracy                           0.86      5413\n",
      "   macro avg       0.82      0.76      0.78      5413\n",
      "weighted avg       0.86      0.86      0.86      5413\n",
      "\n"
     ]
    }
   ],
   "source": [
    "gbc=GradientBoostingClassifier(learning_rate=0.1,random_state=59,n_estimators=209)\n",
    "gbc.fit(x_train,y_train)\n",
    "gbc.score(x_train,y_train)\n",
    "predgbc=gbc.predict(x_test)\n",
    "print(accuracy_score(y_test,predgbc))\n",
    "print(confusion_matrix(y_test,predgbc))\n",
    "print(classification_report(y_test,predgbc))"
   ]
  },
  {
   "cell_type": "code",
   "execution_count": 71,
   "metadata": {},
   "outputs": [
    {
     "data": {
      "image/png": "[encoded data removed]",
      "text/plain": [
       "<Figure size 432x288 with 1 Axes>"
      ]
     },
     "metadata": {
      "needs_background": "light"
     },
     "output_type": "display_data"
    },
    {
     "name": "stdout",
     "output_type": "stream",
     "text": [
      "0.7555927899166216\n"
     ]
    }
   ],
   "source": [
    "#auc roc curve\n",
    "from sklearn.metrics import roc_curve\n",
    "from sklearn.metrics import roc_auc_score\n",
    "predgbc_proba=gbc.predict_proba(x_test)[:,1]\n",
    "fpr,tpr,threshold=roc_curve(y_test,predgbc)\n",
    "plt.plot([0,1],[0,1], 'k--')\n",
    "plt.plot(fpr,tpr,label='GradientBoostingClassifier')\n",
    "plt.xlabel('False Positive Rate')\n",
    "plt.ylabel('True Positive Rate')\n",
    "plt.title('GradientBoostingClassifier')\n",
    "plt.show()\n",
    "\n",
    "auc_score=roc_auc_score(y_test,predgbc)\n",
    "print(auc_score)"
   ]
  },
  {
   "cell_type": "code",
   "execution_count": 74,
   "metadata": {},
   "outputs": [],
   "source": [
    "import pickle"
   ]
  },
  {
   "cell_type": "code",
   "execution_count": 75,
   "metadata": {},
   "outputs": [],
   "source": [
    "filename=\"income_classify.pkl\"\n",
    "pickle.dump(gbc,open(filename,'wb'))\n"
   ]
  },
  {
   "cell_type": "markdown",
   "metadata": {},
   "source": [
    "# conclusion:\n"
   ]
  },
  {
   "cell_type": "code",
   "execution_count": 76,
   "metadata": {},
   "outputs": [],
   "source": [
    "import numpy as np\n",
    "a=np.array(y_test)"
   ]
  },
  {
   "cell_type": "code",
   "execution_count": 77,
   "metadata": {},
   "outputs": [],
   "source": [
    "predicted=np.array(gbc.predict(x_test))\n"
   ]
  },
  {
   "cell_type": "code",
   "execution_count": 78,
   "metadata": {},
   "outputs": [],
   "source": [
    "df_con=pd.DataFrame({'original':a,'predicted':predicted},index=range(len(a)))"
   ]
  },
  {
   "cell_type": "code",
   "execution_count": 79,
   "metadata": {},
   "outputs": [
    {
     "data": {
      "text/html": [
       "<div>\n",
       "<style scoped>\n",
       "    .dataframe tbody tr th:only-of-type {\n",
       "        vertical-align: middle;\n",
       "    }\n",
       "\n",
       "    .dataframe tbody tr th {\n",
       "        vertical-align: top;\n",
       "    }\n",
       "\n",
       "    .dataframe thead th {\n",
       "        text-align: right;\n",
       "    }\n",
       "</style>\n",
       "<table border=\"1\" class=\"dataframe\">\n",
       "  <thead>\n",
       "    <tr style=\"text-align: right;\">\n",
       "      <th></th>\n",
       "      <th>original</th>\n",
       "      <th>predicted</th>\n",
       "    </tr>\n",
       "  </thead>\n",
       "  <tbody>\n",
       "    <tr>\n",
       "      <th>0</th>\n",
       "      <td>1.0</td>\n",
       "      <td>1.0</td>\n",
       "    </tr>\n",
       "    <tr>\n",
       "      <th>1</th>\n",
       "      <td>0.0</td>\n",
       "      <td>0.0</td>\n",
       "    </tr>\n",
       "    <tr>\n",
       "      <th>2</th>\n",
       "      <td>0.0</td>\n",
       "      <td>0.0</td>\n",
       "    </tr>\n",
       "    <tr>\n",
       "      <th>3</th>\n",
       "      <td>0.0</td>\n",
       "      <td>0.0</td>\n",
       "    </tr>\n",
       "    <tr>\n",
       "      <th>4</th>\n",
       "      <td>0.0</td>\n",
       "      <td>0.0</td>\n",
       "    </tr>\n",
       "    <tr>\n",
       "      <th>...</th>\n",
       "      <td>...</td>\n",
       "      <td>...</td>\n",
       "    </tr>\n",
       "    <tr>\n",
       "      <th>5408</th>\n",
       "      <td>0.0</td>\n",
       "      <td>0.0</td>\n",
       "    </tr>\n",
       "    <tr>\n",
       "      <th>5409</th>\n",
       "      <td>0.0</td>\n",
       "      <td>0.0</td>\n",
       "    </tr>\n",
       "    <tr>\n",
       "      <th>5410</th>\n",
       "      <td>1.0</td>\n",
       "      <td>0.0</td>\n",
       "    </tr>\n",
       "    <tr>\n",
       "      <th>5411</th>\n",
       "      <td>0.0</td>\n",
       "      <td>0.0</td>\n",
       "    </tr>\n",
       "    <tr>\n",
       "      <th>5412</th>\n",
       "      <td>0.0</td>\n",
       "      <td>0.0</td>\n",
       "    </tr>\n",
       "  </tbody>\n",
       "</table>\n",
       "<p>5413 rows × 2 columns</p>\n",
       "</div>"
      ],
      "text/plain": [
       "      original  predicted\n",
       "0          1.0        1.0\n",
       "1          0.0        0.0\n",
       "2          0.0        0.0\n",
       "3          0.0        0.0\n",
       "4          0.0        0.0\n",
       "...        ...        ...\n",
       "5408       0.0        0.0\n",
       "5409       0.0        0.0\n",
       "5410       1.0        0.0\n",
       "5411       0.0        0.0\n",
       "5412       0.0        0.0\n",
       "\n",
       "[5413 rows x 2 columns]"
      ]
     },
     "execution_count": 79,
     "metadata": {},
     "output_type": "execute_result"
    }
   ],
   "source": [
    "df_con"
   ]
  },
  {
   "cell_type": "code",
   "execution_count": null,
   "metadata": {},
   "outputs": [],
   "source": []
  }
 ],
 "metadata": {
  "kernelspec": {
   "display_name": "Python 3",
   "language": "python",
   "name": "python3"
  },
  "language_info": {
   "codemirror_mode": {
    "name": "ipython",
    "version": 3
   },
   "file_extension": ".py",
   "mimetype": "text/x-python",
   "name": "python",
   "nbconvert_exporter": "python",
   "pygments_lexer": "ipython3",
   "version": "3.8.3"
  }
 },
 "nbformat": 4,
 "nbformat_minor": 4
}
