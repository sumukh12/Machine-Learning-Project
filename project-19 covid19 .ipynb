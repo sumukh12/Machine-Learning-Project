{
 "cells": [
  {
   "cell_type": "code",
   "execution_count": 3,
   "metadata": {},
   "outputs": [],
   "source": [
    "import warnings\n",
    "warnings.filterwarnings(\"ignore\")"
   ]
  },
  {
   "cell_type": "code",
   "execution_count": 4,
   "metadata": {},
   "outputs": [],
   "source": [
    "import pandas as pd"
   ]
  },
  {
   "cell_type": "code",
   "execution_count": 5,
   "metadata": {},
   "outputs": [],
   "source": [
    "df=pd.read_csv(\"covid19_data.csv\")"
   ]
  },
  {
   "cell_type": "code",
   "execution_count": 6,
   "metadata": {},
   "outputs": [
    {
     "data": {
      "text/html": [
       "<div>\n",
       "<style scoped>\n",
       "    .dataframe tbody tr th:only-of-type {\n",
       "        vertical-align: middle;\n",
       "    }\n",
       "\n",
       "    .dataframe tbody tr th {\n",
       "        vertical-align: top;\n",
       "    }\n",
       "\n",
       "    .dataframe thead th {\n",
       "        text-align: right;\n",
       "    }\n",
       "</style>\n",
       "<table border=\"1\" class=\"dataframe\">\n",
       "  <thead>\n",
       "    <tr style=\"text-align: right;\">\n",
       "      <th></th>\n",
       "      <th>Date</th>\n",
       "      <th>Country</th>\n",
       "      <th>Confirmed</th>\n",
       "      <th>Recovered</th>\n",
       "      <th>Deaths</th>\n",
       "    </tr>\n",
       "  </thead>\n",
       "  <tbody>\n",
       "    <tr>\n",
       "      <th>0</th>\n",
       "      <td>2020-01-22</td>\n",
       "      <td>Afghanistan</td>\n",
       "      <td>0</td>\n",
       "      <td>0</td>\n",
       "      <td>0</td>\n",
       "    </tr>\n",
       "    <tr>\n",
       "      <th>1</th>\n",
       "      <td>2020-01-22</td>\n",
       "      <td>Albania</td>\n",
       "      <td>0</td>\n",
       "      <td>0</td>\n",
       "      <td>0</td>\n",
       "    </tr>\n",
       "    <tr>\n",
       "      <th>2</th>\n",
       "      <td>2020-01-22</td>\n",
       "      <td>Algeria</td>\n",
       "      <td>0</td>\n",
       "      <td>0</td>\n",
       "      <td>0</td>\n",
       "    </tr>\n",
       "    <tr>\n",
       "      <th>3</th>\n",
       "      <td>2020-01-22</td>\n",
       "      <td>Andorra</td>\n",
       "      <td>0</td>\n",
       "      <td>0</td>\n",
       "      <td>0</td>\n",
       "    </tr>\n",
       "    <tr>\n",
       "      <th>4</th>\n",
       "      <td>2020-01-22</td>\n",
       "      <td>Angola</td>\n",
       "      <td>0</td>\n",
       "      <td>0</td>\n",
       "      <td>0</td>\n",
       "    </tr>\n",
       "    <tr>\n",
       "      <th>...</th>\n",
       "      <td>...</td>\n",
       "      <td>...</td>\n",
       "      <td>...</td>\n",
       "      <td>...</td>\n",
       "      <td>...</td>\n",
       "    </tr>\n",
       "    <tr>\n",
       "      <th>23683</th>\n",
       "      <td>2020-05-26</td>\n",
       "      <td>West Bank and Gaza</td>\n",
       "      <td>429</td>\n",
       "      <td>365</td>\n",
       "      <td>3</td>\n",
       "    </tr>\n",
       "    <tr>\n",
       "      <th>23684</th>\n",
       "      <td>2020-05-26</td>\n",
       "      <td>Western Sahara</td>\n",
       "      <td>9</td>\n",
       "      <td>6</td>\n",
       "      <td>1</td>\n",
       "    </tr>\n",
       "    <tr>\n",
       "      <th>23685</th>\n",
       "      <td>2020-05-26</td>\n",
       "      <td>Yemen</td>\n",
       "      <td>249</td>\n",
       "      <td>10</td>\n",
       "      <td>49</td>\n",
       "    </tr>\n",
       "    <tr>\n",
       "      <th>23686</th>\n",
       "      <td>2020-05-26</td>\n",
       "      <td>Zambia</td>\n",
       "      <td>920</td>\n",
       "      <td>336</td>\n",
       "      <td>7</td>\n",
       "    </tr>\n",
       "    <tr>\n",
       "      <th>23687</th>\n",
       "      <td>2020-05-26</td>\n",
       "      <td>Zimbabwe</td>\n",
       "      <td>56</td>\n",
       "      <td>25</td>\n",
       "      <td>4</td>\n",
       "    </tr>\n",
       "  </tbody>\n",
       "</table>\n",
       "<p>23688 rows × 5 columns</p>\n",
       "</div>"
      ],
      "text/plain": [
       "             Date             Country  Confirmed  Recovered  Deaths\n",
       "0      2020-01-22         Afghanistan          0          0       0\n",
       "1      2020-01-22             Albania          0          0       0\n",
       "2      2020-01-22             Algeria          0          0       0\n",
       "3      2020-01-22             Andorra          0          0       0\n",
       "4      2020-01-22              Angola          0          0       0\n",
       "...           ...                 ...        ...        ...     ...\n",
       "23683  2020-05-26  West Bank and Gaza        429        365       3\n",
       "23684  2020-05-26      Western Sahara          9          6       1\n",
       "23685  2020-05-26               Yemen        249         10      49\n",
       "23686  2020-05-26              Zambia        920        336       7\n",
       "23687  2020-05-26            Zimbabwe         56         25       4\n",
       "\n",
       "[23688 rows x 5 columns]"
      ]
     },
     "execution_count": 6,
     "metadata": {},
     "output_type": "execute_result"
    }
   ],
   "source": [
    "df"
   ]
  },
  {
   "cell_type": "code",
   "execution_count": 7,
   "metadata": {},
   "outputs": [
    {
     "data": {
      "text/plain": [
       "(23688, 5)"
      ]
     },
     "execution_count": 7,
     "metadata": {},
     "output_type": "execute_result"
    }
   ],
   "source": [
    "df.shape"
   ]
  },
  {
   "cell_type": "code",
   "execution_count": 8,
   "metadata": {},
   "outputs": [
    {
     "data": {
      "text/plain": [
       "0        12989\n",
       "1         1244\n",
       "2          655\n",
       "3          550\n",
       "4          324\n",
       "         ...  \n",
       "473          1\n",
       "4603         1\n",
       "521          1\n",
       "2600         1\n",
       "30689        1\n",
       "Name: Deaths, Length: 1768, dtype: int64"
      ]
     },
     "execution_count": 8,
     "metadata": {},
     "output_type": "execute_result"
    }
   ],
   "source": [
    "df[\"Deaths\"].value_counts()"
   ]
  },
  {
   "cell_type": "code",
   "execution_count": 9,
   "metadata": {},
   "outputs": [
    {
     "data": {
      "text/plain": [
       "Index(['Date', 'Country', 'Confirmed', 'Recovered', 'Deaths'], dtype='object')"
      ]
     },
     "execution_count": 9,
     "metadata": {},
     "output_type": "execute_result"
    }
   ],
   "source": [
    "df.columns"
   ]
  },
  {
   "cell_type": "code",
   "execution_count": 10,
   "metadata": {},
   "outputs": [
    {
     "data": {
      "text/plain": [
       "Date         object\n",
       "Country      object\n",
       "Confirmed     int64\n",
       "Recovered     int64\n",
       "Deaths        int64\n",
       "dtype: object"
      ]
     },
     "execution_count": 10,
     "metadata": {},
     "output_type": "execute_result"
    }
   ],
   "source": [
    "df.dtypes"
   ]
  },
  {
   "cell_type": "code",
   "execution_count": 11,
   "metadata": {},
   "outputs": [
    {
     "data": {
      "text/plain": [
       "Date         0\n",
       "Country      0\n",
       "Confirmed    0\n",
       "Recovered    0\n",
       "Deaths       0\n",
       "dtype: int64"
      ]
     },
     "execution_count": 11,
     "metadata": {},
     "output_type": "execute_result"
    }
   ],
   "source": [
    "df.isnull().sum()"
   ]
  },
  {
   "cell_type": "markdown",
   "metadata": {},
   "source": [
    "# EDA"
   ]
  },
  {
   "cell_type": "code",
   "execution_count": 12,
   "metadata": {},
   "outputs": [],
   "source": [
    "import matplotlib.pyplot as plt\n",
    "import seaborn as sns"
   ]
  },
  {
   "cell_type": "code",
   "execution_count": 13,
   "metadata": {},
   "outputs": [
    {
     "data": {
      "text/plain": [
       "<matplotlib.axes._subplots.AxesSubplot at 0x99bf3e8>"
      ]
     },
     "execution_count": 13,
     "metadata": {},
     "output_type": "execute_result"
    },
    {
     "data": {
      "image/png": "[encoded data removed]",
      "text/plain": [
       "<Figure size 432x288 with 1 Axes>"
      ]
     },
     "metadata": {
      "needs_background": "light"
     },
     "output_type": "display_data"
    }
   ],
   "source": [
    "sns.scatterplot(x=\"Confirmed\",y=\"Recovered\",data=df)"
   ]
  },
  {
   "cell_type": "markdown",
   "metadata": {},
   "source": [
    "In the above column is recovered rate is less than confirmed case"
   ]
  },
  {
   "cell_type": "code",
   "execution_count": 14,
   "metadata": {},
   "outputs": [
    {
     "data": {
      "text/plain": [
       "<matplotlib.axes._subplots.AxesSubplot at 0xa0c6880>"
      ]
     },
     "execution_count": 14,
     "metadata": {},
     "output_type": "execute_result"
    },
    {
     "data": {
      "image/png": "[encoded data removed]",
      "text/plain": [
       "<Figure size 432x288 with 1 Axes>"
      ]
     },
     "metadata": {
      "needs_background": "light"
     },
     "output_type": "display_data"
    }
   ],
   "source": [
    "sns.scatterplot(x=\"Deaths\",y=\"Recovered\",data=df)"
   ]
  },
  {
   "cell_type": "markdown",
   "metadata": {},
   "source": [
    "In the above column death rate is high"
   ]
  },
  {
   "cell_type": "markdown",
   "metadata": {},
   "source": [
    "# Coorelation"
   ]
  },
  {
   "cell_type": "code",
   "execution_count": 15,
   "metadata": {},
   "outputs": [
    {
     "data": {
      "text/html": [
       "<div>\n",
       "<style scoped>\n",
       "    .dataframe tbody tr th:only-of-type {\n",
       "        vertical-align: middle;\n",
       "    }\n",
       "\n",
       "    .dataframe tbody tr th {\n",
       "        vertical-align: top;\n",
       "    }\n",
       "\n",
       "    .dataframe thead th {\n",
       "        text-align: right;\n",
       "    }\n",
       "</style>\n",
       "<table border=\"1\" class=\"dataframe\">\n",
       "  <thead>\n",
       "    <tr style=\"text-align: right;\">\n",
       "      <th></th>\n",
       "      <th>Confirmed</th>\n",
       "      <th>Recovered</th>\n",
       "      <th>Deaths</th>\n",
       "    </tr>\n",
       "  </thead>\n",
       "  <tbody>\n",
       "    <tr>\n",
       "      <th>Confirmed</th>\n",
       "      <td>1.000000</td>\n",
       "      <td>0.810991</td>\n",
       "      <td>0.929718</td>\n",
       "    </tr>\n",
       "    <tr>\n",
       "      <th>Recovered</th>\n",
       "      <td>0.810991</td>\n",
       "      <td>1.000000</td>\n",
       "      <td>0.778094</td>\n",
       "    </tr>\n",
       "    <tr>\n",
       "      <th>Deaths</th>\n",
       "      <td>0.929718</td>\n",
       "      <td>0.778094</td>\n",
       "      <td>1.000000</td>\n",
       "    </tr>\n",
       "  </tbody>\n",
       "</table>\n",
       "</div>"
      ],
      "text/plain": [
       "           Confirmed  Recovered    Deaths\n",
       "Confirmed   1.000000   0.810991  0.929718\n",
       "Recovered   0.810991   1.000000  0.778094\n",
       "Deaths      0.929718   0.778094  1.000000"
      ]
     },
     "execution_count": 15,
     "metadata": {},
     "output_type": "execute_result"
    }
   ],
   "source": [
    "df.corr()"
   ]
  },
  {
   "cell_type": "code",
   "execution_count": 16,
   "metadata": {},
   "outputs": [
    {
     "data": {
      "text/plain": [
       "<matplotlib.axes._subplots.AxesSubplot at 0xa12a700>"
      ]
     },
     "execution_count": 16,
     "metadata": {},
     "output_type": "execute_result"
    },
    {
     "data": {
      "image/png": "[encoded data removed]",
      "text/plain": [
       "<Figure size 432x288 with 2 Axes>"
      ]
     },
     "metadata": {
      "needs_background": "light"
     },
     "output_type": "display_data"
    }
   ],
   "source": [
    "corr=df.corr()\n",
    "\n",
    "sns.heatmap(corr,annot=True)"
   ]
  },
  {
   "cell_type": "markdown",
   "metadata": {},
   "source": [
    "Confirmed and Recovered rate has very high coorelation with death variable that is target variable"
   ]
  },
  {
   "cell_type": "code",
   "execution_count": 17,
   "metadata": {},
   "outputs": [
    {
     "data": {
      "text/html": [
       "<div>\n",
       "<style scoped>\n",
       "    .dataframe tbody tr th:only-of-type {\n",
       "        vertical-align: middle;\n",
       "    }\n",
       "\n",
       "    .dataframe tbody tr th {\n",
       "        vertical-align: top;\n",
       "    }\n",
       "\n",
       "    .dataframe thead th {\n",
       "        text-align: right;\n",
       "    }\n",
       "</style>\n",
       "<table border=\"1\" class=\"dataframe\">\n",
       "  <thead>\n",
       "    <tr style=\"text-align: right;\">\n",
       "      <th></th>\n",
       "      <th>Confirmed</th>\n",
       "      <th>Recovered</th>\n",
       "      <th>Deaths</th>\n",
       "    </tr>\n",
       "  </thead>\n",
       "  <tbody>\n",
       "    <tr>\n",
       "      <th>count</th>\n",
       "      <td>2.368800e+04</td>\n",
       "      <td>23688.000000</td>\n",
       "      <td>23688.000000</td>\n",
       "    </tr>\n",
       "    <tr>\n",
       "      <th>mean</th>\n",
       "      <td>7.969368e+03</td>\n",
       "      <td>2581.801714</td>\n",
       "      <td>526.935030</td>\n",
       "    </tr>\n",
       "    <tr>\n",
       "      <th>std</th>\n",
       "      <td>5.842109e+04</td>\n",
       "      <td>15143.101257</td>\n",
       "      <td>3992.815956</td>\n",
       "    </tr>\n",
       "    <tr>\n",
       "      <th>min</th>\n",
       "      <td>0.000000e+00</td>\n",
       "      <td>0.000000</td>\n",
       "      <td>0.000000</td>\n",
       "    </tr>\n",
       "    <tr>\n",
       "      <th>25%</th>\n",
       "      <td>0.000000e+00</td>\n",
       "      <td>0.000000</td>\n",
       "      <td>0.000000</td>\n",
       "    </tr>\n",
       "    <tr>\n",
       "      <th>50%</th>\n",
       "      <td>1.800000e+01</td>\n",
       "      <td>1.000000</td>\n",
       "      <td>0.000000</td>\n",
       "    </tr>\n",
       "    <tr>\n",
       "      <th>75%</th>\n",
       "      <td>7.300000e+02</td>\n",
       "      <td>123.000000</td>\n",
       "      <td>13.000000</td>\n",
       "    </tr>\n",
       "    <tr>\n",
       "      <th>max</th>\n",
       "      <td>1.680913e+06</td>\n",
       "      <td>384902.000000</td>\n",
       "      <td>98913.000000</td>\n",
       "    </tr>\n",
       "  </tbody>\n",
       "</table>\n",
       "</div>"
      ],
      "text/plain": [
       "          Confirmed      Recovered        Deaths\n",
       "count  2.368800e+04   23688.000000  23688.000000\n",
       "mean   7.969368e+03    2581.801714    526.935030\n",
       "std    5.842109e+04   15143.101257   3992.815956\n",
       "min    0.000000e+00       0.000000      0.000000\n",
       "25%    0.000000e+00       0.000000      0.000000\n",
       "50%    1.800000e+01       1.000000      0.000000\n",
       "75%    7.300000e+02     123.000000     13.000000\n",
       "max    1.680913e+06  384902.000000  98913.000000"
      ]
     },
     "execution_count": 17,
     "metadata": {},
     "output_type": "execute_result"
    }
   ],
   "source": [
    "df.describe()"
   ]
  },
  {
   "cell_type": "markdown",
   "metadata": {},
   "source": [
    "Total no of rows=23688\n",
    "Total no of column=5\n",
    "Confirmed:\n",
    "1:Mean:7.969368\n",
    "2:std:5.842109\n",
    "3:min:0.0000\n",
    "4:max:1.680913\n",
    "    \n",
    "Recovered:\n",
    "1:mean:2581.80\n",
    "2:std:15143\n",
    "3:min:0.000\n",
    "4:max:384902\n",
    "\n",
    "Deaths:\n",
    "1:Mean:526.93\n",
    "2:std:3992.8\n",
    "3:min:0.00\n",
    "4:max:98913\n",
    "    \n",
    "    \n",
    "In above column shows that Max rate is high than Recovered rate ,and confirmed rate"
   ]
  },
  {
   "cell_type": "code",
   "execution_count": 18,
   "metadata": {},
   "outputs": [
    {
     "name": "stdout",
     "output_type": "stream",
     "text": [
      "<class 'pandas.core.frame.DataFrame'>\n",
      "RangeIndex: 23688 entries, 0 to 23687\n",
      "Data columns (total 5 columns):\n",
      " #   Column     Non-Null Count  Dtype \n",
      "---  ------     --------------  ----- \n",
      " 0   Date       23688 non-null  object\n",
      " 1   Country    23688 non-null  object\n",
      " 2   Confirmed  23688 non-null  int64 \n",
      " 3   Recovered  23688 non-null  int64 \n",
      " 4   Deaths     23688 non-null  int64 \n",
      "dtypes: int64(3), object(2)\n",
      "memory usage: 740.3+ KB\n"
     ]
    }
   ],
   "source": [
    "df.info()"
   ]
  },
  {
   "cell_type": "markdown",
   "metadata": {},
   "source": [
    "# Outlier Checking"
   ]
  },
  {
   "cell_type": "code",
   "execution_count": 19,
   "metadata": {},
   "outputs": [
    {
     "data": {
      "text/plain": [
       "<matplotlib.axes._subplots.AxesSubplot at 0xa325040>"
      ]
     },
     "execution_count": 19,
     "metadata": {},
     "output_type": "execute_result"
    },
    {
     "data": {
      "image/png": "[encoded data removed]",
      "text/plain": [
       "<Figure size 432x288 with 1 Axes>"
      ]
     },
     "metadata": {
      "needs_background": "light"
     },
     "output_type": "display_data"
    }
   ],
   "source": [
    "df[\"Confirmed\"].plot.box()"
   ]
  },
  {
   "cell_type": "code",
   "execution_count": 20,
   "metadata": {},
   "outputs": [
    {
     "data": {
      "text/plain": [
       "<matplotlib.axes._subplots.AxesSubplot at 0xa3d1df0>"
      ]
     },
     "execution_count": 20,
     "metadata": {},
     "output_type": "execute_result"
    },
    {
     "data": {
      "image/png": "[encoded data removed]",
      "text/plain": [
       "<Figure size 432x288 with 1 Axes>"
      ]
     },
     "metadata": {
      "needs_background": "light"
     },
     "output_type": "display_data"
    }
   ],
   "source": [
    "df[\"Confirmed\"].plot.box()"
   ]
  },
  {
   "cell_type": "code",
   "execution_count": 21,
   "metadata": {},
   "outputs": [
    {
     "data": {
      "text/plain": [
       "<matplotlib.axes._subplots.AxesSubplot at 0xa3ba970>"
      ]
     },
     "execution_count": 21,
     "metadata": {},
     "output_type": "execute_result"
    },
    {
     "data": {
      "image/png": "[encoded data removed]",
      "text/plain": [
       "<Figure size 432x288 with 1 Axes>"
      ]
     },
     "metadata": {
      "needs_background": "light"
     },
     "output_type": "display_data"
    }
   ],
   "source": [
    "df[\"Deaths\"].plot.box()"
   ]
  },
  {
   "cell_type": "markdown",
   "metadata": {},
   "source": [
    "In the confirmed,recovered,deaths has extream outlier"
   ]
  },
  {
   "cell_type": "markdown",
   "metadata": {},
   "source": [
    "# skewness"
   ]
  },
  {
   "cell_type": "code",
   "execution_count": 22,
   "metadata": {},
   "outputs": [
    {
     "data": {
      "text/plain": [
       "Confirmed    18.674502\n",
       "Recovered    10.662286\n",
       "Deaths       14.218167\n",
       "dtype: float64"
      ]
     },
     "execution_count": 22,
     "metadata": {},
     "output_type": "execute_result"
    }
   ],
   "source": [
    "df.skew()"
   ]
  },
  {
   "cell_type": "markdown",
   "metadata": {},
   "source": [
    "# Distribution of Normal Curve"
   ]
  },
  {
   "cell_type": "code",
   "execution_count": 23,
   "metadata": {},
   "outputs": [
    {
     "data": {
      "text/plain": [
       "<matplotlib.axes._subplots.AxesSubplot at 0xa64b490>"
      ]
     },
     "execution_count": 23,
     "metadata": {},
     "output_type": "execute_result"
    },
    {
     "data": {
      "image/png": "[encoded data removed]",
      "text/plain": [
       "<Figure size 432x288 with 1 Axes>"
      ]
     },
     "metadata": {
      "needs_background": "light"
     },
     "output_type": "display_data"
    }
   ],
   "source": [
    "sns.distplot(df[\"Confirmed\"])"
   ]
  },
  {
   "cell_type": "markdown",
   "metadata": {},
   "source": [
    " In the above there is no normal curve so there is heavy skewness in data"
   ]
  },
  {
   "cell_type": "code",
   "execution_count": 24,
   "metadata": {},
   "outputs": [
    {
     "data": {
      "text/plain": [
       "<matplotlib.axes._subplots.AxesSubplot at 0xa8f1bf8>"
      ]
     },
     "execution_count": 24,
     "metadata": {},
     "output_type": "execute_result"
    },
    {
     "data": {
      "image/png": "[encoded data removed]",
      "text/plain": [
       "<Figure size 432x288 with 1 Axes>"
      ]
     },
     "metadata": {
      "needs_background": "light"
     },
     "output_type": "display_data"
    }
   ],
   "source": [
    "sns.distplot(df[\"Recovered\"])"
   ]
  },
  {
   "cell_type": "markdown",
   "metadata": {},
   "source": [
    "There is same with Recovered column the curve is out of buliding rock."
   ]
  },
  {
   "cell_type": "code",
   "execution_count": 25,
   "metadata": {},
   "outputs": [
    {
     "data": {
      "text/plain": [
       "<matplotlib.axes._subplots.AxesSubplot at 0xa97ada8>"
      ]
     },
     "execution_count": 25,
     "metadata": {},
     "output_type": "execute_result"
    },
    {
     "data": {
      "image/png": "[encoded data removed]",
      "text/plain": [
       "<Figure size 432x288 with 1 Axes>"
      ]
     },
     "metadata": {
      "needs_background": "light"
     },
     "output_type": "display_data"
    }
   ],
   "source": [
    "sns.distplot(df[\"Deaths\"])"
   ]
  },
  {
   "cell_type": "markdown",
   "metadata": {},
   "source": [
    "In the above column the data is not normal ,it is out of building curve"
   ]
  },
  {
   "cell_type": "markdown",
   "metadata": {},
   "source": [
    "# The normal data shows that data is skewed"
   ]
  },
  {
   "cell_type": "markdown",
   "metadata": {},
   "source": [
    "# Data cleasing "
   ]
  },
  {
   "cell_type": "code",
   "execution_count": 26,
   "metadata": {},
   "outputs": [],
   "source": [
    "df.drop([\"Date\",\"Country\"],axis=1,inplace=True)"
   ]
  },
  {
   "cell_type": "code",
   "execution_count": 27,
   "metadata": {},
   "outputs": [
    {
     "data": {
      "text/html": [
       "<div>\n",
       "<style scoped>\n",
       "    .dataframe tbody tr th:only-of-type {\n",
       "        vertical-align: middle;\n",
       "    }\n",
       "\n",
       "    .dataframe tbody tr th {\n",
       "        vertical-align: top;\n",
       "    }\n",
       "\n",
       "    .dataframe thead th {\n",
       "        text-align: right;\n",
       "    }\n",
       "</style>\n",
       "<table border=\"1\" class=\"dataframe\">\n",
       "  <thead>\n",
       "    <tr style=\"text-align: right;\">\n",
       "      <th></th>\n",
       "      <th>Confirmed</th>\n",
       "      <th>Recovered</th>\n",
       "      <th>Deaths</th>\n",
       "    </tr>\n",
       "  </thead>\n",
       "  <tbody>\n",
       "    <tr>\n",
       "      <th>0</th>\n",
       "      <td>0</td>\n",
       "      <td>0</td>\n",
       "      <td>0</td>\n",
       "    </tr>\n",
       "    <tr>\n",
       "      <th>1</th>\n",
       "      <td>0</td>\n",
       "      <td>0</td>\n",
       "      <td>0</td>\n",
       "    </tr>\n",
       "    <tr>\n",
       "      <th>2</th>\n",
       "      <td>0</td>\n",
       "      <td>0</td>\n",
       "      <td>0</td>\n",
       "    </tr>\n",
       "    <tr>\n",
       "      <th>3</th>\n",
       "      <td>0</td>\n",
       "      <td>0</td>\n",
       "      <td>0</td>\n",
       "    </tr>\n",
       "    <tr>\n",
       "      <th>4</th>\n",
       "      <td>0</td>\n",
       "      <td>0</td>\n",
       "      <td>0</td>\n",
       "    </tr>\n",
       "    <tr>\n",
       "      <th>...</th>\n",
       "      <td>...</td>\n",
       "      <td>...</td>\n",
       "      <td>...</td>\n",
       "    </tr>\n",
       "    <tr>\n",
       "      <th>23683</th>\n",
       "      <td>429</td>\n",
       "      <td>365</td>\n",
       "      <td>3</td>\n",
       "    </tr>\n",
       "    <tr>\n",
       "      <th>23684</th>\n",
       "      <td>9</td>\n",
       "      <td>6</td>\n",
       "      <td>1</td>\n",
       "    </tr>\n",
       "    <tr>\n",
       "      <th>23685</th>\n",
       "      <td>249</td>\n",
       "      <td>10</td>\n",
       "      <td>49</td>\n",
       "    </tr>\n",
       "    <tr>\n",
       "      <th>23686</th>\n",
       "      <td>920</td>\n",
       "      <td>336</td>\n",
       "      <td>7</td>\n",
       "    </tr>\n",
       "    <tr>\n",
       "      <th>23687</th>\n",
       "      <td>56</td>\n",
       "      <td>25</td>\n",
       "      <td>4</td>\n",
       "    </tr>\n",
       "  </tbody>\n",
       "</table>\n",
       "<p>23688 rows × 3 columns</p>\n",
       "</div>"
      ],
      "text/plain": [
       "       Confirmed  Recovered  Deaths\n",
       "0              0          0       0\n",
       "1              0          0       0\n",
       "2              0          0       0\n",
       "3              0          0       0\n",
       "4              0          0       0\n",
       "...          ...        ...     ...\n",
       "23683        429        365       3\n",
       "23684          9          6       1\n",
       "23685        249         10      49\n",
       "23686        920        336       7\n",
       "23687         56         25       4\n",
       "\n",
       "[23688 rows x 3 columns]"
      ]
     },
     "execution_count": 27,
     "metadata": {},
     "output_type": "execute_result"
    }
   ],
   "source": [
    "df"
   ]
  },
  {
   "cell_type": "markdown",
   "metadata": {},
   "source": [
    "# Removing Outlier\n"
   ]
  },
  {
   "cell_type": "code",
   "execution_count": 28,
   "metadata": {},
   "outputs": [],
   "source": [
    "from scipy.stats import zscore\n",
    "import numpy as np"
   ]
  },
  {
   "cell_type": "code",
   "execution_count": 29,
   "metadata": {},
   "outputs": [
    {
     "name": "stdout",
     "output_type": "stream",
     "text": [
      "(array([ 7932,  8120,  8308,  8496,  8684,  8872,  9060,  9248,  9436,\n",
      "        9624,  9812, 10000, 10188, 10376, 10564, 10752, 10940, 11128,\n",
      "       11316, 11504, 11692, 11880, 12068, 12256, 12444, 12632, 12820,\n",
      "       13008, 13146, 13196, 13245, 13334, 13384, 13433, 13522, 13572,\n",
      "       13621, 13710, 13760, 13809, 13898, 13948, 13997, 14070, 14086,\n",
      "       14136, 14185, 14258, 14274, 14274, 14324, 14373, 14446, 14462,\n",
      "       14462, 14512, 14561, 14634, 14634, 14650, 14650, 14700, 14730,\n",
      "       14749, 14822, 14822, 14838, 14838, 14888, 14914, 14918, 14937,\n",
      "       15010, 15010, 15026, 15026, 15076, 15102, 15106, 15125, 15198,\n",
      "       15198, 15214, 15214, 15264, 15290, 15294, 15313, 15386, 15386,\n",
      "       15402, 15402, 15452, 15478, 15482, 15501, 15574, 15574, 15590,\n",
      "       15590, 15594, 15640, 15666, 15670, 15685, 15689, 15762, 15762,\n",
      "       15778, 15778, 15782, 15828, 15854, 15858, 15873, 15877, 15950,\n",
      "       15950, 15966, 15966, 15966, 15970, 16016, 16042, 16046, 16061,\n",
      "       16065, 16138, 16138, 16138, 16154, 16154, 16154, 16158, 16204,\n",
      "       16230, 16234, 16249, 16253, 16326, 16326, 16326, 16342, 16342,\n",
      "       16342, 16346, 16392, 16418, 16422, 16437, 16441, 16514, 16514,\n",
      "       16514, 16530, 16530, 16530, 16534, 16580, 16606, 16610, 16625,\n",
      "       16629, 16702, 16702, 16702, 16718, 16718, 16718, 16722, 16768,\n",
      "       16794, 16798, 16813, 16817, 16817, 16890, 16890, 16890, 16906,\n",
      "       16906, 16906, 16910, 16956, 16982, 16986, 17001, 17005, 17005,\n",
      "       17005, 17078, 17078, 17078, 17094, 17094, 17094, 17098, 17144,\n",
      "       17170, 17174, 17189, 17193, 17193, 17193, 17266, 17266, 17266,\n",
      "       17282, 17282, 17282, 17286, 17332, 17358, 17362, 17377, 17381,\n",
      "       17381, 17381, 17454, 17454, 17454, 17470, 17470, 17470, 17474,\n",
      "       17520, 17546, 17550, 17565, 17569, 17569, 17569, 17642, 17642,\n",
      "       17642, 17658, 17658, 17658, 17662, 17708, 17734, 17738, 17753,\n",
      "       17757, 17757, 17757, 17830, 17830, 17830, 17846, 17846, 17846,\n",
      "       17850, 17896, 17922, 17926, 17941, 17945, 17945, 17945, 18018,\n",
      "       18018, 18018, 18034, 18034, 18034, 18038, 18084, 18110, 18114,\n",
      "       18129, 18133, 18133, 18133, 18206, 18206, 18206, 18222, 18222,\n",
      "       18222, 18226, 18272, 18298, 18302, 18317, 18321, 18321, 18321,\n",
      "       18394, 18394, 18394, 18410, 18410, 18410, 18414, 18460, 18486,\n",
      "       18486, 18490, 18505, 18509, 18509, 18509, 18582, 18582, 18582,\n",
      "       18598, 18598, 18598, 18602, 18648, 18674, 18674, 18678, 18693,\n",
      "       18697, 18697, 18697, 18770, 18770, 18770, 18785, 18786, 18786,\n",
      "       18786, 18790, 18836, 18862, 18862, 18866, 18881, 18885, 18885,\n",
      "       18885, 18958, 18958, 18958, 18973, 18974, 18974, 18974, 18978,\n",
      "       19024, 19050, 19050, 19054, 19069, 19073, 19073, 19073, 19146,\n",
      "       19146, 19146, 19161, 19162, 19162, 19162, 19166, 19166, 19212,\n",
      "       19238, 19238, 19242, 19257, 19261, 19261, 19261, 19334, 19334,\n",
      "       19334, 19349, 19350, 19350, 19350, 19354, 19354, 19400, 19426,\n",
      "       19426, 19430, 19445, 19449, 19449, 19449, 19522, 19522, 19522,\n",
      "       19537, 19538, 19538, 19538, 19542, 19542, 19575, 19588, 19614,\n",
      "       19614, 19618, 19633, 19637, 19637, 19637, 19710, 19710, 19710,\n",
      "       19725, 19726, 19726, 19726, 19730, 19730, 19763, 19776, 19802,\n",
      "       19802, 19806, 19821, 19825, 19825, 19825, 19898, 19898, 19898,\n",
      "       19913, 19914, 19914, 19914, 19918, 19918, 19951, 19964, 19990,\n",
      "       19990, 19994, 20009, 20013, 20013, 20013, 20086, 20086, 20086,\n",
      "       20101, 20102, 20102, 20102, 20106, 20106, 20139, 20152, 20178,\n",
      "       20178, 20182, 20197, 20201, 20201, 20201, 20256, 20274, 20274,\n",
      "       20274, 20289, 20290, 20290, 20290, 20294, 20294, 20327, 20340,\n",
      "       20366, 20366, 20370, 20385, 20389, 20389, 20389, 20444, 20462,\n",
      "       20462, 20462, 20477, 20478, 20478, 20478, 20482, 20482, 20515,\n",
      "       20528, 20554, 20554, 20558, 20573, 20577, 20577, 20577, 20632,\n",
      "       20650, 20650, 20650, 20665, 20666, 20666, 20666, 20670, 20670,\n",
      "       20703, 20716, 20742, 20742, 20746, 20761, 20765, 20765, 20765,\n",
      "       20820, 20838, 20838, 20838, 20853, 20854, 20854, 20854, 20858,\n",
      "       20858, 20891, 20904, 20930, 20930, 20934, 20949, 20953, 20953,\n",
      "       20953, 21008, 21026, 21026, 21026, 21041, 21042, 21042, 21042,\n",
      "       21046, 21046, 21079, 21079, 21079, 21092, 21118, 21118, 21122,\n",
      "       21137, 21141, 21141, 21141, 21196, 21214, 21214, 21214, 21229,\n",
      "       21230, 21230, 21230, 21234, 21234, 21267, 21267, 21267, 21280,\n",
      "       21306, 21306, 21310, 21325, 21329, 21329, 21329, 21384, 21384,\n",
      "       21402, 21402, 21402, 21417, 21418, 21418, 21418, 21422, 21422,\n",
      "       21455, 21455, 21455, 21468, 21494, 21494, 21498, 21513, 21517,\n",
      "       21517, 21517, 21572, 21572, 21590, 21590, 21590, 21605, 21606,\n",
      "       21606, 21606, 21610, 21610, 21643, 21643, 21643, 21656, 21682,\n",
      "       21682, 21686, 21701, 21705, 21705, 21705, 21760, 21760, 21778,\n",
      "       21778, 21778, 21793, 21794, 21794, 21794, 21798, 21798, 21831,\n",
      "       21831, 21831, 21844, 21870, 21870, 21874, 21889, 21893, 21893,\n",
      "       21893, 21948, 21948, 21966, 21966, 21966, 21981, 21982, 21982,\n",
      "       21982, 21986, 21986, 22019, 22019, 22019, 22032, 22058, 22058,\n",
      "       22062, 22077, 22081, 22081, 22081, 22136, 22136, 22154, 22154,\n",
      "       22154, 22169, 22170, 22170, 22170, 22174, 22174, 22207, 22207,\n",
      "       22207, 22220, 22246, 22246, 22250, 22265, 22269, 22269, 22269,\n",
      "       22324, 22324, 22342, 22342, 22342, 22357, 22358, 22358, 22358,\n",
      "       22362, 22362, 22395, 22395, 22395, 22408, 22434, 22434, 22438,\n",
      "       22453, 22457, 22457, 22457, 22512, 22512, 22530, 22530, 22530,\n",
      "       22545, 22546, 22546, 22546, 22550, 22550, 22583, 22583, 22583,\n",
      "       22596, 22622, 22622, 22626, 22639, 22641, 22645, 22645, 22645,\n",
      "       22700, 22700, 22718, 22718, 22718, 22733, 22734, 22734, 22734,\n",
      "       22738, 22738, 22771, 22771, 22771, 22784, 22810, 22810, 22814,\n",
      "       22827, 22829, 22833, 22833, 22833, 22888, 22888, 22906, 22906,\n",
      "       22906, 22921, 22922, 22922, 22922, 22926, 22926, 22959, 22959,\n",
      "       22959, 22972, 22998, 22998, 23002, 23015, 23017, 23021, 23021,\n",
      "       23021, 23076, 23076, 23094, 23094, 23094, 23109, 23110, 23110,\n",
      "       23110, 23114, 23114, 23147, 23147, 23147, 23160, 23186, 23186,\n",
      "       23190, 23203, 23205, 23209, 23209, 23209, 23258, 23264, 23264,\n",
      "       23282, 23282, 23282, 23297, 23298, 23298, 23298, 23302, 23302,\n",
      "       23335, 23335, 23335, 23348, 23374, 23374, 23378, 23391, 23393,\n",
      "       23397, 23397, 23397, 23425, 23446, 23452, 23452, 23470, 23470,\n",
      "       23470, 23485, 23486, 23486, 23486, 23490, 23490, 23523, 23523,\n",
      "       23523, 23536, 23562, 23562, 23566, 23579, 23581, 23585, 23585,\n",
      "       23585, 23613, 23634, 23640, 23640, 23647, 23658, 23658, 23658,\n",
      "       23673, 23674, 23674, 23674, 23678, 23678], dtype=int32), array([1, 1, 1, 1, 1, 1, 1, 1, 1, 1, 1, 1, 1, 1, 1, 1, 1, 1, 1, 1, 1, 1,\n",
      "       1, 1, 1, 1, 1, 1, 0, 1, 2, 0, 1, 2, 0, 1, 2, 0, 1, 2, 0, 1, 2, 2,\n",
      "       0, 1, 2, 2, 0, 2, 1, 2, 2, 0, 2, 1, 2, 1, 2, 0, 2, 1, 1, 2, 1, 2,\n",
      "       0, 2, 1, 2, 1, 2, 1, 2, 0, 2, 1, 2, 1, 2, 1, 2, 0, 2, 1, 2, 1, 2,\n",
      "       1, 2, 0, 2, 1, 2, 1, 2, 1, 2, 0, 2, 2, 1, 2, 1, 1, 2, 1, 2, 0, 2,\n",
      "       2, 1, 2, 1, 1, 2, 1, 2, 0, 1, 2, 2, 1, 2, 1, 1, 2, 0, 1, 2, 0, 1,\n",
      "       2, 2, 1, 2, 1, 1, 2, 0, 1, 2, 0, 1, 2, 2, 1, 2, 1, 1, 2, 0, 1, 2,\n",
      "       0, 1, 2, 2, 1, 2, 1, 1, 2, 0, 1, 2, 0, 1, 2, 2, 1, 2, 1, 1, 1, 2,\n",
      "       0, 1, 2, 0, 1, 2, 2, 1, 2, 1, 1, 0, 1, 2, 0, 1, 2, 0, 1, 2, 2, 1,\n",
      "       2, 1, 1, 0, 1, 2, 0, 1, 2, 0, 1, 2, 2, 1, 2, 1, 1, 0, 1, 2, 0, 1,\n",
      "       2, 0, 1, 2, 2, 1, 2, 1, 1, 0, 1, 2, 0, 1, 2, 0, 1, 2, 2, 1, 2, 1,\n",
      "       1, 0, 1, 2, 0, 1, 2, 0, 1, 2, 2, 1, 2, 1, 1, 0, 1, 2, 0, 1, 2, 0,\n",
      "       1, 2, 2, 1, 2, 1, 1, 0, 1, 2, 0, 1, 2, 0, 1, 2, 2, 1, 2, 1, 1, 0,\n",
      "       1, 2, 0, 1, 2, 0, 1, 2, 2, 1, 1, 2, 1, 1, 0, 1, 2, 0, 1, 2, 0, 1,\n",
      "       2, 2, 1, 1, 2, 1, 1, 0, 1, 2, 0, 1, 2, 1, 0, 1, 2, 2, 1, 1, 2, 1,\n",
      "       1, 0, 1, 2, 0, 1, 2, 1, 0, 1, 2, 2, 1, 1, 2, 1, 1, 0, 1, 2, 0, 1,\n",
      "       2, 1, 0, 1, 2, 0, 2, 1, 1, 2, 1, 1, 0, 1, 2, 0, 1, 2, 1, 0, 1, 2,\n",
      "       0, 2, 1, 1, 2, 1, 1, 0, 1, 2, 0, 1, 2, 1, 0, 1, 2, 0, 2, 1, 1, 1,\n",
      "       2, 1, 1, 0, 1, 2, 0, 1, 2, 1, 0, 1, 2, 0, 2, 1, 1, 1, 2, 1, 1, 0,\n",
      "       1, 2, 0, 1, 2, 1, 0, 1, 2, 0, 2, 1, 1, 1, 2, 1, 1, 0, 1, 2, 0, 1,\n",
      "       2, 1, 0, 1, 2, 0, 2, 1, 1, 1, 2, 1, 1, 0, 1, 2, 0, 0, 1, 2, 1, 0,\n",
      "       1, 2, 0, 2, 1, 1, 1, 2, 1, 1, 0, 1, 2, 0, 0, 1, 2, 1, 0, 1, 2, 0,\n",
      "       2, 1, 1, 1, 2, 1, 1, 0, 1, 2, 0, 0, 1, 2, 1, 0, 1, 2, 0, 2, 1, 1,\n",
      "       1, 2, 1, 1, 0, 1, 2, 0, 0, 1, 2, 1, 0, 1, 2, 0, 2, 1, 1, 1, 2, 1,\n",
      "       1, 0, 1, 2, 0, 0, 1, 2, 1, 0, 1, 2, 0, 2, 0, 1, 2, 1, 1, 2, 1, 1,\n",
      "       0, 1, 2, 0, 0, 1, 2, 1, 0, 1, 2, 0, 2, 0, 1, 2, 1, 1, 2, 1, 1, 0,\n",
      "       1, 2, 0, 1, 0, 1, 2, 1, 0, 1, 2, 0, 2, 0, 1, 2, 1, 1, 2, 1, 1, 0,\n",
      "       1, 2, 0, 1, 0, 1, 2, 1, 0, 1, 2, 0, 2, 0, 1, 2, 1, 1, 2, 1, 1, 0,\n",
      "       1, 2, 0, 1, 0, 1, 2, 1, 0, 1, 2, 0, 2, 0, 1, 2, 1, 1, 2, 1, 1, 0,\n",
      "       1, 2, 0, 1, 0, 1, 2, 1, 0, 1, 2, 0, 2, 0, 1, 2, 1, 1, 2, 1, 1, 0,\n",
      "       1, 2, 0, 1, 0, 1, 2, 1, 0, 1, 2, 0, 2, 0, 1, 2, 1, 1, 2, 1, 1, 0,\n",
      "       1, 2, 0, 1, 0, 1, 2, 1, 0, 1, 2, 0, 2, 0, 1, 2, 1, 1, 2, 1, 1, 0,\n",
      "       1, 2, 0, 1, 0, 1, 2, 1, 0, 1, 2, 0, 2, 0, 1, 2, 1, 1, 2, 1, 1, 1,\n",
      "       0, 1, 2, 0, 1, 0, 1, 2, 1, 0, 1, 2, 0, 2, 0, 1, 2, 1, 1, 2, 1, 1,\n",
      "       1, 0, 1, 2, 0, 1, 0, 1, 2, 1, 0, 1, 2, 0, 2, 0, 1, 2, 1, 1, 2, 1,\n",
      "       1, 1, 0, 1, 2, 0, 1, 0, 1, 2, 1, 0, 1, 2, 0, 2, 0, 1, 2, 1, 1, 2,\n",
      "       1, 1, 1, 0, 1, 2, 1, 0, 1, 0, 1, 2, 1, 0, 1, 2, 0, 2, 0, 1, 2, 1,\n",
      "       1, 2, 1, 1, 1, 0, 1, 2, 1, 1, 0, 1, 0, 1, 2, 1, 0, 1, 2, 0, 2, 0,\n",
      "       1, 2, 1, 1, 2, 1, 1, 1, 0, 1, 2, 1, 1, 0, 1, 1, 0, 1, 2, 1, 0, 1,\n",
      "       2, 0, 2], dtype=int32))\n"
     ]
    }
   ],
   "source": [
    "z=np.abs(zscore(df))\n",
    "threshold=3\n",
    "print(np.where(z>3))"
   ]
  },
  {
   "cell_type": "code",
   "execution_count": 30,
   "metadata": {},
   "outputs": [
    {
     "data": {
      "text/plain": [
       "(23177, 3)"
      ]
     },
     "execution_count": 30,
     "metadata": {},
     "output_type": "execute_result"
    }
   ],
   "source": [
    "df_new=df[(z<3).all(axis=1)]\n",
    "df_new.shape"
   ]
  },
  {
   "cell_type": "code",
   "execution_count": 31,
   "metadata": {},
   "outputs": [
    {
     "data": {
      "text/plain": [
       "(23688, 3)"
      ]
     },
     "execution_count": 31,
     "metadata": {},
     "output_type": "execute_result"
    }
   ],
   "source": [
    "df.shape"
   ]
  },
  {
   "cell_type": "markdown",
   "metadata": {},
   "source": [
    "# Percentage of Data loss"
   ]
  },
  {
   "cell_type": "code",
   "execution_count": 32,
   "metadata": {},
   "outputs": [],
   "source": [
    "loss_percent=(23688-23177)/2368*100"
   ]
  },
  {
   "cell_type": "code",
   "execution_count": 33,
   "metadata": {},
   "outputs": [
    {
     "data": {
      "text/plain": [
       "21.57939189189189"
      ]
     },
     "execution_count": 33,
     "metadata": {},
     "output_type": "execute_result"
    }
   ],
   "source": [
    "loss_percent "
   ]
  },
  {
   "cell_type": "markdown",
   "metadata": {},
   "source": [
    "21% has been data loss ,its a huge amount of data loss"
   ]
  },
  {
   "cell_type": "code",
   "execution_count": 34,
   "metadata": {},
   "outputs": [],
   "source": [
    "x=df_new.drop(\"Deaths\",axis=1)\n",
    "y=df_new[\"Deaths\"]"
   ]
  },
  {
   "cell_type": "code",
   "execution_count": 35,
   "metadata": {},
   "outputs": [
    {
     "data": {
      "text/plain": [
       "0         0\n",
       "1         0\n",
       "2         0\n",
       "3         0\n",
       "4         0\n",
       "         ..\n",
       "23683     3\n",
       "23684     1\n",
       "23685    49\n",
       "23686     7\n",
       "23687     4\n",
       "Name: Deaths, Length: 23177, dtype: int64"
      ]
     },
     "execution_count": 35,
     "metadata": {},
     "output_type": "execute_result"
    }
   ],
   "source": [
    "y"
   ]
  },
  {
   "cell_type": "markdown",
   "metadata": {},
   "source": [
    "# transforing data to remove skewness"
   ]
  },
  {
   "cell_type": "code",
   "execution_count": 36,
   "metadata": {},
   "outputs": [
    {
     "data": {
      "text/plain": [
       "array([[-1.11523507, -0.92085422],\n",
       "       [-1.11523507, -0.92085422],\n",
       "       [-1.11523507, -0.92085422],\n",
       "       ...,\n",
       "       [ 0.72632509,  0.37203629],\n",
       "       [ 1.03027292,  1.28617797],\n",
       "       [ 0.32944011,  0.67855172]])"
      ]
     },
     "execution_count": 36,
     "metadata": {},
     "output_type": "execute_result"
    }
   ],
   "source": [
    "from sklearn.preprocessing import power_transform\n",
    "x=power_transform(x,method=\"yeo-johnson\")\n",
    "x"
   ]
  },
  {
   "cell_type": "code",
   "execution_count": 37,
   "metadata": {},
   "outputs": [
    {
     "data": {
      "text/plain": [
       "array([[-1.11523507, -0.92085422],\n",
       "       [-1.11523507, -0.92085422],\n",
       "       [-1.11523507, -0.92085422],\n",
       "       ...,\n",
       "       [ 0.72632509,  0.37203629],\n",
       "       [ 1.03027292,  1.28617797],\n",
       "       [ 0.32944011,  0.67855172]])"
      ]
     },
     "execution_count": 37,
     "metadata": {},
     "output_type": "execute_result"
    }
   ],
   "source": [
    "from sklearn.preprocessing import StandardScaler\n",
    "sc=StandardScaler()\n",
    "scaledx=sc.fit_transform(x)\n",
    "scaledx\n"
   ]
  },
  {
   "cell_type": "code",
   "execution_count": 38,
   "metadata": {},
   "outputs": [
    {
     "data": {
      "text/plain": [
       "(23177,)"
      ]
     },
     "execution_count": 38,
     "metadata": {},
     "output_type": "execute_result"
    }
   ],
   "source": [
    "y.shape"
   ]
  },
  {
   "cell_type": "code",
   "execution_count": 39,
   "metadata": {},
   "outputs": [],
   "source": [
    "from sklearn.model_selection import train_test_split\n",
    "from sklearn.linear_model import LogisticRegression\n",
    "from sklearn.metrics import accuracy_score,classification_report,confusion_matrix"
   ]
  },
  {
   "cell_type": "code",
   "execution_count": 40,
   "metadata": {},
   "outputs": [],
   "source": [
    "x_train,x_test,y_train,y_test=train_test_split(scaledx,y,test_size=.25,random_state=42)"
   ]
  },
  {
   "cell_type": "code",
   "execution_count": 41,
   "metadata": {},
   "outputs": [
    {
     "name": "stdout",
     "output_type": "stream",
     "text": [
      "0.5603106125970664\n"
     ]
    }
   ],
   "source": [
    "lg=LogisticRegression()\n",
    "lg.fit(x_train,y_train)\n",
    "predlg=lg.predict(x_test)\n",
    "print(accuracy_score(y_test,predlg))"
   ]
  },
  {
   "cell_type": "code",
   "execution_count": 42,
   "metadata": {},
   "outputs": [
    {
     "name": "stdout",
     "output_type": "stream",
     "text": [
      "              precision    recall  f1-score   support\n",
      "\n",
      "           0       0.81      0.98      0.89      3228\n",
      "           1       0.09      0.08      0.08       303\n",
      "           2       0.03      0.01      0.01       154\n",
      "           3       0.05      0.03      0.04       140\n",
      "           4       0.00      0.00      0.00        92\n",
      "           5       0.00      0.00      0.00        69\n",
      "           6       0.06      0.07      0.07        82\n",
      "           7       0.00      0.00      0.00        82\n",
      "           8       0.00      0.00      0.00        60\n",
      "           9       0.00      0.00      0.00        76\n",
      "          10       0.04      0.62      0.07        71\n",
      "          11       0.00      0.00      0.00        51\n",
      "          12       0.00      0.00      0.00        36\n",
      "          13       0.00      0.00      0.00        30\n",
      "          14       0.02      0.16      0.03        19\n",
      "          15       0.00      0.00      0.00        16\n",
      "          16       0.00      0.00      0.00        23\n",
      "          17       0.00      0.00      0.00        22\n",
      "          18       0.00      0.00      0.00        20\n",
      "          19       0.00      0.00      0.00        18\n",
      "          20       0.00      0.00      0.00        32\n",
      "          21       0.00      0.00      0.00        31\n",
      "          22       0.00      0.00      0.00        20\n",
      "          23       0.00      0.00      0.00        14\n",
      "          24       0.00      0.00      0.00        11\n",
      "          25       0.00      0.00      0.00        15\n",
      "          26       0.00      0.00      0.00        18\n",
      "          27       0.00      0.00      0.00        13\n",
      "          28       0.00      0.00      0.00        16\n",
      "          29       0.00      0.00      0.00        12\n",
      "          30       0.00      0.00      0.00         8\n",
      "          31       0.00      0.00      0.00        13\n",
      "          32       0.00      0.00      0.00        15\n",
      "          33       0.00      0.00      0.00        10\n",
      "          34       0.00      0.00      0.00         4\n",
      "          35       0.00      0.00      0.00         8\n",
      "          36       0.00      0.00      0.00        10\n",
      "          37       0.00      0.00      0.00         4\n",
      "          38       0.00      0.00      0.00        10\n",
      "          39       0.00      0.00      0.00         5\n",
      "          40       0.00      0.00      0.00         6\n",
      "          41       0.00      0.00      0.00        13\n",
      "          42       0.00      0.00      0.00        11\n",
      "          43       0.00      0.00      0.00         8\n",
      "          44       0.00      0.00      0.00        10\n",
      "          45       0.00      0.00      0.00         9\n",
      "          46       0.00      0.00      0.00         4\n",
      "          47       0.00      0.00      0.00         6\n",
      "          48       0.00      0.00      0.00         8\n",
      "          49       0.00      0.00      0.00         6\n",
      "          50       0.00      0.00      0.00         9\n",
      "          51       0.00      0.00      0.00         8\n",
      "          52       0.00      0.00      0.00         8\n",
      "          53       0.00      0.00      0.00         4\n",
      "          54       0.00      0.00      0.00        10\n",
      "          55       0.00      0.00      0.00         9\n",
      "          56       0.00      0.00      0.00        10\n",
      "          57       0.00      0.00      0.00         4\n",
      "          58       0.00      0.00      0.00         6\n",
      "          59       0.00      0.00      0.00         2\n",
      "          60       0.00      0.00      0.00         6\n",
      "          61       0.00      0.00      0.00         8\n",
      "          62       0.00      0.00      0.00         1\n",
      "          63       0.00      0.00      0.00         3\n",
      "          64       0.00      0.00      0.00         6\n",
      "          65       0.00      0.00      0.00         5\n",
      "          66       0.00      0.00      0.00         3\n",
      "          67       0.00      0.00      0.00         4\n",
      "          68       0.00      0.00      0.00         2\n",
      "          69       0.00      0.00      0.00         3\n",
      "          70       0.00      0.00      0.00         2\n",
      "          71       0.00      0.00      0.00         3\n",
      "          72       0.00      0.00      0.00         2\n",
      "          73       0.00      0.00      0.00         3\n",
      "          74       0.00      0.00      0.00         1\n",
      "          75       0.00      0.00      0.00         3\n",
      "          76       0.00      0.00      0.00         4\n",
      "          77       0.00      0.00      0.00         2\n",
      "          78       0.00      0.00      0.00         5\n",
      "          79       0.00      0.00      0.00         9\n",
      "          80       0.00      0.00      0.00         6\n",
      "          81       0.00      0.00      0.00         1\n",
      "          82       0.00      0.00      0.00         3\n",
      "          83       0.00      0.00      0.00         4\n",
      "          84       0.00      0.00      0.00         2\n",
      "          85       0.00      0.00      0.00         3\n",
      "          86       0.00      0.00      0.00         3\n",
      "          87       0.00      0.00      0.00         1\n",
      "          88       0.00      0.00      0.00         3\n",
      "          89       0.00      0.00      0.00         3\n",
      "          90       0.00      0.00      0.00         3\n",
      "          91       0.00      0.00      0.00         6\n",
      "          92       0.00      0.00      0.00         6\n",
      "          93       0.00      0.00      0.00         4\n",
      "          94       0.00      0.00      0.00         6\n",
      "          95       0.00      0.00      0.00         3\n",
      "          96       0.00      0.00      0.00         4\n",
      "          97       0.00      0.00      0.00         3\n",
      "          98       0.00      0.00      0.00         5\n",
      "          99       0.00      0.00      0.00         6\n",
      "         100       0.00      0.00      0.00         1\n",
      "         101       0.00      0.00      0.00         2\n",
      "         102       0.00      0.00      0.00         7\n",
      "         103       0.00      0.00      0.00         5\n",
      "         104       0.00      0.00      0.00         3\n",
      "         105       0.00      0.00      0.00         2\n",
      "         106       0.00      0.00      0.00         1\n",
      "         107       0.00      0.00      0.00         3\n",
      "         108       0.00      0.00      0.00         4\n",
      "         109       0.00      0.00      0.00         2\n",
      "         110       0.00      0.00      0.00         5\n",
      "         111       0.00      0.00      0.00         2\n",
      "         113       0.00      0.00      0.00         1\n",
      "         114       0.00      0.00      0.00         2\n",
      "         115       0.00      0.00      0.00         1\n",
      "         116       0.00      0.00      0.00         4\n",
      "         117       0.00      0.00      0.00         1\n",
      "         118       0.00      0.00      0.00         1\n",
      "         119       0.00      0.00      0.00         1\n",
      "         120       0.00      0.00      0.00         3\n",
      "         121       0.00      0.00      0.00         1\n",
      "         122       0.00      0.00      0.00         2\n",
      "         123       0.00      0.00      0.00         1\n",
      "         124       0.00      0.00      0.00         1\n",
      "         125       0.00      0.00      0.00         1\n",
      "         126       0.00      0.00      0.00         3\n",
      "         128       0.00      0.00      0.00         1\n",
      "         129       0.00      0.00      0.00         1\n",
      "         130       0.00      0.00      0.00         2\n",
      "         131       0.00      0.00      0.00         1\n",
      "         132       0.00      0.00      0.00         1\n",
      "         133       0.00      0.00      0.00         1\n",
      "         134       0.00      0.00      0.00         1\n",
      "         135       0.00      0.00      0.00         2\n",
      "         136       0.00      0.00      0.00         2\n",
      "         137       0.00      0.00      0.00         2\n",
      "         138       0.00      0.00      0.00         2\n",
      "         139       0.00      0.00      0.00         3\n",
      "         140       0.00      0.00      0.00         2\n",
      "         141       0.00      0.00      0.00         2\n",
      "         142       0.00      0.00      0.00         2\n",
      "         143       0.00      0.00      0.00         1\n",
      "         144       0.00      0.00      0.00         2\n",
      "         145       0.00      0.00      0.00         2\n",
      "         146       0.00      0.00      0.00         1\n",
      "         147       0.00      0.00      0.00         3\n",
      "         148       0.00      0.00      0.00         1\n",
      "         149       0.00      0.00      0.00         2\n",
      "         150       0.00      0.00      0.00         2\n",
      "         151       0.00      0.00      0.00         2\n",
      "         152       0.00      0.00      0.00         2\n",
      "         153       0.00      0.00      0.00         2\n",
      "         155       0.00      0.00      0.00         1\n",
      "         156       0.00      0.00      0.00         1\n",
      "         158       0.00      0.00      0.00         1\n",
      "         159       0.00      0.00      0.00         2\n",
      "         163       0.00      0.00      0.00         1\n",
      "         164       0.00      0.00      0.00         3\n",
      "         165       0.00      0.00      0.00         8\n",
      "         167       0.00      0.00      0.00         1\n",
      "         168       0.00      0.00      0.00         2\n",
      "         169       0.00      0.00      0.00         3\n",
      "         170       0.00      0.00      0.00         1\n",
      "         171       0.00      0.00      0.00         3\n",
      "         172       0.00      0.00      0.00         3\n",
      "         173       0.00      0.00      0.00         2\n",
      "         174       0.00      0.00      0.00         4\n",
      "         175       0.00      0.00      0.00         1\n",
      "         176       0.00      0.00      0.00         2\n",
      "         177       0.00      0.00      0.00         4\n",
      "         178       0.00      0.00      0.00         1\n",
      "         179       0.00      0.00      0.00         4\n",
      "         180       0.00      0.00      0.00         2\n",
      "         181       0.00      0.00      0.00         1\n",
      "         182       0.00      0.00      0.00         1\n",
      "         183       0.00      0.00      0.00         1\n",
      "         184       0.00      0.00      0.00         1\n",
      "         185       0.00      0.00      0.00         1\n",
      "         186       0.00      0.00      0.00         1\n",
      "         187       0.00      0.00      0.00         1\n",
      "         188       0.00      0.00      0.00         1\n",
      "         190       0.00      0.00      0.00         1\n",
      "         191       0.00      0.00      0.00         1\n",
      "         192       0.00      0.00      0.00         1\n",
      "         193       0.00      0.00      0.00         2\n",
      "         196       0.00      0.00      0.00         1\n",
      "         197       0.00      0.00      0.00         2\n",
      "         198       0.00      0.00      0.00         3\n",
      "         199       0.00      0.00      0.00         2\n",
      "         200       0.00      0.00      0.00         1\n",
      "         201       0.00      0.00      0.00         5\n",
      "         203       0.00      0.00      0.00         1\n",
      "         204       0.00      0.00      0.00         1\n",
      "         205       0.00      0.00      0.00         2\n",
      "         206       0.00      0.00      0.00         4\n",
      "         208       0.00      0.00      0.00         3\n",
      "         210       0.00      0.00      0.00         1\n",
      "         211       0.00      0.00      0.00         1\n",
      "         214       0.00      0.00      0.00         3\n",
      "         215       0.00      0.00      0.00         2\n",
      "         216       0.00      0.00      0.00         1\n",
      "         217       0.00      0.00      0.00         2\n",
      "         218       0.00      0.00      0.00         2\n",
      "         219       0.00      0.00      0.00         1\n",
      "         220       0.00      0.00      0.00         1\n",
      "         221       0.00      0.00      0.00         1\n",
      "         222       0.00      0.00      0.00         2\n",
      "         224       0.00      0.00      0.00         1\n",
      "         225       0.00      0.00      0.00         3\n",
      "         226       0.00      0.00      0.00         2\n",
      "         227       0.00      0.00      0.00         1\n",
      "         228       0.00      0.00      0.00         2\n",
      "         229       0.00      0.00      0.00         1\n",
      "         230       0.00      0.00      0.00         1\n",
      "         231       0.00      0.00      0.00         1\n",
      "         232       0.00      0.00      0.00         4\n",
      "         233       0.00      0.00      0.00         1\n",
      "         234       0.00      0.00      0.00         1\n",
      "         235       0.00      0.00      0.00         2\n",
      "         237       0.00      0.00      0.00         3\n",
      "         238       0.00      0.00      0.00         1\n",
      "         239       0.00      0.00      0.00         5\n",
      "         240       0.00      0.00      0.00         3\n",
      "         242       0.00      0.00      0.00         1\n",
      "         244       0.00      0.00      0.00         2\n",
      "         246       0.00      0.00      0.00         1\n",
      "         247       0.00      0.00      0.00         2\n",
      "         248       0.00      0.00      0.00         2\n",
      "         249       0.00      0.00      0.00         1\n",
      "         250       0.00      0.00      0.00         3\n",
      "         252       0.00      0.00      0.00         2\n",
      "         254       0.00      0.00      0.00         1\n",
      "         256       0.00      0.00      0.00         2\n",
      "         257       0.00      0.00      0.00         1\n",
      "         258       0.00      0.00      0.00         1\n",
      "         260       0.00      0.00      0.00         2\n",
      "         262       0.00      0.00      0.00         1\n",
      "         264       0.00      0.00      0.00         3\n",
      "         265       0.00      0.00      0.00         1\n",
      "         267       0.00      0.00      0.00         2\n",
      "         268       0.00      0.00      0.00         1\n",
      "         269       0.00      0.00      0.00         3\n",
      "         271       0.00      0.00      0.00         1\n",
      "         273       0.00      0.00      0.00         1\n",
      "         274       0.00      0.00      0.00         1\n",
      "         275       0.00      0.00      0.00         1\n",
      "         276       0.00      0.00      0.00         2\n",
      "         279       0.00      0.00      0.00         1\n",
      "         280       0.00      0.00      0.00         1\n",
      "         281       0.00      0.00      0.00         2\n",
      "         283       0.00      0.00      0.00         2\n",
      "         288       0.00      0.00      0.00         1\n",
      "         289       0.00      0.00      0.00         1\n",
      "         290       0.00      0.00      0.00         1\n",
      "         293       0.00      0.00      0.00         2\n",
      "         294       0.00      0.00      0.00         1\n",
      "         295       0.00      0.00      0.00         2\n",
      "         296       0.00      0.00      0.00         1\n",
      "         298       0.00      0.00      0.00         2\n",
      "         300       0.00      0.00      0.00         1\n",
      "         301       0.00      0.00      0.00         1\n",
      "         303       0.00      0.00      0.00         1\n",
      "         305       0.00      0.00      0.00         1\n",
      "         306       0.00      0.00      0.00         3\n",
      "         308       0.00      0.00      0.00         1\n",
      "         314       0.00      0.00      0.00         2\n",
      "         315       0.00      0.00      0.00         1\n",
      "         317       0.00      0.00      0.00         1\n",
      "         320       0.00      0.00      0.00         1\n",
      "         321       0.00      0.00      0.00         1\n",
      "         323       0.00      0.00      0.00         1\n",
      "         324       0.00      0.00      0.00         1\n",
      "         328       0.00      0.00      0.00         1\n",
      "         329       0.00      0.00      0.00         1\n",
      "         332       0.00      0.00      0.00         1\n",
      "         334       0.00      0.00      0.00         1\n",
      "         335       0.00      0.00      0.00         2\n",
      "         337       0.00      0.00      0.00         1\n",
      "         346       0.00      0.00      0.00         3\n",
      "         348       0.00      0.00      0.00         1\n",
      "         349       0.00      0.00      0.00         1\n",
      "         351       0.00      0.00      0.00         2\n",
      "         353       0.00      0.00      0.00         1\n",
      "         356       0.00      0.00      0.00         1\n",
      "         359       0.00      0.00      0.00         2\n",
      "         362       0.00      0.00      0.00         1\n",
      "         367       0.00      0.00      0.00         1\n",
      "         368       0.00      0.00      0.00         1\n",
      "         370       0.00      0.00      0.00         2\n",
      "         372       0.00      0.00      0.00         2\n",
      "         373       0.00      0.00      0.00         2\n",
      "         376       0.00      0.00      0.00         1\n",
      "         380       0.00      0.00      0.00         4\n",
      "         384       0.00      0.00      0.00         1\n",
      "         393       0.00      0.00      0.00         1\n",
      "         397       0.00      0.00      0.00         1\n",
      "         405       0.00      0.00      0.00         1\n",
      "         407       0.00      0.00      0.00         1\n",
      "         409       0.00      0.00      0.00         2\n",
      "         411       0.00      0.00      0.00         1\n",
      "         413       0.00      0.00      0.00         1\n",
      "         415       0.00      0.00      0.00         1\n",
      "         421       0.00      0.00      0.00         1\n",
      "         422       0.00      0.00      0.00         1\n",
      "         424       0.00      0.00      0.00         1\n",
      "         425       0.00      0.00      0.00         2\n",
      "         428       0.00      0.00      0.00         2\n",
      "         432       0.00      0.00      0.00         1\n",
      "         434       0.00      0.00      0.00         1\n",
      "         436       0.00      0.00      0.00         1\n",
      "         443       0.00      0.00      0.00         1\n",
      "         445       0.00      0.00      0.00         1\n",
      "         446       0.00      0.00      0.00         1\n",
      "         451       0.00      0.00      0.00         1\n",
      "         452       0.00      0.00      0.00         2\n",
      "         454       0.00      0.00      0.00         1\n",
      "         459       0.00      0.00      0.00         1\n",
      "         462       0.00      0.00      0.00         1\n",
      "         470       0.00      0.00      0.00         1\n",
      "         474       0.00      0.00      0.00         1\n",
      "         475       0.00      0.00      0.00         1\n",
      "         476       0.00      0.00      0.00         2\n",
      "         478       0.00      0.00      0.00         1\n",
      "         480       0.00      0.00      0.00         1\n",
      "         481       0.00      0.00      0.00         1\n",
      "         484       0.00      0.00      0.00         1\n",
      "         486       0.00      0.00      0.00         2\n",
      "         491       0.00      0.00      0.00         1\n",
      "         493       0.00      0.00      0.00         2\n",
      "         497       0.00      0.00      0.00         1\n",
      "         498       0.00      0.00      0.00         1\n",
      "         499       0.00      0.00      0.00         1\n",
      "         509       0.00      0.00      0.00         1\n",
      "         510       0.00      0.00      0.00         1\n",
      "         514       0.00      0.00      0.00         1\n",
      "         520       0.00      0.00      0.00         2\n",
      "         521       0.00      0.00      0.00         1\n",
      "         530       0.00      0.00      0.00         2\n",
      "         533       0.00      0.00      0.00         3\n",
      "         535       0.00      0.00      0.00         1\n",
      "         536       0.00      0.00      0.00         1\n",
      "         542       0.00      0.00      0.00         1\n",
      "         544       0.00      0.00      0.00         2\n",
      "         548       0.00      0.00      0.00         1\n",
      "         551       0.00      0.00      0.00         1\n",
      "         555       0.00      0.00      0.00         1\n",
      "         556       0.00      0.00      0.00         1\n",
      "         558       0.00      0.00      0.00         1\n",
      "         560       0.00      0.00      0.00         1\n",
      "         564       0.00      0.00      0.00         1\n",
      "         571       0.00      0.00      0.00         1\n",
      "         574       0.00      0.00      0.00         1\n",
      "         576       0.00      0.00      0.00         1\n",
      "         579       0.00      0.00      0.00         1\n",
      "         580       0.00      0.00      0.00         1\n",
      "         582       0.00      0.00      0.00         2\n",
      "         588       0.00      0.00      0.00         1\n",
      "         589       0.00      0.00      0.00         1\n",
      "         590       0.00      0.00      0.00         1\n",
      "         596       0.00      0.00      0.00         2\n",
      "         599       0.00      0.00      0.00         1\n",
      "         605       0.00      0.00      0.00         1\n",
      "         607       0.00      0.00      0.00         1\n",
      "         608       0.00      0.00      0.00         1\n",
      "         612       0.00      0.00      0.00         1\n",
      "         613       0.00      0.00      0.00         1\n",
      "         620       0.00      0.00      0.00         1\n",
      "         623       0.00      0.00      0.00         1\n",
      "         633       0.00      0.00      0.00         2\n",
      "         641       0.00      0.00      0.00         1\n",
      "         644       0.00      0.00      0.00         2\n",
      "         645       0.00      0.00      0.00         2\n",
      "         652       0.00      0.00      0.00         1\n",
      "         654       0.00      0.00      0.00         1\n",
      "         664       0.00      0.00      0.00         1\n",
      "         666       0.00      0.00      0.00         1\n",
      "         676       0.00      0.00      0.00         1\n",
      "         687       0.00      0.00      0.00         1\n",
      "         689       0.00      0.00      0.00         1\n",
      "         700       0.00      0.00      0.00         1\n",
      "         704       0.00      0.00      0.00         1\n",
      "         705       0.00      0.00      0.00         1\n",
      "         712       0.00      0.00      0.00         1\n",
      "         713       0.00      0.00      0.00         1\n",
      "         714       0.00      0.00      0.00         1\n",
      "         716       0.00      0.00      0.00         1\n",
      "         725       0.00      0.00      0.00         1\n",
      "         727       0.00      0.00      0.00         1\n",
      "         730       0.00      0.00      0.00         1\n",
      "         735       0.00      0.00      0.00         1\n",
      "         751       0.00      0.00      0.00         1\n",
      "         769       0.00      0.00      0.00         1\n",
      "         771       0.00      0.00      0.00         1\n",
      "         772       0.00      0.00      0.00         1\n",
      "         775       0.00      0.00      0.00         1\n",
      "         776       0.00      0.00      0.00         1\n",
      "         793       0.00      0.00      0.00         1\n",
      "         796       0.00      0.00      0.00         1\n",
      "         800       0.00      0.00      0.00         1\n",
      "         806       0.00      0.00      0.00         2\n",
      "         811       0.00      0.00      0.00         1\n",
      "         818       0.00      0.00      0.00         1\n",
      "         819       0.00      0.00      0.00         1\n",
      "         863       0.00      0.00      0.00         1\n",
      "         868       0.00      0.00      0.00         1\n",
      "         879       0.00      0.00      0.00         1\n",
      "         880       0.00      0.00      0.00         1\n",
      "         888       0.00      0.00      0.00         1\n",
      "         908       0.00      0.00      0.00         1\n",
      "         920       0.00      0.00      0.00         1\n",
      "         928       0.00      0.00      0.00         1\n",
      "         939       0.00      0.00      0.00         1\n",
      "         985       0.00      0.00      0.00         1\n",
      "        1002       0.00      0.00      0.00         1\n",
      "        1008       0.00      0.00      0.00         2\n",
      "        1011       0.00      0.00      0.00         1\n",
      "        1033       0.00      0.00      0.00         1\n",
      "        1043       0.00      0.00      0.00         2\n",
      "        1057       0.00      0.00      0.00         1\n",
      "        1063       0.00      0.00      0.00         1\n",
      "        1070       0.00      0.00      0.00         1\n",
      "        1074       0.00      0.00      0.00         1\n",
      "        1079       0.00      0.00      0.00         1\n",
      "        1094       0.00      0.00      0.00         1\n",
      "        1105       0.00      0.00      0.00         1\n",
      "        1107       0.00      0.00      0.00         1\n",
      "        1135       0.00      0.00      0.00         1\n",
      "        1137       0.00      0.00      0.00         1\n",
      "        1143       0.00      0.00      0.00         1\n",
      "        1144       0.00      0.00      0.00         1\n",
      "        1147       0.00      0.00      0.00         1\n",
      "        1148       0.00      0.00      0.00         1\n",
      "        1154       0.00      0.00      0.00         1\n",
      "        1156       0.00      0.00      0.00         1\n",
      "        1190       0.00      0.00      0.00         1\n",
      "        1218       0.00      0.00      0.00         1\n",
      "        1232       0.00      0.00      0.00         1\n",
      "        1239       0.00      0.00      0.00         1\n",
      "        1247       0.00      0.00      0.00         1\n",
      "        1263       0.00      0.00      0.00         1\n",
      "        1265       0.00      0.00      0.00         1\n",
      "        1277       0.00      0.00      0.00         1\n",
      "        1280       0.00      0.00      0.00         1\n",
      "        1284       0.00      0.00      0.00         1\n",
      "        1289       0.00      0.00      0.00         1\n",
      "        1316       0.00      0.00      0.00         1\n",
      "        1319       0.00      0.00      0.00         1\n",
      "        1330       0.00      0.00      0.00         1\n",
      "        1339       0.00      0.00      0.00         1\n",
      "        1342       0.00      0.00      0.00         1\n",
      "        1371       0.00      0.00      0.00         1\n",
      "        1403       0.00      0.00      0.00         1\n",
      "        1418       0.00      0.00      0.00         1\n",
      "        1433       0.00      0.00      0.00         1\n",
      "        1447       0.00      0.00      0.00         1\n",
      "        1467       0.00      0.00      0.00         1\n",
      "        1488       0.00      0.00      0.00         1\n",
      "        1518       0.00      0.00      0.00         1\n",
      "        1556       0.00      0.00      0.00         1\n",
      "        1571       0.00      0.00      0.00         1\n",
      "        1599       0.00      0.00      0.00         1\n",
      "        1606       0.00      0.00      0.00         1\n",
      "        1615       0.00      0.00      0.00         1\n",
      "        1632       0.00      0.00      0.00         1\n",
      "        1663       0.00      0.00      0.00         1\n",
      "        1704       0.00      0.00      0.00         1\n",
      "        1716       0.00      0.00      0.00         1\n",
      "        1727       0.00      0.00      0.00         1\n",
      "        1765       0.00      0.00      0.00         1\n",
      "        1771       0.00      0.00      0.00         1\n",
      "        1772       0.00      0.00      0.00         1\n",
      "        1810       0.00      0.00      0.00         2\n",
      "        1823       0.00      0.00      0.00         1\n",
      "        1833       0.00      0.00      0.00         1\n",
      "        1859       0.00      0.00      0.00         1\n",
      "        1872       0.00      0.00      0.00         1\n",
      "        2003       0.00      0.00      0.00         1\n",
      "        2127       0.00      0.00      0.00         1\n",
      "        2140       0.00      0.00      0.00         1\n",
      "        2158       0.00      0.00      0.00         1\n",
      "        2169       0.00      0.00      0.00         1\n",
      "        2238       0.00      0.00      0.00         1\n",
      "        2241       0.00      0.00      0.00         1\n",
      "        2255       0.00      0.00      0.00         1\n",
      "        2274       0.00      0.00      0.00         1\n",
      "        2349       0.00      0.00      0.00         1\n",
      "        2378       0.00      0.00      0.00         1\n",
      "        2392       0.00      0.00      0.00         1\n",
      "        2443       0.00      0.00      0.00         1\n",
      "        2445       0.00      0.00      0.00         1\n",
      "        2586       0.00      0.00      0.00         1\n",
      "        2587       0.00      0.00      0.00         1\n",
      "        2653       0.00      0.00      0.00         1\n",
      "        2665       0.00      0.00      0.00         1\n",
      "        2706       0.00      0.00      0.00         1\n",
      "        2744       0.00      0.00      0.00         1\n",
      "        2757       0.00      0.00      0.00         1\n",
      "        2789       0.00      0.00      0.00         1\n",
      "        2808       0.00      0.00      0.00         1\n",
      "        2888       0.00      0.00      0.00         1\n",
      "        2961       0.00      0.00      0.00         1\n",
      "        2992       0.00      0.00      0.00         1\n",
      "        3025       0.00      0.00      0.00         1\n",
      "        3040       0.00      0.00      0.00         1\n",
      "        3156       0.00      0.00      0.00         1\n",
      "        3203       0.00      0.00      0.00         1\n",
      "        3220       0.00      0.00      0.00         1\n",
      "        3256       0.00      0.00      0.00         1\n",
      "        3294       0.00      0.00      0.00         1\n",
      "        3302       0.00      0.00      0.00         1\n",
      "        3373       0.00      0.00      0.00         1\n",
      "        3452       0.00      0.00      0.00         1\n",
      "        3460       0.00      0.00      0.00         1\n",
      "        3471       0.00      0.00      0.00         1\n",
      "        3600       0.00      0.00      0.00         1\n",
      "        3646       0.00      0.00      0.00         1\n",
      "        3679       0.00      0.00      0.00         1\n",
      "        3764       0.00      0.00      0.00         1\n",
      "        4190       0.00      0.00      0.00         1\n",
      "        4286       0.00      0.00      0.00         1\n",
      "        4357       0.00      0.00      0.00         1\n",
      "        4541       0.00      0.00      0.00         1\n",
      "        4727       0.00      0.00      0.00         1\n",
      "        4823       0.00      0.00      0.00         1\n",
      "        4857       0.00      0.00      0.00         1\n",
      "        5072       0.00      0.00      0.00         1\n",
      "        5163       0.00      0.00      0.00         1\n",
      "        5185       0.00      0.00      0.00         1\n",
      "        5332       0.00      0.00      0.00         1\n",
      "        5398       0.00      0.00      0.00         1\n",
      "        5453       0.00      0.00      0.00         1\n",
      "        5476       0.00      0.00      0.00         1\n",
      "        5513       0.00      0.00      0.00         1\n",
      "        5529       0.00      0.00      0.00         1\n",
      "        5592       0.00      0.00      0.00         1\n",
      "        5662       0.00      0.00      0.00         1\n",
      "        5699       0.00      0.00      0.00         1\n",
      "        5713       0.00      0.00      0.00         1\n",
      "        5794       0.00      0.00      0.00         1\n",
      "        5828       0.00      0.00      0.00         1\n",
      "        5841       0.00      0.00      0.00         1\n",
      "        5960       0.00      0.00      0.00         1\n",
      "        6028       0.00      0.00      0.00         1\n",
      "        6090       0.00      0.00      0.00         1\n",
      "        6150       0.00      0.00      0.00         1\n",
      "        6262       0.00      0.00      0.00         1\n",
      "        6412       0.00      0.00      0.00         1\n",
      "        6466       0.00      0.00      0.00         1\n",
      "        6655       0.00      0.00      0.00         1\n",
      "        7051       0.00      0.00      0.00         1\n",
      "        7331       0.00      0.00      0.00         1\n",
      "        7594       0.00      0.00      0.00         1\n",
      "        8415       0.00      0.00      0.00         1\n",
      "        8656       0.00      0.00      0.00         1\n",
      "        8843       0.00      0.00      0.00         1\n",
      "        9134       0.00      0.00      0.00         1\n",
      "        9237       0.00      0.00      0.00         1\n",
      "        9387       0.00      0.00      0.00         1\n",
      "        9623       0.00      0.00      0.00         1\n",
      "       12302       0.00      0.00      0.00         1\n",
      "\n",
      "    accuracy                           0.56      5795\n",
      "   macro avg       0.00      0.00      0.00      5795\n",
      "weighted avg       0.46      0.56      0.50      5795\n",
      "\n"
     ]
    }
   ],
   "source": [
    "print(classification_report(y_test,predlg))"
   ]
  },
  {
   "cell_type": "code",
   "execution_count": 43,
   "metadata": {},
   "outputs": [
    {
     "name": "stdout",
     "output_type": "stream",
     "text": [
      "[[3166   50    0 ...    0    0    0]\n",
      " [ 266   23    2 ...    0    0    0]\n",
      " [ 109   27    1 ...    0    0    0]\n",
      " ...\n",
      " [   0    0    0 ...    0    0    0]\n",
      " [   0    0    0 ...    0    0    0]\n",
      " [   0    0    0 ...    0    0    0]]\n"
     ]
    }
   ],
   "source": [
    "print(confusion_matrix(y_test,predlg))"
   ]
  },
  {
   "cell_type": "code",
   "execution_count": 44,
   "metadata": {},
   "outputs": [],
   "source": [
    "from sklearn.svm import SVC"
   ]
  },
  {
   "cell_type": "code",
   "execution_count": 45,
   "metadata": {},
   "outputs": [
    {
     "name": "stdout",
     "output_type": "stream",
     "text": [
      "0.5635893011216566\n"
     ]
    }
   ],
   "source": [
    "svc=SVC()\n",
    "svc.fit(x_train,y_train)\n",
    "predsvc=svc.predict(x_test)\n",
    "print(accuracy_score(y_test,predsvc))\n"
   ]
  },
  {
   "cell_type": "markdown",
   "metadata": {},
   "source": [
    "svc is working well,its taking so much time to excute it so i am going with support vector classifier"
   ]
  },
  {
   "cell_type": "code",
   "execution_count": 47,
   "metadata": {},
   "outputs": [],
   "source": [
    "a=np.array(y_test)"
   ]
  },
  {
   "cell_type": "code",
   "execution_count": 48,
   "metadata": {},
   "outputs": [],
   "source": [
    "predicted=np.array(svc.predict(x_test))"
   ]
  },
  {
   "cell_type": "code",
   "execution_count": 50,
   "metadata": {},
   "outputs": [],
   "source": [
    "df_con=pd.DataFrame({\"original\":a,\"predicted\":predicted},index=range(len(a)))"
   ]
  },
  {
   "cell_type": "code",
   "execution_count": 51,
   "metadata": {},
   "outputs": [
    {
     "data": {
      "text/html": [
       "<div>\n",
       "<style scoped>\n",
       "    .dataframe tbody tr th:only-of-type {\n",
       "        vertical-align: middle;\n",
       "    }\n",
       "\n",
       "    .dataframe tbody tr th {\n",
       "        vertical-align: top;\n",
       "    }\n",
       "\n",
       "    .dataframe thead th {\n",
       "        text-align: right;\n",
       "    }\n",
       "</style>\n",
       "<table border=\"1\" class=\"dataframe\">\n",
       "  <thead>\n",
       "    <tr style=\"text-align: right;\">\n",
       "      <th></th>\n",
       "      <th>original</th>\n",
       "      <th>predicted</th>\n",
       "    </tr>\n",
       "  </thead>\n",
       "  <tbody>\n",
       "    <tr>\n",
       "      <th>0</th>\n",
       "      <td>0</td>\n",
       "      <td>0</td>\n",
       "    </tr>\n",
       "    <tr>\n",
       "      <th>1</th>\n",
       "      <td>0</td>\n",
       "      <td>0</td>\n",
       "    </tr>\n",
       "    <tr>\n",
       "      <th>2</th>\n",
       "      <td>0</td>\n",
       "      <td>0</td>\n",
       "    </tr>\n",
       "    <tr>\n",
       "      <th>3</th>\n",
       "      <td>2</td>\n",
       "      <td>2</td>\n",
       "    </tr>\n",
       "    <tr>\n",
       "      <th>4</th>\n",
       "      <td>0</td>\n",
       "      <td>0</td>\n",
       "    </tr>\n",
       "    <tr>\n",
       "      <th>...</th>\n",
       "      <td>...</td>\n",
       "      <td>...</td>\n",
       "    </tr>\n",
       "    <tr>\n",
       "      <th>5790</th>\n",
       "      <td>4</td>\n",
       "      <td>0</td>\n",
       "    </tr>\n",
       "    <tr>\n",
       "      <th>5791</th>\n",
       "      <td>0</td>\n",
       "      <td>0</td>\n",
       "    </tr>\n",
       "    <tr>\n",
       "      <th>5792</th>\n",
       "      <td>0</td>\n",
       "      <td>0</td>\n",
       "    </tr>\n",
       "    <tr>\n",
       "      <th>5793</th>\n",
       "      <td>14</td>\n",
       "      <td>10</td>\n",
       "    </tr>\n",
       "    <tr>\n",
       "      <th>5794</th>\n",
       "      <td>0</td>\n",
       "      <td>0</td>\n",
       "    </tr>\n",
       "  </tbody>\n",
       "</table>\n",
       "<p>5795 rows × 2 columns</p>\n",
       "</div>"
      ],
      "text/plain": [
       "      original  predicted\n",
       "0            0          0\n",
       "1            0          0\n",
       "2            0          0\n",
       "3            2          2\n",
       "4            0          0\n",
       "...        ...        ...\n",
       "5790         4          0\n",
       "5791         0          0\n",
       "5792         0          0\n",
       "5793        14         10\n",
       "5794         0          0\n",
       "\n",
       "[5795 rows x 2 columns]"
      ]
     },
     "execution_count": 51,
     "metadata": {},
     "output_type": "execute_result"
    }
   ],
   "source": [
    "df_con"
   ]
  },
  {
   "cell_type": "code",
   "execution_count": 54,
   "metadata": {},
   "outputs": [],
   "source": [
    "import pickle\n",
    "filename=\"covid19_data.ipynb\"\n",
    "pickle.dump(svc,open(filename,\"wb\"))"
   ]
  },
  {
   "cell_type": "code",
   "execution_count": 56,
   "metadata": {},
   "outputs": [],
   "source": [
    "import pickle\n",
    "filename=\"covid19_data.pkl\"\n",
    "pickle.dump(svc,open(filename,\"wb\"))"
   ]
  },
  {
   "cell_type": "code",
   "execution_count": null,
   "metadata": {},
   "outputs": [],
   "source": []
  }
 ],
 "metadata": {
  "kernelspec": {
   "display_name": "Python 3",
   "language": "python",
   "name": "python3"
  },
  "language_info": {
   "codemirror_mode": {
    "name": "ipython",
    "version": 3
   },
   "file_extension": ".py",
   "mimetype": "text/x-python",
   "name": "python",
   "nbconvert_exporter": "python",
   "pygments_lexer": "ipython3",
   "version": "3.8.3"
  }
 },
 "nbformat": 4,
 "nbformat_minor": 4
}
